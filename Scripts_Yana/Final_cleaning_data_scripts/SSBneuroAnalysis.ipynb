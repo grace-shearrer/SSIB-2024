{
 "cells": [
  {
   "cell_type": "code",
   "execution_count": 1,
   "id": "4afd7d8d",
   "metadata": {},
   "outputs": [],
   "source": [
    "import  scipy.signal.signaltools\n",
    "\n",
    "def _centered(arr, newsize):\n",
    "    # Return the center newsize portion of the array.\n",
    "    newsize = np.asarray(newsize)\n",
    "    currsize = np.array(arr.shape)\n",
    "    startind = (currsize - newsize) // 2\n",
    "    endind = startind + newsize\n",
    "    myslice = [slice(startind[k], endind[k]) for k in range(len(endind))]\n",
    "    return arr[tuple(myslice)]\n",
    "\n",
    "scipy.signal.signaltools._centered = _centered\n"
   ]
  },
  {
   "cell_type": "code",
   "execution_count": 2,
   "id": "62fb0ced",
   "metadata": {},
   "outputs": [
    {
     "name": "stderr",
     "output_type": "stream",
     "text": [
      "/Users/gracer/opt/anaconda3/lib/python3.8/site-packages/statsmodels/tsa/base/tsa_model.py:7: FutureWarning: pandas.Int64Index is deprecated and will be removed from pandas in a future version. Use pandas.Index with the appropriate dtype instead.\n",
      "  from pandas import (to_datetime, Int64Index, DatetimeIndex, Period,\n",
      "/Users/gracer/opt/anaconda3/lib/python3.8/site-packages/statsmodels/tsa/base/tsa_model.py:7: FutureWarning: pandas.Float64Index is deprecated and will be removed from pandas in a future version. Use pandas.Index with the appropriate dtype instead.\n",
      "  from pandas import (to_datetime, Int64Index, DatetimeIndex, Period,\n"
     ]
    }
   ],
   "source": [
    "import statsmodels.api as sm"
   ]
  },
  {
   "cell_type": "code",
   "execution_count": 3,
   "id": "a9fa766a",
   "metadata": {},
   "outputs": [
    {
     "name": "stderr",
     "output_type": "stream",
     "text": [
      "/Users/gracer/opt/anaconda3/lib/python3.8/site-packages/nilearn/input_data/__init__.py:23: FutureWarning: The import path 'nilearn.input_data' is deprecated in version 0.9. Importing from 'nilearn.input_data' will be possible at least until release 0.13.0. Please import from 'nilearn.maskers' instead.\n",
      "  warnings.warn(message, FutureWarning)\n"
     ]
    }
   ],
   "source": [
    "import pandas as pd\n",
    "import nilearn\n",
    "import numpy as np\n",
    "import glob \n",
    "import os\n",
    "import pickle\n",
    "\n",
    "from sklearn.model_selection import train_test_split\n",
    "from sklearn import svm\n",
    "from sklearn.metrics import pairwise_distances\n",
    "from sklearn.utils import check_random_state\n",
    "from sklearn.manifold import TSNE\n",
    "\n",
    "from sklearn.feature_selection import SelectKBest, f_classif\n",
    "from sklearn.pipeline import make_pipeline\n",
    "from sklearn.pipeline import Pipeline\n",
    "\n",
    "from sklearn.svm import LinearSVC\n",
    "\n",
    "from sklearn.model_selection import GridSearchCV\n",
    "from sklearn.svm import SVC\n",
    "\n",
    "\n",
    "from sklearn.model_selection import cross_val_score\n",
    "from pathlib import Path\n",
    "\n",
    "from scipy.stats import rankdata, ttest_rel, ttest_1samp\n",
    "\n",
    "from matplotlib import pyplot as plt\n",
    "import matplotlib.lines as mlines\n",
    "import matplotlib.transforms as mtransforms\n",
    "\n",
    "import seaborn as sns\n",
    "\n",
    "import nibabel as nib\n",
    "from nilearn.input_data import NiftiLabelsMasker\n",
    "from nilearn.plotting import plot_glass_brain, plot_stat_map, view_img, view_img_on_surf\n",
    "\n",
    "from nltools.data import Brain_Data, Adjacency\n",
    "from nltools.mask import roi_to_brain, expand_mask\n",
    "from nltools.stats import fdr, threshold\n",
    "\n",
    "\n",
    "\n",
    "%matplotlib inline\n"
   ]
  },
  {
   "cell_type": "code",
   "execution_count": 4,
   "id": "b57f201a",
   "metadata": {},
   "outputs": [],
   "source": [
    "basepath = '/Users/gracer/Library/CloudStorage/OneDrive-UniversityofWyoming/0. Lab/M2AENAD Lab - Documents/RESEARCH/ABCD/Yana_SSIB_2024/'"
   ]
  },
  {
   "cell_type": "code",
   "execution_count": 5,
   "id": "21f653f0",
   "metadata": {},
   "outputs": [],
   "source": [
    "df = pd.read_csv(os.path.join(basepath,'data','matched111724_centered_dum.csv'))  "
   ]
  },
  {
   "cell_type": "code",
   "execution_count": 6,
   "id": "034c20ed",
   "metadata": {},
   "outputs": [],
   "source": [
    "# Get number of subjects\n",
    "n = df.shape[0]"
   ]
  },
  {
   "cell_type": "code",
   "execution_count": 7,
   "id": "8a0a37a6",
   "metadata": {},
   "outputs": [
    {
     "data": {
      "text/plain": [
       "3700"
      ]
     },
     "execution_count": 7,
     "metadata": {},
     "output_type": "execute_result"
    }
   ],
   "source": [
    "n"
   ]
  },
  {
   "cell_type": "code",
   "execution_count": 8,
   "id": "ec8c93cb",
   "metadata": {},
   "outputs": [
    {
     "data": {
      "text/plain": [
       "['collection_id',\n",
       " 'abcd_mx01_id',\n",
       " 'dataset_id',\n",
       " 'subjectkey',\n",
       " 'src_subject_id',\n",
       " 'demo_comb_income_v2',\n",
       " 'bkfs_soda',\n",
       " 'interview_age',\n",
       " 'anthroheightcalc',\n",
       " 'rsfmri_c_ngd_ad_ngd_ad',\n",
       " 'rsfmri_c_ngd_ad_ngd_cgc',\n",
       " 'rsfmri_c_ngd_ad_ngd_ca',\n",
       " 'rsfmri_c_ngd_ad_ngd_dt',\n",
       " 'rsfmri_c_ngd_ad_ngd_dla',\n",
       " 'rsfmri_c_ngd_ad_ngd_fo',\n",
       " 'rsfmri_c_ngd_ad_ngd_n',\n",
       " 'rsfmri_c_ngd_ad_ngd_rspltp',\n",
       " 'rsfmri_c_ngd_ad_ngd_smh',\n",
       " 'rsfmri_c_ngd_ad_ngd_smm',\n",
       " 'rsfmri_c_ngd_ad_ngd_sa',\n",
       " 'rsfmri_c_ngd_ad_ngd_vta',\n",
       " 'rsfmri_c_ngd_ad_ngd_vs',\n",
       " 'rsfmri_c_ngd_cgc_ngd_ad',\n",
       " 'rsfmri_c_ngd_cgc_ngd_cgc',\n",
       " 'rsfmri_c_ngd_cgc_ngd_ca',\n",
       " 'rsfmri_c_ngd_cgc_ngd_dt',\n",
       " 'rsfmri_c_ngd_cgc_ngd_dla',\n",
       " 'rsfmri_c_ngd_cgc_ngd_fo',\n",
       " 'rsfmri_c_ngd_cgc_ngd_n',\n",
       " 'rsfmri_c_ngd_cgc_ngd_rspltp',\n",
       " 'rsfmri_c_ngd_cgc_ngd_smh',\n",
       " 'rsfmri_c_ngd_cgc_ngd_smm',\n",
       " 'rsfmri_c_ngd_cgc_ngd_sa',\n",
       " 'rsfmri_c_ngd_cgc_ngd_vta',\n",
       " 'rsfmri_c_ngd_cgc_ngd_vs',\n",
       " 'rsfmri_c_ngd_ca_ngd_ad',\n",
       " 'rsfmri_c_ngd_ca_ngd_cgc',\n",
       " 'rsfmri_c_ngd_ca_ngd_ca',\n",
       " 'rsfmri_c_ngd_ca_ngd_dt',\n",
       " 'rsfmri_c_ngd_ca_ngd_dla',\n",
       " 'rsfmri_c_ngd_ca_ngd_fo',\n",
       " 'rsfmri_c_ngd_ca_ngd_n',\n",
       " 'rsfmri_c_ngd_ca_ngd_rspltp',\n",
       " 'rsfmri_c_ngd_ca_ngd_smh',\n",
       " 'rsfmri_c_ngd_ca_ngd_smm',\n",
       " 'rsfmri_c_ngd_ca_ngd_sa',\n",
       " 'rsfmri_c_ngd_ca_ngd_vta',\n",
       " 'rsfmri_c_ngd_ca_ngd_vs',\n",
       " 'rsfmri_c_ngd_dt_ngd_ad',\n",
       " 'rsfmri_c_ngd_dt_ngd_cgc',\n",
       " 'rsfmri_c_ngd_dt_ngd_ca',\n",
       " 'rsfmri_c_ngd_dt_ngd_dt',\n",
       " 'rsfmri_c_ngd_dt_ngd_dla',\n",
       " 'rsfmri_c_ngd_dt_ngd_fo',\n",
       " 'rsfmri_c_ngd_dt_ngd_n',\n",
       " 'rsfmri_c_ngd_dt_ngd_rspltp',\n",
       " 'rsfmri_c_ngd_dt_ngd_smh',\n",
       " 'rsfmri_c_ngd_dt_ngd_smm',\n",
       " 'rsfmri_c_ngd_dt_ngd_sa',\n",
       " 'rsfmri_c_ngd_dt_ngd_vta',\n",
       " 'rsfmri_c_ngd_dt_ngd_vs',\n",
       " 'rsfmri_c_ngd_dla_ngd_ad',\n",
       " 'rsfmri_c_ngd_dla_ngd_cgc',\n",
       " 'rsfmri_c_ngd_dla_ngd_ca',\n",
       " 'rsfmri_c_ngd_dla_ngd_dt',\n",
       " 'rsfmri_c_ngd_dla_ngd_dla',\n",
       " 'rsfmri_c_ngd_dla_ngd_fo',\n",
       " 'rsfmri_c_ngd_dla_ngd_n',\n",
       " 'rsfmri_c_ngd_dla_ngd_rspltp',\n",
       " 'rsfmri_c_ngd_dla_ngd_smh',\n",
       " 'rsfmri_c_ngd_dla_ngd_smm',\n",
       " 'rsfmri_c_ngd_dla_ngd_sa',\n",
       " 'rsfmri_c_ngd_dla_ngd_vta',\n",
       " 'rsfmri_c_ngd_dla_ngd_vs',\n",
       " 'rsfmri_c_ngd_fo_ngd_ad',\n",
       " 'rsfmri_c_ngd_fo_ngd_cgc',\n",
       " 'rsfmri_c_ngd_fo_ngd_ca',\n",
       " 'rsfmri_c_ngd_fo_ngd_dt',\n",
       " 'rsfmri_c_ngd_fo_ngd_dla',\n",
       " 'rsfmri_c_ngd_fo_ngd_fo',\n",
       " 'rsfmri_c_ngd_fo_ngd_n',\n",
       " 'rsfmri_c_ngd_fo_ngd_rspltp',\n",
       " 'rsfmri_c_ngd_fo_ngd_smh',\n",
       " 'rsfmri_c_ngd_fo_ngd_smm',\n",
       " 'rsfmri_c_ngd_fo_ngd_sa',\n",
       " 'rsfmri_c_ngd_fo_ngd_vta',\n",
       " 'rsfmri_c_ngd_fo_ngd_vs',\n",
       " 'rsfmri_c_ngd_n_ngd_ad',\n",
       " 'rsfmri_c_ngd_n_ngd_cgc',\n",
       " 'rsfmri_c_ngd_n_ngd_ca',\n",
       " 'rsfmri_c_ngd_n_ngd_dt',\n",
       " 'rsfmri_c_ngd_n_ngd_dla',\n",
       " 'rsfmri_c_ngd_n_ngd_fo',\n",
       " 'rsfmri_c_ngd_n_ngd_n',\n",
       " 'rsfmri_c_ngd_n_ngd_rspltp',\n",
       " 'rsfmri_c_ngd_n_ngd_smh',\n",
       " 'rsfmri_c_ngd_n_ngd_smm',\n",
       " 'rsfmri_c_ngd_n_ngd_sa',\n",
       " 'rsfmri_c_ngd_n_ngd_vta',\n",
       " 'rsfmri_c_ngd_n_ngd_vs',\n",
       " 'rsfmri_c_ngd_rspltp_ngd_ad',\n",
       " 'rsfmri_c_ngd_rspltp_ngd_cgc',\n",
       " 'rsfmri_c_ngd_rspltp_ngd_ca',\n",
       " 'rsfmri_c_ngd_rspltp_ngd_dt',\n",
       " 'rsfmri_c_ngd_rspltp_ngd_dla',\n",
       " 'rsfmri_c_ngd_rspltp_ngd_fo',\n",
       " 'rsfmri_c_ngd_rspltp_ngd_n',\n",
       " 'rsfmri_c_ngd_rspltp_ngd_rspltp',\n",
       " 'rsfmri_c_ngd_rspltp_ngd_smh',\n",
       " 'rsfmri_c_ngd_rspltp_ngd_smm',\n",
       " 'rsfmri_c_ngd_rspltp_ngd_sa',\n",
       " 'rsfmri_c_ngd_rspltp_ngd_vta',\n",
       " 'rsfmri_c_ngd_rspltp_ngd_vs',\n",
       " 'rsfmri_c_ngd_smh_ngd_ad',\n",
       " 'rsfmri_c_ngd_smh_ngd_cgc',\n",
       " 'rsfmri_c_ngd_smh_ngd_ca',\n",
       " 'rsfmri_c_ngd_smh_ngd_dt',\n",
       " 'rsfmri_c_ngd_smh_ngd_dla',\n",
       " 'rsfmri_c_ngd_smh_ngd_fo',\n",
       " 'rsfmri_c_ngd_smh_ngd_n',\n",
       " 'rsfmri_c_ngd_smh_ngd_rspltp',\n",
       " 'rsfmri_c_ngd_smh_ngd_smh',\n",
       " 'rsfmri_c_ngd_smh_ngd_smm',\n",
       " 'rsfmri_c_ngd_smh_ngd_sa',\n",
       " 'rsfmri_c_ngd_smh_ngd_vta',\n",
       " 'rsfmri_c_ngd_smh_ngd_vs',\n",
       " 'rsfmri_c_ngd_smm_ngd_ad',\n",
       " 'rsfmri_c_ngd_smm_ngd_cgc',\n",
       " 'rsfmri_c_ngd_smm_ngd_ca',\n",
       " 'rsfmri_c_ngd_smm_ngd_dt',\n",
       " 'rsfmri_c_ngd_smm_ngd_dla',\n",
       " 'rsfmri_c_ngd_smm_ngd_fo',\n",
       " 'rsfmri_c_ngd_smm_ngd_n',\n",
       " 'rsfmri_c_ngd_smm_ngd_rspltp',\n",
       " 'rsfmri_c_ngd_smm_ngd_smh',\n",
       " 'rsfmri_c_ngd_smm_ngd_smm',\n",
       " 'rsfmri_c_ngd_smm_ngd_sa',\n",
       " 'rsfmri_c_ngd_smm_ngd_vta',\n",
       " 'rsfmri_c_ngd_smm_ngd_vs',\n",
       " 'rsfmri_c_ngd_sa_ngd_ad',\n",
       " 'rsfmri_c_ngd_sa_ngd_cgc',\n",
       " 'rsfmri_c_ngd_sa_ngd_ca',\n",
       " 'rsfmri_c_ngd_sa_ngd_dt',\n",
       " 'rsfmri_c_ngd_sa_ngd_dla',\n",
       " 'rsfmri_c_ngd_sa_ngd_fo',\n",
       " 'rsfmri_c_ngd_sa_ngd_n',\n",
       " 'rsfmri_c_ngd_sa_ngd_rspltp',\n",
       " 'rsfmri_c_ngd_sa_ngd_smh',\n",
       " 'rsfmri_c_ngd_sa_ngd_smm',\n",
       " 'rsfmri_c_ngd_sa_ngd_sa',\n",
       " 'rsfmri_c_ngd_sa_ngd_vta',\n",
       " 'rsfmri_c_ngd_sa_ngd_vs',\n",
       " 'rsfmri_c_ngd_vta_ngd_ad',\n",
       " 'rsfmri_c_ngd_vta_ngd_cgc',\n",
       " 'rsfmri_c_ngd_vta_ngd_ca',\n",
       " 'rsfmri_c_ngd_vta_ngd_dt',\n",
       " 'rsfmri_c_ngd_vta_ngd_dla',\n",
       " 'rsfmri_c_ngd_vta_ngd_fo',\n",
       " 'rsfmri_c_ngd_vta_ngd_n',\n",
       " 'rsfmri_c_ngd_vta_ngd_rspltp',\n",
       " 'rsfmri_c_ngd_vta_ngd_smh',\n",
       " 'rsfmri_c_ngd_vta_ngd_smm',\n",
       " 'rsfmri_c_ngd_vta_ngd_sa',\n",
       " 'rsfmri_c_ngd_vta_ngd_vta',\n",
       " 'rsfmri_c_ngd_vta_ngd_vs',\n",
       " 'rsfmri_c_ngd_vs_ngd_ad',\n",
       " 'rsfmri_c_ngd_vs_ngd_cgc',\n",
       " 'rsfmri_c_ngd_vs_ngd_ca',\n",
       " 'rsfmri_c_ngd_vs_ngd_dt',\n",
       " 'rsfmri_c_ngd_vs_ngd_dla',\n",
       " 'rsfmri_c_ngd_vs_ngd_fo',\n",
       " 'rsfmri_c_ngd_vs_ngd_n',\n",
       " 'rsfmri_c_ngd_vs_ngd_rspltp',\n",
       " 'rsfmri_c_ngd_vs_ngd_smh',\n",
       " 'rsfmri_c_ngd_vs_ngd_smm',\n",
       " 'rsfmri_c_ngd_vs_ngd_sa',\n",
       " 'rsfmri_c_ngd_vs_ngd_vta',\n",
       " 'rsfmri_c_ngd_vs_ngd_vs',\n",
       " 'rsfmri_cor_ngd_au_scs_crcxlh',\n",
       " 'rsfmri_cor_ngd_au_scs_thplh',\n",
       " 'rsfmri_cor_ngd_au_scs_cdelh',\n",
       " 'rsfmri_cor_ngd_au_scs_ptlh',\n",
       " 'rsfmri_cor_ngd_au_scs_pllh',\n",
       " 'rsfmri_cor_ngd_au_scs_bs',\n",
       " 'rsfmri_cor_ngd_au_scs_hplh',\n",
       " 'rsfmri_cor_ngd_au_scs_aglh',\n",
       " 'rsfmri_cor_ngd_au_scs_aalh',\n",
       " 'rsfmri_cor_ngd_au_scs_vtdclh',\n",
       " 'rsfmri_cor_ngd_au_scs_crcxrh',\n",
       " 'rsfmri_cor_ngd_au_scs_thprh',\n",
       " 'rsfmri_cor_ngd_au_scs_cderh',\n",
       " 'rsfmri_cor_ngd_au_scs_ptrh',\n",
       " 'rsfmri_cor_ngd_au_scs_plrh',\n",
       " 'rsfmri_cor_ngd_au_scs_hprh',\n",
       " 'rsfmri_cor_ngd_au_scs_agrh',\n",
       " 'rsfmri_cor_ngd_au_scs_aarh',\n",
       " 'rsfmri_cor_ngd_au_scs_vtdcrh',\n",
       " 'rsfmri_cor_ngd_cerc_scs_crcxlh',\n",
       " 'rsfmri_cor_ngd_cerc_scs_thplh',\n",
       " 'rsfmri_cor_ngd_cerc_scs_cdelh',\n",
       " 'rsfmri_cor_ngd_cerc_scs_ptlh',\n",
       " 'rsfmri_cor_ngd_cerc_scs_pllh',\n",
       " 'rsfmri_cor_ngd_cerc_scs_bs',\n",
       " 'rsfmri_cor_ngd_cerc_scs_hplh',\n",
       " 'rsfmri_cor_ngd_cerc_scs_aglh',\n",
       " 'rsfmri_cor_ngd_cerc_scs_aalh',\n",
       " 'rsfmri_cor_ngd_cerc_scs_vtdclh',\n",
       " 'rsfmri_cor_ngd_cerc_scs_crcxrh',\n",
       " 'rsfmri_cor_ngd_cerc_scs_thprh',\n",
       " 'rsfmri_cor_ngd_cerc_scs_cderh',\n",
       " 'rsfmri_cor_ngd_cerc_scs_ptrh',\n",
       " 'rsfmri_cor_ngd_cerc_scs_plrh',\n",
       " 'rsfmri_cor_ngd_cerc_scs_hprh',\n",
       " 'rsfmri_cor_ngd_cerc_scs_agrh',\n",
       " 'rsfmri_cor_ngd_cerc_scs_aarh',\n",
       " 'rsfmri_cor_ngd_cerc_scs_vtdcrh',\n",
       " 'rsfmri_cor_ngd_copa_scs_crcxlh',\n",
       " 'rsfmri_cor_ngd_copa_scs_thplh',\n",
       " 'rsfmri_cor_ngd_copa_scs_cdelh',\n",
       " 'rsfmri_cor_ngd_copa_scs_ptlh',\n",
       " 'rsfmri_cor_ngd_copa_scs_pllh',\n",
       " 'rsfmri_cor_ngd_copa_scs_bs',\n",
       " 'rsfmri_cor_ngd_copa_scs_hplh',\n",
       " 'rsfmri_cor_ngd_copa_scs_aglh',\n",
       " 'rsfmri_cor_ngd_copa_scs_aalh',\n",
       " 'rsfmri_cor_ngd_copa_scs_vtdclh',\n",
       " 'rsfmri_cor_ngd_copa_scs_crcxrh',\n",
       " 'rsfmri_cor_ngd_copa_scs_thprh',\n",
       " 'rsfmri_cor_ngd_copa_scs_cderh',\n",
       " 'rsfmri_cor_ngd_copa_scs_ptrh',\n",
       " 'rsfmri_cor_ngd_copa_scs_plrh',\n",
       " 'rsfmri_cor_ngd_copa_scs_hprh',\n",
       " 'rsfmri_cor_ngd_copa_scs_agrh',\n",
       " 'rsfmri_cor_ngd_copa_scs_aarh',\n",
       " 'rsfmri_cor_ngd_copa_scs_vtdcrh',\n",
       " 'rsfmri_cor_ngd_df_scs_crcxlh',\n",
       " 'rsfmri_cor_ngd_df_scs_thplh',\n",
       " 'rsfmri_cor_ngd_df_scs_cdelh',\n",
       " 'rsfmri_cor_ngd_df_scs_ptlh',\n",
       " 'rsfmri_cor_ngd_df_scs_pllh',\n",
       " 'rsfmri_cor_ngd_df_scs_bs',\n",
       " 'rsfmri_cor_ngd_df_scs_hplh',\n",
       " 'rsfmri_cor_ngd_df_scs_aglh',\n",
       " 'rsfmri_cor_ngd_df_scs_aalh',\n",
       " 'rsfmri_cor_ngd_df_scs_vtdclh',\n",
       " 'rsfmri_cor_ngd_df_scs_crcxrh',\n",
       " 'rsfmri_cor_ngd_df_scs_thprh',\n",
       " 'rsfmri_cor_ngd_df_scs_cderh',\n",
       " 'rsfmri_cor_ngd_df_scs_ptrh',\n",
       " 'rsfmri_cor_ngd_df_scs_plrh',\n",
       " 'rsfmri_cor_ngd_df_scs_hprh',\n",
       " 'rsfmri_cor_ngd_df_scs_agrh',\n",
       " 'rsfmri_cor_ngd_df_scs_aarh',\n",
       " 'rsfmri_cor_ngd_df_scs_vtdcrh',\n",
       " 'rsfmri_cor_ngd_dsa_scs_crcxlh',\n",
       " 'rsfmri_cor_ngd_dsa_scs_thplh',\n",
       " 'rsfmri_cor_ngd_dsa_scs_cdelh',\n",
       " 'rsfmri_cor_ngd_dsa_scs_ptlh',\n",
       " 'rsfmri_cor_ngd_dsa_scs_pllh',\n",
       " 'rsfmri_cor_ngd_dsa_scs_bs',\n",
       " 'rsfmri_cor_ngd_dsa_scs_hplh',\n",
       " 'rsfmri_cor_ngd_dsa_scs_aglh',\n",
       " 'rsfmri_cor_ngd_dsa_scs_aalh',\n",
       " 'rsfmri_cor_ngd_dsa_scs_vtdclh',\n",
       " 'rsfmri_cor_ngd_dsa_scs_crcxrh',\n",
       " 'rsfmri_cor_ngd_dsa_scs_thprh',\n",
       " 'rsfmri_cor_ngd_dsa_scs_cderh',\n",
       " 'rsfmri_cor_ngd_dsa_scs_ptrh',\n",
       " 'rsfmri_cor_ngd_dsa_scs_plrh',\n",
       " 'rsfmri_cor_ngd_dsa_scs_hprh',\n",
       " 'rsfmri_cor_ngd_dsa_scs_agrh',\n",
       " 'rsfmri_cor_ngd_dsa_scs_aarh',\n",
       " 'rsfmri_cor_ngd_dsa_scs_vtdcrh',\n",
       " 'rsfmri_cor_ngd_fopa_scs_crcxlh',\n",
       " 'rsfmri_cor_ngd_fopa_scs_thplh',\n",
       " 'rsfmri_cor_ngd_fopa_scs_cdelh',\n",
       " 'rsfmri_cor_ngd_fopa_scs_ptlh',\n",
       " 'rsfmri_cor_ngd_fopa_scs_pllh',\n",
       " 'rsfmri_cor_ngd_fopa_scs_bs',\n",
       " 'rsfmri_cor_ngd_fopa_scs_hplh',\n",
       " 'rsfmri_cor_ngd_fopa_scs_aglh',\n",
       " 'rsfmri_cor_ngd_fopa_scs_aalh',\n",
       " 'rsfmri_cor_ngd_fopa_scs_vtdclh',\n",
       " 'rsfmri_cor_ngd_fopa_scs_crcxrh',\n",
       " 'rsfmri_cor_ngd_fopa_scs_thprh',\n",
       " 'rsfmri_cor_ngd_fopa_scs_cderh',\n",
       " 'rsfmri_cor_ngd_fopa_scs_ptrh',\n",
       " 'rsfmri_cor_ngd_fopa_scs_plrh',\n",
       " 'rsfmri_cor_ngd_fopa_scs_hprh',\n",
       " 'rsfmri_cor_ngd_fopa_scs_agrh',\n",
       " 'rsfmri_cor_ngd_fopa_scs_aarh',\n",
       " 'rsfmri_cor_ngd_fopa_scs_vtdcrh',\n",
       " 'rsfmri_cor_ngd_none_scs_crcxlh',\n",
       " 'rsfmri_cor_ngd_none_scs_thplh',\n",
       " 'rsfmri_cor_ngd_none_scs_cdelh',\n",
       " 'rsfmri_cor_ngd_none_scs_ptlh',\n",
       " 'rsfmri_cor_ngd_none_scs_pllh',\n",
       " 'rsfmri_cor_ngd_none_scs_bs',\n",
       " 'rsfmri_cor_ngd_none_scs_hplh',\n",
       " 'rsfmri_cor_ngd_none_scs_aglh',\n",
       " 'rsfmri_cor_ngd_none_scs_aalh',\n",
       " 'rsfmri_cor_ngd_none_scs_vtdclh',\n",
       " 'rsfmri_cor_ngd_none_scs_crcxrh',\n",
       " 'rsfmri_cor_ngd_none_scs_thprh',\n",
       " 'rsfmri_cor_ngd_none_scs_cderh',\n",
       " 'rsfmri_cor_ngd_none_scs_ptrh',\n",
       " 'rsfmri_cor_ngd_none_scs_plrh',\n",
       " 'rsfmri_cor_ngd_none_scs_hprh',\n",
       " 'rsfmri_cor_ngd_none_scs_agrh',\n",
       " 'rsfmri_cor_ngd_none_scs_aarh',\n",
       " 'rsfmri_cor_ngd_none_scs_vtdcrh',\n",
       " 'rsfmri_cor_ngd_rst_scs_crcxlh',\n",
       " 'rsfmri_cor_ngd_rst_scs_thplh',\n",
       " 'rsfmri_cor_ngd_rst_scs_cdelh',\n",
       " 'rsfmri_cor_ngd_rst_scs_ptlh',\n",
       " 'rsfmri_cor_ngd_rst_scs_pllh',\n",
       " 'rsfmri_cor_ngd_rst_scs_bs',\n",
       " 'rsfmri_cor_ngd_rst_scs_hplh',\n",
       " 'rsfmri_cor_ngd_rst_scs_aglh',\n",
       " 'rsfmri_cor_ngd_rst_scs_aalh',\n",
       " 'rsfmri_cor_ngd_rst_scs_vtdclh',\n",
       " 'rsfmri_cor_ngd_rst_scs_crcxrh',\n",
       " 'rsfmri_cor_ngd_rst_scs_thprh',\n",
       " 'rsfmri_cor_ngd_rst_scs_cderh',\n",
       " 'rsfmri_cor_ngd_rst_scs_ptrh',\n",
       " 'rsfmri_cor_ngd_rst_scs_plrh',\n",
       " 'rsfmri_cor_ngd_rst_scs_hprh',\n",
       " 'rsfmri_cor_ngd_rst_scs_agrh',\n",
       " 'rsfmri_cor_ngd_rst_scs_aarh',\n",
       " 'rsfmri_cor_ngd_rst_scs_vtdcrh',\n",
       " 'rsfmri_cor_ngd_smh_scs_crcxlh',\n",
       " 'rsfmri_cor_ngd_smh_scs_thplh',\n",
       " 'rsfmri_cor_ngd_smh_scs_cdelh',\n",
       " 'rsfmri_cor_ngd_smh_scs_ptlh',\n",
       " 'rsfmri_cor_ngd_smh_scs_pllh',\n",
       " 'rsfmri_cor_ngd_smh_scs_bs',\n",
       " 'rsfmri_cor_ngd_smh_scs_hplh',\n",
       " 'rsfmri_cor_ngd_smh_scs_aglh',\n",
       " 'rsfmri_cor_ngd_smh_scs_aalh',\n",
       " 'rsfmri_cor_ngd_smh_scs_vtdclh',\n",
       " 'rsfmri_cor_ngd_smh_scs_crcxrh',\n",
       " 'rsfmri_cor_ngd_smh_scs_thprh',\n",
       " 'rsfmri_cor_ngd_smh_scs_cderh',\n",
       " 'rsfmri_cor_ngd_smh_scs_ptrh',\n",
       " 'rsfmri_cor_ngd_smh_scs_plrh',\n",
       " 'rsfmri_cor_ngd_smh_scs_hprh',\n",
       " 'rsfmri_cor_ngd_smh_scs_agrh',\n",
       " 'rsfmri_cor_ngd_smh_scs_aarh',\n",
       " 'rsfmri_cor_ngd_smh_scs_vtdcrh',\n",
       " 'rsfmri_cor_ngd_smm_scs_crcxlh',\n",
       " 'rsfmri_cor_ngd_smm_scs_thplh',\n",
       " 'rsfmri_cor_ngd_smm_scs_cdelh',\n",
       " 'rsfmri_cor_ngd_smm_scs_ptlh',\n",
       " 'rsfmri_cor_ngd_smm_scs_pllh',\n",
       " 'rsfmri_cor_ngd_smm_scs_bs',\n",
       " 'rsfmri_cor_ngd_smm_scs_hplh',\n",
       " 'rsfmri_cor_ngd_smm_scs_aglh',\n",
       " 'rsfmri_cor_ngd_smm_scs_aalh',\n",
       " 'rsfmri_cor_ngd_smm_scs_vtdclh',\n",
       " 'rsfmri_cor_ngd_smm_scs_crcxrh',\n",
       " 'rsfmri_cor_ngd_smm_scs_thprh',\n",
       " 'rsfmri_cor_ngd_smm_scs_cderh',\n",
       " 'rsfmri_cor_ngd_smm_scs_ptrh',\n",
       " 'rsfmri_cor_ngd_smm_scs_plrh',\n",
       " 'rsfmri_cor_ngd_smm_scs_hprh',\n",
       " 'rsfmri_cor_ngd_smm_scs_agrh',\n",
       " 'rsfmri_cor_ngd_smm_scs_aarh',\n",
       " 'rsfmri_cor_ngd_smm_scs_vtdcrh',\n",
       " 'rsfmri_cor_ngd_sa_scs_crcxlh',\n",
       " 'rsfmri_cor_ngd_sa_scs_thplh',\n",
       " 'rsfmri_cor_ngd_sa_scs_cdelh',\n",
       " 'rsfmri_cor_ngd_sa_scs_ptlh',\n",
       " 'rsfmri_cor_ngd_sa_scs_pllh',\n",
       " 'rsfmri_cor_ngd_sa_scs_bs',\n",
       " 'rsfmri_cor_ngd_sa_scs_hplh',\n",
       " 'rsfmri_cor_ngd_sa_scs_aglh',\n",
       " 'rsfmri_cor_ngd_sa_scs_aalh',\n",
       " 'rsfmri_cor_ngd_sa_scs_vtdclh',\n",
       " 'rsfmri_cor_ngd_sa_scs_crcxrh',\n",
       " 'rsfmri_cor_ngd_sa_scs_thprh',\n",
       " 'rsfmri_cor_ngd_sa_scs_cderh',\n",
       " 'rsfmri_cor_ngd_sa_scs_ptrh',\n",
       " 'rsfmri_cor_ngd_sa_scs_plrh',\n",
       " 'rsfmri_cor_ngd_sa_scs_hprh',\n",
       " 'rsfmri_cor_ngd_sa_scs_agrh',\n",
       " 'rsfmri_cor_ngd_sa_scs_aarh',\n",
       " 'rsfmri_cor_ngd_sa_scs_vtdcrh',\n",
       " 'rsfmri_cor_ngd_vta_scs_crcxlh',\n",
       " 'rsfmri_cor_ngd_vta_scs_thplh',\n",
       " 'rsfmri_cor_ngd_vta_scs_cdelh',\n",
       " 'rsfmri_cor_ngd_vta_scs_ptlh',\n",
       " 'rsfmri_cor_ngd_vta_scs_pllh',\n",
       " 'rsfmri_cor_ngd_vta_scs_bs',\n",
       " 'rsfmri_cor_ngd_vta_scs_hplh',\n",
       " 'rsfmri_cor_ngd_vta_scs_aglh',\n",
       " 'rsfmri_cor_ngd_vta_scs_aalh',\n",
       " 'rsfmri_cor_ngd_vta_scs_vtdclh',\n",
       " 'rsfmri_cor_ngd_vta_scs_crcxrh',\n",
       " 'rsfmri_cor_ngd_vta_scs_thprh',\n",
       " 'rsfmri_cor_ngd_vta_scs_cderh',\n",
       " 'rsfmri_cor_ngd_vta_scs_ptrh',\n",
       " 'rsfmri_cor_ngd_vta_scs_plrh',\n",
       " 'rsfmri_cor_ngd_vta_scs_hprh',\n",
       " 'rsfmri_cor_ngd_vta_scs_agrh',\n",
       " 'rsfmri_cor_ngd_vta_scs_aarh',\n",
       " 'rsfmri_cor_ngd_vta_scs_vtdcrh',\n",
       " 'rsfmri_cor_ngd_vs_scs_crcxlh',\n",
       " 'rsfmri_cor_ngd_vs_scs_thplh',\n",
       " 'rsfmri_cor_ngd_vs_scs_cdelh',\n",
       " 'rsfmri_cor_ngd_vs_scs_ptlh',\n",
       " 'rsfmri_cor_ngd_vs_scs_pllh',\n",
       " 'rsfmri_cor_ngd_vs_scs_bs',\n",
       " 'rsfmri_cor_ngd_vs_scs_hplh',\n",
       " 'rsfmri_cor_ngd_vs_scs_aglh',\n",
       " 'rsfmri_cor_ngd_vs_scs_aalh',\n",
       " 'rsfmri_cor_ngd_vs_scs_vtdclh',\n",
       " 'rsfmri_cor_ngd_vs_scs_crcxrh',\n",
       " 'rsfmri_cor_ngd_vs_scs_thprh',\n",
       " 'rsfmri_cor_ngd_vs_scs_cderh',\n",
       " 'rsfmri_cor_ngd_vs_scs_ptrh',\n",
       " 'rsfmri_cor_ngd_vs_scs_plrh',\n",
       " 'rsfmri_cor_ngd_vs_scs_hprh',\n",
       " 'rsfmri_cor_ngd_vs_scs_agrh',\n",
       " 'rsfmri_cor_ngd_vs_scs_aarh',\n",
       " 'rsfmri_cor_ngd_vs_scs_vtdcrh',\n",
       " 'ssb_group',\n",
       " 'anthroweightcalc',\n",
       " 'BMI',\n",
       " 'age_years',\n",
       " 'bmi_perc',\n",
       " 'distance',\n",
       " 'weights',\n",
       " 'subclass',\n",
       " 'sex_M',\n",
       " 'race_0',\n",
       " 'race_1',\n",
       " 'race_2',\n",
       " 'race_3',\n",
       " 'race_7',\n",
       " 'race_8',\n",
       " 'race_9',\n",
       " 'race_10',\n",
       " 'race_11',\n",
       " 'race_12',\n",
       " 'race_13',\n",
       " 'race_14',\n",
       " 'race_15',\n",
       " 'race_16']"
      ]
     },
     "execution_count": 8,
     "metadata": {},
     "output_type": "execute_result"
    }
   ],
   "source": [
    "list(df.columns)"
   ]
  },
  {
   "cell_type": "code",
   "execution_count": 9,
   "id": "48a27714",
   "metadata": {},
   "outputs": [],
   "source": [
    "nonBrain = [list(df.columns)[5], list(df.columns)[7] , list(df.columns)[-19],list(df.columns)[-15]]"
   ]
  },
  {
   "cell_type": "code",
   "execution_count": 10,
   "id": "dc4a6932",
   "metadata": {},
   "outputs": [
    {
     "data": {
      "text/plain": [
       "['demo_comb_income_v2', 'interview_age', 'bmi_perc', 'sex_M']"
      ]
     },
     "execution_count": 10,
     "metadata": {},
     "output_type": "execute_result"
    }
   ],
   "source": [
    "nonBrain "
   ]
  },
  {
   "cell_type": "code",
   "execution_count": 11,
   "id": "82ea9a8e",
   "metadata": {
    "scrolled": false
   },
   "outputs": [],
   "source": [
    "ROIs = list(df.columns)[11:-23]"
   ]
  },
  {
   "cell_type": "code",
   "execution_count": 12,
   "id": "4ee71337",
   "metadata": {},
   "outputs": [],
   "source": [
    "ROIS = nonBrain+ROIs"
   ]
  },
  {
   "cell_type": "code",
   "execution_count": 13,
   "id": "489dd515",
   "metadata": {},
   "outputs": [
    {
     "data": {
      "text/plain": [
       "['demo_comb_income_v2',\n",
       " 'interview_age',\n",
       " 'bmi_perc',\n",
       " 'sex_M',\n",
       " 'rsfmri_c_ngd_ad_ngd_ca',\n",
       " 'rsfmri_c_ngd_ad_ngd_dt',\n",
       " 'rsfmri_c_ngd_ad_ngd_dla',\n",
       " 'rsfmri_c_ngd_ad_ngd_fo',\n",
       " 'rsfmri_c_ngd_ad_ngd_n',\n",
       " 'rsfmri_c_ngd_ad_ngd_rspltp',\n",
       " 'rsfmri_c_ngd_ad_ngd_smh',\n",
       " 'rsfmri_c_ngd_ad_ngd_smm',\n",
       " 'rsfmri_c_ngd_ad_ngd_sa',\n",
       " 'rsfmri_c_ngd_ad_ngd_vta',\n",
       " 'rsfmri_c_ngd_ad_ngd_vs',\n",
       " 'rsfmri_c_ngd_cgc_ngd_ad',\n",
       " 'rsfmri_c_ngd_cgc_ngd_cgc',\n",
       " 'rsfmri_c_ngd_cgc_ngd_ca',\n",
       " 'rsfmri_c_ngd_cgc_ngd_dt',\n",
       " 'rsfmri_c_ngd_cgc_ngd_dla',\n",
       " 'rsfmri_c_ngd_cgc_ngd_fo',\n",
       " 'rsfmri_c_ngd_cgc_ngd_n',\n",
       " 'rsfmri_c_ngd_cgc_ngd_rspltp',\n",
       " 'rsfmri_c_ngd_cgc_ngd_smh',\n",
       " 'rsfmri_c_ngd_cgc_ngd_smm',\n",
       " 'rsfmri_c_ngd_cgc_ngd_sa',\n",
       " 'rsfmri_c_ngd_cgc_ngd_vta',\n",
       " 'rsfmri_c_ngd_cgc_ngd_vs',\n",
       " 'rsfmri_c_ngd_ca_ngd_ad',\n",
       " 'rsfmri_c_ngd_ca_ngd_cgc',\n",
       " 'rsfmri_c_ngd_ca_ngd_ca',\n",
       " 'rsfmri_c_ngd_ca_ngd_dt',\n",
       " 'rsfmri_c_ngd_ca_ngd_dla',\n",
       " 'rsfmri_c_ngd_ca_ngd_fo',\n",
       " 'rsfmri_c_ngd_ca_ngd_n',\n",
       " 'rsfmri_c_ngd_ca_ngd_rspltp',\n",
       " 'rsfmri_c_ngd_ca_ngd_smh',\n",
       " 'rsfmri_c_ngd_ca_ngd_smm',\n",
       " 'rsfmri_c_ngd_ca_ngd_sa',\n",
       " 'rsfmri_c_ngd_ca_ngd_vta',\n",
       " 'rsfmri_c_ngd_ca_ngd_vs',\n",
       " 'rsfmri_c_ngd_dt_ngd_ad',\n",
       " 'rsfmri_c_ngd_dt_ngd_cgc',\n",
       " 'rsfmri_c_ngd_dt_ngd_ca',\n",
       " 'rsfmri_c_ngd_dt_ngd_dt',\n",
       " 'rsfmri_c_ngd_dt_ngd_dla',\n",
       " 'rsfmri_c_ngd_dt_ngd_fo',\n",
       " 'rsfmri_c_ngd_dt_ngd_n',\n",
       " 'rsfmri_c_ngd_dt_ngd_rspltp',\n",
       " 'rsfmri_c_ngd_dt_ngd_smh',\n",
       " 'rsfmri_c_ngd_dt_ngd_smm',\n",
       " 'rsfmri_c_ngd_dt_ngd_sa',\n",
       " 'rsfmri_c_ngd_dt_ngd_vta',\n",
       " 'rsfmri_c_ngd_dt_ngd_vs',\n",
       " 'rsfmri_c_ngd_dla_ngd_ad',\n",
       " 'rsfmri_c_ngd_dla_ngd_cgc',\n",
       " 'rsfmri_c_ngd_dla_ngd_ca',\n",
       " 'rsfmri_c_ngd_dla_ngd_dt',\n",
       " 'rsfmri_c_ngd_dla_ngd_dla',\n",
       " 'rsfmri_c_ngd_dla_ngd_fo',\n",
       " 'rsfmri_c_ngd_dla_ngd_n',\n",
       " 'rsfmri_c_ngd_dla_ngd_rspltp',\n",
       " 'rsfmri_c_ngd_dla_ngd_smh',\n",
       " 'rsfmri_c_ngd_dla_ngd_smm',\n",
       " 'rsfmri_c_ngd_dla_ngd_sa',\n",
       " 'rsfmri_c_ngd_dla_ngd_vta',\n",
       " 'rsfmri_c_ngd_dla_ngd_vs',\n",
       " 'rsfmri_c_ngd_fo_ngd_ad',\n",
       " 'rsfmri_c_ngd_fo_ngd_cgc',\n",
       " 'rsfmri_c_ngd_fo_ngd_ca',\n",
       " 'rsfmri_c_ngd_fo_ngd_dt',\n",
       " 'rsfmri_c_ngd_fo_ngd_dla',\n",
       " 'rsfmri_c_ngd_fo_ngd_fo',\n",
       " 'rsfmri_c_ngd_fo_ngd_n',\n",
       " 'rsfmri_c_ngd_fo_ngd_rspltp',\n",
       " 'rsfmri_c_ngd_fo_ngd_smh',\n",
       " 'rsfmri_c_ngd_fo_ngd_smm',\n",
       " 'rsfmri_c_ngd_fo_ngd_sa',\n",
       " 'rsfmri_c_ngd_fo_ngd_vta',\n",
       " 'rsfmri_c_ngd_fo_ngd_vs',\n",
       " 'rsfmri_c_ngd_n_ngd_ad',\n",
       " 'rsfmri_c_ngd_n_ngd_cgc',\n",
       " 'rsfmri_c_ngd_n_ngd_ca',\n",
       " 'rsfmri_c_ngd_n_ngd_dt',\n",
       " 'rsfmri_c_ngd_n_ngd_dla',\n",
       " 'rsfmri_c_ngd_n_ngd_fo',\n",
       " 'rsfmri_c_ngd_n_ngd_n',\n",
       " 'rsfmri_c_ngd_n_ngd_rspltp',\n",
       " 'rsfmri_c_ngd_n_ngd_smh',\n",
       " 'rsfmri_c_ngd_n_ngd_smm',\n",
       " 'rsfmri_c_ngd_n_ngd_sa',\n",
       " 'rsfmri_c_ngd_n_ngd_vta',\n",
       " 'rsfmri_c_ngd_n_ngd_vs',\n",
       " 'rsfmri_c_ngd_rspltp_ngd_ad',\n",
       " 'rsfmri_c_ngd_rspltp_ngd_cgc',\n",
       " 'rsfmri_c_ngd_rspltp_ngd_ca',\n",
       " 'rsfmri_c_ngd_rspltp_ngd_dt',\n",
       " 'rsfmri_c_ngd_rspltp_ngd_dla',\n",
       " 'rsfmri_c_ngd_rspltp_ngd_fo',\n",
       " 'rsfmri_c_ngd_rspltp_ngd_n',\n",
       " 'rsfmri_c_ngd_rspltp_ngd_rspltp',\n",
       " 'rsfmri_c_ngd_rspltp_ngd_smh',\n",
       " 'rsfmri_c_ngd_rspltp_ngd_smm',\n",
       " 'rsfmri_c_ngd_rspltp_ngd_sa',\n",
       " 'rsfmri_c_ngd_rspltp_ngd_vta',\n",
       " 'rsfmri_c_ngd_rspltp_ngd_vs',\n",
       " 'rsfmri_c_ngd_smh_ngd_ad',\n",
       " 'rsfmri_c_ngd_smh_ngd_cgc',\n",
       " 'rsfmri_c_ngd_smh_ngd_ca',\n",
       " 'rsfmri_c_ngd_smh_ngd_dt',\n",
       " 'rsfmri_c_ngd_smh_ngd_dla',\n",
       " 'rsfmri_c_ngd_smh_ngd_fo',\n",
       " 'rsfmri_c_ngd_smh_ngd_n',\n",
       " 'rsfmri_c_ngd_smh_ngd_rspltp',\n",
       " 'rsfmri_c_ngd_smh_ngd_smh',\n",
       " 'rsfmri_c_ngd_smh_ngd_smm',\n",
       " 'rsfmri_c_ngd_smh_ngd_sa',\n",
       " 'rsfmri_c_ngd_smh_ngd_vta',\n",
       " 'rsfmri_c_ngd_smh_ngd_vs',\n",
       " 'rsfmri_c_ngd_smm_ngd_ad',\n",
       " 'rsfmri_c_ngd_smm_ngd_cgc',\n",
       " 'rsfmri_c_ngd_smm_ngd_ca',\n",
       " 'rsfmri_c_ngd_smm_ngd_dt',\n",
       " 'rsfmri_c_ngd_smm_ngd_dla',\n",
       " 'rsfmri_c_ngd_smm_ngd_fo',\n",
       " 'rsfmri_c_ngd_smm_ngd_n',\n",
       " 'rsfmri_c_ngd_smm_ngd_rspltp',\n",
       " 'rsfmri_c_ngd_smm_ngd_smh',\n",
       " 'rsfmri_c_ngd_smm_ngd_smm',\n",
       " 'rsfmri_c_ngd_smm_ngd_sa',\n",
       " 'rsfmri_c_ngd_smm_ngd_vta',\n",
       " 'rsfmri_c_ngd_smm_ngd_vs',\n",
       " 'rsfmri_c_ngd_sa_ngd_ad',\n",
       " 'rsfmri_c_ngd_sa_ngd_cgc',\n",
       " 'rsfmri_c_ngd_sa_ngd_ca',\n",
       " 'rsfmri_c_ngd_sa_ngd_dt',\n",
       " 'rsfmri_c_ngd_sa_ngd_dla',\n",
       " 'rsfmri_c_ngd_sa_ngd_fo',\n",
       " 'rsfmri_c_ngd_sa_ngd_n',\n",
       " 'rsfmri_c_ngd_sa_ngd_rspltp',\n",
       " 'rsfmri_c_ngd_sa_ngd_smh',\n",
       " 'rsfmri_c_ngd_sa_ngd_smm',\n",
       " 'rsfmri_c_ngd_sa_ngd_sa',\n",
       " 'rsfmri_c_ngd_sa_ngd_vta',\n",
       " 'rsfmri_c_ngd_sa_ngd_vs',\n",
       " 'rsfmri_c_ngd_vta_ngd_ad',\n",
       " 'rsfmri_c_ngd_vta_ngd_cgc',\n",
       " 'rsfmri_c_ngd_vta_ngd_ca',\n",
       " 'rsfmri_c_ngd_vta_ngd_dt',\n",
       " 'rsfmri_c_ngd_vta_ngd_dla',\n",
       " 'rsfmri_c_ngd_vta_ngd_fo',\n",
       " 'rsfmri_c_ngd_vta_ngd_n',\n",
       " 'rsfmri_c_ngd_vta_ngd_rspltp',\n",
       " 'rsfmri_c_ngd_vta_ngd_smh',\n",
       " 'rsfmri_c_ngd_vta_ngd_smm',\n",
       " 'rsfmri_c_ngd_vta_ngd_sa',\n",
       " 'rsfmri_c_ngd_vta_ngd_vta',\n",
       " 'rsfmri_c_ngd_vta_ngd_vs',\n",
       " 'rsfmri_c_ngd_vs_ngd_ad',\n",
       " 'rsfmri_c_ngd_vs_ngd_cgc',\n",
       " 'rsfmri_c_ngd_vs_ngd_ca',\n",
       " 'rsfmri_c_ngd_vs_ngd_dt',\n",
       " 'rsfmri_c_ngd_vs_ngd_dla',\n",
       " 'rsfmri_c_ngd_vs_ngd_fo',\n",
       " 'rsfmri_c_ngd_vs_ngd_n',\n",
       " 'rsfmri_c_ngd_vs_ngd_rspltp',\n",
       " 'rsfmri_c_ngd_vs_ngd_smh',\n",
       " 'rsfmri_c_ngd_vs_ngd_smm',\n",
       " 'rsfmri_c_ngd_vs_ngd_sa',\n",
       " 'rsfmri_c_ngd_vs_ngd_vta',\n",
       " 'rsfmri_c_ngd_vs_ngd_vs',\n",
       " 'rsfmri_cor_ngd_au_scs_crcxlh',\n",
       " 'rsfmri_cor_ngd_au_scs_thplh',\n",
       " 'rsfmri_cor_ngd_au_scs_cdelh',\n",
       " 'rsfmri_cor_ngd_au_scs_ptlh',\n",
       " 'rsfmri_cor_ngd_au_scs_pllh',\n",
       " 'rsfmri_cor_ngd_au_scs_bs',\n",
       " 'rsfmri_cor_ngd_au_scs_hplh',\n",
       " 'rsfmri_cor_ngd_au_scs_aglh',\n",
       " 'rsfmri_cor_ngd_au_scs_aalh',\n",
       " 'rsfmri_cor_ngd_au_scs_vtdclh',\n",
       " 'rsfmri_cor_ngd_au_scs_crcxrh',\n",
       " 'rsfmri_cor_ngd_au_scs_thprh',\n",
       " 'rsfmri_cor_ngd_au_scs_cderh',\n",
       " 'rsfmri_cor_ngd_au_scs_ptrh',\n",
       " 'rsfmri_cor_ngd_au_scs_plrh',\n",
       " 'rsfmri_cor_ngd_au_scs_hprh',\n",
       " 'rsfmri_cor_ngd_au_scs_agrh',\n",
       " 'rsfmri_cor_ngd_au_scs_aarh',\n",
       " 'rsfmri_cor_ngd_au_scs_vtdcrh',\n",
       " 'rsfmri_cor_ngd_cerc_scs_crcxlh',\n",
       " 'rsfmri_cor_ngd_cerc_scs_thplh',\n",
       " 'rsfmri_cor_ngd_cerc_scs_cdelh',\n",
       " 'rsfmri_cor_ngd_cerc_scs_ptlh',\n",
       " 'rsfmri_cor_ngd_cerc_scs_pllh',\n",
       " 'rsfmri_cor_ngd_cerc_scs_bs',\n",
       " 'rsfmri_cor_ngd_cerc_scs_hplh',\n",
       " 'rsfmri_cor_ngd_cerc_scs_aglh',\n",
       " 'rsfmri_cor_ngd_cerc_scs_aalh',\n",
       " 'rsfmri_cor_ngd_cerc_scs_vtdclh',\n",
       " 'rsfmri_cor_ngd_cerc_scs_crcxrh',\n",
       " 'rsfmri_cor_ngd_cerc_scs_thprh',\n",
       " 'rsfmri_cor_ngd_cerc_scs_cderh',\n",
       " 'rsfmri_cor_ngd_cerc_scs_ptrh',\n",
       " 'rsfmri_cor_ngd_cerc_scs_plrh',\n",
       " 'rsfmri_cor_ngd_cerc_scs_hprh',\n",
       " 'rsfmri_cor_ngd_cerc_scs_agrh',\n",
       " 'rsfmri_cor_ngd_cerc_scs_aarh',\n",
       " 'rsfmri_cor_ngd_cerc_scs_vtdcrh',\n",
       " 'rsfmri_cor_ngd_copa_scs_crcxlh',\n",
       " 'rsfmri_cor_ngd_copa_scs_thplh',\n",
       " 'rsfmri_cor_ngd_copa_scs_cdelh',\n",
       " 'rsfmri_cor_ngd_copa_scs_ptlh',\n",
       " 'rsfmri_cor_ngd_copa_scs_pllh',\n",
       " 'rsfmri_cor_ngd_copa_scs_bs',\n",
       " 'rsfmri_cor_ngd_copa_scs_hplh',\n",
       " 'rsfmri_cor_ngd_copa_scs_aglh',\n",
       " 'rsfmri_cor_ngd_copa_scs_aalh',\n",
       " 'rsfmri_cor_ngd_copa_scs_vtdclh',\n",
       " 'rsfmri_cor_ngd_copa_scs_crcxrh',\n",
       " 'rsfmri_cor_ngd_copa_scs_thprh',\n",
       " 'rsfmri_cor_ngd_copa_scs_cderh',\n",
       " 'rsfmri_cor_ngd_copa_scs_ptrh',\n",
       " 'rsfmri_cor_ngd_copa_scs_plrh',\n",
       " 'rsfmri_cor_ngd_copa_scs_hprh',\n",
       " 'rsfmri_cor_ngd_copa_scs_agrh',\n",
       " 'rsfmri_cor_ngd_copa_scs_aarh',\n",
       " 'rsfmri_cor_ngd_copa_scs_vtdcrh',\n",
       " 'rsfmri_cor_ngd_df_scs_crcxlh',\n",
       " 'rsfmri_cor_ngd_df_scs_thplh',\n",
       " 'rsfmri_cor_ngd_df_scs_cdelh',\n",
       " 'rsfmri_cor_ngd_df_scs_ptlh',\n",
       " 'rsfmri_cor_ngd_df_scs_pllh',\n",
       " 'rsfmri_cor_ngd_df_scs_bs',\n",
       " 'rsfmri_cor_ngd_df_scs_hplh',\n",
       " 'rsfmri_cor_ngd_df_scs_aglh',\n",
       " 'rsfmri_cor_ngd_df_scs_aalh',\n",
       " 'rsfmri_cor_ngd_df_scs_vtdclh',\n",
       " 'rsfmri_cor_ngd_df_scs_crcxrh',\n",
       " 'rsfmri_cor_ngd_df_scs_thprh',\n",
       " 'rsfmri_cor_ngd_df_scs_cderh',\n",
       " 'rsfmri_cor_ngd_df_scs_ptrh',\n",
       " 'rsfmri_cor_ngd_df_scs_plrh',\n",
       " 'rsfmri_cor_ngd_df_scs_hprh',\n",
       " 'rsfmri_cor_ngd_df_scs_agrh',\n",
       " 'rsfmri_cor_ngd_df_scs_aarh',\n",
       " 'rsfmri_cor_ngd_df_scs_vtdcrh',\n",
       " 'rsfmri_cor_ngd_dsa_scs_crcxlh',\n",
       " 'rsfmri_cor_ngd_dsa_scs_thplh',\n",
       " 'rsfmri_cor_ngd_dsa_scs_cdelh',\n",
       " 'rsfmri_cor_ngd_dsa_scs_ptlh',\n",
       " 'rsfmri_cor_ngd_dsa_scs_pllh',\n",
       " 'rsfmri_cor_ngd_dsa_scs_bs',\n",
       " 'rsfmri_cor_ngd_dsa_scs_hplh',\n",
       " 'rsfmri_cor_ngd_dsa_scs_aglh',\n",
       " 'rsfmri_cor_ngd_dsa_scs_aalh',\n",
       " 'rsfmri_cor_ngd_dsa_scs_vtdclh',\n",
       " 'rsfmri_cor_ngd_dsa_scs_crcxrh',\n",
       " 'rsfmri_cor_ngd_dsa_scs_thprh',\n",
       " 'rsfmri_cor_ngd_dsa_scs_cderh',\n",
       " 'rsfmri_cor_ngd_dsa_scs_ptrh',\n",
       " 'rsfmri_cor_ngd_dsa_scs_plrh',\n",
       " 'rsfmri_cor_ngd_dsa_scs_hprh',\n",
       " 'rsfmri_cor_ngd_dsa_scs_agrh',\n",
       " 'rsfmri_cor_ngd_dsa_scs_aarh',\n",
       " 'rsfmri_cor_ngd_dsa_scs_vtdcrh',\n",
       " 'rsfmri_cor_ngd_fopa_scs_crcxlh',\n",
       " 'rsfmri_cor_ngd_fopa_scs_thplh',\n",
       " 'rsfmri_cor_ngd_fopa_scs_cdelh',\n",
       " 'rsfmri_cor_ngd_fopa_scs_ptlh',\n",
       " 'rsfmri_cor_ngd_fopa_scs_pllh',\n",
       " 'rsfmri_cor_ngd_fopa_scs_bs',\n",
       " 'rsfmri_cor_ngd_fopa_scs_hplh',\n",
       " 'rsfmri_cor_ngd_fopa_scs_aglh',\n",
       " 'rsfmri_cor_ngd_fopa_scs_aalh',\n",
       " 'rsfmri_cor_ngd_fopa_scs_vtdclh',\n",
       " 'rsfmri_cor_ngd_fopa_scs_crcxrh',\n",
       " 'rsfmri_cor_ngd_fopa_scs_thprh',\n",
       " 'rsfmri_cor_ngd_fopa_scs_cderh',\n",
       " 'rsfmri_cor_ngd_fopa_scs_ptrh',\n",
       " 'rsfmri_cor_ngd_fopa_scs_plrh',\n",
       " 'rsfmri_cor_ngd_fopa_scs_hprh',\n",
       " 'rsfmri_cor_ngd_fopa_scs_agrh',\n",
       " 'rsfmri_cor_ngd_fopa_scs_aarh',\n",
       " 'rsfmri_cor_ngd_fopa_scs_vtdcrh',\n",
       " 'rsfmri_cor_ngd_none_scs_crcxlh',\n",
       " 'rsfmri_cor_ngd_none_scs_thplh',\n",
       " 'rsfmri_cor_ngd_none_scs_cdelh',\n",
       " 'rsfmri_cor_ngd_none_scs_ptlh',\n",
       " 'rsfmri_cor_ngd_none_scs_pllh',\n",
       " 'rsfmri_cor_ngd_none_scs_bs',\n",
       " 'rsfmri_cor_ngd_none_scs_hplh',\n",
       " 'rsfmri_cor_ngd_none_scs_aglh',\n",
       " 'rsfmri_cor_ngd_none_scs_aalh',\n",
       " 'rsfmri_cor_ngd_none_scs_vtdclh',\n",
       " 'rsfmri_cor_ngd_none_scs_crcxrh',\n",
       " 'rsfmri_cor_ngd_none_scs_thprh',\n",
       " 'rsfmri_cor_ngd_none_scs_cderh',\n",
       " 'rsfmri_cor_ngd_none_scs_ptrh',\n",
       " 'rsfmri_cor_ngd_none_scs_plrh',\n",
       " 'rsfmri_cor_ngd_none_scs_hprh',\n",
       " 'rsfmri_cor_ngd_none_scs_agrh',\n",
       " 'rsfmri_cor_ngd_none_scs_aarh',\n",
       " 'rsfmri_cor_ngd_none_scs_vtdcrh',\n",
       " 'rsfmri_cor_ngd_rst_scs_crcxlh',\n",
       " 'rsfmri_cor_ngd_rst_scs_thplh',\n",
       " 'rsfmri_cor_ngd_rst_scs_cdelh',\n",
       " 'rsfmri_cor_ngd_rst_scs_ptlh',\n",
       " 'rsfmri_cor_ngd_rst_scs_pllh',\n",
       " 'rsfmri_cor_ngd_rst_scs_bs',\n",
       " 'rsfmri_cor_ngd_rst_scs_hplh',\n",
       " 'rsfmri_cor_ngd_rst_scs_aglh',\n",
       " 'rsfmri_cor_ngd_rst_scs_aalh',\n",
       " 'rsfmri_cor_ngd_rst_scs_vtdclh',\n",
       " 'rsfmri_cor_ngd_rst_scs_crcxrh',\n",
       " 'rsfmri_cor_ngd_rst_scs_thprh',\n",
       " 'rsfmri_cor_ngd_rst_scs_cderh',\n",
       " 'rsfmri_cor_ngd_rst_scs_ptrh',\n",
       " 'rsfmri_cor_ngd_rst_scs_plrh',\n",
       " 'rsfmri_cor_ngd_rst_scs_hprh',\n",
       " 'rsfmri_cor_ngd_rst_scs_agrh',\n",
       " 'rsfmri_cor_ngd_rst_scs_aarh',\n",
       " 'rsfmri_cor_ngd_rst_scs_vtdcrh',\n",
       " 'rsfmri_cor_ngd_smh_scs_crcxlh',\n",
       " 'rsfmri_cor_ngd_smh_scs_thplh',\n",
       " 'rsfmri_cor_ngd_smh_scs_cdelh',\n",
       " 'rsfmri_cor_ngd_smh_scs_ptlh',\n",
       " 'rsfmri_cor_ngd_smh_scs_pllh',\n",
       " 'rsfmri_cor_ngd_smh_scs_bs',\n",
       " 'rsfmri_cor_ngd_smh_scs_hplh',\n",
       " 'rsfmri_cor_ngd_smh_scs_aglh',\n",
       " 'rsfmri_cor_ngd_smh_scs_aalh',\n",
       " 'rsfmri_cor_ngd_smh_scs_vtdclh',\n",
       " 'rsfmri_cor_ngd_smh_scs_crcxrh',\n",
       " 'rsfmri_cor_ngd_smh_scs_thprh',\n",
       " 'rsfmri_cor_ngd_smh_scs_cderh',\n",
       " 'rsfmri_cor_ngd_smh_scs_ptrh',\n",
       " 'rsfmri_cor_ngd_smh_scs_plrh',\n",
       " 'rsfmri_cor_ngd_smh_scs_hprh',\n",
       " 'rsfmri_cor_ngd_smh_scs_agrh',\n",
       " 'rsfmri_cor_ngd_smh_scs_aarh',\n",
       " 'rsfmri_cor_ngd_smh_scs_vtdcrh',\n",
       " 'rsfmri_cor_ngd_smm_scs_crcxlh',\n",
       " 'rsfmri_cor_ngd_smm_scs_thplh',\n",
       " 'rsfmri_cor_ngd_smm_scs_cdelh',\n",
       " 'rsfmri_cor_ngd_smm_scs_ptlh',\n",
       " 'rsfmri_cor_ngd_smm_scs_pllh',\n",
       " 'rsfmri_cor_ngd_smm_scs_bs',\n",
       " 'rsfmri_cor_ngd_smm_scs_hplh',\n",
       " 'rsfmri_cor_ngd_smm_scs_aglh',\n",
       " 'rsfmri_cor_ngd_smm_scs_aalh',\n",
       " 'rsfmri_cor_ngd_smm_scs_vtdclh',\n",
       " 'rsfmri_cor_ngd_smm_scs_crcxrh',\n",
       " 'rsfmri_cor_ngd_smm_scs_thprh',\n",
       " 'rsfmri_cor_ngd_smm_scs_cderh',\n",
       " 'rsfmri_cor_ngd_smm_scs_ptrh',\n",
       " 'rsfmri_cor_ngd_smm_scs_plrh',\n",
       " 'rsfmri_cor_ngd_smm_scs_hprh',\n",
       " 'rsfmri_cor_ngd_smm_scs_agrh',\n",
       " 'rsfmri_cor_ngd_smm_scs_aarh',\n",
       " 'rsfmri_cor_ngd_smm_scs_vtdcrh',\n",
       " 'rsfmri_cor_ngd_sa_scs_crcxlh',\n",
       " 'rsfmri_cor_ngd_sa_scs_thplh',\n",
       " 'rsfmri_cor_ngd_sa_scs_cdelh',\n",
       " 'rsfmri_cor_ngd_sa_scs_ptlh',\n",
       " 'rsfmri_cor_ngd_sa_scs_pllh',\n",
       " 'rsfmri_cor_ngd_sa_scs_bs',\n",
       " 'rsfmri_cor_ngd_sa_scs_hplh',\n",
       " 'rsfmri_cor_ngd_sa_scs_aglh',\n",
       " 'rsfmri_cor_ngd_sa_scs_aalh',\n",
       " 'rsfmri_cor_ngd_sa_scs_vtdclh',\n",
       " 'rsfmri_cor_ngd_sa_scs_crcxrh',\n",
       " 'rsfmri_cor_ngd_sa_scs_thprh',\n",
       " 'rsfmri_cor_ngd_sa_scs_cderh',\n",
       " 'rsfmri_cor_ngd_sa_scs_ptrh',\n",
       " 'rsfmri_cor_ngd_sa_scs_plrh',\n",
       " 'rsfmri_cor_ngd_sa_scs_hprh',\n",
       " 'rsfmri_cor_ngd_sa_scs_agrh',\n",
       " 'rsfmri_cor_ngd_sa_scs_aarh',\n",
       " 'rsfmri_cor_ngd_sa_scs_vtdcrh',\n",
       " 'rsfmri_cor_ngd_vta_scs_crcxlh',\n",
       " 'rsfmri_cor_ngd_vta_scs_thplh',\n",
       " 'rsfmri_cor_ngd_vta_scs_cdelh',\n",
       " 'rsfmri_cor_ngd_vta_scs_ptlh',\n",
       " 'rsfmri_cor_ngd_vta_scs_pllh',\n",
       " 'rsfmri_cor_ngd_vta_scs_bs',\n",
       " 'rsfmri_cor_ngd_vta_scs_hplh',\n",
       " 'rsfmri_cor_ngd_vta_scs_aglh',\n",
       " 'rsfmri_cor_ngd_vta_scs_aalh',\n",
       " 'rsfmri_cor_ngd_vta_scs_vtdclh',\n",
       " 'rsfmri_cor_ngd_vta_scs_crcxrh',\n",
       " 'rsfmri_cor_ngd_vta_scs_thprh',\n",
       " 'rsfmri_cor_ngd_vta_scs_cderh',\n",
       " 'rsfmri_cor_ngd_vta_scs_ptrh',\n",
       " 'rsfmri_cor_ngd_vta_scs_plrh',\n",
       " 'rsfmri_cor_ngd_vta_scs_hprh',\n",
       " 'rsfmri_cor_ngd_vta_scs_agrh',\n",
       " 'rsfmri_cor_ngd_vta_scs_aarh',\n",
       " 'rsfmri_cor_ngd_vta_scs_vtdcrh',\n",
       " 'rsfmri_cor_ngd_vs_scs_crcxlh',\n",
       " 'rsfmri_cor_ngd_vs_scs_thplh',\n",
       " 'rsfmri_cor_ngd_vs_scs_cdelh',\n",
       " 'rsfmri_cor_ngd_vs_scs_ptlh',\n",
       " 'rsfmri_cor_ngd_vs_scs_pllh',\n",
       " 'rsfmri_cor_ngd_vs_scs_bs',\n",
       " 'rsfmri_cor_ngd_vs_scs_hplh',\n",
       " 'rsfmri_cor_ngd_vs_scs_aglh',\n",
       " 'rsfmri_cor_ngd_vs_scs_aalh',\n",
       " 'rsfmri_cor_ngd_vs_scs_vtdclh',\n",
       " 'rsfmri_cor_ngd_vs_scs_crcxrh',\n",
       " 'rsfmri_cor_ngd_vs_scs_thprh',\n",
       " 'rsfmri_cor_ngd_vs_scs_cderh',\n",
       " 'rsfmri_cor_ngd_vs_scs_ptrh',\n",
       " 'rsfmri_cor_ngd_vs_scs_plrh',\n",
       " 'rsfmri_cor_ngd_vs_scs_hprh',\n",
       " 'rsfmri_cor_ngd_vs_scs_agrh',\n",
       " 'rsfmri_cor_ngd_vs_scs_aarh',\n",
       " 'rsfmri_cor_ngd_vs_scs_vtdcrh']"
      ]
     },
     "execution_count": 13,
     "metadata": {},
     "output_type": "execute_result"
    }
   ],
   "source": [
    "list(ROIS)"
   ]
  },
  {
   "cell_type": "code",
   "execution_count": 14,
   "id": "52d76e08",
   "metadata": {},
   "outputs": [],
   "source": [
    "#df['sex'] = df['sex'].replace({'M':0,'F':1})"
   ]
  },
  {
   "cell_type": "code",
   "execution_count": 15,
   "id": "7ed6988b",
   "metadata": {},
   "outputs": [],
   "source": [
    "df['ssb_group'] = df['ssb_group'].replace({'low':0,'high':1})"
   ]
  },
  {
   "cell_type": "code",
   "execution_count": 16,
   "id": "bb51e282",
   "metadata": {},
   "outputs": [],
   "source": [
    "X = df[ROIS] #features"
   ]
  },
  {
   "cell_type": "code",
   "execution_count": 17,
   "id": "89b62315",
   "metadata": {},
   "outputs": [
    {
     "data": {
      "text/plain": [
       "(3700, 418)"
      ]
     },
     "execution_count": 17,
     "metadata": {},
     "output_type": "execute_result"
    }
   ],
   "source": [
    "X.shape"
   ]
  },
  {
   "cell_type": "code",
   "execution_count": 18,
   "id": "150ab41b",
   "metadata": {},
   "outputs": [],
   "source": [
    "# Transpose the DataFrame to make columns become rows\n",
    "X_T = X.T\n",
    "\n",
    "duplicates = X_T.duplicated(keep='first')\n"
   ]
  },
  {
   "cell_type": "code",
   "execution_count": 19,
   "id": "32b23f7d",
   "metadata": {},
   "outputs": [],
   "source": [
    "# Identifying columns to drop (all duplicates except the first occurrence)\n",
    "cols_to_drop = X_T[duplicates].index\n"
   ]
  },
  {
   "cell_type": "code",
   "execution_count": 20,
   "id": "ca9b2e89",
   "metadata": {
    "scrolled": true
   },
   "outputs": [
    {
     "name": "stdout",
     "output_type": "stream",
     "text": [
      "      demo_comb_income_v2  interview_age  bmi_perc  sex_M  \\\n",
      "0                1.134865       2.208108 -0.074089      1   \n",
      "1                1.134865      -3.791892 -0.166220      0   \n",
      "2               -6.865135       2.208108 -0.117158      1   \n",
      "3                0.134865      -0.791892  0.181997      0   \n",
      "4               -3.865135      -0.791892  0.132754      0   \n",
      "...                   ...            ...       ...    ...   \n",
      "3695             0.134865       6.208108 -0.089739      1   \n",
      "3696             1.134865      11.208108 -0.092898      0   \n",
      "3697            -0.865135      -4.791892  0.209150      0   \n",
      "3698             2.134865      12.208108  0.009343      1   \n",
      "3699             1.134865       5.208108  0.314276      1   \n",
      "\n",
      "      rsfmri_c_ngd_ad_ngd_ca  rsfmri_c_ngd_ad_ngd_dt  rsfmri_c_ngd_ad_ngd_dla  \\\n",
      "0                   0.043602               -0.052279                -0.001817   \n",
      "1                   0.017131                0.052089                 0.004709   \n",
      "2                   0.016845                0.000079                 0.027425   \n",
      "3                  -0.093783               -0.059711                 0.048004   \n",
      "4                  -0.130025               -0.040669                 0.029820   \n",
      "...                      ...                     ...                      ...   \n",
      "3695               -0.095973                0.034362                 0.003104   \n",
      "3696               -0.118861               -0.017324                 0.022211   \n",
      "3697               -0.013017               -0.013231                -0.020813   \n",
      "3698               -0.096342               -0.014220                 0.010990   \n",
      "3699               -0.036228                0.084440                -0.045922   \n",
      "\n",
      "      rsfmri_c_ngd_ad_ngd_fo  rsfmri_c_ngd_ad_ngd_n  \\\n",
      "0                  -0.073673              -0.008185   \n",
      "1                   0.022979               0.018181   \n",
      "2                   0.056818               0.013597   \n",
      "3                  -0.092068              -0.027847   \n",
      "4                  -0.017150              -0.017234   \n",
      "...                      ...                    ...   \n",
      "3695                0.034102              -0.004585   \n",
      "3696               -0.030273              -0.014853   \n",
      "3697               -0.040568               0.010807   \n",
      "3698                0.027282              -0.038254   \n",
      "3699                0.055974               0.018137   \n",
      "\n",
      "      rsfmri_c_ngd_ad_ngd_rspltp  ...  rsfmri_cor_ngd_vs_scs_vtdclh  \\\n",
      "0                       0.021034  ...                      0.009312   \n",
      "1                      -0.012840  ...                     -0.003108   \n",
      "2                       0.030836  ...                     -0.087846   \n",
      "3                       0.014588  ...                      0.011371   \n",
      "4                      -0.076365  ...                     -0.061664   \n",
      "...                          ...  ...                           ...   \n",
      "3695                   -0.045583  ...                      0.025019   \n",
      "3696                    0.120055  ...                      0.098312   \n",
      "3697                    0.032868  ...                      0.016868   \n",
      "3698                    0.047381  ...                      0.006819   \n",
      "3699                   -0.038866  ...                      0.057506   \n",
      "\n",
      "      rsfmri_cor_ngd_vs_scs_crcxrh  rsfmri_cor_ngd_vs_scs_thprh  \\\n",
      "0                        -0.014841                     0.058503   \n",
      "1                         0.008172                    -0.031480   \n",
      "2                         0.278984                     0.008399   \n",
      "3                         0.030544                    -0.044161   \n",
      "4                         0.154055                     0.016544   \n",
      "...                            ...                          ...   \n",
      "3695                      0.089268                     0.066835   \n",
      "3696                     -0.009109                     0.042259   \n",
      "3697                      0.035160                     0.028320   \n",
      "3698                      0.102441                    -0.028231   \n",
      "3699                     -0.110457                    -0.050237   \n",
      "\n",
      "      rsfmri_cor_ngd_vs_scs_cderh  rsfmri_cor_ngd_vs_scs_ptrh  \\\n",
      "0                       -0.010300                   -0.058693   \n",
      "1                       -0.015170                    0.040285   \n",
      "2                        0.016498                    0.224208   \n",
      "3                       -0.052504                    0.256509   \n",
      "4                        0.003854                    0.122346   \n",
      "...                           ...                         ...   \n",
      "3695                     0.043242                   -0.124791   \n",
      "3696                    -0.037801                    0.084609   \n",
      "3697                     0.015371                    0.091855   \n",
      "3698                     0.014362                    0.300584   \n",
      "3699                    -0.042272                   -0.054081   \n",
      "\n",
      "      rsfmri_cor_ngd_vs_scs_plrh  rsfmri_cor_ngd_vs_scs_hprh  \\\n",
      "0                       0.040415                    0.109031   \n",
      "1                       0.009324                   -0.005636   \n",
      "2                       0.249363                    0.062374   \n",
      "3                      -0.011558                    0.176237   \n",
      "4                      -0.057407                    0.012681   \n",
      "...                          ...                         ...   \n",
      "3695                   -0.023009                    0.020711   \n",
      "3696                   -0.060750                   -0.115547   \n",
      "3697                   -0.030467                    0.036232   \n",
      "3698                    0.063622                    0.018049   \n",
      "3699                   -0.006959                    0.008878   \n",
      "\n",
      "      rsfmri_cor_ngd_vs_scs_agrh  rsfmri_cor_ngd_vs_scs_aarh  \\\n",
      "0                       0.019496                   -0.017181   \n",
      "1                      -0.112208                    0.003579   \n",
      "2                      -0.213170                   -0.070342   \n",
      "3                      -0.036178                   -0.078277   \n",
      "4                      -0.040334                   -0.115159   \n",
      "...                          ...                         ...   \n",
      "3695                   -0.015846                   -0.025092   \n",
      "3696                    0.241700                    0.019459   \n",
      "3697                   -0.013794                    0.044985   \n",
      "3698                    0.026047                    0.075362   \n",
      "3699                    0.004552                   -0.040680   \n",
      "\n",
      "      rsfmri_cor_ngd_vs_scs_vtdcrh  \n",
      "0                         0.022865  \n",
      "1                         0.045996  \n",
      "2                        -0.078987  \n",
      "3                         0.198341  \n",
      "4                         0.039500  \n",
      "...                            ...  \n",
      "3695                     -0.018759  \n",
      "3696                     -0.016186  \n",
      "3697                      0.061419  \n",
      "3698                      0.082922  \n",
      "3699                     -0.023294  \n",
      "\n",
      "[3700 rows x 341 columns]\n"
     ]
    }
   ],
   "source": [
    "# Drop the duplicate columns from the original DataFrame\n",
    "X_cleaned = X.drop(cols_to_drop, axis=1)\n",
    "\n",
    "print(X_cleaned)"
   ]
  },
  {
   "cell_type": "code",
   "execution_count": 21,
   "id": "57bb569f",
   "metadata": {},
   "outputs": [
    {
     "data": {
      "text/plain": [
       "(3700, 418)"
      ]
     },
     "execution_count": 21,
     "metadata": {},
     "output_type": "execute_result"
    }
   ],
   "source": [
    "X.shape"
   ]
  },
  {
   "cell_type": "code",
   "execution_count": 22,
   "id": "f5ea9c8b",
   "metadata": {},
   "outputs": [
    {
     "data": {
      "text/plain": [
       "(3700, 341)"
      ]
     },
     "execution_count": 22,
     "metadata": {},
     "output_type": "execute_result"
    }
   ],
   "source": [
    "X_cleaned.shape"
   ]
  },
  {
   "cell_type": "markdown",
   "id": "7dacb6e6",
   "metadata": {},
   "source": [
    "# Factor of interest\n",
    "This is sometimes called the target. Right now I am using sex, but eventually we will change this to SSB group"
   ]
  },
  {
   "cell_type": "code",
   "execution_count": 23,
   "id": "f92385f7",
   "metadata": {},
   "outputs": [],
   "source": [
    "y = df['ssb_group'] #target"
   ]
  },
  {
   "cell_type": "code",
   "execution_count": 24,
   "id": "5e0308d4",
   "metadata": {},
   "outputs": [
    {
     "data": {
      "text/plain": [
       "1    1850\n",
       "0    1850\n",
       "Name: ssb_group, dtype: int64"
      ]
     },
     "execution_count": 24,
     "metadata": {},
     "output_type": "execute_result"
    }
   ],
   "source": [
    "y.value_counts()"
   ]
  },
  {
   "cell_type": "markdown",
   "id": "a6dcd96a",
   "metadata": {},
   "source": [
    "# Train and test datasets\n",
    "Get randomly generated train and test datasets\n",
    "- Train 1 = train the model and feature elimination\n",
    "- Train 2 = cross validate the model\n",
    "- Test = test statistical differences"
   ]
  },
  {
   "cell_type": "code",
   "execution_count": 25,
   "id": "f3ae8db5",
   "metadata": {},
   "outputs": [],
   "source": [
    "X_train, X_test, y_train, y_test = train_test_split(X_cleaned, y, random_state=42)\n"
   ]
  },
  {
   "cell_type": "code",
   "execution_count": 26,
   "id": "06f427da",
   "metadata": {},
   "outputs": [],
   "source": [
    "X_train1, X_train2, y_train1, y_train2 = train_test_split(X_train, y_train, random_state=42)\n"
   ]
  },
  {
   "cell_type": "code",
   "execution_count": 27,
   "id": "168a44be",
   "metadata": {},
   "outputs": [
    {
     "data": {
      "text/plain": [
       "(925, 341)"
      ]
     },
     "execution_count": 27,
     "metadata": {},
     "output_type": "execute_result"
    }
   ],
   "source": [
    "X_test.shape"
   ]
  },
  {
   "cell_type": "code",
   "execution_count": 28,
   "id": "eec631ce",
   "metadata": {},
   "outputs": [
    {
     "data": {
      "text/plain": [
       "0    481\n",
       "1    444\n",
       "Name: ssb_group, dtype: int64"
      ]
     },
     "execution_count": 28,
     "metadata": {},
     "output_type": "execute_result"
    }
   ],
   "source": [
    "y_test.value_counts()"
   ]
  },
  {
   "cell_type": "code",
   "execution_count": 29,
   "id": "affa0520",
   "metadata": {},
   "outputs": [
    {
     "data": {
      "text/plain": [
       "(2775, 341)"
      ]
     },
     "execution_count": 29,
     "metadata": {},
     "output_type": "execute_result"
    }
   ],
   "source": [
    "X_train.shape"
   ]
  },
  {
   "cell_type": "code",
   "execution_count": 30,
   "id": "39785799",
   "metadata": {},
   "outputs": [
    {
     "data": {
      "text/plain": [
       "(2081, 341)"
      ]
     },
     "execution_count": 30,
     "metadata": {},
     "output_type": "execute_result"
    }
   ],
   "source": [
    "X_train1.shape"
   ]
  },
  {
   "cell_type": "code",
   "execution_count": 31,
   "id": "aef47b54",
   "metadata": {},
   "outputs": [
    {
     "data": {
      "text/plain": [
       "(694,)"
      ]
     },
     "execution_count": 31,
     "metadata": {},
     "output_type": "execute_result"
    }
   ],
   "source": [
    "y_train2.shape"
   ]
  },
  {
   "cell_type": "code",
   "execution_count": 32,
   "id": "6cc8d517",
   "metadata": {},
   "outputs": [
    {
     "data": {
      "text/html": [
       "<style>#sk-container-id-1 {color: black;background-color: white;}#sk-container-id-1 pre{padding: 0;}#sk-container-id-1 div.sk-toggleable {background-color: white;}#sk-container-id-1 label.sk-toggleable__label {cursor: pointer;display: block;width: 100%;margin-bottom: 0;padding: 0.3em;box-sizing: border-box;text-align: center;}#sk-container-id-1 label.sk-toggleable__label-arrow:before {content: \"▸\";float: left;margin-right: 0.25em;color: #696969;}#sk-container-id-1 label.sk-toggleable__label-arrow:hover:before {color: black;}#sk-container-id-1 div.sk-estimator:hover label.sk-toggleable__label-arrow:before {color: black;}#sk-container-id-1 div.sk-toggleable__content {max-height: 0;max-width: 0;overflow: hidden;text-align: left;background-color: #f0f8ff;}#sk-container-id-1 div.sk-toggleable__content pre {margin: 0.2em;color: black;border-radius: 0.25em;background-color: #f0f8ff;}#sk-container-id-1 input.sk-toggleable__control:checked~div.sk-toggleable__content {max-height: 200px;max-width: 100%;overflow: auto;}#sk-container-id-1 input.sk-toggleable__control:checked~label.sk-toggleable__label-arrow:before {content: \"▾\";}#sk-container-id-1 div.sk-estimator input.sk-toggleable__control:checked~label.sk-toggleable__label {background-color: #d4ebff;}#sk-container-id-1 div.sk-label input.sk-toggleable__control:checked~label.sk-toggleable__label {background-color: #d4ebff;}#sk-container-id-1 input.sk-hidden--visually {border: 0;clip: rect(1px 1px 1px 1px);clip: rect(1px, 1px, 1px, 1px);height: 1px;margin: -1px;overflow: hidden;padding: 0;position: absolute;width: 1px;}#sk-container-id-1 div.sk-estimator {font-family: monospace;background-color: #f0f8ff;border: 1px dotted black;border-radius: 0.25em;box-sizing: border-box;margin-bottom: 0.5em;}#sk-container-id-1 div.sk-estimator:hover {background-color: #d4ebff;}#sk-container-id-1 div.sk-parallel-item::after {content: \"\";width: 100%;border-bottom: 1px solid gray;flex-grow: 1;}#sk-container-id-1 div.sk-label:hover label.sk-toggleable__label {background-color: #d4ebff;}#sk-container-id-1 div.sk-serial::before {content: \"\";position: absolute;border-left: 1px solid gray;box-sizing: border-box;top: 0;bottom: 0;left: 50%;z-index: 0;}#sk-container-id-1 div.sk-serial {display: flex;flex-direction: column;align-items: center;background-color: white;padding-right: 0.2em;padding-left: 0.2em;position: relative;}#sk-container-id-1 div.sk-item {position: relative;z-index: 1;}#sk-container-id-1 div.sk-parallel {display: flex;align-items: stretch;justify-content: center;background-color: white;position: relative;}#sk-container-id-1 div.sk-item::before, #sk-container-id-1 div.sk-parallel-item::before {content: \"\";position: absolute;border-left: 1px solid gray;box-sizing: border-box;top: 0;bottom: 0;left: 50%;z-index: -1;}#sk-container-id-1 div.sk-parallel-item {display: flex;flex-direction: column;z-index: 1;position: relative;background-color: white;}#sk-container-id-1 div.sk-parallel-item:first-child::after {align-self: flex-end;width: 50%;}#sk-container-id-1 div.sk-parallel-item:last-child::after {align-self: flex-start;width: 50%;}#sk-container-id-1 div.sk-parallel-item:only-child::after {width: 0;}#sk-container-id-1 div.sk-dashed-wrapped {border: 1px dashed gray;margin: 0 0.4em 0.5em 0.4em;box-sizing: border-box;padding-bottom: 0.4em;background-color: white;}#sk-container-id-1 div.sk-label label {font-family: monospace;font-weight: bold;display: inline-block;line-height: 1.2em;}#sk-container-id-1 div.sk-label-container {text-align: center;}#sk-container-id-1 div.sk-container {/* jupyter's `normalize.less` sets `[hidden] { display: none; }` but bootstrap.min.css set `[hidden] { display: none !important; }` so we also need the `!important` here to be able to override the default hidden behavior on the sphinx rendered scikit-learn.org. See: https://github.com/scikit-learn/scikit-learn/issues/21755 */display: inline-block !important;position: relative;}#sk-container-id-1 div.sk-text-repr-fallback {display: none;}</style><div id=\"sk-container-id-1\" class=\"sk-top-container\"><div class=\"sk-text-repr-fallback\"><pre>GridSearchCV(cv=10,\n",
       "             estimator=Pipeline(steps=[(&#x27;anova&#x27;, SelectKBest()),\n",
       "                                       (&#x27;svc&#x27;, SVC(kernel=&#x27;linear&#x27;))]),\n",
       "             n_jobs=4,\n",
       "             param_grid={&#x27;anova__k&#x27;: [50, 51, 52, 53, 54, 55, 56, 57, 58, 59,\n",
       "                                      60],\n",
       "                         &#x27;svc__C&#x27;: [0.05, 0.06, 0.07, 0.08, 0.09, 0.1, 0.11,\n",
       "                                    0.12, 0.13, 0.14, 0.15]})</pre><b>In a Jupyter environment, please rerun this cell to show the HTML representation or trust the notebook. <br />On GitHub, the HTML representation is unable to render, please try loading this page with nbviewer.org.</b></div><div class=\"sk-container\" hidden><div class=\"sk-item sk-dashed-wrapped\"><div class=\"sk-label-container\"><div class=\"sk-label sk-toggleable\"><input class=\"sk-toggleable__control sk-hidden--visually\" id=\"sk-estimator-id-1\" type=\"checkbox\" ><label for=\"sk-estimator-id-1\" class=\"sk-toggleable__label sk-toggleable__label-arrow\">GridSearchCV</label><div class=\"sk-toggleable__content\"><pre>GridSearchCV(cv=10,\n",
       "             estimator=Pipeline(steps=[(&#x27;anova&#x27;, SelectKBest()),\n",
       "                                       (&#x27;svc&#x27;, SVC(kernel=&#x27;linear&#x27;))]),\n",
       "             n_jobs=4,\n",
       "             param_grid={&#x27;anova__k&#x27;: [50, 51, 52, 53, 54, 55, 56, 57, 58, 59,\n",
       "                                      60],\n",
       "                         &#x27;svc__C&#x27;: [0.05, 0.06, 0.07, 0.08, 0.09, 0.1, 0.11,\n",
       "                                    0.12, 0.13, 0.14, 0.15]})</pre></div></div></div><div class=\"sk-parallel\"><div class=\"sk-parallel-item\"><div class=\"sk-item\"><div class=\"sk-label-container\"><div class=\"sk-label sk-toggleable\"><input class=\"sk-toggleable__control sk-hidden--visually\" id=\"sk-estimator-id-2\" type=\"checkbox\" ><label for=\"sk-estimator-id-2\" class=\"sk-toggleable__label sk-toggleable__label-arrow\">estimator: Pipeline</label><div class=\"sk-toggleable__content\"><pre>Pipeline(steps=[(&#x27;anova&#x27;, SelectKBest()), (&#x27;svc&#x27;, SVC(kernel=&#x27;linear&#x27;))])</pre></div></div></div><div class=\"sk-serial\"><div class=\"sk-item\"><div class=\"sk-serial\"><div class=\"sk-item\"><div class=\"sk-estimator sk-toggleable\"><input class=\"sk-toggleable__control sk-hidden--visually\" id=\"sk-estimator-id-3\" type=\"checkbox\" ><label for=\"sk-estimator-id-3\" class=\"sk-toggleable__label sk-toggleable__label-arrow\">SelectKBest</label><div class=\"sk-toggleable__content\"><pre>SelectKBest()</pre></div></div></div><div class=\"sk-item\"><div class=\"sk-estimator sk-toggleable\"><input class=\"sk-toggleable__control sk-hidden--visually\" id=\"sk-estimator-id-4\" type=\"checkbox\" ><label for=\"sk-estimator-id-4\" class=\"sk-toggleable__label sk-toggleable__label-arrow\">SVC</label><div class=\"sk-toggleable__content\"><pre>SVC(kernel=&#x27;linear&#x27;)</pre></div></div></div></div></div></div></div></div></div></div></div></div>"
      ],
      "text/plain": [
       "GridSearchCV(cv=10,\n",
       "             estimator=Pipeline(steps=[('anova', SelectKBest()),\n",
       "                                       ('svc', SVC(kernel='linear'))]),\n",
       "             n_jobs=4,\n",
       "             param_grid={'anova__k': [50, 51, 52, 53, 54, 55, 56, 57, 58, 59,\n",
       "                                      60],\n",
       "                         'svc__C': [0.05, 0.06, 0.07, 0.08, 0.09, 0.1, 0.11,\n",
       "                                    0.12, 0.13, 0.14, 0.15]})"
      ]
     },
     "execution_count": 32,
     "metadata": {},
     "output_type": "execute_result"
    }
   ],
   "source": [
    "anova_filter = SelectKBest(f_classif)\n",
    "svm = SVC(kernel='linear')\n",
    "\n",
    "anova_svm = Pipeline([\n",
    "    ('anova', anova_filter),\n",
    "    ('svc', svm)\n",
    "])\n",
    "# Define a range of parameters for feature selection and SVM\n",
    "param_grid = {\n",
    "    'anova__k': [50, 51, 52, 53, 54, 55, 56, 57, 58, 59, 60],  # Trying different numbers of top features\n",
    "    'svc__C': [0.05, 0.06, 0.07, 0.08, 0.09, 0.1, 0.11, 0.12, 0.13, 0.14, 0.15],  # SVM regularization parameter\n",
    "}\n",
    "\n",
    "# Setup GridSearchCV\n",
    "grid_search = GridSearchCV(anova_svm, param_grid=param_grid, cv=10, n_jobs=4)\n",
    "grid_search.fit(X_train1, y_train1)\n"
   ]
  },
  {
   "cell_type": "code",
   "execution_count": null,
   "id": "19704ef9",
   "metadata": {},
   "outputs": [],
   "source": [
    "range(49)"
   ]
  },
  {
   "cell_type": "code",
   "execution_count": null,
   "id": "15cc6244",
   "metadata": {
    "scrolled": true
   },
   "outputs": [],
   "source": [
    "bestK = []\n",
    "bestC = []\n",
    "for i in range(49):\n",
    "    print(i)\n",
    "    # Setup GridSearchCV\n",
    "    grid_search = GridSearchCV(anova_svm, param_grid=param_grid, cv=10, n_jobs=4)\n",
    "    grid_search.fit(X_train1, y_train1)\n",
    "    bestK.append(grid_search.best_params_['anova__k'])\n",
    "    bestC.append(grid_search.best_params_['svc__C'])"
   ]
  },
  {
   "cell_type": "markdown",
   "id": "5cd62aa0",
   "metadata": {},
   "source": [
    "## Initial\n",
    "* anova_initial = [10,20,30,40,50,60]\n",
    "* svc_C_initial = [0.1, 1, 10, 100]\n",
    "* Then narrowed to anova 50, 51, 52, 53, 54, 55, 56, 57, 58, 59, 60\n",
    "* svc c 0.05, 0.06, 0.07, 0.08, 0.09, 0.1, 0.11, 0.12, 0.13, 0.14, 0.15\n",
    "## First try\n",
    "* Best parameters: {'anova__k': 51, 'svc__C': 0.15}\n",
    "* Best cross-validation score: 0.5530157342657344## Second try\n",
    "## 48 iterations \n",
    "* Best parameters: {'anova__k': 50, 'svc__C': 0.05}\n",
    "* Best cross-validation score: 0.7112026131762974"
   ]
  },
  {
   "cell_type": "code",
   "execution_count": 33,
   "id": "57764cde",
   "metadata": {},
   "outputs": [
    {
     "name": "stdout",
     "output_type": "stream",
     "text": [
      "Best parameters: {'anova__k': 50, 'svc__C': 0.05}\n",
      "Best cross-validation score: 0.7112026131762974\n"
     ]
    }
   ],
   "source": [
    "print(\"Best parameters:\", grid_search.best_params_)\n",
    "print(\"Best cross-validation score:\", grid_search.best_score_)"
   ]
  },
  {
   "cell_type": "code",
   "execution_count": null,
   "id": "8d0caecd",
   "metadata": {},
   "outputs": [],
   "source": [
    "# Assuming anova_svm is your original pipeline\n",
    "best_pipeline = Pipeline([\n",
    "    ('anova', SelectKBest(f_classif)),  # You don't need to specify k here; it will be set by best_params_\n",
    "    ('svc', SVC(kernel='linear'))      # No need to specify C here for the same reason\n",
    "])\n",
    "\n",
    "# Set the best parameters found for the entire pipeline\n",
    "best_pipeline.set_params(**grid_search.best_params_)\n",
    "\n",
    "# Now, retrain on the entire training set with the best parameters\n",
    "best_pipeline.fit(X_train1, y_train1)"
   ]
  },
  {
   "cell_type": "code",
   "execution_count": null,
   "id": "89dcea12",
   "metadata": {},
   "outputs": [],
   "source": [
    "from sklearn.metrics import accuracy_score\n",
    "\n",
    "# Predict on the test set\n",
    "y_pred = best_pipeline.predict(X_train2)\n",
    "\n",
    "# Evaluate the model\n",
    "test_accuracy = accuracy_score(y_train2, y_pred)\n",
    "print(\"Test set accuracy:\", test_accuracy)"
   ]
  },
  {
   "cell_type": "code",
   "execution_count": null,
   "id": "6d7cc4b3",
   "metadata": {},
   "outputs": [],
   "source": [
    "from sklearn.metrics import confusion_matrix"
   ]
  },
  {
   "cell_type": "code",
   "execution_count": null,
   "id": "373816e3",
   "metadata": {},
   "outputs": [],
   "source": [
    "cm = confusion_matrix(y_train2, y_pred, normalize = 'true')\n",
    "print(cm)"
   ]
  },
  {
   "cell_type": "code",
   "execution_count": null,
   "id": "24a621de",
   "metadata": {},
   "outputs": [],
   "source": [
    "plt.figure(figsize=(10,7))\n",
    "sns.heatmap(cm, annot=True,  cmap=\"Blues\")\n",
    "plt.title('Confusion Matrix')\n",
    "plt.xlabel('Predicted Labels')\n",
    "plt.ylabel('True Labels')\n",
    "plt.show()"
   ]
  },
  {
   "cell_type": "code",
   "execution_count": null,
   "id": "862a9cfb",
   "metadata": {},
   "outputs": [],
   "source": [
    "# Access the best set of parameters found by GridSearchCV\n",
    "best_parameters = grid_search.best_params_\n",
    "print(\"Best parameters found by GridSearchCV:\", best_parameters)\n",
    "\n",
    "# Access the best estimator directly\n",
    "best_model = grid_search.best_estimator_\n",
    "print(\"Best model:\", best_model)\n"
   ]
  },
  {
   "cell_type": "code",
   "execution_count": null,
   "id": "acc01caa",
   "metadata": {},
   "outputs": [],
   "source": [
    "# Access the feature selection step ('anova' in your case)\n",
    "feature_selection_step = best_model.named_steps['anova']\n"
   ]
  },
  {
   "cell_type": "code",
   "execution_count": null,
   "id": "76f07c20",
   "metadata": {},
   "outputs": [],
   "source": [
    "# Get the mask of selected features (boolean array)\n",
    "selected_features_mask = feature_selection_step.get_support()\n",
    "\n"
   ]
  },
  {
   "cell_type": "code",
   "execution_count": null,
   "id": "3515b805",
   "metadata": {},
   "outputs": [],
   "source": [
    "selected_features_mask.shape"
   ]
  },
  {
   "cell_type": "code",
   "execution_count": null,
   "id": "61b69fb8",
   "metadata": {},
   "outputs": [],
   "source": [
    "selected_columns = X_train.columns[selected_features_mask]\n"
   ]
  },
  {
   "cell_type": "code",
   "execution_count": null,
   "id": "a7601e7e",
   "metadata": {},
   "outputs": [],
   "source": [
    "selected_columns"
   ]
  },
  {
   "cell_type": "markdown",
   "id": "9e43c791",
   "metadata": {},
   "source": [
    "# Regression"
   ]
  },
  {
   "cell_type": "code",
   "execution_count": null,
   "id": "f0121e53",
   "metadata": {},
   "outputs": [],
   "source": [
    "from sklearn.linear_model import LogisticRegression\n"
   ]
  },
  {
   "cell_type": "code",
   "execution_count": null,
   "id": "ce875cc6",
   "metadata": {},
   "outputs": [],
   "source": [
    "X_regression = X_test[selected_columns]"
   ]
  },
  {
   "cell_type": "code",
   "execution_count": null,
   "id": "22ebeed3",
   "metadata": {},
   "outputs": [],
   "source": [
    "X_regression"
   ]
  },
  {
   "cell_type": "code",
   "execution_count": null,
   "id": "1e6e8493",
   "metadata": {},
   "outputs": [],
   "source": [
    "X_regression.shape"
   ]
  },
  {
   "cell_type": "code",
   "execution_count": null,
   "id": "33c1bcff",
   "metadata": {},
   "outputs": [],
   "source": [
    "X_trainReg, X_testReg, y_trainReg, y_testReg = train_test_split(X_regression, y_test, random_state=42)\n"
   ]
  },
  {
   "cell_type": "code",
   "execution_count": null,
   "id": "55a37291",
   "metadata": {},
   "outputs": [],
   "source": [
    "X_testReg.shape"
   ]
  },
  {
   "cell_type": "code",
   "execution_count": null,
   "id": "b7de6d9f",
   "metadata": {},
   "outputs": [],
   "source": [
    "# Initialize the Logistic Regression model\n",
    "model = LogisticRegression(max_iter=1000)"
   ]
  },
  {
   "cell_type": "code",
   "execution_count": null,
   "id": "4803d2e4",
   "metadata": {},
   "outputs": [],
   "source": [
    "# Fit the model on the training data\n",
    "model.fit(X_trainReg, y_trainReg)"
   ]
  },
  {
   "cell_type": "code",
   "execution_count": null,
   "id": "fd50c2c2",
   "metadata": {},
   "outputs": [],
   "source": [
    "# Predict on the test set\n",
    "y_predReg = model.predict(X_testReg)\n",
    "\n",
    "# Calculate the accuracy\n",
    "accuracyReg = accuracy_score(y_testReg, y_predReg)\n",
    "print(f\"Accuracy: {accuracyReg}\")\n"
   ]
  },
  {
   "cell_type": "code",
   "execution_count": null,
   "id": "120c08f2",
   "metadata": {},
   "outputs": [],
   "source": [
    "# Coefficients\n",
    "coefficients = model.coef_\n",
    "# Intercepts\n",
    "intercepts = model.intercept_"
   ]
  },
  {
   "cell_type": "code",
   "execution_count": null,
   "id": "b4ccbbab",
   "metadata": {},
   "outputs": [],
   "source": [
    "coeff_df = pd.DataFrame(coefficients, columns=selected_columns)\n"
   ]
  },
  {
   "cell_type": "code",
   "execution_count": null,
   "id": "c0877553",
   "metadata": {},
   "outputs": [],
   "source": [
    "coeff_df['Intercept'] = intercepts"
   ]
  },
  {
   "cell_type": "code",
   "execution_count": null,
   "id": "336b4c40",
   "metadata": {},
   "outputs": [],
   "source": [
    "class_names = ['low']  # Adjust as per your classes\n",
    "coeff_df.index = class_names\n",
    "\n",
    "print(coeff_df)\n"
   ]
  },
  {
   "cell_type": "code",
   "execution_count": null,
   "id": "29a033dd",
   "metadata": {},
   "outputs": [],
   "source": [
    "plt.figure(figsize=(10, 6))\n",
    "sns.heatmap(coeff_df.iloc[:, :-1], annot=False, cmap='coolwarm')  # Exclude intercepts for visualization\n",
    "plt.title('Coefficients of Multinomial Logistic Regression')\n",
    "plt.ylabel('Class')\n",
    "plt.xlabel('Feature')\n",
    "plt.show()"
   ]
  },
  {
   "cell_type": "code",
   "execution_count": null,
   "id": "32e6bc5f",
   "metadata": {},
   "outputs": [],
   "source": [
    "# Assuming X_trainReg and y_trainReg are your training data and labels\n",
    "# Add constant to the features for the intercept\n",
    "X_test_reg_sm = sm.add_constant(X_testReg)\n"
   ]
  },
  {
   "cell_type": "code",
   "execution_count": null,
   "id": "53d084e9",
   "metadata": {},
   "outputs": [],
   "source": [
    "X_test_reg_sm.shape"
   ]
  },
  {
   "cell_type": "code",
   "execution_count": null,
   "id": "db2ce042",
   "metadata": {},
   "outputs": [],
   "source": [
    "y_testReg"
   ]
  },
  {
   "cell_type": "code",
   "execution_count": null,
   "id": "c085d6fd",
   "metadata": {},
   "outputs": [],
   "source": [
    "y_testReg = y_testReg.replace({2:1})"
   ]
  },
  {
   "cell_type": "code",
   "execution_count": 34,
   "id": "324ffb25",
   "metadata": {},
   "outputs": [
    {
     "ename": "NameError",
     "evalue": "name 'X_test_reg_sm' is not defined",
     "output_type": "error",
     "traceback": [
      "\u001b[0;31m---------------------------------------------------------------------------\u001b[0m",
      "\u001b[0;31mNameError\u001b[0m                                 Traceback (most recent call last)",
      "Cell \u001b[0;32mIn [34], line 1\u001b[0m\n\u001b[0;32m----> 1\u001b[0m X_test_reg_sm\n",
      "\u001b[0;31mNameError\u001b[0m: name 'X_test_reg_sm' is not defined"
     ]
    }
   ],
   "source": [
    "X_test_reg_sm"
   ]
  },
  {
   "cell_type": "code",
   "execution_count": null,
   "id": "bc1d1f20",
   "metadata": {},
   "outputs": [],
   "source": [
    "# Fit the multinomial logistic regression model\n",
    "logit_model = sm.Logit(y_testReg, X_test_reg_sm)\n",
    "result = logit_model.fit()\n",
    "#model_sm = sm.MNLogit(y_testReg, X_test_reg_sm)\n",
    "#result_sm = model_sm.fit(method='newton', maxiter=5000)\n"
   ]
  },
  {
   "cell_type": "code",
   "execution_count": null,
   "id": "94f28e7d",
   "metadata": {
    "scrolled": false
   },
   "outputs": [],
   "source": [
    "# Summary of the model\n",
    "# print(result_sm.summary())\n",
    "print(result.summary())"
   ]
  },
  {
   "cell_type": "markdown",
   "id": "c122b9d0",
   "metadata": {},
   "source": [
    "rsfmri_cor_ngd_cerc_scs_vtdcrh\n"
   ]
  },
  {
   "cell_type": "code",
   "execution_count": null,
   "id": "b60703c6",
   "metadata": {},
   "outputs": [],
   "source": [
    "from statsmodels.stats.outliers_influence import variance_inflation_factor\n",
    "X_test_reg_sm = X_test_reg_sm.drop('const', axis=1, errors='ignore')\n",
    "# Assuming X_test_reg_sm is a DataFrame containing your independent variables\n",
    "# Calculate VIF for each column\n",
    "vif_data = pd.DataFrame()\n",
    "vif_data[\"feature\"] = X_test_reg_sm.columns\n",
    "vif_data[\"VIF\"] = [variance_inflation_factor(X_test_reg_sm.values, i)\n",
    "                   for i in range(X_test_reg_sm.shape[1])]"
   ]
  },
  {
   "cell_type": "markdown",
   "id": "faa2e8d5",
   "metadata": {},
   "source": [
    "## High colinearity \n",
    "\n",
    "rsfmri_cor_ngd_smh_scs_aarh  12.032336 sensorimotor hand network and ASEG ROI right-accumbens-area\n",
    "rsfmri_cor_ngd_smm_scs_hplh  10.607078 sensorimotor mouth network and ASEG ROI left-hippocampus\n",
    "rsfmri_cor_ngd_smh_scs_cderh  12.081220 sensorimotor hand network and ASEG ROI right-caudate\n",
    "rsfmri_cor_ngd_smh_scs_pllh  14.114441 sensorimotor hand network and ASEG ROI left-pallidum\n",
    "rsfmri_cor_ngd_cerc_scs_hprh  13.998296 cingulo-opercular network and ASEG ROI right-hippocampus\n",
    "rsfmri_cor_ngd_cerc_scs_aglh  12.118315 cingulo-opercular network and ASEG ROI left-amygdala\n",
    "rsfmri_cor_ngd_copa_scs_thplh  10.300751 cingulo-parietal network and ASEG ROI left-thalamus-proper"
   ]
  },
  {
   "cell_type": "code",
   "execution_count": null,
   "id": "4fe0eef1",
   "metadata": {},
   "outputs": [],
   "source": [
    "X_test_reg_sm"
   ]
  },
  {
   "cell_type": "code",
   "execution_count": null,
   "id": "24c970a9",
   "metadata": {},
   "outputs": [],
   "source": [
    "## Test dropping rsfmri_cor_ngd_smh_scs_pllh (higheest colinearity)\n",
    "X_test_reg_sm_nopllh = X_test_reg_sm.drop(columns=['rsfmri_cor_ngd_smh_scs_pllh'])\n",
    "\n",
    "# Fit the multinomial logistic regression model\n",
    "logit_model = sm.Logit(y_testReg, X_test_reg_sm_nopllh)\n",
    "result = logit_model.fit()\n",
    "\n",
    "X_test_reg_sm_nopllh = X_test_reg_sm_nopllh.drop('const', axis=1, errors='ignore')\n",
    "# Assuming X_test_reg_sm is a DataFrame containing your independent variables\n",
    "# Calculate VIF for each column\n",
    "vif_data = pd.DataFrame()\n",
    "vif_data[\"feature\"] = X_test_reg_sm_nopllh.columns\n",
    "vif_data[\"VIF\"] = [variance_inflation_factor(X_test_reg_sm_nopllh.values, i)\n",
    "                   for i in range(X_test_reg_sm_nopllh.shape[1])]\n",
    "print(vif_data)"
   ]
  },
  {
   "cell_type": "markdown",
   "id": "f5496300",
   "metadata": {},
   "source": [
    "16    rsfmri_cor_ngd_cerc_scs_hprh  13.388243 cingulo-opercular network and ASEG ROI right-hippocampus\n",
    "19   rsfmri_cor_ngd_copa_scs_thplh  10.231952 cingulo-parietal network and ASEG ROI left-thalamus-proper\n",
    "38     rsfmri_cor_ngd_smh_scs_aarh  11.725803 sensorimotor hand network and ASEG ROI right-accumbens-area\n",
    "39     rsfmri_cor_ngd_smm_scs_hplh  10.601118 sensorimotor mouth network and ASEG ROI left-hippocampus\t"
   ]
  },
  {
   "cell_type": "code",
   "execution_count": null,
   "id": "c6f667c2",
   "metadata": {},
   "outputs": [],
   "source": [
    "## Test dropping rsfmri_cor_ngd_smh_scs_pllh (higheest colinearity)\n",
    "## and rsfmri_cor_ngd_cerc_scs_hprh \n",
    "X_test_reg_sm_nopllh = X_test_reg_sm.drop(columns=['rsfmri_cor_ngd_smh_scs_pllh','rsfmri_cor_ngd_cerc_scs_hprh'])\n",
    "\n",
    "# Fit the multinomial logistic regression model\n",
    "logit_model = sm.Logit(y_testReg, X_test_reg_sm_nopllh)\n",
    "result = logit_model.fit()\n",
    "\n",
    "X_test_reg_sm_nopllh = X_test_reg_sm_nopllh.drop('const', axis=1, errors='ignore')\n",
    "# Assuming X_test_reg_sm is a DataFrame containing your independent variables\n",
    "# Calculate VIF for each column\n",
    "vif_data = pd.DataFrame()\n",
    "vif_data[\"feature\"] = X_test_reg_sm_nopllh.columns\n",
    "vif_data[\"VIF\"] = [variance_inflation_factor(X_test_reg_sm_nopllh.values, i)\n",
    "                   for i in range(X_test_reg_sm_nopllh.shape[1])]\n",
    "print(vif_data)"
   ]
  },
  {
   "cell_type": "markdown",
   "id": "a1dc9e97",
   "metadata": {},
   "source": [
    "37     rsfmri_cor_ngd_smh_scs_aarh  11.666665 sensorimotor hand network and ASEG ROI right-accumbens-area\n",
    "38     rsfmri_cor_ngd_smm_scs_hplh  10.577840 sensorimotor mouth network and ASEG ROI left-hippocampus\t\n"
   ]
  },
  {
   "cell_type": "code",
   "execution_count": null,
   "id": "a6c42809",
   "metadata": {
    "scrolled": true
   },
   "outputs": [],
   "source": [
    "## Test dropping rsfmri_cor_ngd_smh_scs_pllh (higheest colinearity)\n",
    "## and rsfmri_cor_ngd_cerc_scs_hprh \n",
    "## and rsfmri_cor_ngd_smh_scs_aarh\n",
    "X_test_reg_sm_nopllh = X_test_reg_sm.drop(columns=['rsfmri_cor_ngd_smh_scs_pllh','rsfmri_cor_ngd_cerc_scs_hprh','rsfmri_cor_ngd_smh_scs_aarh'])\n",
    "\n",
    "# Fit the multinomial logistic regression model\n",
    "logit_model = sm.Logit(y_testReg, X_test_reg_sm_nopllh)\n",
    "result = logit_model.fit()\n",
    "\n",
    "X_test_reg_sm_nopllh = X_test_reg_sm_nopllh.drop('const', axis=1, errors='ignore')\n",
    "# Assuming X_test_reg_sm is a DataFrame containing your independent variables\n",
    "# Calculate VIF for each column\n",
    "vif_data = pd.DataFrame()\n",
    "vif_data[\"feature\"] = X_test_reg_sm_nopllh.columns\n",
    "vif_data[\"VIF\"] = [variance_inflation_factor(X_test_reg_sm_nopllh.values, i)\n",
    "                   for i in range(X_test_reg_sm_nopllh.shape[1])]\n",
    "print(vif_data)"
   ]
  },
  {
   "cell_type": "code",
   "execution_count": null,
   "id": "c104b8d2",
   "metadata": {},
   "outputs": [],
   "source": [
    "# Summary of the model with low colinearity \n",
    "# print(result_sm.summary())\n",
    "print(result.summary())"
   ]
  },
  {
   "cell_type": "code",
   "execution_count": null,
   "id": "53f21540",
   "metadata": {},
   "outputs": [],
   "source": [
    "odds_ratios = result.params.apply(lambda x: np.exp(x))\n",
    "print(\"Odds Ratios:\\n\", odds_ratios)"
   ]
  },
  {
   "cell_type": "code",
   "execution_count": null,
   "id": "54f50703",
   "metadata": {},
   "outputs": [],
   "source": [
    "# Making predictions\n",
    "predictions = result.predict(X_test_reg_sm_nopllh)\n",
    "\n",
    "# Converting probabilities to class labels\n",
    "class_predictions = np.where(predictions > 0.5, 1, 0)"
   ]
  },
  {
   "cell_type": "code",
   "execution_count": null,
   "id": "25f65773",
   "metadata": {},
   "outputs": [],
   "source": [
    "predictions"
   ]
  },
  {
   "cell_type": "code",
   "execution_count": null,
   "id": "4404af22",
   "metadata": {},
   "outputs": [],
   "source": [
    "class_predictions"
   ]
  },
  {
   "cell_type": "code",
   "execution_count": null,
   "id": "84557121",
   "metadata": {},
   "outputs": [],
   "source": [
    "array = y_testReg.to_numpy()"
   ]
  },
  {
   "cell_type": "code",
   "execution_count": null,
   "id": "7063d30b",
   "metadata": {},
   "outputs": [],
   "source": [
    "dfPrevReal = pd.DataFrame({'real': array, 'pred': class_predictions})"
   ]
  },
  {
   "cell_type": "code",
   "execution_count": null,
   "id": "f1229495",
   "metadata": {},
   "outputs": [],
   "source": [
    "dfPrevReal"
   ]
  },
  {
   "cell_type": "code",
   "execution_count": null,
   "id": "1e74ce77",
   "metadata": {},
   "outputs": [],
   "source": [
    "from sklearn.metrics import jaccard_score\n",
    "\n",
    "jaccard = jaccard_score(dfPrevReal['real'], dfPrevReal['pred'])\n",
    "print(\"Jaccard Similarity Score:\", jaccard)\n"
   ]
  },
  {
   "cell_type": "code",
   "execution_count": null,
   "id": "6f0a57ee",
   "metadata": {},
   "outputs": [],
   "source": [
    "# Extract p-values for all coefficients in the model\n",
    "p_values = result.pvalues"
   ]
  },
  {
   "cell_type": "code",
   "execution_count": null,
   "id": "382fcc47",
   "metadata": {},
   "outputs": [],
   "source": [
    "result.pvalues"
   ]
  },
  {
   "cell_type": "code",
   "execution_count": null,
   "id": "f2b2a81c",
   "metadata": {},
   "outputs": [],
   "source": [
    "from statsmodels.stats.multitest import multipletests\n",
    "\n",
    "# Apply Benjamini-Hochberg FDR correction\n",
    "reject, pvals_corrected, _, _ = multipletests(p_values.values.flatten(), alpha=0.05, method='fdr_bh')\n",
    "\n",
    "# Reshape the corrected p-values to match the original shape\n",
    "pvals_corrected_reshaped = pvals_corrected.reshape(p_values.shape)\n",
    "\n",
    "# Create a DataFrame of the corrected p-values for easier interpretation\n",
    "# corrected_pvalues_df = pd.DataFrame(pvals_corrected_reshaped, index=p_values.index, columns=p_values.columns)"
   ]
  },
  {
   "cell_type": "code",
   "execution_count": null,
   "id": "3dd4946e",
   "metadata": {},
   "outputs": [],
   "source": [
    "pvals_corrected_reshaped"
   ]
  },
  {
   "cell_type": "markdown",
   "id": "d42fd661",
   "metadata": {},
   "source": [
    "# Notes\n",
    "Have too many features per sample/group. Will need to do dimensionaity reduction to get ~ 50 features per 500 subjects"
   ]
  },
  {
   "cell_type": "markdown",
   "id": "c23d9916",
   "metadata": {},
   "source": [
    "## Reminder\n",
    "matrix = sub,row,col"
   ]
  }
 ],
 "metadata": {
  "kernelspec": {
   "display_name": "Python 3 (ipykernel)",
   "language": "python",
   "name": "python3"
  },
  "language_info": {
   "codemirror_mode": {
    "name": "ipython",
    "version": 3
   },
   "file_extension": ".py",
   "mimetype": "text/x-python",
   "name": "python",
   "nbconvert_exporter": "python",
   "pygments_lexer": "ipython3",
   "version": "3.8.8"
  }
 },
 "nbformat": 4,
 "nbformat_minor": 5
}
