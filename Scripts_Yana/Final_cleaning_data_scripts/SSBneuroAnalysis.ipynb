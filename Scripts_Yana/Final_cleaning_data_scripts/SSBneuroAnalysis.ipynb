{
 "cells": [
  {
   "cell_type": "code",
   "execution_count": 1,
   "id": "4afd7d8d",
   "metadata": {},
   "outputs": [],
   "source": [
    "import  scipy.signal.signaltools\n",
    "\n",
    "def _centered(arr, newsize):\n",
    "    # Return the center newsize portion of the array.\n",
    "    newsize = np.asarray(newsize)\n",
    "    currsize = np.array(arr.shape)\n",
    "    startind = (currsize - newsize) // 2\n",
    "    endind = startind + newsize\n",
    "    myslice = [slice(startind[k], endind[k]) for k in range(len(endind))]\n",
    "    return arr[tuple(myslice)]\n",
    "\n",
    "scipy.signal.signaltools._centered = _centered\n"
   ]
  },
  {
   "cell_type": "code",
   "execution_count": 2,
   "id": "62fb0ced",
   "metadata": {},
   "outputs": [
    {
     "name": "stderr",
     "output_type": "stream",
     "text": [
      "/Users/gracer/opt/anaconda3/lib/python3.8/site-packages/statsmodels/tsa/base/tsa_model.py:7: FutureWarning: pandas.Int64Index is deprecated and will be removed from pandas in a future version. Use pandas.Index with the appropriate dtype instead.\n",
      "  from pandas import (to_datetime, Int64Index, DatetimeIndex, Period,\n",
      "/Users/gracer/opt/anaconda3/lib/python3.8/site-packages/statsmodels/tsa/base/tsa_model.py:7: FutureWarning: pandas.Float64Index is deprecated and will be removed from pandas in a future version. Use pandas.Index with the appropriate dtype instead.\n",
      "  from pandas import (to_datetime, Int64Index, DatetimeIndex, Period,\n"
     ]
    }
   ],
   "source": [
    "import statsmodels.api as sm"
   ]
  },
  {
   "cell_type": "code",
   "execution_count": 3,
   "id": "a9fa766a",
   "metadata": {},
   "outputs": [
    {
     "name": "stderr",
     "output_type": "stream",
     "text": [
      "/Users/gracer/opt/anaconda3/lib/python3.8/site-packages/nilearn/input_data/__init__.py:23: FutureWarning: The import path 'nilearn.input_data' is deprecated in version 0.9. Importing from 'nilearn.input_data' will be possible at least until release 0.13.0. Please import from 'nilearn.maskers' instead.\n",
      "  warnings.warn(message, FutureWarning)\n"
     ]
    }
   ],
   "source": [
    "import pandas as pd\n",
    "import nilearn\n",
    "import numpy as np\n",
    "import glob \n",
    "import os\n",
    "import pickle\n",
    "\n",
    "from sklearn.model_selection import train_test_split\n",
    "from sklearn import svm\n",
    "from sklearn.metrics import pairwise_distances\n",
    "from sklearn.utils import check_random_state\n",
    "from sklearn.manifold import TSNE\n",
    "\n",
    "from sklearn.feature_selection import SelectKBest, f_classif\n",
    "from sklearn.pipeline import make_pipeline\n",
    "from sklearn.pipeline import Pipeline\n",
    "\n",
    "from sklearn.svm import LinearSVC\n",
    "\n",
    "from sklearn.model_selection import GridSearchCV\n",
    "from sklearn.svm import SVC\n",
    "\n",
    "\n",
    "from sklearn.model_selection import cross_val_score\n",
    "from pathlib import Path\n",
    "\n",
    "from scipy.stats import rankdata, ttest_rel, ttest_1samp\n",
    "\n",
    "from matplotlib import pyplot as plt\n",
    "import matplotlib.lines as mlines\n",
    "import matplotlib.transforms as mtransforms\n",
    "\n",
    "import seaborn as sns\n",
    "\n",
    "import nibabel as nib\n",
    "from nilearn.input_data import NiftiLabelsMasker\n",
    "from nilearn.plotting import plot_glass_brain, plot_stat_map, view_img, view_img_on_surf\n",
    "\n",
    "from nltools.data import Brain_Data, Adjacency\n",
    "from nltools.mask import roi_to_brain, expand_mask\n",
    "from nltools.stats import fdr, threshold\n",
    "\n",
    "\n",
    "\n",
    "%matplotlib inline\n"
   ]
  },
  {
   "cell_type": "code",
   "execution_count": 4,
   "id": "b57f201a",
   "metadata": {},
   "outputs": [],
   "source": [
    "basepath = '/Users/gracer/Library/CloudStorage/OneDrive-UniversityofWyoming/0. Lab/M2AENAD Lab - Documents/RESEARCH/ABCD/Yana_SSIB_2024/'"
   ]
  },
  {
   "cell_type": "code",
   "execution_count": 5,
   "id": "21f653f0",
   "metadata": {},
   "outputs": [],
   "source": [
    "df = pd.read_csv(os.path.join(basepath,'data','matched111724.csv'))  "
   ]
  },
  {
   "cell_type": "code",
   "execution_count": 6,
   "id": "034c20ed",
   "metadata": {},
   "outputs": [],
   "source": [
    "# Get number of subjects\n",
    "n = df.shape[0]"
   ]
  },
  {
   "cell_type": "code",
   "execution_count": 9,
   "id": "d915407a",
   "metadata": {},
   "outputs": [
    {
     "data": {
      "text/plain": [
       "['collection_id',\n",
       " 'dataset_id',\n",
       " 'subjectkey',\n",
       " 'src_subject_id',\n",
       " 'interview_date',\n",
       " 'demo_comb_income_v2',\n",
       " 'race',\n",
       " 'sex',\n",
       " 'bkfs_soda',\n",
       " 'interview_age',\n",
       " 'anthroheightcalc',\n",
       " 'rsfmri_c_ngd_ad_ngd_ad',\n",
       " 'rsfmri_c_ngd_ad_ngd_cgc',\n",
       " 'rsfmri_c_ngd_ad_ngd_ca',\n",
       " 'rsfmri_c_ngd_ad_ngd_dt',\n",
       " 'rsfmri_c_ngd_ad_ngd_dla',\n",
       " 'rsfmri_c_ngd_ad_ngd_fo',\n",
       " 'rsfmri_c_ngd_ad_ngd_n',\n",
       " 'rsfmri_c_ngd_ad_ngd_rspltp',\n",
       " 'rsfmri_c_ngd_ad_ngd_smh',\n",
       " 'rsfmri_c_ngd_ad_ngd_smm',\n",
       " 'rsfmri_c_ngd_ad_ngd_sa',\n",
       " 'rsfmri_c_ngd_ad_ngd_vta',\n",
       " 'rsfmri_c_ngd_ad_ngd_vs',\n",
       " 'rsfmri_c_ngd_cgc_ngd_ad',\n",
       " 'rsfmri_c_ngd_cgc_ngd_cgc',\n",
       " 'rsfmri_c_ngd_cgc_ngd_ca',\n",
       " 'rsfmri_c_ngd_cgc_ngd_dt',\n",
       " 'rsfmri_c_ngd_cgc_ngd_dla',\n",
       " 'rsfmri_c_ngd_cgc_ngd_fo',\n",
       " 'rsfmri_c_ngd_cgc_ngd_n',\n",
       " 'rsfmri_c_ngd_cgc_ngd_rspltp',\n",
       " 'rsfmri_c_ngd_cgc_ngd_smh',\n",
       " 'rsfmri_c_ngd_cgc_ngd_smm',\n",
       " 'rsfmri_c_ngd_cgc_ngd_sa',\n",
       " 'rsfmri_c_ngd_cgc_ngd_vta',\n",
       " 'rsfmri_c_ngd_cgc_ngd_vs',\n",
       " 'rsfmri_c_ngd_ca_ngd_ad',\n",
       " 'rsfmri_c_ngd_ca_ngd_cgc',\n",
       " 'rsfmri_c_ngd_ca_ngd_ca',\n",
       " 'rsfmri_c_ngd_ca_ngd_dt',\n",
       " 'rsfmri_c_ngd_ca_ngd_dla',\n",
       " 'rsfmri_c_ngd_ca_ngd_fo',\n",
       " 'rsfmri_c_ngd_ca_ngd_n',\n",
       " 'rsfmri_c_ngd_ca_ngd_rspltp',\n",
       " 'rsfmri_c_ngd_ca_ngd_smh',\n",
       " 'rsfmri_c_ngd_ca_ngd_smm',\n",
       " 'rsfmri_c_ngd_ca_ngd_sa',\n",
       " 'rsfmri_c_ngd_ca_ngd_vta',\n",
       " 'rsfmri_c_ngd_ca_ngd_vs',\n",
       " 'rsfmri_c_ngd_dt_ngd_ad',\n",
       " 'rsfmri_c_ngd_dt_ngd_cgc',\n",
       " 'rsfmri_c_ngd_dt_ngd_ca',\n",
       " 'rsfmri_c_ngd_dt_ngd_dt',\n",
       " 'rsfmri_c_ngd_dt_ngd_dla',\n",
       " 'rsfmri_c_ngd_dt_ngd_fo',\n",
       " 'rsfmri_c_ngd_dt_ngd_n',\n",
       " 'rsfmri_c_ngd_dt_ngd_rspltp',\n",
       " 'rsfmri_c_ngd_dt_ngd_smh',\n",
       " 'rsfmri_c_ngd_dt_ngd_smm',\n",
       " 'rsfmri_c_ngd_dt_ngd_sa',\n",
       " 'rsfmri_c_ngd_dt_ngd_vta',\n",
       " 'rsfmri_c_ngd_dt_ngd_vs',\n",
       " 'rsfmri_c_ngd_dla_ngd_ad',\n",
       " 'rsfmri_c_ngd_dla_ngd_cgc',\n",
       " 'rsfmri_c_ngd_dla_ngd_ca',\n",
       " 'rsfmri_c_ngd_dla_ngd_dt',\n",
       " 'rsfmri_c_ngd_dla_ngd_dla',\n",
       " 'rsfmri_c_ngd_dla_ngd_fo',\n",
       " 'rsfmri_c_ngd_dla_ngd_n',\n",
       " 'rsfmri_c_ngd_dla_ngd_rspltp',\n",
       " 'rsfmri_c_ngd_dla_ngd_smh',\n",
       " 'rsfmri_c_ngd_dla_ngd_smm',\n",
       " 'rsfmri_c_ngd_dla_ngd_sa',\n",
       " 'rsfmri_c_ngd_dla_ngd_vta',\n",
       " 'rsfmri_c_ngd_dla_ngd_vs',\n",
       " 'rsfmri_c_ngd_fo_ngd_ad',\n",
       " 'rsfmri_c_ngd_fo_ngd_cgc',\n",
       " 'rsfmri_c_ngd_fo_ngd_ca',\n",
       " 'rsfmri_c_ngd_fo_ngd_dt',\n",
       " 'rsfmri_c_ngd_fo_ngd_dla',\n",
       " 'rsfmri_c_ngd_fo_ngd_fo',\n",
       " 'rsfmri_c_ngd_fo_ngd_n',\n",
       " 'rsfmri_c_ngd_fo_ngd_rspltp',\n",
       " 'rsfmri_c_ngd_fo_ngd_smh',\n",
       " 'rsfmri_c_ngd_fo_ngd_smm',\n",
       " 'rsfmri_c_ngd_fo_ngd_sa',\n",
       " 'rsfmri_c_ngd_fo_ngd_vta',\n",
       " 'rsfmri_c_ngd_fo_ngd_vs',\n",
       " 'rsfmri_c_ngd_n_ngd_ad',\n",
       " 'rsfmri_c_ngd_n_ngd_cgc',\n",
       " 'rsfmri_c_ngd_n_ngd_ca',\n",
       " 'rsfmri_c_ngd_n_ngd_dt',\n",
       " 'rsfmri_c_ngd_n_ngd_dla',\n",
       " 'rsfmri_c_ngd_n_ngd_fo',\n",
       " 'rsfmri_c_ngd_n_ngd_n',\n",
       " 'rsfmri_c_ngd_n_ngd_rspltp',\n",
       " 'rsfmri_c_ngd_n_ngd_smh',\n",
       " 'rsfmri_c_ngd_n_ngd_smm',\n",
       " 'rsfmri_c_ngd_n_ngd_sa',\n",
       " 'rsfmri_c_ngd_n_ngd_vta',\n",
       " 'rsfmri_c_ngd_n_ngd_vs',\n",
       " 'rsfmri_c_ngd_rspltp_ngd_ad',\n",
       " 'rsfmri_c_ngd_rspltp_ngd_cgc',\n",
       " 'rsfmri_c_ngd_rspltp_ngd_ca',\n",
       " 'rsfmri_c_ngd_rspltp_ngd_dt',\n",
       " 'rsfmri_c_ngd_rspltp_ngd_dla',\n",
       " 'rsfmri_c_ngd_rspltp_ngd_fo',\n",
       " 'rsfmri_c_ngd_rspltp_ngd_n',\n",
       " 'rsfmri_c_ngd_rspltp_ngd_rspltp',\n",
       " 'rsfmri_c_ngd_rspltp_ngd_smh',\n",
       " 'rsfmri_c_ngd_rspltp_ngd_smm',\n",
       " 'rsfmri_c_ngd_rspltp_ngd_sa',\n",
       " 'rsfmri_c_ngd_rspltp_ngd_vta',\n",
       " 'rsfmri_c_ngd_rspltp_ngd_vs',\n",
       " 'rsfmri_c_ngd_smh_ngd_ad',\n",
       " 'rsfmri_c_ngd_smh_ngd_cgc',\n",
       " 'rsfmri_c_ngd_smh_ngd_ca',\n",
       " 'rsfmri_c_ngd_smh_ngd_dt',\n",
       " 'rsfmri_c_ngd_smh_ngd_dla',\n",
       " 'rsfmri_c_ngd_smh_ngd_fo',\n",
       " 'rsfmri_c_ngd_smh_ngd_n',\n",
       " 'rsfmri_c_ngd_smh_ngd_rspltp',\n",
       " 'rsfmri_c_ngd_smh_ngd_smh',\n",
       " 'rsfmri_c_ngd_smh_ngd_smm',\n",
       " 'rsfmri_c_ngd_smh_ngd_sa',\n",
       " 'rsfmri_c_ngd_smh_ngd_vta',\n",
       " 'rsfmri_c_ngd_smh_ngd_vs',\n",
       " 'rsfmri_c_ngd_smm_ngd_ad',\n",
       " 'rsfmri_c_ngd_smm_ngd_cgc',\n",
       " 'rsfmri_c_ngd_smm_ngd_ca',\n",
       " 'rsfmri_c_ngd_smm_ngd_dt',\n",
       " 'rsfmri_c_ngd_smm_ngd_dla',\n",
       " 'rsfmri_c_ngd_smm_ngd_fo',\n",
       " 'rsfmri_c_ngd_smm_ngd_n',\n",
       " 'rsfmri_c_ngd_smm_ngd_rspltp',\n",
       " 'rsfmri_c_ngd_smm_ngd_smh',\n",
       " 'rsfmri_c_ngd_smm_ngd_smm',\n",
       " 'rsfmri_c_ngd_smm_ngd_sa',\n",
       " 'rsfmri_c_ngd_smm_ngd_vta',\n",
       " 'rsfmri_c_ngd_smm_ngd_vs',\n",
       " 'rsfmri_c_ngd_sa_ngd_ad',\n",
       " 'rsfmri_c_ngd_sa_ngd_cgc',\n",
       " 'rsfmri_c_ngd_sa_ngd_ca',\n",
       " 'rsfmri_c_ngd_sa_ngd_dt',\n",
       " 'rsfmri_c_ngd_sa_ngd_dla',\n",
       " 'rsfmri_c_ngd_sa_ngd_fo',\n",
       " 'rsfmri_c_ngd_sa_ngd_n',\n",
       " 'rsfmri_c_ngd_sa_ngd_rspltp',\n",
       " 'rsfmri_c_ngd_sa_ngd_smh',\n",
       " 'rsfmri_c_ngd_sa_ngd_smm',\n",
       " 'rsfmri_c_ngd_sa_ngd_sa',\n",
       " 'rsfmri_c_ngd_sa_ngd_vta',\n",
       " 'rsfmri_c_ngd_sa_ngd_vs',\n",
       " 'rsfmri_c_ngd_vta_ngd_ad',\n",
       " 'rsfmri_c_ngd_vta_ngd_cgc',\n",
       " 'rsfmri_c_ngd_vta_ngd_ca',\n",
       " 'rsfmri_c_ngd_vta_ngd_dt',\n",
       " 'rsfmri_c_ngd_vta_ngd_dla',\n",
       " 'rsfmri_c_ngd_vta_ngd_fo',\n",
       " 'rsfmri_c_ngd_vta_ngd_n',\n",
       " 'rsfmri_c_ngd_vta_ngd_rspltp',\n",
       " 'rsfmri_c_ngd_vta_ngd_smh',\n",
       " 'rsfmri_c_ngd_vta_ngd_smm',\n",
       " 'rsfmri_c_ngd_vta_ngd_sa',\n",
       " 'rsfmri_c_ngd_vta_ngd_vta',\n",
       " 'rsfmri_c_ngd_vta_ngd_vs',\n",
       " 'rsfmri_c_ngd_vs_ngd_ad',\n",
       " 'rsfmri_c_ngd_vs_ngd_cgc',\n",
       " 'rsfmri_c_ngd_vs_ngd_ca',\n",
       " 'rsfmri_c_ngd_vs_ngd_dt',\n",
       " 'rsfmri_c_ngd_vs_ngd_dla',\n",
       " 'rsfmri_c_ngd_vs_ngd_fo',\n",
       " 'rsfmri_c_ngd_vs_ngd_n',\n",
       " 'rsfmri_c_ngd_vs_ngd_rspltp',\n",
       " 'rsfmri_c_ngd_vs_ngd_smh',\n",
       " 'rsfmri_c_ngd_vs_ngd_smm',\n",
       " 'rsfmri_c_ngd_vs_ngd_sa',\n",
       " 'rsfmri_c_ngd_vs_ngd_vta',\n",
       " 'rsfmri_c_ngd_vs_ngd_vs',\n",
       " 'rsfmri_cor_ngd_au_scs_crcxlh',\n",
       " 'rsfmri_cor_ngd_au_scs_thplh',\n",
       " 'rsfmri_cor_ngd_au_scs_cdelh',\n",
       " 'rsfmri_cor_ngd_au_scs_ptlh',\n",
       " 'rsfmri_cor_ngd_au_scs_pllh',\n",
       " 'rsfmri_cor_ngd_au_scs_bs',\n",
       " 'rsfmri_cor_ngd_au_scs_hplh',\n",
       " 'rsfmri_cor_ngd_au_scs_aglh',\n",
       " 'rsfmri_cor_ngd_au_scs_aalh',\n",
       " 'rsfmri_cor_ngd_au_scs_vtdclh',\n",
       " 'rsfmri_cor_ngd_au_scs_crcxrh',\n",
       " 'rsfmri_cor_ngd_au_scs_thprh',\n",
       " 'rsfmri_cor_ngd_au_scs_cderh',\n",
       " 'rsfmri_cor_ngd_au_scs_ptrh',\n",
       " 'rsfmri_cor_ngd_au_scs_plrh',\n",
       " 'rsfmri_cor_ngd_au_scs_hprh',\n",
       " 'rsfmri_cor_ngd_au_scs_agrh',\n",
       " 'rsfmri_cor_ngd_au_scs_aarh',\n",
       " 'rsfmri_cor_ngd_au_scs_vtdcrh',\n",
       " 'rsfmri_cor_ngd_cerc_scs_crcxlh',\n",
       " 'rsfmri_cor_ngd_cerc_scs_thplh',\n",
       " 'rsfmri_cor_ngd_cerc_scs_cdelh',\n",
       " 'rsfmri_cor_ngd_cerc_scs_ptlh',\n",
       " 'rsfmri_cor_ngd_cerc_scs_pllh',\n",
       " 'rsfmri_cor_ngd_cerc_scs_bs',\n",
       " 'rsfmri_cor_ngd_cerc_scs_hplh',\n",
       " 'rsfmri_cor_ngd_cerc_scs_aglh',\n",
       " 'rsfmri_cor_ngd_cerc_scs_aalh',\n",
       " 'rsfmri_cor_ngd_cerc_scs_vtdclh',\n",
       " 'rsfmri_cor_ngd_cerc_scs_crcxrh',\n",
       " 'rsfmri_cor_ngd_cerc_scs_thprh',\n",
       " 'rsfmri_cor_ngd_cerc_scs_cderh',\n",
       " 'rsfmri_cor_ngd_cerc_scs_ptrh',\n",
       " 'rsfmri_cor_ngd_cerc_scs_plrh',\n",
       " 'rsfmri_cor_ngd_cerc_scs_hprh',\n",
       " 'rsfmri_cor_ngd_cerc_scs_agrh',\n",
       " 'rsfmri_cor_ngd_cerc_scs_aarh',\n",
       " 'rsfmri_cor_ngd_cerc_scs_vtdcrh',\n",
       " 'rsfmri_cor_ngd_copa_scs_crcxlh',\n",
       " 'rsfmri_cor_ngd_copa_scs_thplh',\n",
       " 'rsfmri_cor_ngd_copa_scs_cdelh',\n",
       " 'rsfmri_cor_ngd_copa_scs_ptlh',\n",
       " 'rsfmri_cor_ngd_copa_scs_pllh',\n",
       " 'rsfmri_cor_ngd_copa_scs_bs',\n",
       " 'rsfmri_cor_ngd_copa_scs_hplh',\n",
       " 'rsfmri_cor_ngd_copa_scs_aglh',\n",
       " 'rsfmri_cor_ngd_copa_scs_aalh',\n",
       " 'rsfmri_cor_ngd_copa_scs_vtdclh',\n",
       " 'rsfmri_cor_ngd_copa_scs_crcxrh',\n",
       " 'rsfmri_cor_ngd_copa_scs_thprh',\n",
       " 'rsfmri_cor_ngd_copa_scs_cderh',\n",
       " 'rsfmri_cor_ngd_copa_scs_ptrh',\n",
       " 'rsfmri_cor_ngd_copa_scs_plrh',\n",
       " 'rsfmri_cor_ngd_copa_scs_hprh',\n",
       " 'rsfmri_cor_ngd_copa_scs_agrh',\n",
       " 'rsfmri_cor_ngd_copa_scs_aarh',\n",
       " 'rsfmri_cor_ngd_copa_scs_vtdcrh',\n",
       " 'rsfmri_cor_ngd_df_scs_crcxlh',\n",
       " 'rsfmri_cor_ngd_df_scs_thplh',\n",
       " 'rsfmri_cor_ngd_df_scs_cdelh',\n",
       " 'rsfmri_cor_ngd_df_scs_ptlh',\n",
       " 'rsfmri_cor_ngd_df_scs_pllh',\n",
       " 'rsfmri_cor_ngd_df_scs_bs',\n",
       " 'rsfmri_cor_ngd_df_scs_hplh',\n",
       " 'rsfmri_cor_ngd_df_scs_aglh',\n",
       " 'rsfmri_cor_ngd_df_scs_aalh',\n",
       " 'rsfmri_cor_ngd_df_scs_vtdclh',\n",
       " 'rsfmri_cor_ngd_df_scs_crcxrh',\n",
       " 'rsfmri_cor_ngd_df_scs_thprh',\n",
       " 'rsfmri_cor_ngd_df_scs_cderh',\n",
       " 'rsfmri_cor_ngd_df_scs_ptrh',\n",
       " 'rsfmri_cor_ngd_df_scs_plrh',\n",
       " 'rsfmri_cor_ngd_df_scs_hprh',\n",
       " 'rsfmri_cor_ngd_df_scs_agrh',\n",
       " 'rsfmri_cor_ngd_df_scs_aarh',\n",
       " 'rsfmri_cor_ngd_df_scs_vtdcrh',\n",
       " 'rsfmri_cor_ngd_dsa_scs_crcxlh',\n",
       " 'rsfmri_cor_ngd_dsa_scs_thplh',\n",
       " 'rsfmri_cor_ngd_dsa_scs_cdelh',\n",
       " 'rsfmri_cor_ngd_dsa_scs_ptlh',\n",
       " 'rsfmri_cor_ngd_dsa_scs_pllh',\n",
       " 'rsfmri_cor_ngd_dsa_scs_bs',\n",
       " 'rsfmri_cor_ngd_dsa_scs_hplh',\n",
       " 'rsfmri_cor_ngd_dsa_scs_aglh',\n",
       " 'rsfmri_cor_ngd_dsa_scs_aalh',\n",
       " 'rsfmri_cor_ngd_dsa_scs_vtdclh',\n",
       " 'rsfmri_cor_ngd_dsa_scs_crcxrh',\n",
       " 'rsfmri_cor_ngd_dsa_scs_thprh',\n",
       " 'rsfmri_cor_ngd_dsa_scs_cderh',\n",
       " 'rsfmri_cor_ngd_dsa_scs_ptrh',\n",
       " 'rsfmri_cor_ngd_dsa_scs_plrh',\n",
       " 'rsfmri_cor_ngd_dsa_scs_hprh',\n",
       " 'rsfmri_cor_ngd_dsa_scs_agrh',\n",
       " 'rsfmri_cor_ngd_dsa_scs_aarh',\n",
       " 'rsfmri_cor_ngd_dsa_scs_vtdcrh',\n",
       " 'rsfmri_cor_ngd_fopa_scs_crcxlh',\n",
       " 'rsfmri_cor_ngd_fopa_scs_thplh',\n",
       " 'rsfmri_cor_ngd_fopa_scs_cdelh',\n",
       " 'rsfmri_cor_ngd_fopa_scs_ptlh',\n",
       " 'rsfmri_cor_ngd_fopa_scs_pllh',\n",
       " 'rsfmri_cor_ngd_fopa_scs_bs',\n",
       " 'rsfmri_cor_ngd_fopa_scs_hplh',\n",
       " 'rsfmri_cor_ngd_fopa_scs_aglh',\n",
       " 'rsfmri_cor_ngd_fopa_scs_aalh',\n",
       " 'rsfmri_cor_ngd_fopa_scs_vtdclh',\n",
       " 'rsfmri_cor_ngd_fopa_scs_crcxrh',\n",
       " 'rsfmri_cor_ngd_fopa_scs_thprh',\n",
       " 'rsfmri_cor_ngd_fopa_scs_cderh',\n",
       " 'rsfmri_cor_ngd_fopa_scs_ptrh',\n",
       " 'rsfmri_cor_ngd_fopa_scs_plrh',\n",
       " 'rsfmri_cor_ngd_fopa_scs_hprh',\n",
       " 'rsfmri_cor_ngd_fopa_scs_agrh',\n",
       " 'rsfmri_cor_ngd_fopa_scs_aarh',\n",
       " 'rsfmri_cor_ngd_fopa_scs_vtdcrh',\n",
       " 'rsfmri_cor_ngd_none_scs_crcxlh',\n",
       " 'rsfmri_cor_ngd_none_scs_thplh',\n",
       " 'rsfmri_cor_ngd_none_scs_cdelh',\n",
       " 'rsfmri_cor_ngd_none_scs_ptlh',\n",
       " 'rsfmri_cor_ngd_none_scs_pllh',\n",
       " 'rsfmri_cor_ngd_none_scs_bs',\n",
       " 'rsfmri_cor_ngd_none_scs_hplh',\n",
       " 'rsfmri_cor_ngd_none_scs_aglh',\n",
       " 'rsfmri_cor_ngd_none_scs_aalh',\n",
       " 'rsfmri_cor_ngd_none_scs_vtdclh',\n",
       " 'rsfmri_cor_ngd_none_scs_crcxrh',\n",
       " 'rsfmri_cor_ngd_none_scs_thprh',\n",
       " 'rsfmri_cor_ngd_none_scs_cderh',\n",
       " 'rsfmri_cor_ngd_none_scs_ptrh',\n",
       " 'rsfmri_cor_ngd_none_scs_plrh',\n",
       " 'rsfmri_cor_ngd_none_scs_hprh',\n",
       " 'rsfmri_cor_ngd_none_scs_agrh',\n",
       " 'rsfmri_cor_ngd_none_scs_aarh',\n",
       " 'rsfmri_cor_ngd_none_scs_vtdcrh',\n",
       " 'rsfmri_cor_ngd_rst_scs_crcxlh',\n",
       " 'rsfmri_cor_ngd_rst_scs_thplh',\n",
       " 'rsfmri_cor_ngd_rst_scs_cdelh',\n",
       " 'rsfmri_cor_ngd_rst_scs_ptlh',\n",
       " 'rsfmri_cor_ngd_rst_scs_pllh',\n",
       " 'rsfmri_cor_ngd_rst_scs_bs',\n",
       " 'rsfmri_cor_ngd_rst_scs_hplh',\n",
       " 'rsfmri_cor_ngd_rst_scs_aglh',\n",
       " 'rsfmri_cor_ngd_rst_scs_aalh',\n",
       " 'rsfmri_cor_ngd_rst_scs_vtdclh',\n",
       " 'rsfmri_cor_ngd_rst_scs_crcxrh',\n",
       " 'rsfmri_cor_ngd_rst_scs_thprh',\n",
       " 'rsfmri_cor_ngd_rst_scs_cderh',\n",
       " 'rsfmri_cor_ngd_rst_scs_ptrh',\n",
       " 'rsfmri_cor_ngd_rst_scs_plrh',\n",
       " 'rsfmri_cor_ngd_rst_scs_hprh',\n",
       " 'rsfmri_cor_ngd_rst_scs_agrh',\n",
       " 'rsfmri_cor_ngd_rst_scs_aarh',\n",
       " 'rsfmri_cor_ngd_rst_scs_vtdcrh',\n",
       " 'rsfmri_cor_ngd_smh_scs_crcxlh',\n",
       " 'rsfmri_cor_ngd_smh_scs_thplh',\n",
       " 'rsfmri_cor_ngd_smh_scs_cdelh',\n",
       " 'rsfmri_cor_ngd_smh_scs_ptlh',\n",
       " 'rsfmri_cor_ngd_smh_scs_pllh',\n",
       " 'rsfmri_cor_ngd_smh_scs_bs',\n",
       " 'rsfmri_cor_ngd_smh_scs_hplh',\n",
       " 'rsfmri_cor_ngd_smh_scs_aglh',\n",
       " 'rsfmri_cor_ngd_smh_scs_aalh',\n",
       " 'rsfmri_cor_ngd_smh_scs_vtdclh',\n",
       " 'rsfmri_cor_ngd_smh_scs_crcxrh',\n",
       " 'rsfmri_cor_ngd_smh_scs_thprh',\n",
       " 'rsfmri_cor_ngd_smh_scs_cderh',\n",
       " 'rsfmri_cor_ngd_smh_scs_ptrh',\n",
       " 'rsfmri_cor_ngd_smh_scs_plrh',\n",
       " 'rsfmri_cor_ngd_smh_scs_hprh',\n",
       " 'rsfmri_cor_ngd_smh_scs_agrh',\n",
       " 'rsfmri_cor_ngd_smh_scs_aarh',\n",
       " 'rsfmri_cor_ngd_smh_scs_vtdcrh',\n",
       " 'rsfmri_cor_ngd_smm_scs_crcxlh',\n",
       " 'rsfmri_cor_ngd_smm_scs_thplh',\n",
       " 'rsfmri_cor_ngd_smm_scs_cdelh',\n",
       " 'rsfmri_cor_ngd_smm_scs_ptlh',\n",
       " 'rsfmri_cor_ngd_smm_scs_pllh',\n",
       " 'rsfmri_cor_ngd_smm_scs_bs',\n",
       " 'rsfmri_cor_ngd_smm_scs_hplh',\n",
       " 'rsfmri_cor_ngd_smm_scs_aglh',\n",
       " 'rsfmri_cor_ngd_smm_scs_aalh',\n",
       " 'rsfmri_cor_ngd_smm_scs_vtdclh',\n",
       " 'rsfmri_cor_ngd_smm_scs_crcxrh',\n",
       " 'rsfmri_cor_ngd_smm_scs_thprh',\n",
       " 'rsfmri_cor_ngd_smm_scs_cderh',\n",
       " 'rsfmri_cor_ngd_smm_scs_ptrh',\n",
       " 'rsfmri_cor_ngd_smm_scs_plrh',\n",
       " 'rsfmri_cor_ngd_smm_scs_hprh',\n",
       " 'rsfmri_cor_ngd_smm_scs_agrh',\n",
       " 'rsfmri_cor_ngd_smm_scs_aarh',\n",
       " 'rsfmri_cor_ngd_smm_scs_vtdcrh',\n",
       " 'rsfmri_cor_ngd_sa_scs_crcxlh',\n",
       " 'rsfmri_cor_ngd_sa_scs_thplh',\n",
       " 'rsfmri_cor_ngd_sa_scs_cdelh',\n",
       " 'rsfmri_cor_ngd_sa_scs_ptlh',\n",
       " 'rsfmri_cor_ngd_sa_scs_pllh',\n",
       " 'rsfmri_cor_ngd_sa_scs_bs',\n",
       " 'rsfmri_cor_ngd_sa_scs_hplh',\n",
       " 'rsfmri_cor_ngd_sa_scs_aglh',\n",
       " 'rsfmri_cor_ngd_sa_scs_aalh',\n",
       " 'rsfmri_cor_ngd_sa_scs_vtdclh',\n",
       " 'rsfmri_cor_ngd_sa_scs_crcxrh',\n",
       " 'rsfmri_cor_ngd_sa_scs_thprh',\n",
       " 'rsfmri_cor_ngd_sa_scs_cderh',\n",
       " 'rsfmri_cor_ngd_sa_scs_ptrh',\n",
       " 'rsfmri_cor_ngd_sa_scs_plrh',\n",
       " 'rsfmri_cor_ngd_sa_scs_hprh',\n",
       " 'rsfmri_cor_ngd_sa_scs_agrh',\n",
       " 'rsfmri_cor_ngd_sa_scs_aarh',\n",
       " 'rsfmri_cor_ngd_sa_scs_vtdcrh',\n",
       " 'rsfmri_cor_ngd_vta_scs_crcxlh',\n",
       " 'rsfmri_cor_ngd_vta_scs_thplh',\n",
       " 'rsfmri_cor_ngd_vta_scs_cdelh',\n",
       " 'rsfmri_cor_ngd_vta_scs_ptlh',\n",
       " 'rsfmri_cor_ngd_vta_scs_pllh',\n",
       " 'rsfmri_cor_ngd_vta_scs_bs',\n",
       " 'rsfmri_cor_ngd_vta_scs_hplh',\n",
       " 'rsfmri_cor_ngd_vta_scs_aglh',\n",
       " 'rsfmri_cor_ngd_vta_scs_aalh',\n",
       " 'rsfmri_cor_ngd_vta_scs_vtdclh',\n",
       " 'rsfmri_cor_ngd_vta_scs_crcxrh',\n",
       " 'rsfmri_cor_ngd_vta_scs_thprh',\n",
       " 'rsfmri_cor_ngd_vta_scs_cderh',\n",
       " 'rsfmri_cor_ngd_vta_scs_ptrh',\n",
       " 'rsfmri_cor_ngd_vta_scs_plrh',\n",
       " 'rsfmri_cor_ngd_vta_scs_hprh',\n",
       " 'rsfmri_cor_ngd_vta_scs_agrh',\n",
       " 'rsfmri_cor_ngd_vta_scs_aarh',\n",
       " 'rsfmri_cor_ngd_vta_scs_vtdcrh',\n",
       " 'rsfmri_cor_ngd_vs_scs_crcxlh',\n",
       " 'rsfmri_cor_ngd_vs_scs_thplh',\n",
       " 'rsfmri_cor_ngd_vs_scs_cdelh',\n",
       " 'rsfmri_cor_ngd_vs_scs_ptlh',\n",
       " 'rsfmri_cor_ngd_vs_scs_pllh',\n",
       " 'rsfmri_cor_ngd_vs_scs_bs',\n",
       " 'rsfmri_cor_ngd_vs_scs_hplh',\n",
       " 'rsfmri_cor_ngd_vs_scs_aglh',\n",
       " 'rsfmri_cor_ngd_vs_scs_aalh',\n",
       " 'rsfmri_cor_ngd_vs_scs_vtdclh',\n",
       " 'rsfmri_cor_ngd_vs_scs_crcxrh',\n",
       " 'rsfmri_cor_ngd_vs_scs_thprh',\n",
       " 'rsfmri_cor_ngd_vs_scs_cderh',\n",
       " 'rsfmri_cor_ngd_vs_scs_ptrh',\n",
       " 'rsfmri_cor_ngd_vs_scs_plrh',\n",
       " 'rsfmri_cor_ngd_vs_scs_hprh',\n",
       " 'rsfmri_cor_ngd_vs_scs_agrh',\n",
       " 'rsfmri_cor_ngd_vs_scs_aarh',\n",
       " 'rsfmri_cor_ngd_vs_scs_vtdcrh',\n",
       " 'ssb_group',\n",
       " 'anthroweightcalc',\n",
       " 'BMI',\n",
       " 'age_years',\n",
       " 'bmi_perc',\n",
       " 'distance',\n",
       " 'weights',\n",
       " 'subclass']"
      ]
     },
     "execution_count": 9,
     "metadata": {},
     "output_type": "execute_result"
    }
   ],
   "source": [
    "list(df.columns)"
   ]
  },
  {
   "cell_type": "code",
   "execution_count": 16,
   "id": "433690f6",
   "metadata": {},
   "outputs": [],
   "source": [
    "nonBrain = [list(df.columns)[5], list(df.columns)[7] , list(df.columns)[9],list(df.columns)[-4]]"
   ]
  },
  {
   "cell_type": "code",
   "execution_count": 17,
   "id": "a3c2832d",
   "metadata": {},
   "outputs": [
    {
     "data": {
      "text/plain": [
       "['demo_comb_income_v2', 'sex', 'interview_age', 'bmi_perc']"
      ]
     },
     "execution_count": 17,
     "metadata": {},
     "output_type": "execute_result"
    }
   ],
   "source": [
    "nonBrain "
   ]
  },
  {
   "cell_type": "code",
   "execution_count": 14,
   "id": "82ea9a8e",
   "metadata": {
    "scrolled": false
   },
   "outputs": [],
   "source": [
    "ROIs = list(df.columns)[11:-8]"
   ]
  },
  {
   "cell_type": "code",
   "execution_count": 8,
   "id": "37614d61",
   "metadata": {},
   "outputs": [],
   "source": [
    "nonBrain = [list(df.columns)[1],list(df.columns)[3],list(df.columns)[-5]]"
   ]
  },
  {
   "cell_type": "code",
   "execution_count": 9,
   "id": "4ee71337",
   "metadata": {},
   "outputs": [],
   "source": [
    "ROIS = nonBrain+ROIs"
   ]
  },
  {
   "cell_type": "code",
   "execution_count": 10,
   "id": "52d76e08",
   "metadata": {},
   "outputs": [],
   "source": [
    "df['sex'] = df['sex'].replace({'M':0,'F':1})"
   ]
  },
  {
   "cell_type": "code",
   "execution_count": 11,
   "id": "7ed6988b",
   "metadata": {},
   "outputs": [],
   "source": [
    "df['ssb_group'] = df['ssb_group'].replace({'low':0,'medium':1,'high':2})"
   ]
  },
  {
   "cell_type": "code",
   "execution_count": 12,
   "id": "b6ee9d03",
   "metadata": {},
   "outputs": [],
   "source": [
    "subset_df = df[df['ssb_group'] != 1]"
   ]
  },
  {
   "cell_type": "code",
   "execution_count": 13,
   "id": "bb51e282",
   "metadata": {},
   "outputs": [],
   "source": [
    "X = subset_df[ROIS] #features"
   ]
  },
  {
   "cell_type": "code",
   "execution_count": 17,
   "id": "89b62315",
   "metadata": {},
   "outputs": [
    {
     "data": {
      "text/plain": [
       "(3708, 420)"
      ]
     },
     "execution_count": 17,
     "metadata": {},
     "output_type": "execute_result"
    }
   ],
   "source": [
    "X.shape"
   ]
  },
  {
   "cell_type": "code",
   "execution_count": 14,
   "id": "150ab41b",
   "metadata": {},
   "outputs": [],
   "source": [
    "# Transpose the DataFrame to make columns become rows\n",
    "X_T = X.T\n",
    "\n",
    "duplicates = X_T.duplicated(keep='first')\n"
   ]
  },
  {
   "cell_type": "code",
   "execution_count": 15,
   "id": "32b23f7d",
   "metadata": {},
   "outputs": [],
   "source": [
    "# Identifying columns to drop (all duplicates except the first occurrence)\n",
    "cols_to_drop = X_T[duplicates].index\n"
   ]
  },
  {
   "cell_type": "code",
   "execution_count": 16,
   "id": "ca9b2e89",
   "metadata": {
    "scrolled": true
   },
   "outputs": [
    {
     "name": "stdout",
     "output_type": "stream",
     "text": [
      "      sex  interview_age  bmi_perc  rsfmri_c_ngd_ad_ngd_ad  \\\n",
      "0       0            121  0.883672                0.213868   \n",
      "1       0            125  0.898579                0.328113   \n",
      "2       0            124  0.894232                0.372677   \n",
      "3       1            116  0.645289                0.271710   \n",
      "4       0            114  0.896650                0.369960   \n",
      "...   ...            ...       ...                     ...   \n",
      "5557    1            114  0.667403                0.267806   \n",
      "5558    0            125  0.117997                0.264370   \n",
      "5559    1            125  0.967659                0.389125   \n",
      "5560    0            112  0.975305                0.423005   \n",
      "5561    0            108  0.079174                0.417296   \n",
      "\n",
      "      rsfmri_c_ngd_ad_ngd_cgc  rsfmri_c_ngd_ad_ngd_ca  rsfmri_c_ngd_ad_ngd_dt  \\\n",
      "0                    0.165938               -0.030807                0.052226   \n",
      "1                    0.152373               -0.127411               -0.033414   \n",
      "2                    0.183640               -0.025945               -0.043670   \n",
      "3                    0.136162               -0.071880               -0.040917   \n",
      "4                    0.192517                0.107008                0.004900   \n",
      "...                       ...                     ...                     ...   \n",
      "5557                 0.223559               -0.033785               -0.014161   \n",
      "5558                 0.180252               -0.117751               -0.084011   \n",
      "5559                 0.185672               -0.071543               -0.052378   \n",
      "5560                 0.122905               -0.114824               -0.079433   \n",
      "5561                 0.222191               -0.023937                0.051333   \n",
      "\n",
      "      rsfmri_c_ngd_ad_ngd_dla  rsfmri_c_ngd_ad_ngd_fo  rsfmri_c_ngd_ad_ngd_n  \\\n",
      "0                   -0.061720                0.039206               0.051652   \n",
      "1                   -0.083417               -0.045689              -0.001342   \n",
      "2                   -0.038043               -0.031804              -0.008028   \n",
      "3                    0.005814               -0.031913              -0.014773   \n",
      "4                   -0.083105                0.014276               0.019605   \n",
      "...                       ...                     ...                    ...   \n",
      "5557                -0.042092                0.031422               0.010342   \n",
      "5558                 0.030005                0.051858              -0.018696   \n",
      "5559                -0.070848                0.000084              -0.004978   \n",
      "5560                -0.086332               -0.108114              -0.023778   \n",
      "5561                -0.059719                0.040057               0.034143   \n",
      "\n",
      "      ...  rsfmri_cor_ngd_vs_scs_crcxrh  rsfmri_cor_ngd_vs_scs_thprh  \\\n",
      "0     ...                     -0.156284                     0.013828   \n",
      "1     ...                     -0.136799                    -0.052625   \n",
      "2     ...                     -0.109828                    -0.200611   \n",
      "3     ...                     -0.048034                    -0.114936   \n",
      "4     ...                     -0.041462                    -0.002200   \n",
      "...   ...                           ...                          ...   \n",
      "5557  ...                     -0.158122                    -0.087912   \n",
      "5558  ...                     -0.055711                    -0.090049   \n",
      "5559  ...                     -0.184626                    -0.038153   \n",
      "5560  ...                     -0.014405                     0.003562   \n",
      "5561  ...                     -0.105085                    -0.042409   \n",
      "\n",
      "      rsfmri_cor_ngd_vs_scs_cderh  rsfmri_cor_ngd_vs_scs_ptrh  \\\n",
      "0                        0.111133                    0.506031   \n",
      "1                        0.023398                    0.043878   \n",
      "2                        0.070830                    0.335921   \n",
      "3                        0.052225                    0.117304   \n",
      "4                        0.089957                    0.130097   \n",
      "...                           ...                         ...   \n",
      "5557                     0.054168                    0.020338   \n",
      "5558                     0.013392                   -0.002712   \n",
      "5559                    -0.023972                   -0.004517   \n",
      "5560                     0.074628                    0.098061   \n",
      "5561                     0.042885                    0.156965   \n",
      "\n",
      "      rsfmri_cor_ngd_vs_scs_plrh  rsfmri_cor_ngd_vs_scs_hprh  \\\n",
      "0                      -0.061479                   -0.026084   \n",
      "1                       0.026435                   -0.034839   \n",
      "2                       0.000322                    0.136032   \n",
      "3                      -0.069571                    0.014298   \n",
      "4                      -0.013421                    0.036857   \n",
      "...                          ...                         ...   \n",
      "5557                   -0.064549                    0.200837   \n",
      "5558                   -0.009556                    0.036888   \n",
      "5559                    0.071598                    0.101754   \n",
      "5560                   -0.152677                   -0.119866   \n",
      "5561                    0.040531                    0.109189   \n",
      "\n",
      "      rsfmri_cor_ngd_vs_scs_agrh  rsfmri_cor_ngd_vs_scs_aarh  \\\n",
      "0                      -0.135912                    0.225413   \n",
      "1                       0.025626                   -0.004684   \n",
      "2                       0.179860                    0.018676   \n",
      "3                       0.073779                   -0.015043   \n",
      "4                       0.367669                    0.128093   \n",
      "...                          ...                         ...   \n",
      "5557                    0.304654                    0.089463   \n",
      "5558                    0.049288                   -0.025919   \n",
      "5559                   -0.047765                    0.054225   \n",
      "5560                    0.047611                   -0.118046   \n",
      "5561                    0.037717                    0.004066   \n",
      "\n",
      "      rsfmri_cor_ngd_vs_scs_vtdcrh  demo_comb_income_v2  \n",
      "0                        -0.331260                    1  \n",
      "1                        -0.076500                   10  \n",
      "2                         0.240465                    8  \n",
      "3                         0.096678                    1  \n",
      "4                        -0.215542                    7  \n",
      "...                            ...                  ...  \n",
      "5557                     -0.091075                    8  \n",
      "5558                     -0.049309                    8  \n",
      "5559                     -0.032956                    8  \n",
      "5560                     -0.004226                   10  \n",
      "5561                     -0.014607                    5  \n",
      "\n",
      "[3708 rows x 342 columns]\n"
     ]
    }
   ],
   "source": [
    "# Drop the duplicate columns from the original DataFrame\n",
    "X_cleaned = X.drop(cols_to_drop, axis=1)\n",
    "\n",
    "print(X_cleaned)"
   ]
  },
  {
   "cell_type": "code",
   "execution_count": null,
   "id": "57bb569f",
   "metadata": {},
   "outputs": [],
   "source": [
    "X.shape"
   ]
  },
  {
   "cell_type": "code",
   "execution_count": 18,
   "id": "f5ea9c8b",
   "metadata": {},
   "outputs": [
    {
     "data": {
      "text/plain": [
       "(3708, 342)"
      ]
     },
     "execution_count": 18,
     "metadata": {},
     "output_type": "execute_result"
    }
   ],
   "source": [
    "X_cleaned.shape"
   ]
  },
  {
   "cell_type": "markdown",
   "id": "7dacb6e6",
   "metadata": {},
   "source": [
    "# Factor of interest\n",
    "This is sometimes called the target. Right now I am using sex, but eventually we will change this to SSB group"
   ]
  },
  {
   "cell_type": "code",
   "execution_count": null,
   "id": "f92385f7",
   "metadata": {},
   "outputs": [],
   "source": [
    "y = subset_df['ssb_group'] #target"
   ]
  },
  {
   "cell_type": "code",
   "execution_count": null,
   "id": "5e0308d4",
   "metadata": {},
   "outputs": [],
   "source": [
    "y.value_counts()"
   ]
  },
  {
   "cell_type": "markdown",
   "id": "a6dcd96a",
   "metadata": {},
   "source": [
    "# Train and test datasets\n",
    "Get randomly generated train and test datasets\n",
    "- Train 1 = train the model and feature elimination\n",
    "- Train 2 = cross validate the model\n",
    "- Test = test statistical differences"
   ]
  },
  {
   "cell_type": "code",
   "execution_count": null,
   "id": "f3ae8db5",
   "metadata": {},
   "outputs": [],
   "source": [
    "X_train, X_test, y_train, y_test = train_test_split(X_cleaned, y, random_state=42)\n"
   ]
  },
  {
   "cell_type": "code",
   "execution_count": null,
   "id": "06f427da",
   "metadata": {},
   "outputs": [],
   "source": [
    "X_train1, X_train2, y_train1, y_train2 = train_test_split(X_train, y_train, random_state=42)\n"
   ]
  },
  {
   "cell_type": "code",
   "execution_count": null,
   "id": "168a44be",
   "metadata": {},
   "outputs": [],
   "source": [
    "X_test.shape"
   ]
  },
  {
   "cell_type": "code",
   "execution_count": null,
   "id": "eec631ce",
   "metadata": {},
   "outputs": [],
   "source": [
    "y_test.value_counts()"
   ]
  },
  {
   "cell_type": "code",
   "execution_count": null,
   "id": "affa0520",
   "metadata": {},
   "outputs": [],
   "source": [
    "X_train.shape"
   ]
  },
  {
   "cell_type": "code",
   "execution_count": null,
   "id": "39785799",
   "metadata": {},
   "outputs": [],
   "source": [
    "X_train1.shape"
   ]
  },
  {
   "cell_type": "code",
   "execution_count": null,
   "id": "aef47b54",
   "metadata": {},
   "outputs": [],
   "source": [
    "y_train2.shape"
   ]
  },
  {
   "cell_type": "code",
   "execution_count": null,
   "id": "6cc8d517",
   "metadata": {},
   "outputs": [],
   "source": [
    "anova_filter = SelectKBest(f_classif)\n",
    "svm = SVC(kernel='linear')\n",
    "\n",
    "anova_svm = Pipeline([\n",
    "    ('anova', anova_filter),\n",
    "    ('svc', svm)\n",
    "])\n",
    "# Define a range of parameters for feature selection and SVM\n",
    "param_grid = {\n",
    "    'anova__k': [50, 51, 52, 53, 54, 55, 56, 57, 58, 59, 60],  # Trying different numbers of top features\n",
    "    'svc__C': [0.05, 0.06, 0.07, 0.08, 0.09, 0.1, 0.11, 0.12, 0.13, 0.14, 0.15],  # SVM regularization parameter\n",
    "}\n",
    "\n",
    "# Setup GridSearchCV\n",
    "grid_search = GridSearchCV(anova_svm, param_grid=param_grid, cv=10, n_jobs=4)\n",
    "grid_search.fit(X_train1, y_train1)\n"
   ]
  },
  {
   "cell_type": "code",
   "execution_count": null,
   "id": "19704ef9",
   "metadata": {},
   "outputs": [],
   "source": [
    "range(49)"
   ]
  },
  {
   "cell_type": "code",
   "execution_count": null,
   "id": "15cc6244",
   "metadata": {
    "scrolled": true
   },
   "outputs": [],
   "source": [
    "bestK = []\n",
    "bestC = []\n",
    "for i in range(49):\n",
    "    print(i)\n",
    "    # Setup GridSearchCV\n",
    "    grid_search = GridSearchCV(anova_svm, param_grid=param_grid, cv=10, n_jobs=4)\n",
    "    grid_search.fit(X_train1, y_train1)\n",
    "    bestK.append(grid_search.best_params_['anova__k'])\n",
    "    bestC.append(grid_search.best_params_['svc__C'])"
   ]
  },
  {
   "cell_type": "markdown",
   "id": "5cd62aa0",
   "metadata": {},
   "source": [
    "## Initial\n",
    "* anova_initial = [10,20,30,40,50,60]\n",
    "* svc_C_initial = [0.1, 1, 10, 100]\n",
    "* Then narrowed to anova 50, 51, 52, 53, 54, 55, 56, 57, 58, 59, 60\n",
    "* svc c 0.05, 0.06, 0.07, 0.08, 0.09, 0.1, 0.11, 0.12, 0.13, 0.14, 0.15\n",
    "## First try\n",
    "* Best parameters: {'anova__k': 51, 'svc__C': 0.15}\n",
    "* Best cross-validation score: 0.5530157342657344## Second try\n",
    "## 49 iterations \n",
    "* Best parameters: {'anova__k': 51, 'svc__C': 0.15}\n",
    "* Best cross-validation score: 0.5530157342657344"
   ]
  },
  {
   "cell_type": "code",
   "execution_count": null,
   "id": "57764cde",
   "metadata": {},
   "outputs": [],
   "source": [
    "print(\"Best parameters:\", grid_search.best_params_)\n",
    "print(\"Best cross-validation score:\", grid_search.best_score_)"
   ]
  },
  {
   "cell_type": "code",
   "execution_count": null,
   "id": "8957580f",
   "metadata": {},
   "outputs": [],
   "source": []
  },
  {
   "cell_type": "code",
   "execution_count": null,
   "id": "8d0caecd",
   "metadata": {},
   "outputs": [],
   "source": [
    "# Assuming anova_svm is your original pipeline\n",
    "best_pipeline = Pipeline([\n",
    "    ('anova', SelectKBest(f_classif)),  # You don't need to specify k here; it will be set by best_params_\n",
    "    ('svc', SVC(kernel='linear'))      # No need to specify C here for the same reason\n",
    "])\n",
    "\n",
    "# Set the best parameters found for the entire pipeline\n",
    "best_pipeline.set_params(**grid_search.best_params_)\n",
    "\n",
    "# Now, retrain on the entire training set with the best parameters\n",
    "best_pipeline.fit(X_train1, y_train1)"
   ]
  },
  {
   "cell_type": "code",
   "execution_count": null,
   "id": "89dcea12",
   "metadata": {},
   "outputs": [],
   "source": [
    "from sklearn.metrics import accuracy_score\n",
    "\n",
    "# Predict on the test set\n",
    "y_pred = best_pipeline.predict(X_train2)\n",
    "\n",
    "# Evaluate the model\n",
    "test_accuracy = accuracy_score(y_train2, y_pred)\n",
    "print(\"Test set accuracy:\", test_accuracy)"
   ]
  },
  {
   "cell_type": "code",
   "execution_count": null,
   "id": "6d7cc4b3",
   "metadata": {},
   "outputs": [],
   "source": [
    "from sklearn.metrics import confusion_matrix"
   ]
  },
  {
   "cell_type": "code",
   "execution_count": null,
   "id": "373816e3",
   "metadata": {},
   "outputs": [],
   "source": [
    "cm = confusion_matrix(y_train2, y_pred, normalize = 'true')\n",
    "print(cm)"
   ]
  },
  {
   "cell_type": "code",
   "execution_count": null,
   "id": "24a621de",
   "metadata": {},
   "outputs": [],
   "source": [
    "plt.figure(figsize=(10,7))\n",
    "sns.heatmap(cm, annot=True,  cmap=\"Blues\")\n",
    "plt.title('Confusion Matrix')\n",
    "plt.xlabel('Predicted Labels')\n",
    "plt.ylabel('True Labels')\n",
    "plt.show()"
   ]
  },
  {
   "cell_type": "code",
   "execution_count": null,
   "id": "862a9cfb",
   "metadata": {},
   "outputs": [],
   "source": [
    "# Access the best set of parameters found by GridSearchCV\n",
    "best_parameters = grid_search.best_params_\n",
    "print(\"Best parameters found by GridSearchCV:\", best_parameters)\n",
    "\n",
    "# Access the best estimator directly\n",
    "best_model = grid_search.best_estimator_\n",
    "print(\"Best model:\", best_model)\n"
   ]
  },
  {
   "cell_type": "code",
   "execution_count": null,
   "id": "acc01caa",
   "metadata": {},
   "outputs": [],
   "source": [
    "# Access the feature selection step ('anova' in your case)\n",
    "feature_selection_step = best_model.named_steps['anova']\n"
   ]
  },
  {
   "cell_type": "code",
   "execution_count": null,
   "id": "76f07c20",
   "metadata": {},
   "outputs": [],
   "source": [
    "# Get the mask of selected features (boolean array)\n",
    "selected_features_mask = feature_selection_step.get_support()\n",
    "\n"
   ]
  },
  {
   "cell_type": "code",
   "execution_count": null,
   "id": "3515b805",
   "metadata": {},
   "outputs": [],
   "source": [
    "selected_features_mask.shape"
   ]
  },
  {
   "cell_type": "code",
   "execution_count": null,
   "id": "61b69fb8",
   "metadata": {},
   "outputs": [],
   "source": [
    "selected_columns = X_train.columns[selected_features_mask]\n"
   ]
  },
  {
   "cell_type": "code",
   "execution_count": null,
   "id": "a7601e7e",
   "metadata": {},
   "outputs": [],
   "source": [
    "selected_columns"
   ]
  },
  {
   "cell_type": "markdown",
   "id": "9e43c791",
   "metadata": {},
   "source": [
    "# Regression"
   ]
  },
  {
   "cell_type": "code",
   "execution_count": null,
   "id": "f0121e53",
   "metadata": {},
   "outputs": [],
   "source": [
    "from sklearn.linear_model import LogisticRegression\n"
   ]
  },
  {
   "cell_type": "code",
   "execution_count": null,
   "id": "ce875cc6",
   "metadata": {},
   "outputs": [],
   "source": [
    "X_regression = X_test[selected_columns]"
   ]
  },
  {
   "cell_type": "code",
   "execution_count": null,
   "id": "1e6e8493",
   "metadata": {},
   "outputs": [],
   "source": [
    "X_regression.shape"
   ]
  },
  {
   "cell_type": "code",
   "execution_count": null,
   "id": "33c1bcff",
   "metadata": {},
   "outputs": [],
   "source": [
    "X_trainReg, X_testReg, y_trainReg, y_testReg = train_test_split(X_regression, y_test, random_state=42)\n"
   ]
  },
  {
   "cell_type": "code",
   "execution_count": null,
   "id": "55a37291",
   "metadata": {},
   "outputs": [],
   "source": [
    "X_testReg.shape"
   ]
  },
  {
   "cell_type": "code",
   "execution_count": null,
   "id": "b7de6d9f",
   "metadata": {},
   "outputs": [],
   "source": [
    "# Initialize the Logistic Regression model\n",
    "model = LogisticRegression(max_iter=1000)"
   ]
  },
  {
   "cell_type": "code",
   "execution_count": null,
   "id": "4803d2e4",
   "metadata": {},
   "outputs": [],
   "source": [
    "# Fit the model on the training data\n",
    "model.fit(X_trainReg, y_trainReg)"
   ]
  },
  {
   "cell_type": "code",
   "execution_count": null,
   "id": "fd50c2c2",
   "metadata": {},
   "outputs": [],
   "source": [
    "# Predict on the test set\n",
    "y_predReg = model.predict(X_testReg)\n",
    "\n",
    "# Calculate the accuracy\n",
    "accuracyReg = accuracy_score(y_testReg, y_predReg)\n",
    "print(f\"Accuracy: {accuracyReg}\")\n"
   ]
  },
  {
   "cell_type": "code",
   "execution_count": null,
   "id": "120c08f2",
   "metadata": {},
   "outputs": [],
   "source": [
    "# Coefficients\n",
    "coefficients = model.coef_\n",
    "# Intercepts\n",
    "intercepts = model.intercept_"
   ]
  },
  {
   "cell_type": "code",
   "execution_count": null,
   "id": "b4ccbbab",
   "metadata": {},
   "outputs": [],
   "source": [
    "coeff_df = pd.DataFrame(coefficients, columns=selected_columns)\n"
   ]
  },
  {
   "cell_type": "code",
   "execution_count": null,
   "id": "c0877553",
   "metadata": {},
   "outputs": [],
   "source": [
    "coeff_df['Intercept'] = intercepts"
   ]
  },
  {
   "cell_type": "code",
   "execution_count": null,
   "id": "336b4c40",
   "metadata": {},
   "outputs": [],
   "source": [
    "class_names = ['low','high']  # Adjust as per your classes\n",
    "coeff_df.index = class_names\n",
    "\n",
    "print(coeff_df)\n"
   ]
  },
  {
   "cell_type": "code",
   "execution_count": null,
   "id": "29a033dd",
   "metadata": {},
   "outputs": [],
   "source": [
    "plt.figure(figsize=(10, 6))\n",
    "sns.heatmap(coeff_df.iloc[:, :-1], annot=False, cmap='coolwarm')  # Exclude intercepts for visualization\n",
    "plt.title('Coefficients of Multinomial Logistic Regression')\n",
    "plt.ylabel('Class')\n",
    "plt.xlabel('Feature')\n",
    "plt.show()"
   ]
  },
  {
   "cell_type": "code",
   "execution_count": null,
   "id": "32e6bc5f",
   "metadata": {},
   "outputs": [],
   "source": [
    "# Assuming X_trainReg and y_trainReg are your training data and labels\n",
    "# Add constant to the features for the intercept\n",
    "X_test_reg_sm = sm.add_constant(X_testReg)\n"
   ]
  },
  {
   "cell_type": "code",
   "execution_count": null,
   "id": "53d084e9",
   "metadata": {},
   "outputs": [],
   "source": [
    "X_test_reg_sm.shape"
   ]
  },
  {
   "cell_type": "code",
   "execution_count": null,
   "id": "db2ce042",
   "metadata": {},
   "outputs": [],
   "source": [
    "y_testReg"
   ]
  },
  {
   "cell_type": "code",
   "execution_count": null,
   "id": "c085d6fd",
   "metadata": {},
   "outputs": [],
   "source": [
    "y_testReg = y_testReg.replace({2:1})"
   ]
  },
  {
   "cell_type": "code",
   "execution_count": null,
   "id": "324ffb25",
   "metadata": {},
   "outputs": [],
   "source": []
  },
  {
   "cell_type": "code",
   "execution_count": null,
   "id": "bc1d1f20",
   "metadata": {},
   "outputs": [],
   "source": [
    "# Fit the multinomial logistic regression model\n",
    "logit_model = sm.Logit(y_testReg, X_test_reg_sm)\n",
    "result = logit_model.fit()\n",
    "#model_sm = sm.MNLogit(y_testReg, X_test_reg_sm)\n",
    "#result_sm = model_sm.fit(method='newton', maxiter=5000)\n"
   ]
  },
  {
   "cell_type": "code",
   "execution_count": null,
   "id": "94f28e7d",
   "metadata": {
    "scrolled": false
   },
   "outputs": [],
   "source": [
    "# Summary of the model\n",
    "# print(result_sm.summary())\n",
    "print(result.summary())"
   ]
  },
  {
   "cell_type": "markdown",
   "id": "c122b9d0",
   "metadata": {},
   "source": [
    "rsfmri_cor_ngd_cerc_scs_vtdcrh\n"
   ]
  },
  {
   "cell_type": "code",
   "execution_count": null,
   "id": "54f50703",
   "metadata": {},
   "outputs": [],
   "source": [
    "# Making predictions\n",
    "predictions = result.predict(X_test_reg_sm)\n",
    "\n",
    "# Converting probabilities to class labels\n",
    "class_predictions = np.where(predictions > 0.5, 1, 0)"
   ]
  },
  {
   "cell_type": "code",
   "execution_count": null,
   "id": "4404af22",
   "metadata": {},
   "outputs": [],
   "source": [
    "class_predictions"
   ]
  },
  {
   "cell_type": "code",
   "execution_count": null,
   "id": "84557121",
   "metadata": {},
   "outputs": [],
   "source": [
    "array = y_testReg.to_numpy()"
   ]
  },
  {
   "cell_type": "code",
   "execution_count": null,
   "id": "7063d30b",
   "metadata": {},
   "outputs": [],
   "source": [
    "dfPrevReal = pd.DataFrame({'real': array, 'pred': class_predictions})"
   ]
  },
  {
   "cell_type": "code",
   "execution_count": null,
   "id": "f1229495",
   "metadata": {},
   "outputs": [],
   "source": [
    "dfPrevReal"
   ]
  },
  {
   "cell_type": "code",
   "execution_count": null,
   "id": "1e74ce77",
   "metadata": {},
   "outputs": [],
   "source": [
    "from sklearn.metrics import jaccard_score\n",
    "\n",
    "jaccard = jaccard_score(dfPrevReal['real'], dfPrevReal['pred'])\n",
    "print(\"Jaccard Similarity Score:\", jaccard)\n"
   ]
  },
  {
   "cell_type": "code",
   "execution_count": null,
   "id": "6f0a57ee",
   "metadata": {},
   "outputs": [],
   "source": [
    "# Extract p-values for all coefficients in the model\n",
    "p_values = result.pvalues"
   ]
  },
  {
   "cell_type": "code",
   "execution_count": null,
   "id": "f2b2a81c",
   "metadata": {},
   "outputs": [],
   "source": [
    "from statsmodels.stats.multitest import multipletests\n",
    "\n",
    "# Apply Benjamini-Hochberg FDR correction\n",
    "reject, pvals_corrected, _, _ = multipletests(p_values.values.flatten(), alpha=0.05, method='fdr_bh')\n",
    "\n",
    "# Reshape the corrected p-values to match the original shape\n",
    "pvals_corrected_reshaped = pvals_corrected.reshape(p_values.shape)\n",
    "\n",
    "# Create a DataFrame of the corrected p-values for easier interpretation\n",
    "# corrected_pvalues_df = pd.DataFrame(pvals_corrected_reshaped, index=p_values.index, columns=p_values.columns)"
   ]
  },
  {
   "cell_type": "code",
   "execution_count": null,
   "id": "3dd4946e",
   "metadata": {},
   "outputs": [],
   "source": [
    "pvals_corrected_reshaped"
   ]
  },
  {
   "cell_type": "markdown",
   "id": "d42fd661",
   "metadata": {},
   "source": [
    "# Notes\n",
    "Have too many features per sample/group. Will need to do dimensionaity reduction to get ~ 50 features per 500 subjects"
   ]
  },
  {
   "cell_type": "markdown",
   "id": "c23d9916",
   "metadata": {},
   "source": [
    "## Reminder\n",
    "matrix = sub,row,col"
   ]
  }
 ],
 "metadata": {
  "kernelspec": {
   "display_name": "Python 3 (ipykernel)",
   "language": "python",
   "name": "python3"
  },
  "language_info": {
   "codemirror_mode": {
    "name": "ipython",
    "version": 3
   },
   "file_extension": ".py",
   "mimetype": "text/x-python",
   "name": "python",
   "nbconvert_exporter": "python",
   "pygments_lexer": "ipython3",
   "version": "3.8.8"
  }
 },
 "nbformat": 4,
 "nbformat_minor": 5
}
