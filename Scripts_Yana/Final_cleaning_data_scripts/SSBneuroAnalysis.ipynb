{
 "cells": [
  {
   "cell_type": "markdown",
   "id": "c55a1b3b",
   "metadata": {},
   "source": [
    "https://data-dict.abcdstudy.org/?"
   ]
  },
  {
   "cell_type": "code",
   "execution_count": 1,
   "id": "b70b36d2",
   "metadata": {},
   "outputs": [
    {
     "name": "stdout",
     "output_type": "stream",
     "text": [
      "Python version: 3.8.8 (default, Apr 13 2021, 12:59:45) \n",
      "[Clang 10.0.0 ]\n"
     ]
    }
   ],
   "source": [
    "import sys\n",
    "print(\"Python version:\", sys.version)"
   ]
  },
  {
   "cell_type": "code",
   "execution_count": 4,
   "id": "2d27b7c5",
   "metadata": {},
   "outputs": [
    {
     "name": "stdout",
     "output_type": "stream",
     "text": [
      "statsmodels version: 0.12.2\n"
     ]
    }
   ],
   "source": [
    "import statsmodels\n",
    "print(\"statsmodels version:\", statsmodels.__version__)"
   ]
  },
  {
   "cell_type": "code",
   "execution_count": 1,
   "id": "4afd7d8d",
   "metadata": {},
   "outputs": [],
   "source": [
    "import  scipy.signal.signaltools\n",
    "\n",
    "def _centered(arr, newsize):\n",
    "    # Return the center newsize portion of the array.\n",
    "    newsize = np.asarray(newsize)\n",
    "    currsize = np.array(arr.shape)\n",
    "    startind = (currsize - newsize) // 2\n",
    "    endind = startind + newsize\n",
    "    myslice = [slice(startind[k], endind[k]) for k in range(len(endind))]\n",
    "    return arr[tuple(myslice)]\n",
    "\n",
    "scipy.signal.signaltools._centered = _centered\n"
   ]
  },
  {
   "cell_type": "code",
   "execution_count": 2,
   "id": "62fb0ced",
   "metadata": {},
   "outputs": [
    {
     "name": "stderr",
     "output_type": "stream",
     "text": [
      "/Users/gracer/opt/anaconda3/lib/python3.8/site-packages/statsmodels/tsa/base/tsa_model.py:7: FutureWarning: pandas.Int64Index is deprecated and will be removed from pandas in a future version. Use pandas.Index with the appropriate dtype instead.\n",
      "  from pandas import (to_datetime, Int64Index, DatetimeIndex, Period,\n",
      "/Users/gracer/opt/anaconda3/lib/python3.8/site-packages/statsmodels/tsa/base/tsa_model.py:7: FutureWarning: pandas.Float64Index is deprecated and will be removed from pandas in a future version. Use pandas.Index with the appropriate dtype instead.\n",
      "  from pandas import (to_datetime, Int64Index, DatetimeIndex, Period,\n"
     ]
    }
   ],
   "source": [
    "import statsmodels.api as sm"
   ]
  },
  {
   "cell_type": "code",
   "execution_count": null,
   "id": "7c2c8a48",
   "metadata": {},
   "outputs": [],
   "source": []
  },
  {
   "cell_type": "code",
   "execution_count": 60,
   "id": "a9fa766a",
   "metadata": {},
   "outputs": [],
   "source": [
    "import pandas as pd\n",
    "import nilearn\n",
    "import numpy as np\n",
    "import glob \n",
    "import os\n",
    "import pickle\n",
    "\n",
    "from sklearn.model_selection import train_test_split\n",
    "from sklearn import svm\n",
    "from sklearn.metrics import pairwise_distances\n",
    "from sklearn.utils import check_random_state\n",
    "from sklearn.manifold import TSNE\n",
    "\n",
    "from sklearn.feature_selection import SelectKBest, f_classif\n",
    "from sklearn.pipeline import make_pipeline\n",
    "from sklearn.pipeline import Pipeline\n",
    "\n",
    "from sklearn.svm import LinearSVC\n",
    "\n",
    "from sklearn.model_selection import GridSearchCV\n",
    "from sklearn.svm import SVC\n",
    "from sklearn.metrics import accuracy_score\n",
    "from sklearn.metrics import confusion_matrix\n",
    "from sklearn.model_selection import cross_val_score\n",
    "from sklearn.metrics import jaccard_score\n",
    "from sklearn.linear_model import LogisticRegression\n",
    "\n",
    "from statsmodels.stats.outliers_influence import variance_inflation_factor\n",
    "from statsmodels.stats.multitest import multipletests\n",
    "\n",
    "\n",
    "from pathlib import Path\n",
    "\n",
    "from scipy.stats import rankdata, ttest_rel, ttest_1samp\n",
    "\n",
    "from matplotlib import pyplot as plt\n",
    "import matplotlib.lines as mlines\n",
    "import matplotlib.transforms as mtransforms\n",
    "\n",
    "import seaborn as sns\n",
    "\n",
    "import nibabel as nib\n",
    "from nilearn.input_data import NiftiLabelsMasker\n",
    "from nilearn.plotting import plot_glass_brain, plot_stat_map, view_img, view_img_on_surf\n",
    "\n",
    "from nltools.data import Brain_Data, Adjacency\n",
    "from nltools.mask import roi_to_brain, expand_mask\n",
    "from nltools.stats import fdr, threshold\n",
    "\n",
    "from sklearn.linear_model import LogisticRegression\n",
    "\n",
    "%matplotlib inline\n"
   ]
  },
  {
   "cell_type": "code",
   "execution_count": 4,
   "id": "b57f201a",
   "metadata": {},
   "outputs": [],
   "source": [
    "basepath = '/Users/gracer/Library/CloudStorage/OneDrive-UniversityofWyoming/0. Lab/M2AENAD Lab - Documents/RESEARCH/ABCD/Yana_SSIB_2024/'"
   ]
  },
  {
   "cell_type": "code",
   "execution_count": 13,
   "id": "21f653f0",
   "metadata": {},
   "outputs": [],
   "source": [
    "df = pd.read_csv(os.path.join(basepath,'data','matched111724_centered_dum.csv'))  "
   ]
  },
  {
   "cell_type": "code",
   "execution_count": 14,
   "id": "034c20ed",
   "metadata": {},
   "outputs": [
    {
     "name": "stdout",
     "output_type": "stream",
     "text": [
      "3700\n"
     ]
    }
   ],
   "source": [
    "# Get number of subjects\n",
    "n = df.shape[0]\n",
    "print(n)"
   ]
  },
  {
   "cell_type": "code",
   "execution_count": 26,
   "id": "350c53e2",
   "metadata": {},
   "outputs": [],
   "source": [
    "nonBrain = df[['demo_comb_income_v2','interview_age', 'bmi_perc',  'sex_M']]"
   ]
  },
  {
   "cell_type": "code",
   "execution_count": 27,
   "id": "722e2774",
   "metadata": {},
   "outputs": [
    {
     "data": {
      "text/html": [
       "<div>\n",
       "<style scoped>\n",
       "    .dataframe tbody tr th:only-of-type {\n",
       "        vertical-align: middle;\n",
       "    }\n",
       "\n",
       "    .dataframe tbody tr th {\n",
       "        vertical-align: top;\n",
       "    }\n",
       "\n",
       "    .dataframe thead th {\n",
       "        text-align: right;\n",
       "    }\n",
       "</style>\n",
       "<table border=\"1\" class=\"dataframe\">\n",
       "  <thead>\n",
       "    <tr style=\"text-align: right;\">\n",
       "      <th></th>\n",
       "      <th>demo_comb_income_v2</th>\n",
       "      <th>interview_age</th>\n",
       "      <th>bmi_perc</th>\n",
       "      <th>sex_M</th>\n",
       "    </tr>\n",
       "  </thead>\n",
       "  <tbody>\n",
       "    <tr>\n",
       "      <th>0</th>\n",
       "      <td>1.134865</td>\n",
       "      <td>2.208108</td>\n",
       "      <td>-0.074089</td>\n",
       "      <td>1</td>\n",
       "    </tr>\n",
       "    <tr>\n",
       "      <th>1</th>\n",
       "      <td>1.134865</td>\n",
       "      <td>-3.791892</td>\n",
       "      <td>-0.166220</td>\n",
       "      <td>0</td>\n",
       "    </tr>\n",
       "    <tr>\n",
       "      <th>2</th>\n",
       "      <td>-6.865135</td>\n",
       "      <td>2.208108</td>\n",
       "      <td>-0.117158</td>\n",
       "      <td>1</td>\n",
       "    </tr>\n",
       "    <tr>\n",
       "      <th>3</th>\n",
       "      <td>0.134865</td>\n",
       "      <td>-0.791892</td>\n",
       "      <td>0.181997</td>\n",
       "      <td>0</td>\n",
       "    </tr>\n",
       "    <tr>\n",
       "      <th>4</th>\n",
       "      <td>-3.865135</td>\n",
       "      <td>-0.791892</td>\n",
       "      <td>0.132754</td>\n",
       "      <td>0</td>\n",
       "    </tr>\n",
       "    <tr>\n",
       "      <th>...</th>\n",
       "      <td>...</td>\n",
       "      <td>...</td>\n",
       "      <td>...</td>\n",
       "      <td>...</td>\n",
       "    </tr>\n",
       "    <tr>\n",
       "      <th>3695</th>\n",
       "      <td>0.134865</td>\n",
       "      <td>6.208108</td>\n",
       "      <td>-0.089739</td>\n",
       "      <td>1</td>\n",
       "    </tr>\n",
       "    <tr>\n",
       "      <th>3696</th>\n",
       "      <td>1.134865</td>\n",
       "      <td>11.208108</td>\n",
       "      <td>-0.092898</td>\n",
       "      <td>0</td>\n",
       "    </tr>\n",
       "    <tr>\n",
       "      <th>3697</th>\n",
       "      <td>-0.865135</td>\n",
       "      <td>-4.791892</td>\n",
       "      <td>0.209150</td>\n",
       "      <td>0</td>\n",
       "    </tr>\n",
       "    <tr>\n",
       "      <th>3698</th>\n",
       "      <td>2.134865</td>\n",
       "      <td>12.208108</td>\n",
       "      <td>0.009343</td>\n",
       "      <td>1</td>\n",
       "    </tr>\n",
       "    <tr>\n",
       "      <th>3699</th>\n",
       "      <td>1.134865</td>\n",
       "      <td>5.208108</td>\n",
       "      <td>0.314276</td>\n",
       "      <td>1</td>\n",
       "    </tr>\n",
       "  </tbody>\n",
       "</table>\n",
       "<p>3700 rows × 4 columns</p>\n",
       "</div>"
      ],
      "text/plain": [
       "      demo_comb_income_v2  interview_age  bmi_perc  sex_M\n",
       "0                1.134865       2.208108 -0.074089      1\n",
       "1                1.134865      -3.791892 -0.166220      0\n",
       "2               -6.865135       2.208108 -0.117158      1\n",
       "3                0.134865      -0.791892  0.181997      0\n",
       "4               -3.865135      -0.791892  0.132754      0\n",
       "...                   ...            ...       ...    ...\n",
       "3695             0.134865       6.208108 -0.089739      1\n",
       "3696             1.134865      11.208108 -0.092898      0\n",
       "3697            -0.865135      -4.791892  0.209150      0\n",
       "3698             2.134865      12.208108  0.009343      1\n",
       "3699             1.134865       5.208108  0.314276      1\n",
       "\n",
       "[3700 rows x 4 columns]"
      ]
     },
     "execution_count": 27,
     "metadata": {},
     "output_type": "execute_result"
    }
   ],
   "source": [
    "nonBrain"
   ]
  },
  {
   "cell_type": "code",
   "execution_count": 28,
   "id": "c6bb3e14",
   "metadata": {},
   "outputs": [],
   "source": [
    "ROIs = df.filter(like='rsfmri_', axis=1)"
   ]
  },
  {
   "cell_type": "code",
   "execution_count": 29,
   "id": "f24cb390",
   "metadata": {},
   "outputs": [
    {
     "data": {
      "text/plain": [
       "(3700, 416)"
      ]
     },
     "execution_count": 29,
     "metadata": {},
     "output_type": "execute_result"
    }
   ],
   "source": [
    "ROIs.shape"
   ]
  },
  {
   "cell_type": "code",
   "execution_count": 32,
   "id": "82d4c89e",
   "metadata": {},
   "outputs": [],
   "source": [
    "X = ROIs.join(nonBrain)"
   ]
  },
  {
   "cell_type": "code",
   "execution_count": 34,
   "id": "abdfc9c3",
   "metadata": {},
   "outputs": [],
   "source": [
    "#3. Set sex to 0 for M and 1 for female  \n",
    "X.replace({'sex': {'F': 1, 'M': 0}}, inplace=True)"
   ]
  },
  {
   "cell_type": "code",
   "execution_count": 35,
   "id": "89b62315",
   "metadata": {},
   "outputs": [
    {
     "data": {
      "text/plain": [
       "(3700, 420)"
      ]
     },
     "execution_count": 35,
     "metadata": {},
     "output_type": "execute_result"
    }
   ],
   "source": [
    "X.shape"
   ]
  },
  {
   "cell_type": "code",
   "execution_count": 36,
   "id": "150ab41b",
   "metadata": {},
   "outputs": [],
   "source": [
    "# Transpose the DataFrame to make columns become rows\n",
    "X_T = X.T\n",
    "\n",
    "duplicates = X_T.duplicated(keep='first')\n"
   ]
  },
  {
   "cell_type": "code",
   "execution_count": 37,
   "id": "32b23f7d",
   "metadata": {},
   "outputs": [],
   "source": [
    "# Identifying columns to drop (all duplicates except the first occurrence)\n",
    "cols_to_drop = X_T[duplicates].index\n"
   ]
  },
  {
   "cell_type": "code",
   "execution_count": 38,
   "id": "ca9b2e89",
   "metadata": {
    "scrolled": true
   },
   "outputs": [
    {
     "name": "stdout",
     "output_type": "stream",
     "text": [
      "      rsfmri_c_ngd_ad_ngd_ad  rsfmri_c_ngd_ad_ngd_cgc  rsfmri_c_ngd_ad_ngd_ca  \\\n",
      "0                   0.068443                -0.013937                0.043602   \n",
      "1                   0.010384                 0.009812                0.017131   \n",
      "2                  -0.021120                -0.001985                0.016845   \n",
      "3                   0.039870                -0.018612               -0.093783   \n",
      "4                   0.148359                -0.003445               -0.130025   \n",
      "...                      ...                      ...                     ...   \n",
      "3695                0.007844                -0.088140               -0.095973   \n",
      "3696                0.128205                -0.015683               -0.118861   \n",
      "3697                0.044244                 0.011726               -0.013017   \n",
      "3698               -0.002446                 0.036297               -0.096342   \n",
      "3699                0.041874                 0.008357               -0.036228   \n",
      "\n",
      "      rsfmri_c_ngd_ad_ngd_dt  rsfmri_c_ngd_ad_ngd_dla  rsfmri_c_ngd_ad_ngd_fo  \\\n",
      "0                  -0.052279                -0.001817               -0.073673   \n",
      "1                   0.052089                 0.004709                0.022979   \n",
      "2                   0.000079                 0.027425                0.056818   \n",
      "3                  -0.059711                 0.048004               -0.092068   \n",
      "4                  -0.040669                 0.029820               -0.017150   \n",
      "...                      ...                      ...                     ...   \n",
      "3695                0.034362                 0.003104                0.034102   \n",
      "3696               -0.017324                 0.022211               -0.030273   \n",
      "3697               -0.013231                -0.020813               -0.040568   \n",
      "3698               -0.014220                 0.010990                0.027282   \n",
      "3699                0.084440                -0.045922                0.055974   \n",
      "\n",
      "      rsfmri_c_ngd_ad_ngd_n  rsfmri_c_ngd_ad_ngd_rspltp  \\\n",
      "0                 -0.008185                    0.021034   \n",
      "1                  0.018181                   -0.012840   \n",
      "2                  0.013597                    0.030836   \n",
      "3                 -0.027847                    0.014588   \n",
      "4                 -0.017234                   -0.076365   \n",
      "...                     ...                         ...   \n",
      "3695              -0.004585                   -0.045583   \n",
      "3696              -0.014853                    0.120055   \n",
      "3697               0.010807                    0.032868   \n",
      "3698              -0.038254                    0.047381   \n",
      "3699               0.018137                   -0.038866   \n",
      "\n",
      "      rsfmri_c_ngd_ad_ngd_smh  rsfmri_c_ngd_ad_ngd_smm  ...  \\\n",
      "0                   -0.039437                 0.198793  ...   \n",
      "1                    0.002369                -0.048014  ...   \n",
      "2                   -0.049539                -0.069404  ...   \n",
      "3                    0.092321                 0.066388  ...   \n",
      "4                    0.117753                 0.174538  ...   \n",
      "...                       ...                      ...  ...   \n",
      "3695                 0.064742                -0.021000  ...   \n",
      "3696                 0.142242                 0.055583  ...   \n",
      "3697                 0.029834                -0.001331  ...   \n",
      "3698                -0.011857                -0.019707  ...   \n",
      "3699                 0.001617                 0.027359  ...   \n",
      "\n",
      "      rsfmri_cor_ngd_vs_scs_ptrh  rsfmri_cor_ngd_vs_scs_plrh  \\\n",
      "0                      -0.058693                    0.040415   \n",
      "1                       0.040285                    0.009324   \n",
      "2                       0.224208                    0.249363   \n",
      "3                       0.256509                   -0.011558   \n",
      "4                       0.122346                   -0.057407   \n",
      "...                          ...                         ...   \n",
      "3695                   -0.124791                   -0.023009   \n",
      "3696                    0.084609                   -0.060750   \n",
      "3697                    0.091855                   -0.030467   \n",
      "3698                    0.300584                    0.063622   \n",
      "3699                   -0.054081                   -0.006959   \n",
      "\n",
      "      rsfmri_cor_ngd_vs_scs_hprh  rsfmri_cor_ngd_vs_scs_agrh  \\\n",
      "0                       0.109031                    0.019496   \n",
      "1                      -0.005636                   -0.112208   \n",
      "2                       0.062374                   -0.213170   \n",
      "3                       0.176237                   -0.036178   \n",
      "4                       0.012681                   -0.040334   \n",
      "...                          ...                         ...   \n",
      "3695                    0.020711                   -0.015846   \n",
      "3696                   -0.115547                    0.241700   \n",
      "3697                    0.036232                   -0.013794   \n",
      "3698                    0.018049                    0.026047   \n",
      "3699                    0.008878                    0.004552   \n",
      "\n",
      "      rsfmri_cor_ngd_vs_scs_aarh  rsfmri_cor_ngd_vs_scs_vtdcrh  \\\n",
      "0                      -0.017181                      0.022865   \n",
      "1                       0.003579                      0.045996   \n",
      "2                      -0.070342                     -0.078987   \n",
      "3                      -0.078277                      0.198341   \n",
      "4                      -0.115159                      0.039500   \n",
      "...                          ...                           ...   \n",
      "3695                   -0.025092                     -0.018759   \n",
      "3696                    0.019459                     -0.016186   \n",
      "3697                    0.044985                      0.061419   \n",
      "3698                    0.075362                      0.082922   \n",
      "3699                   -0.040680                     -0.023294   \n",
      "\n",
      "      demo_comb_income_v2  interview_age  bmi_perc  sex_M  \n",
      "0                1.134865       2.208108 -0.074089      1  \n",
      "1                1.134865      -3.791892 -0.166220      0  \n",
      "2               -6.865135       2.208108 -0.117158      1  \n",
      "3                0.134865      -0.791892  0.181997      0  \n",
      "4               -3.865135      -0.791892  0.132754      0  \n",
      "...                   ...            ...       ...    ...  \n",
      "3695             0.134865       6.208108 -0.089739      1  \n",
      "3696             1.134865      11.208108 -0.092898      0  \n",
      "3697            -0.865135      -4.791892  0.209150      0  \n",
      "3698             2.134865      12.208108  0.009343      1  \n",
      "3699             1.134865       5.208108  0.314276      1  \n",
      "\n",
      "[3700 rows x 342 columns]\n"
     ]
    }
   ],
   "source": [
    "# Drop the duplicate columns from the original DataFrame\n",
    "X_cleaned = X.drop(cols_to_drop, axis=1)\n",
    "\n",
    "print(X_cleaned)"
   ]
  },
  {
   "cell_type": "code",
   "execution_count": null,
   "id": "57bb569f",
   "metadata": {},
   "outputs": [],
   "source": [
    "X.shape"
   ]
  },
  {
   "cell_type": "code",
   "execution_count": null,
   "id": "f5ea9c8b",
   "metadata": {},
   "outputs": [],
   "source": [
    "X_cleaned.shape"
   ]
  },
  {
   "cell_type": "markdown",
   "id": "7dacb6e6",
   "metadata": {},
   "source": [
    "# Factor of interest\n",
    "This is sometimes called the target. Right now I am using sex, but eventually we will change this to SSB group"
   ]
  },
  {
   "cell_type": "code",
   "execution_count": 43,
   "id": "330cb5d8",
   "metadata": {},
   "outputs": [],
   "source": [
    "# Convert 'high' to 1 and 'low' to 0\n",
    "df['ssb_group'] = df['ssb_group'].map({'high': 1, 'low': 0})\n"
   ]
  },
  {
   "cell_type": "code",
   "execution_count": 44,
   "id": "f92385f7",
   "metadata": {},
   "outputs": [],
   "source": [
    "y = df['ssb_group'] #target"
   ]
  },
  {
   "cell_type": "code",
   "execution_count": 45,
   "id": "5e0308d4",
   "metadata": {},
   "outputs": [
    {
     "data": {
      "text/plain": [
       "1    1850\n",
       "0    1850\n",
       "Name: ssb_group, dtype: int64"
      ]
     },
     "execution_count": 45,
     "metadata": {},
     "output_type": "execute_result"
    }
   ],
   "source": [
    "y.value_counts()"
   ]
  },
  {
   "cell_type": "markdown",
   "id": "a6dcd96a",
   "metadata": {},
   "source": [
    "# Train and test datasets\n",
    "Get randomly generated train and test datasets\n",
    "- Train 1 = train the model and feature elimination\n",
    "- Train 2 = cross validate the model\n",
    "- Test = test statistical differences"
   ]
  },
  {
   "cell_type": "code",
   "execution_count": 46,
   "id": "f3ae8db5",
   "metadata": {},
   "outputs": [],
   "source": [
    "X_train, X_test, y_train, y_test = train_test_split(X_cleaned, y, random_state=42)\n"
   ]
  },
  {
   "cell_type": "code",
   "execution_count": 47,
   "id": "06f427da",
   "metadata": {},
   "outputs": [
    {
     "data": {
      "text/plain": [
       "0    481\n",
       "1    444\n",
       "Name: ssb_group, dtype: int64"
      ]
     },
     "execution_count": 47,
     "metadata": {},
     "output_type": "execute_result"
    }
   ],
   "source": [
    "X_train1, X_train2, y_train1, y_train2 = train_test_split(X_train, y_train, random_state=42)\n",
    "X_test.shape\n",
    "y_test.value_counts()"
   ]
  },
  {
   "cell_type": "code",
   "execution_count": 48,
   "id": "6cc8d517",
   "metadata": {},
   "outputs": [
    {
     "data": {
      "text/html": [
       "<style>#sk-container-id-1 {color: black;background-color: white;}#sk-container-id-1 pre{padding: 0;}#sk-container-id-1 div.sk-toggleable {background-color: white;}#sk-container-id-1 label.sk-toggleable__label {cursor: pointer;display: block;width: 100%;margin-bottom: 0;padding: 0.3em;box-sizing: border-box;text-align: center;}#sk-container-id-1 label.sk-toggleable__label-arrow:before {content: \"▸\";float: left;margin-right: 0.25em;color: #696969;}#sk-container-id-1 label.sk-toggleable__label-arrow:hover:before {color: black;}#sk-container-id-1 div.sk-estimator:hover label.sk-toggleable__label-arrow:before {color: black;}#sk-container-id-1 div.sk-toggleable__content {max-height: 0;max-width: 0;overflow: hidden;text-align: left;background-color: #f0f8ff;}#sk-container-id-1 div.sk-toggleable__content pre {margin: 0.2em;color: black;border-radius: 0.25em;background-color: #f0f8ff;}#sk-container-id-1 input.sk-toggleable__control:checked~div.sk-toggleable__content {max-height: 200px;max-width: 100%;overflow: auto;}#sk-container-id-1 input.sk-toggleable__control:checked~label.sk-toggleable__label-arrow:before {content: \"▾\";}#sk-container-id-1 div.sk-estimator input.sk-toggleable__control:checked~label.sk-toggleable__label {background-color: #d4ebff;}#sk-container-id-1 div.sk-label input.sk-toggleable__control:checked~label.sk-toggleable__label {background-color: #d4ebff;}#sk-container-id-1 input.sk-hidden--visually {border: 0;clip: rect(1px 1px 1px 1px);clip: rect(1px, 1px, 1px, 1px);height: 1px;margin: -1px;overflow: hidden;padding: 0;position: absolute;width: 1px;}#sk-container-id-1 div.sk-estimator {font-family: monospace;background-color: #f0f8ff;border: 1px dotted black;border-radius: 0.25em;box-sizing: border-box;margin-bottom: 0.5em;}#sk-container-id-1 div.sk-estimator:hover {background-color: #d4ebff;}#sk-container-id-1 div.sk-parallel-item::after {content: \"\";width: 100%;border-bottom: 1px solid gray;flex-grow: 1;}#sk-container-id-1 div.sk-label:hover label.sk-toggleable__label {background-color: #d4ebff;}#sk-container-id-1 div.sk-serial::before {content: \"\";position: absolute;border-left: 1px solid gray;box-sizing: border-box;top: 0;bottom: 0;left: 50%;z-index: 0;}#sk-container-id-1 div.sk-serial {display: flex;flex-direction: column;align-items: center;background-color: white;padding-right: 0.2em;padding-left: 0.2em;position: relative;}#sk-container-id-1 div.sk-item {position: relative;z-index: 1;}#sk-container-id-1 div.sk-parallel {display: flex;align-items: stretch;justify-content: center;background-color: white;position: relative;}#sk-container-id-1 div.sk-item::before, #sk-container-id-1 div.sk-parallel-item::before {content: \"\";position: absolute;border-left: 1px solid gray;box-sizing: border-box;top: 0;bottom: 0;left: 50%;z-index: -1;}#sk-container-id-1 div.sk-parallel-item {display: flex;flex-direction: column;z-index: 1;position: relative;background-color: white;}#sk-container-id-1 div.sk-parallel-item:first-child::after {align-self: flex-end;width: 50%;}#sk-container-id-1 div.sk-parallel-item:last-child::after {align-self: flex-start;width: 50%;}#sk-container-id-1 div.sk-parallel-item:only-child::after {width: 0;}#sk-container-id-1 div.sk-dashed-wrapped {border: 1px dashed gray;margin: 0 0.4em 0.5em 0.4em;box-sizing: border-box;padding-bottom: 0.4em;background-color: white;}#sk-container-id-1 div.sk-label label {font-family: monospace;font-weight: bold;display: inline-block;line-height: 1.2em;}#sk-container-id-1 div.sk-label-container {text-align: center;}#sk-container-id-1 div.sk-container {/* jupyter's `normalize.less` sets `[hidden] { display: none; }` but bootstrap.min.css set `[hidden] { display: none !important; }` so we also need the `!important` here to be able to override the default hidden behavior on the sphinx rendered scikit-learn.org. See: https://github.com/scikit-learn/scikit-learn/issues/21755 */display: inline-block !important;position: relative;}#sk-container-id-1 div.sk-text-repr-fallback {display: none;}</style><div id=\"sk-container-id-1\" class=\"sk-top-container\"><div class=\"sk-text-repr-fallback\"><pre>GridSearchCV(cv=10,\n",
       "             estimator=Pipeline(steps=[(&#x27;anova&#x27;, SelectKBest()),\n",
       "                                       (&#x27;svc&#x27;, SVC(kernel=&#x27;linear&#x27;))]),\n",
       "             n_jobs=4,\n",
       "             param_grid={&#x27;anova__k&#x27;: [50, 51, 52, 53, 54, 55, 56, 57, 58, 59,\n",
       "                                      60],\n",
       "                         &#x27;svc__C&#x27;: [0.05, 0.06, 0.07, 0.08, 0.09, 0.1, 0.11,\n",
       "                                    0.12, 0.13, 0.14, 0.15]})</pre><b>In a Jupyter environment, please rerun this cell to show the HTML representation or trust the notebook. <br />On GitHub, the HTML representation is unable to render, please try loading this page with nbviewer.org.</b></div><div class=\"sk-container\" hidden><div class=\"sk-item sk-dashed-wrapped\"><div class=\"sk-label-container\"><div class=\"sk-label sk-toggleable\"><input class=\"sk-toggleable__control sk-hidden--visually\" id=\"sk-estimator-id-1\" type=\"checkbox\" ><label for=\"sk-estimator-id-1\" class=\"sk-toggleable__label sk-toggleable__label-arrow\">GridSearchCV</label><div class=\"sk-toggleable__content\"><pre>GridSearchCV(cv=10,\n",
       "             estimator=Pipeline(steps=[(&#x27;anova&#x27;, SelectKBest()),\n",
       "                                       (&#x27;svc&#x27;, SVC(kernel=&#x27;linear&#x27;))]),\n",
       "             n_jobs=4,\n",
       "             param_grid={&#x27;anova__k&#x27;: [50, 51, 52, 53, 54, 55, 56, 57, 58, 59,\n",
       "                                      60],\n",
       "                         &#x27;svc__C&#x27;: [0.05, 0.06, 0.07, 0.08, 0.09, 0.1, 0.11,\n",
       "                                    0.12, 0.13, 0.14, 0.15]})</pre></div></div></div><div class=\"sk-parallel\"><div class=\"sk-parallel-item\"><div class=\"sk-item\"><div class=\"sk-label-container\"><div class=\"sk-label sk-toggleable\"><input class=\"sk-toggleable__control sk-hidden--visually\" id=\"sk-estimator-id-2\" type=\"checkbox\" ><label for=\"sk-estimator-id-2\" class=\"sk-toggleable__label sk-toggleable__label-arrow\">estimator: Pipeline</label><div class=\"sk-toggleable__content\"><pre>Pipeline(steps=[(&#x27;anova&#x27;, SelectKBest()), (&#x27;svc&#x27;, SVC(kernel=&#x27;linear&#x27;))])</pre></div></div></div><div class=\"sk-serial\"><div class=\"sk-item\"><div class=\"sk-serial\"><div class=\"sk-item\"><div class=\"sk-estimator sk-toggleable\"><input class=\"sk-toggleable__control sk-hidden--visually\" id=\"sk-estimator-id-3\" type=\"checkbox\" ><label for=\"sk-estimator-id-3\" class=\"sk-toggleable__label sk-toggleable__label-arrow\">SelectKBest</label><div class=\"sk-toggleable__content\"><pre>SelectKBest()</pre></div></div></div><div class=\"sk-item\"><div class=\"sk-estimator sk-toggleable\"><input class=\"sk-toggleable__control sk-hidden--visually\" id=\"sk-estimator-id-4\" type=\"checkbox\" ><label for=\"sk-estimator-id-4\" class=\"sk-toggleable__label sk-toggleable__label-arrow\">SVC</label><div class=\"sk-toggleable__content\"><pre>SVC(kernel=&#x27;linear&#x27;)</pre></div></div></div></div></div></div></div></div></div></div></div></div>"
      ],
      "text/plain": [
       "GridSearchCV(cv=10,\n",
       "             estimator=Pipeline(steps=[('anova', SelectKBest()),\n",
       "                                       ('svc', SVC(kernel='linear'))]),\n",
       "             n_jobs=4,\n",
       "             param_grid={'anova__k': [50, 51, 52, 53, 54, 55, 56, 57, 58, 59,\n",
       "                                      60],\n",
       "                         'svc__C': [0.05, 0.06, 0.07, 0.08, 0.09, 0.1, 0.11,\n",
       "                                    0.12, 0.13, 0.14, 0.15]})"
      ]
     },
     "execution_count": 48,
     "metadata": {},
     "output_type": "execute_result"
    }
   ],
   "source": [
    "anova_filter = SelectKBest(f_classif)\n",
    "svm = SVC(kernel='linear')\n",
    "\n",
    "anova_svm = Pipeline([\n",
    "    ('anova', anova_filter),\n",
    "    ('svc', svm)\n",
    "])\n",
    "# Define a range of parameters for feature selection and SVM\n",
    "param_grid = {\n",
    "    'anova__k': [50, 51, 52, 53, 54, 55, 56, 57, 58, 59, 60],  # Trying different numbers of top features\n",
    "    'svc__C': [0.05, 0.06, 0.07, 0.08, 0.09, 0.1, 0.11, 0.12, 0.13, 0.14, 0.15],  # SVM regularization parameter\n",
    "}\n",
    "\n",
    "# Setup GridSearchCV\n",
    "grid_search = GridSearchCV(anova_svm, param_grid=param_grid, cv=10, n_jobs=4)\n",
    "grid_search.fit(X_train1, y_train1)\n",
    "print(grid_search.best_params_)"
   ]
  },
  {
   "cell_type": "code",
   "execution_count": 50,
   "id": "8d0caecd",
   "metadata": {},
   "outputs": [
    {
     "data": {
      "text/html": [
       "<style>#sk-container-id-2 {color: black;background-color: white;}#sk-container-id-2 pre{padding: 0;}#sk-container-id-2 div.sk-toggleable {background-color: white;}#sk-container-id-2 label.sk-toggleable__label {cursor: pointer;display: block;width: 100%;margin-bottom: 0;padding: 0.3em;box-sizing: border-box;text-align: center;}#sk-container-id-2 label.sk-toggleable__label-arrow:before {content: \"▸\";float: left;margin-right: 0.25em;color: #696969;}#sk-container-id-2 label.sk-toggleable__label-arrow:hover:before {color: black;}#sk-container-id-2 div.sk-estimator:hover label.sk-toggleable__label-arrow:before {color: black;}#sk-container-id-2 div.sk-toggleable__content {max-height: 0;max-width: 0;overflow: hidden;text-align: left;background-color: #f0f8ff;}#sk-container-id-2 div.sk-toggleable__content pre {margin: 0.2em;color: black;border-radius: 0.25em;background-color: #f0f8ff;}#sk-container-id-2 input.sk-toggleable__control:checked~div.sk-toggleable__content {max-height: 200px;max-width: 100%;overflow: auto;}#sk-container-id-2 input.sk-toggleable__control:checked~label.sk-toggleable__label-arrow:before {content: \"▾\";}#sk-container-id-2 div.sk-estimator input.sk-toggleable__control:checked~label.sk-toggleable__label {background-color: #d4ebff;}#sk-container-id-2 div.sk-label input.sk-toggleable__control:checked~label.sk-toggleable__label {background-color: #d4ebff;}#sk-container-id-2 input.sk-hidden--visually {border: 0;clip: rect(1px 1px 1px 1px);clip: rect(1px, 1px, 1px, 1px);height: 1px;margin: -1px;overflow: hidden;padding: 0;position: absolute;width: 1px;}#sk-container-id-2 div.sk-estimator {font-family: monospace;background-color: #f0f8ff;border: 1px dotted black;border-radius: 0.25em;box-sizing: border-box;margin-bottom: 0.5em;}#sk-container-id-2 div.sk-estimator:hover {background-color: #d4ebff;}#sk-container-id-2 div.sk-parallel-item::after {content: \"\";width: 100%;border-bottom: 1px solid gray;flex-grow: 1;}#sk-container-id-2 div.sk-label:hover label.sk-toggleable__label {background-color: #d4ebff;}#sk-container-id-2 div.sk-serial::before {content: \"\";position: absolute;border-left: 1px solid gray;box-sizing: border-box;top: 0;bottom: 0;left: 50%;z-index: 0;}#sk-container-id-2 div.sk-serial {display: flex;flex-direction: column;align-items: center;background-color: white;padding-right: 0.2em;padding-left: 0.2em;position: relative;}#sk-container-id-2 div.sk-item {position: relative;z-index: 1;}#sk-container-id-2 div.sk-parallel {display: flex;align-items: stretch;justify-content: center;background-color: white;position: relative;}#sk-container-id-2 div.sk-item::before, #sk-container-id-2 div.sk-parallel-item::before {content: \"\";position: absolute;border-left: 1px solid gray;box-sizing: border-box;top: 0;bottom: 0;left: 50%;z-index: -1;}#sk-container-id-2 div.sk-parallel-item {display: flex;flex-direction: column;z-index: 1;position: relative;background-color: white;}#sk-container-id-2 div.sk-parallel-item:first-child::after {align-self: flex-end;width: 50%;}#sk-container-id-2 div.sk-parallel-item:last-child::after {align-self: flex-start;width: 50%;}#sk-container-id-2 div.sk-parallel-item:only-child::after {width: 0;}#sk-container-id-2 div.sk-dashed-wrapped {border: 1px dashed gray;margin: 0 0.4em 0.5em 0.4em;box-sizing: border-box;padding-bottom: 0.4em;background-color: white;}#sk-container-id-2 div.sk-label label {font-family: monospace;font-weight: bold;display: inline-block;line-height: 1.2em;}#sk-container-id-2 div.sk-label-container {text-align: center;}#sk-container-id-2 div.sk-container {/* jupyter's `normalize.less` sets `[hidden] { display: none; }` but bootstrap.min.css set `[hidden] { display: none !important; }` so we also need the `!important` here to be able to override the default hidden behavior on the sphinx rendered scikit-learn.org. See: https://github.com/scikit-learn/scikit-learn/issues/21755 */display: inline-block !important;position: relative;}#sk-container-id-2 div.sk-text-repr-fallback {display: none;}</style><div id=\"sk-container-id-2\" class=\"sk-top-container\"><div class=\"sk-text-repr-fallback\"><pre>Pipeline(steps=[(&#x27;anova&#x27;, SelectKBest(k=50)),\n",
       "                (&#x27;svc&#x27;, SVC(C=0.05, kernel=&#x27;linear&#x27;))])</pre><b>In a Jupyter environment, please rerun this cell to show the HTML representation or trust the notebook. <br />On GitHub, the HTML representation is unable to render, please try loading this page with nbviewer.org.</b></div><div class=\"sk-container\" hidden><div class=\"sk-item sk-dashed-wrapped\"><div class=\"sk-label-container\"><div class=\"sk-label sk-toggleable\"><input class=\"sk-toggleable__control sk-hidden--visually\" id=\"sk-estimator-id-5\" type=\"checkbox\" ><label for=\"sk-estimator-id-5\" class=\"sk-toggleable__label sk-toggleable__label-arrow\">Pipeline</label><div class=\"sk-toggleable__content\"><pre>Pipeline(steps=[(&#x27;anova&#x27;, SelectKBest(k=50)),\n",
       "                (&#x27;svc&#x27;, SVC(C=0.05, kernel=&#x27;linear&#x27;))])</pre></div></div></div><div class=\"sk-serial\"><div class=\"sk-item\"><div class=\"sk-estimator sk-toggleable\"><input class=\"sk-toggleable__control sk-hidden--visually\" id=\"sk-estimator-id-6\" type=\"checkbox\" ><label for=\"sk-estimator-id-6\" class=\"sk-toggleable__label sk-toggleable__label-arrow\">SelectKBest</label><div class=\"sk-toggleable__content\"><pre>SelectKBest(k=50)</pre></div></div></div><div class=\"sk-item\"><div class=\"sk-estimator sk-toggleable\"><input class=\"sk-toggleable__control sk-hidden--visually\" id=\"sk-estimator-id-7\" type=\"checkbox\" ><label for=\"sk-estimator-id-7\" class=\"sk-toggleable__label sk-toggleable__label-arrow\">SVC</label><div class=\"sk-toggleable__content\"><pre>SVC(C=0.05, kernel=&#x27;linear&#x27;)</pre></div></div></div></div></div></div></div>"
      ],
      "text/plain": [
       "Pipeline(steps=[('anova', SelectKBest(k=50)),\n",
       "                ('svc', SVC(C=0.05, kernel='linear'))])"
      ]
     },
     "execution_count": 50,
     "metadata": {},
     "output_type": "execute_result"
    }
   ],
   "source": [
    "# Assuming anova_svm is your original pipeline\n",
    "best_pipeline = Pipeline([\n",
    "    ('anova', SelectKBest(f_classif)),  # You don't need to specify k here; it will be set by best_params_\n",
    "    ('svc', SVC(kernel='linear'))      # No need to specify C here for the same reason\n",
    "])\n",
    "\n",
    "# Set the best parameters found for the entire pipeline\n",
    "best_pipeline.set_params(**grid_search.best_params_)\n",
    "\n",
    "# Now, retrain on the entire training set with the best parameters\n",
    "best_pipeline.fit(X_train1, y_train1)"
   ]
  },
  {
   "cell_type": "code",
   "execution_count": 51,
   "id": "89dcea12",
   "metadata": {},
   "outputs": [
    {
     "name": "stdout",
     "output_type": "stream",
     "text": [
      "Test set accuracy: 0.7348703170028819\n"
     ]
    }
   ],
   "source": [
    "# Predict on the test set\n",
    "y_pred = best_pipeline.predict(X_train2)\n",
    "\n",
    "# Evaluate the model\n",
    "test_accuracy = accuracy_score(y_train2, y_pred)\n",
    "print(\"Test set accuracy:\", test_accuracy)"
   ]
  },
  {
   "cell_type": "code",
   "execution_count": 52,
   "id": "373816e3",
   "metadata": {},
   "outputs": [
    {
     "name": "stdout",
     "output_type": "stream",
     "text": [
      "[[0.87215909 0.12784091]\n",
      " [0.40643275 0.59356725]]\n"
     ]
    }
   ],
   "source": [
    "cm = confusion_matrix(y_train2, y_pred, normalize = 'true')\n",
    "print(cm)"
   ]
  },
  {
   "cell_type": "code",
   "execution_count": 53,
   "id": "24a621de",
   "metadata": {},
   "outputs": [
    {
     "data": {
      "image/png": "[encoded data removed]",
      "text/plain": [
       "<Figure size 1000x700 with 2 Axes>"
      ]
     },
     "metadata": {},
     "output_type": "display_data"
    }
   ],
   "source": [
    "plt.figure(figsize=(10,7))\n",
    "sns.heatmap(cm, annot=True,  cmap=\"Blues\")\n",
    "plt.title('Confusion Matrix')\n",
    "plt.xlabel('Predicted Labels')\n",
    "plt.ylabel('True Labels')\n",
    "plt.show()"
   ]
  },
  {
   "cell_type": "code",
   "execution_count": 54,
   "id": "862a9cfb",
   "metadata": {},
   "outputs": [
    {
     "name": "stdout",
     "output_type": "stream",
     "text": [
      "Best parameters found by GridSearchCV: {'anova__k': 50, 'svc__C': 0.05}\n",
      "Best model: Pipeline(steps=[('anova', SelectKBest(k=50)),\n",
      "                ('svc', SVC(C=0.05, kernel='linear'))])\n"
     ]
    }
   ],
   "source": [
    "# Access the best set of parameters found by GridSearchCV\n",
    "best_parameters = grid_search.best_params_\n",
    "print(\"Best parameters found by GridSearchCV:\", best_parameters)\n",
    "\n",
    "# Access the best estimator directly\n",
    "best_model = grid_search.best_estimator_\n",
    "print(\"Best model:\", best_model)\n"
   ]
  },
  {
   "cell_type": "code",
   "execution_count": 55,
   "id": "acc01caa",
   "metadata": {},
   "outputs": [],
   "source": [
    "# Access the feature selection step ('anova' in your case)\n",
    "feature_selection_step = best_model.named_steps['anova']\n"
   ]
  },
  {
   "cell_type": "code",
   "execution_count": 56,
   "id": "76f07c20",
   "metadata": {},
   "outputs": [],
   "source": [
    "# Get the mask of selected features (boolean array)\n",
    "selected_features_mask = feature_selection_step.get_support()\n",
    "\n"
   ]
  },
  {
   "cell_type": "code",
   "execution_count": 57,
   "id": "3515b805",
   "metadata": {},
   "outputs": [
    {
     "data": {
      "text/plain": [
       "(342,)"
      ]
     },
     "execution_count": 57,
     "metadata": {},
     "output_type": "execute_result"
    }
   ],
   "source": [
    "selected_features_mask.shape"
   ]
  },
  {
   "cell_type": "code",
   "execution_count": 58,
   "id": "61b69fb8",
   "metadata": {},
   "outputs": [],
   "source": [
    "selected_columns = X_train.columns[selected_features_mask]\n"
   ]
  },
  {
   "cell_type": "code",
   "execution_count": 59,
   "id": "a7601e7e",
   "metadata": {},
   "outputs": [
    {
     "data": {
      "text/plain": [
       "Index(['rsfmri_c_ngd_ad_ngd_cgc', 'rsfmri_c_ngd_ad_ngd_vs',\n",
       "       'rsfmri_c_ngd_cgc_ngd_cgc', 'rsfmri_c_ngd_smh_ngd_smm',\n",
       "       'rsfmri_c_ngd_sa_ngd_vta', 'rsfmri_cor_ngd_au_scs_aalh',\n",
       "       'rsfmri_cor_ngd_au_scs_ptrh', 'rsfmri_cor_ngd_au_scs_vtdcrh',\n",
       "       'rsfmri_cor_ngd_cerc_scs_cdelh', 'rsfmri_cor_ngd_cerc_scs_ptlh',\n",
       "       'rsfmri_cor_ngd_cerc_scs_aglh', 'rsfmri_cor_ngd_cerc_scs_vtdclh',\n",
       "       'rsfmri_cor_ngd_cerc_scs_hprh', 'rsfmri_cor_ngd_cerc_scs_agrh',\n",
       "       'rsfmri_cor_ngd_cerc_scs_vtdcrh', 'rsfmri_cor_ngd_copa_scs_thplh',\n",
       "       'rsfmri_cor_ngd_copa_scs_vtdclh', 'rsfmri_cor_ngd_copa_scs_crcxrh',\n",
       "       'rsfmri_cor_ngd_copa_scs_plrh', 'rsfmri_cor_ngd_df_scs_ptlh',\n",
       "       'rsfmri_cor_ngd_df_scs_pllh', 'rsfmri_cor_ngd_df_scs_aalh',\n",
       "       'rsfmri_cor_ngd_none_scs_ptlh', 'rsfmri_cor_ngd_none_scs_thprh',\n",
       "       'rsfmri_cor_ngd_none_scs_cderh', 'rsfmri_cor_ngd_rst_scs_bs',\n",
       "       'rsfmri_cor_ngd_rst_scs_crcxrh', 'rsfmri_cor_ngd_rst_scs_thprh',\n",
       "       'rsfmri_cor_ngd_rst_scs_hprh', 'rsfmri_cor_ngd_rst_scs_vtdcrh',\n",
       "       'rsfmri_cor_ngd_smh_scs_crcxlh', 'rsfmri_cor_ngd_smh_scs_pllh',\n",
       "       'rsfmri_cor_ngd_smh_scs_cderh', 'rsfmri_cor_ngd_smh_scs_ptrh',\n",
       "       'rsfmri_cor_ngd_smh_scs_hprh', 'rsfmri_cor_ngd_smh_scs_aarh',\n",
       "       'rsfmri_cor_ngd_smm_scs_hplh', 'rsfmri_cor_ngd_smm_scs_aglh',\n",
       "       'rsfmri_cor_ngd_smm_scs_thprh', 'rsfmri_cor_ngd_sa_scs_crcxlh',\n",
       "       'rsfmri_cor_ngd_sa_scs_thplh', 'rsfmri_cor_ngd_vta_scs_hplh',\n",
       "       'rsfmri_cor_ngd_vs_scs_hplh', 'rsfmri_cor_ngd_vs_scs_thprh',\n",
       "       'rsfmri_cor_ngd_vs_scs_plrh', 'rsfmri_cor_ngd_vs_scs_hprh',\n",
       "       'demo_comb_income_v2', 'interview_age', 'bmi_perc', 'sex_M'],\n",
       "      dtype='object')"
      ]
     },
     "execution_count": 59,
     "metadata": {},
     "output_type": "execute_result"
    }
   ],
   "source": [
    "selected_columns"
   ]
  },
  {
   "cell_type": "markdown",
   "id": "9e43c791",
   "metadata": {},
   "source": [
    "# Regression"
   ]
  },
  {
   "cell_type": "code",
   "execution_count": 61,
   "id": "ce875cc6",
   "metadata": {},
   "outputs": [],
   "source": [
    "X_regression = X_test[selected_columns]"
   ]
  },
  {
   "cell_type": "markdown",
   "id": "b2b600eb",
   "metadata": {},
   "source": [
    "## Check high correlations between regions"
   ]
  },
  {
   "cell_type": "code",
   "execution_count": 62,
   "id": "8d9776a8",
   "metadata": {},
   "outputs": [],
   "source": [
    "correlation_matrix = X_regression.corr()\n"
   ]
  },
  {
   "cell_type": "code",
   "execution_count": 63,
   "id": "3a1fd501",
   "metadata": {},
   "outputs": [
    {
     "name": "stderr",
     "output_type": "stream",
     "text": [
      "/var/folders/02/zfp2v0gd46j44wl8qx8jxjtr0000gn/T/ipykernel_81482/3020619189.py:8: DeprecationWarning: `np.bool` is a deprecated alias for the builtin `bool`. To silence this warning, use `bool` by itself. Doing this will not modify any behavior and is safe. If you specifically wanted the numpy scalar type, use `np.bool_` here.\n",
      "Deprecated in NumPy 1.20; for more details and guidance: https://numpy.org/devdocs/release/1.20.0-notes.html#deprecations\n",
      "  mask_upper_triangle = np.triu(np.ones(high_corr_mask.shape), k=1).astype(np.bool)\n"
     ]
    }
   ],
   "source": [
    "# Set the threshold for high correlation\n",
    "threshold = 0.8\n",
    "\n",
    "# Create a boolean mask for values above the threshold\n",
    "high_corr_mask = np.abs(correlation_matrix) > threshold\n",
    "\n",
    "# Mask the diagonal and lower triangle\n",
    "mask_upper_triangle = np.triu(np.ones(high_corr_mask.shape), k=1).astype(np.bool)\n",
    "\n",
    "# Combine masks\n",
    "final_mask = high_corr_mask & mask_upper_triangle"
   ]
  },
  {
   "cell_type": "code",
   "execution_count": 64,
   "id": "0fa7b3cb",
   "metadata": {},
   "outputs": [
    {
     "name": "stdout",
     "output_type": "stream",
     "text": [
      "                        Feature 1                      Feature 2  Correlation\n",
      "0      rsfmri_cor_ngd_au_scs_ptrh  rsfmri_cor_ngd_rst_scs_crcxrh     0.822824\n",
      "1    rsfmri_cor_ngd_cerc_scs_aglh    rsfmri_cor_ngd_smh_scs_pllh     0.858514\n",
      "2    rsfmri_cor_ngd_cerc_scs_hprh   rsfmri_cor_ngd_smh_scs_cderh     0.867641\n",
      "3    rsfmri_cor_ngd_cerc_scs_agrh    rsfmri_cor_ngd_smh_scs_ptrh     0.831211\n",
      "4  rsfmri_cor_ngd_cerc_scs_vtdcrh    rsfmri_cor_ngd_smh_scs_hprh     0.815776\n",
      "5   rsfmri_cor_ngd_copa_scs_thplh    rsfmri_cor_ngd_smh_scs_aarh     0.877435\n",
      "6  rsfmri_cor_ngd_copa_scs_vtdclh    rsfmri_cor_ngd_smm_scs_hplh     0.864477\n",
      "7  rsfmri_cor_ngd_copa_scs_crcxrh    rsfmri_cor_ngd_smm_scs_aglh     0.805186\n"
     ]
    }
   ],
   "source": [
    "# Apply mask to the correlation matrix\n",
    "high_corr_pairs = correlation_matrix.where(final_mask)\n",
    "\n",
    "# Stack the matrix and reset index to get pair-wise correlation in a readable format\n",
    "stacked_corr_pairs = high_corr_pairs.stack().reset_index()\n",
    "stacked_corr_pairs.columns = ['Feature 1', 'Feature 2', 'Correlation']\n",
    "\n",
    "print(stacked_corr_pairs)"
   ]
  },
  {
   "cell_type": "markdown",
   "id": "3a9a80c9",
   "metadata": {},
   "source": [
    "|ABCD|Human|\n",
    "|---|----|\n",
    "|rsfmri_cor_ngd_au_scs_ptrh|\tAverage correlation between auditory network and ASEG ROI right-putamen|\n",
    "| rsfmri_cor_ngd_cerc_scs_aglh| Average correlation between cingulo-opercular network and ASEG ROI left-amygdala|\n",
    "|rsfmri_cor_ngd_cerc_scs_hprh|cingulo-opercular network and ASEG ROI right-hippocampus\t|\n",
    "|rsfmri_cor_ngd_cerc_scs_vtdcrh| cingulo-opercular network and ASEG ROI right-ventraldc|\n",
    "|rsfmri_cor_ngd_copa_scs_thplh|cingulo-parietal network and ASEG ROI left-thalamus-proper|\n",
    "|rsfmri_cor_ngd_copa_scs_crcxrh |cingulo-parietal network and ASEG ROI right-cerebellum-cortex|\n",
    "|sfmri_cor_ngd_rst_scs_crcxrh|retrosplenial temporal network and ASEG ROI right-cerebellum-cortex|\n",
    "|rsfmri_cor_ngd_smh_scs_pllh|Average correlation between sensorimotor hand network and ASEG ROI left-pallidum|\n",
    "|rsfmri_cor_ngd_smh_scs_cderh|Average correlation between sensorimotor hand network and ASEG ROI right-caudate|\n",
    "|rsfmri_cor_ngd_smh_scs_hprh|sensorimotor hand network and ASEG ROI right-hippocampus|\n",
    "|sfmri_cor_ngd_smh_scs_aarh\t|sensorimotor hand network and ASEG ROI right-accumbens-area|\n",
    "|rsfmri_cor_ngd_smm_scs_aglh|sensorimotor mouth network and ASEG ROI left-amygdala|"
   ]
  },
  {
   "cell_type": "code",
   "execution_count": 65,
   "id": "fad93b5f",
   "metadata": {},
   "outputs": [],
   "source": [
    "# Dropping cerebellar first\n",
    "columns_to_drop_list = ['rsfmri_cor_ngd_rst_scs_crcxrh','rsfmri_cor_ngd_copa_scs_crcxrh']\n",
    "\n",
    "X_regression_reduced = X_regression.drop(columns=columns_to_drop_list)\n",
    "\n"
   ]
  },
  {
   "cell_type": "code",
   "execution_count": 66,
   "id": "5bb744d9",
   "metadata": {
    "scrolled": true
   },
   "outputs": [
    {
     "name": "stdout",
     "output_type": "stream",
     "text": [
      "rsfmri_c_ngd_ad_ngd_cgc           2.722862\n",
      "rsfmri_c_ngd_ad_ngd_vs            1.592855\n",
      "rsfmri_c_ngd_cgc_ngd_cgc          2.223601\n",
      "rsfmri_c_ngd_smh_ngd_smm          1.946571\n",
      "rsfmri_c_ngd_sa_ngd_vta           1.505130\n",
      "rsfmri_cor_ngd_au_scs_aalh        2.456463\n",
      "rsfmri_cor_ngd_au_scs_ptrh        4.515201\n",
      "rsfmri_cor_ngd_au_scs_vtdcrh      2.087120\n",
      "rsfmri_cor_ngd_cerc_scs_cdelh     3.946059\n",
      "rsfmri_cor_ngd_cerc_scs_ptlh      3.709819\n",
      "rsfmri_cor_ngd_cerc_scs_aglh      7.711133\n",
      "rsfmri_cor_ngd_cerc_scs_vtdclh    1.210645\n",
      "rsfmri_cor_ngd_cerc_scs_hprh      6.784987\n",
      "rsfmri_cor_ngd_cerc_scs_agrh      5.261866\n",
      "rsfmri_cor_ngd_cerc_scs_vtdcrh    4.022071\n",
      "rsfmri_cor_ngd_copa_scs_thplh     6.482789\n",
      "rsfmri_cor_ngd_copa_scs_vtdclh    5.591059\n",
      "rsfmri_cor_ngd_copa_scs_plrh      2.830012\n",
      "rsfmri_cor_ngd_df_scs_ptlh        2.306804\n",
      "rsfmri_cor_ngd_df_scs_pllh        2.321724\n",
      "rsfmri_cor_ngd_df_scs_aalh        1.463179\n",
      "rsfmri_cor_ngd_none_scs_ptlh      3.790618\n",
      "rsfmri_cor_ngd_none_scs_thprh     2.732196\n",
      "rsfmri_cor_ngd_none_scs_cderh     2.838592\n",
      "rsfmri_cor_ngd_rst_scs_bs         2.472804\n",
      "rsfmri_cor_ngd_rst_scs_thprh      2.047548\n",
      "rsfmri_cor_ngd_rst_scs_hprh       2.138426\n",
      "rsfmri_cor_ngd_rst_scs_vtdcrh     4.196027\n",
      "rsfmri_cor_ngd_smh_scs_crcxlh     3.657798\n",
      "rsfmri_cor_ngd_smh_scs_pllh       7.867780\n",
      "rsfmri_cor_ngd_smh_scs_cderh      6.267050\n",
      "rsfmri_cor_ngd_smh_scs_ptrh       5.657373\n",
      "rsfmri_cor_ngd_smh_scs_hprh       3.962251\n",
      "rsfmri_cor_ngd_smh_scs_aarh       7.834678\n",
      "rsfmri_cor_ngd_smm_scs_hplh       6.192439\n",
      "rsfmri_cor_ngd_smm_scs_aglh       2.763048\n",
      "rsfmri_cor_ngd_smm_scs_thprh      3.115803\n",
      "rsfmri_cor_ngd_sa_scs_crcxlh      2.418339\n",
      "rsfmri_cor_ngd_sa_scs_thplh       3.093058\n",
      "rsfmri_cor_ngd_vta_scs_hplh       1.151372\n",
      "rsfmri_cor_ngd_vs_scs_hplh        3.421670\n",
      "rsfmri_cor_ngd_vs_scs_thprh       1.414528\n",
      "rsfmri_cor_ngd_vs_scs_plrh        2.789430\n",
      "rsfmri_cor_ngd_vs_scs_hprh        2.748771\n",
      "demo_comb_income_v2               1.244999\n",
      "interview_age                     1.072335\n",
      "bmi_perc                          1.137007\n",
      "sex_M                             1.086619\n",
      "dtype: float64\n"
     ]
    }
   ],
   "source": [
    "# Assuming X_scaled is your scaled feature matrix and it's a numpy array\n",
    "#X_scaled_df = pd.DataFrame(X_scaled, columns=X_test_reg_sm.columns)  # Convert to DataFrame if necessary\n",
    "#X_scaled_df_with_const = sm.add_constant(X_scaled_df)  # Add constant for VIF calculation\n",
    "\n",
    "vifs = pd.Series([variance_inflation_factor(X_regression_reduced.values, i) \n",
    "                   for i in range(X_regression_reduced.shape[1])], \n",
    "                  index=X_regression_reduced.columns)\n",
    "\n",
    "print(vifs) # looks OK, everything is under 10"
   ]
  },
  {
   "cell_type": "code",
   "execution_count": 67,
   "id": "2bf0da82",
   "metadata": {},
   "outputs": [
    {
     "name": "stderr",
     "output_type": "stream",
     "text": [
      "/Users/gracer/opt/anaconda3/lib/python3.8/site-packages/statsmodels/tsa/tsatools.py:142: FutureWarning: In a future version of pandas all arguments of concat except for the argument 'objs' will be keyword-only.\n",
      "  x = pd.concat(x[::order], 1)\n"
     ]
    }
   ],
   "source": [
    "result_sm = sm.add_constant(X_regression_reduced)"
   ]
  },
  {
   "cell_type": "markdown",
   "id": "5bd4cca9",
   "metadata": {},
   "source": [
    "# Create train, test datasets for regression"
   ]
  },
  {
   "cell_type": "code",
   "execution_count": 68,
   "id": "33c1bcff",
   "metadata": {},
   "outputs": [],
   "source": [
    "X_trainReg, X_testReg, y_trainReg, y_testReg = train_test_split(result_sm, y_test, random_state=42)\n"
   ]
  },
  {
   "cell_type": "code",
   "execution_count": 69,
   "id": "55a37291",
   "metadata": {},
   "outputs": [
    {
     "data": {
      "text/plain": [
       "(232, 49)"
      ]
     },
     "execution_count": 69,
     "metadata": {},
     "output_type": "execute_result"
    }
   ],
   "source": [
    "X_testReg.shape"
   ]
  },
  {
   "cell_type": "code",
   "execution_count": 70,
   "id": "b7de6d9f",
   "metadata": {},
   "outputs": [],
   "source": [
    "# Initialize the Logistic Regression model\n",
    "model = LogisticRegression(max_iter=1000)"
   ]
  },
  {
   "cell_type": "code",
   "execution_count": 71,
   "id": "4803d2e4",
   "metadata": {},
   "outputs": [
    {
     "data": {
      "text/html": [
       "<style>#sk-container-id-3 {color: black;background-color: white;}#sk-container-id-3 pre{padding: 0;}#sk-container-id-3 div.sk-toggleable {background-color: white;}#sk-container-id-3 label.sk-toggleable__label {cursor: pointer;display: block;width: 100%;margin-bottom: 0;padding: 0.3em;box-sizing: border-box;text-align: center;}#sk-container-id-3 label.sk-toggleable__label-arrow:before {content: \"▸\";float: left;margin-right: 0.25em;color: #696969;}#sk-container-id-3 label.sk-toggleable__label-arrow:hover:before {color: black;}#sk-container-id-3 div.sk-estimator:hover label.sk-toggleable__label-arrow:before {color: black;}#sk-container-id-3 div.sk-toggleable__content {max-height: 0;max-width: 0;overflow: hidden;text-align: left;background-color: #f0f8ff;}#sk-container-id-3 div.sk-toggleable__content pre {margin: 0.2em;color: black;border-radius: 0.25em;background-color: #f0f8ff;}#sk-container-id-3 input.sk-toggleable__control:checked~div.sk-toggleable__content {max-height: 200px;max-width: 100%;overflow: auto;}#sk-container-id-3 input.sk-toggleable__control:checked~label.sk-toggleable__label-arrow:before {content: \"▾\";}#sk-container-id-3 div.sk-estimator input.sk-toggleable__control:checked~label.sk-toggleable__label {background-color: #d4ebff;}#sk-container-id-3 div.sk-label input.sk-toggleable__control:checked~label.sk-toggleable__label {background-color: #d4ebff;}#sk-container-id-3 input.sk-hidden--visually {border: 0;clip: rect(1px 1px 1px 1px);clip: rect(1px, 1px, 1px, 1px);height: 1px;margin: -1px;overflow: hidden;padding: 0;position: absolute;width: 1px;}#sk-container-id-3 div.sk-estimator {font-family: monospace;background-color: #f0f8ff;border: 1px dotted black;border-radius: 0.25em;box-sizing: border-box;margin-bottom: 0.5em;}#sk-container-id-3 div.sk-estimator:hover {background-color: #d4ebff;}#sk-container-id-3 div.sk-parallel-item::after {content: \"\";width: 100%;border-bottom: 1px solid gray;flex-grow: 1;}#sk-container-id-3 div.sk-label:hover label.sk-toggleable__label {background-color: #d4ebff;}#sk-container-id-3 div.sk-serial::before {content: \"\";position: absolute;border-left: 1px solid gray;box-sizing: border-box;top: 0;bottom: 0;left: 50%;z-index: 0;}#sk-container-id-3 div.sk-serial {display: flex;flex-direction: column;align-items: center;background-color: white;padding-right: 0.2em;padding-left: 0.2em;position: relative;}#sk-container-id-3 div.sk-item {position: relative;z-index: 1;}#sk-container-id-3 div.sk-parallel {display: flex;align-items: stretch;justify-content: center;background-color: white;position: relative;}#sk-container-id-3 div.sk-item::before, #sk-container-id-3 div.sk-parallel-item::before {content: \"\";position: absolute;border-left: 1px solid gray;box-sizing: border-box;top: 0;bottom: 0;left: 50%;z-index: -1;}#sk-container-id-3 div.sk-parallel-item {display: flex;flex-direction: column;z-index: 1;position: relative;background-color: white;}#sk-container-id-3 div.sk-parallel-item:first-child::after {align-self: flex-end;width: 50%;}#sk-container-id-3 div.sk-parallel-item:last-child::after {align-self: flex-start;width: 50%;}#sk-container-id-3 div.sk-parallel-item:only-child::after {width: 0;}#sk-container-id-3 div.sk-dashed-wrapped {border: 1px dashed gray;margin: 0 0.4em 0.5em 0.4em;box-sizing: border-box;padding-bottom: 0.4em;background-color: white;}#sk-container-id-3 div.sk-label label {font-family: monospace;font-weight: bold;display: inline-block;line-height: 1.2em;}#sk-container-id-3 div.sk-label-container {text-align: center;}#sk-container-id-3 div.sk-container {/* jupyter's `normalize.less` sets `[hidden] { display: none; }` but bootstrap.min.css set `[hidden] { display: none !important; }` so we also need the `!important` here to be able to override the default hidden behavior on the sphinx rendered scikit-learn.org. See: https://github.com/scikit-learn/scikit-learn/issues/21755 */display: inline-block !important;position: relative;}#sk-container-id-3 div.sk-text-repr-fallback {display: none;}</style><div id=\"sk-container-id-3\" class=\"sk-top-container\"><div class=\"sk-text-repr-fallback\"><pre>LogisticRegression(max_iter=1000)</pre><b>In a Jupyter environment, please rerun this cell to show the HTML representation or trust the notebook. <br />On GitHub, the HTML representation is unable to render, please try loading this page with nbviewer.org.</b></div><div class=\"sk-container\" hidden><div class=\"sk-item\"><div class=\"sk-estimator sk-toggleable\"><input class=\"sk-toggleable__control sk-hidden--visually\" id=\"sk-estimator-id-8\" type=\"checkbox\" checked><label for=\"sk-estimator-id-8\" class=\"sk-toggleable__label sk-toggleable__label-arrow\">LogisticRegression</label><div class=\"sk-toggleable__content\"><pre>LogisticRegression(max_iter=1000)</pre></div></div></div></div></div>"
      ],
      "text/plain": [
       "LogisticRegression(max_iter=1000)"
      ]
     },
     "execution_count": 71,
     "metadata": {},
     "output_type": "execute_result"
    }
   ],
   "source": [
    "# Fit the model on the training data\n",
    "model.fit(X_trainReg, y_trainReg)"
   ]
  },
  {
   "cell_type": "code",
   "execution_count": 72,
   "id": "fd50c2c2",
   "metadata": {},
   "outputs": [
    {
     "name": "stdout",
     "output_type": "stream",
     "text": [
      "Accuracy: 0.6939655172413793\n"
     ]
    }
   ],
   "source": [
    "# Predict on the test set\n",
    "y_predReg = model.predict(X_testReg)\n",
    "\n",
    "# Calculate the accuracy\n",
    "accuracyReg = accuracy_score(y_testReg, y_predReg)\n",
    "print(f\"Accuracy: {accuracyReg}\")\n"
   ]
  },
  {
   "cell_type": "code",
   "execution_count": 73,
   "id": "120c08f2",
   "metadata": {},
   "outputs": [],
   "source": [
    "# Coefficients\n",
    "coefficients = model.coef_\n",
    "# Intercepts\n",
    "intercepts = model.intercept_"
   ]
  },
  {
   "cell_type": "code",
   "execution_count": 76,
   "id": "b4ccbbab",
   "metadata": {},
   "outputs": [],
   "source": [
    "selected_columns = X_trainReg.columns\n",
    "coeff_df = pd.DataFrame(coefficients, columns=selected_columns)\n"
   ]
  },
  {
   "cell_type": "code",
   "execution_count": 77,
   "id": "c0877553",
   "metadata": {},
   "outputs": [],
   "source": [
    "coeff_df['Intercept'] = intercepts"
   ]
  },
  {
   "cell_type": "code",
   "execution_count": 80,
   "id": "336b4c40",
   "metadata": {},
   "outputs": [],
   "source": [
    "class_names = ['low']  # Adjust as per your classes\n",
    "coeff_df.index = class_names"
   ]
  },
  {
   "cell_type": "code",
   "execution_count": 79,
   "id": "29a033dd",
   "metadata": {},
   "outputs": [
    {
     "data": {
      "image/png": "[encoded data removed]",
      "text/plain": [
       "<Figure size 1000x600 with 2 Axes>"
      ]
     },
     "metadata": {},
     "output_type": "display_data"
    }
   ],
   "source": [
    "plt.figure(figsize=(10, 6))\n",
    "sns.heatmap(coeff_df.iloc[:, :-1], annot=False, cmap='coolwarm')  # Exclude intercepts for visualization\n",
    "plt.title('Coefficients of Multinomial Logistic Regression')\n",
    "plt.ylabel('Class')\n",
    "plt.xlabel('Feature')\n",
    "plt.show()"
   ]
  },
  {
   "cell_type": "code",
   "execution_count": 81,
   "id": "bc1d1f20",
   "metadata": {
    "scrolled": true
   },
   "outputs": [
    {
     "name": "stdout",
     "output_type": "stream",
     "text": [
      "Optimization terminated successfully.\n",
      "         Current function value: 0.428232\n",
      "         Iterations 8\n",
      "                           Logit Regression Results                           \n",
      "==============================================================================\n",
      "Dep. Variable:              ssb_group   No. Observations:                  232\n",
      "Model:                          Logit   Df Residuals:                      183\n",
      "Method:                           MLE   Df Model:                           48\n",
      "Date:                Sat, 23 Nov 2024   Pseudo R-squ.:                  0.3819\n",
      "Time:                        07:23:11   Log-Likelihood:                -99.350\n",
      "converged:                       True   LL-Null:                       -160.73\n",
      "Covariance Type:            nonrobust   LLR p-value:                 1.787e-08\n",
      "==================================================================================================\n",
      "                                     coef    std err          z      P>|z|      [0.025      0.975]\n",
      "--------------------------------------------------------------------------------------------------\n",
      "const                             -0.0603      0.311     -0.194      0.846      -0.669       0.549\n",
      "rsfmri_c_ngd_ad_ngd_cgc            2.3492      6.378      0.368      0.713     -10.151      14.849\n",
      "rsfmri_c_ngd_ad_ngd_vs             1.0149      4.092      0.248      0.804      -7.005       9.034\n",
      "rsfmri_c_ngd_cgc_ngd_cgc          -4.2945      4.162     -1.032      0.302     -12.451       3.862\n",
      "rsfmri_c_ngd_smh_ngd_smm           2.0506      3.210      0.639      0.523      -4.241       8.342\n",
      "rsfmri_c_ngd_sa_ngd_vta            2.0462      3.545      0.577      0.564      -4.902       8.994\n",
      "rsfmri_cor_ngd_au_scs_aalh        -4.7756      3.698     -1.291      0.197     -12.023       2.472\n",
      "rsfmri_cor_ngd_au_scs_ptrh         1.8736      3.844      0.487      0.626      -5.660       9.407\n",
      "rsfmri_cor_ngd_au_scs_vtdcrh       3.1658      4.155      0.762      0.446      -4.977      11.309\n",
      "rsfmri_cor_ngd_cerc_scs_cdelh      4.4005      4.364      1.008      0.313      -4.152      12.953\n",
      "rsfmri_cor_ngd_cerc_scs_ptlh      -1.5727      3.161     -0.497      0.619      -7.769       4.623\n",
      "rsfmri_cor_ngd_cerc_scs_aglh      -4.7619      5.715     -0.833      0.405     -15.964       6.440\n",
      "rsfmri_cor_ngd_cerc_scs_vtdclh    -1.1574      1.633     -0.709      0.478      -4.358       2.043\n",
      "rsfmri_cor_ngd_cerc_scs_hprh       5.6376      6.086      0.926      0.354      -6.291      17.566\n",
      "rsfmri_cor_ngd_cerc_scs_agrh      -2.2473      4.051     -0.555      0.579     -10.187       5.692\n",
      "rsfmri_cor_ngd_cerc_scs_vtdcrh    -6.2587      4.779     -1.310      0.190     -15.626       3.108\n",
      "rsfmri_cor_ngd_copa_scs_thplh      1.1951      5.466      0.219      0.827      -9.518      11.909\n",
      "rsfmri_cor_ngd_copa_scs_vtdclh    12.9257      6.145      2.103      0.035       0.882      24.970\n",
      "rsfmri_cor_ngd_copa_scs_plrh      -3.0238      3.233     -0.935      0.350      -9.360       3.312\n",
      "rsfmri_cor_ngd_df_scs_ptlh         2.1731      4.181      0.520      0.603      -6.022      10.368\n",
      "rsfmri_cor_ngd_df_scs_pllh         0.8833      2.543      0.347      0.728      -4.101       5.868\n",
      "rsfmri_cor_ngd_df_scs_aalh         4.0218      2.388      1.684      0.092      -0.659       8.703\n",
      "rsfmri_cor_ngd_none_scs_ptlh       1.6436      4.367      0.376      0.707      -6.915      10.202\n",
      "rsfmri_cor_ngd_none_scs_thprh      4.8505      4.607      1.053      0.292      -4.179      13.880\n",
      "rsfmri_cor_ngd_none_scs_cderh     -2.7695      3.041     -0.911      0.362      -8.730       3.191\n",
      "rsfmri_cor_ngd_rst_scs_bs          7.9817      3.782      2.110      0.035       0.569      15.394\n",
      "rsfmri_cor_ngd_rst_scs_thprh      -2.7711      3.022     -0.917      0.359      -8.694       3.152\n",
      "rsfmri_cor_ngd_rst_scs_hprh        0.4386      4.408      0.099      0.921      -8.202       9.079\n",
      "rsfmri_cor_ngd_rst_scs_vtdcrh     -2.2974      5.109     -0.450      0.653     -12.310       7.715\n",
      "rsfmri_cor_ngd_smh_scs_crcxlh      0.0873      2.731      0.032      0.975      -5.266       5.441\n",
      "rsfmri_cor_ngd_smh_scs_pllh        1.6218      5.941      0.273      0.785     -10.023      13.267\n",
      "rsfmri_cor_ngd_smh_scs_cderh      -8.1301      5.714     -1.423      0.155     -19.329       3.069\n",
      "rsfmri_cor_ngd_smh_scs_ptrh        2.4477      4.014      0.610      0.542      -5.420      10.315\n",
      "rsfmri_cor_ngd_smh_scs_hprh        4.3047      4.968      0.866      0.386      -5.433      14.042\n",
      "rsfmri_cor_ngd_smh_scs_aarh        2.7537      5.438      0.506      0.613      -7.905      13.412\n",
      "rsfmri_cor_ngd_smm_scs_hplh       -9.8564      5.648     -1.745      0.081     -20.926       1.213\n",
      "rsfmri_cor_ngd_smm_scs_aglh       -0.4684      2.642     -0.177      0.859      -5.647       4.711\n",
      "rsfmri_cor_ngd_smm_scs_thprh      -0.2507      3.851     -0.065      0.948      -7.798       7.297\n",
      "rsfmri_cor_ngd_sa_scs_crcxlh      -0.5468      3.953     -0.138      0.890      -8.294       7.200\n",
      "rsfmri_cor_ngd_sa_scs_thplh        2.1599      2.815      0.767      0.443      -3.357       7.677\n",
      "rsfmri_cor_ngd_vta_scs_hplh        0.9175      1.855      0.495      0.621      -2.719       4.554\n",
      "rsfmri_cor_ngd_vs_scs_hplh        -6.4780      3.851     -1.682      0.093     -14.025       1.069\n",
      "rsfmri_cor_ngd_vs_scs_thprh       -2.0180      3.299     -0.612      0.541      -8.484       4.448\n",
      "rsfmri_cor_ngd_vs_scs_plrh        -2.2492      4.285     -0.525      0.600     -10.647       6.149\n",
      "rsfmri_cor_ngd_vs_scs_hprh         0.0393      2.902      0.014      0.989      -5.648       5.727\n",
      "demo_comb_income_v2               -0.9894      0.201     -4.912      0.000      -1.384      -0.595\n",
      "interview_age                      0.0254      0.029      0.873      0.383      -0.032       0.082\n",
      "bmi_perc                           1.2770      0.736      1.735      0.083      -0.166       2.720\n",
      "sex_M                              0.4920      0.404      1.219      0.223      -0.299       1.283\n",
      "==================================================================================================\n"
     ]
    }
   ],
   "source": [
    "# Fit the multinomial logistic regression model\n",
    "logit_model = sm.Logit(y_testReg, X_testReg)\n",
    "result = logit_model.fit()\n",
    "print(result.summary())"
   ]
  },
  {
   "cell_type": "code",
   "execution_count": 82,
   "id": "54f50703",
   "metadata": {},
   "outputs": [],
   "source": [
    "# Making predictions\n",
    "predictions = result.predict(X_testReg)\n",
    "\n",
    "# Converting probabilities to class labels\n",
    "class_predictions = np.where(predictions > 0.5, 1, 0)"
   ]
  },
  {
   "cell_type": "code",
   "execution_count": 83,
   "id": "84557121",
   "metadata": {},
   "outputs": [],
   "source": [
    "array = y_testReg.to_numpy()"
   ]
  },
  {
   "cell_type": "code",
   "execution_count": 84,
   "id": "7063d30b",
   "metadata": {},
   "outputs": [],
   "source": [
    "dfPrevReal = pd.DataFrame({'real': array, 'pred': class_predictions})"
   ]
  },
  {
   "cell_type": "code",
   "execution_count": 85,
   "id": "1e74ce77",
   "metadata": {},
   "outputs": [
    {
     "name": "stdout",
     "output_type": "stream",
     "text": [
      "Jaccard Similarity Score: 0.6212121212121212\n"
     ]
    }
   ],
   "source": [
    "jaccard = jaccard_score(dfPrevReal['real'], dfPrevReal['pred'])\n",
    "print(\"Jaccard Similarity Score:\", jaccard)"
   ]
  },
  {
   "cell_type": "code",
   "execution_count": 86,
   "id": "6f0a57ee",
   "metadata": {},
   "outputs": [],
   "source": [
    "# Extract p-values for all coefficients in the model\n",
    "p_values = result.pvalues"
   ]
  },
  {
   "cell_type": "code",
   "execution_count": 87,
   "id": "c3669217",
   "metadata": {
    "scrolled": true
   },
   "outputs": [
    {
     "data": {
      "text/plain": [
       "const                             8.459923e-01\n",
       "rsfmri_c_ngd_ad_ngd_cgc           7.126159e-01\n",
       "rsfmri_c_ngd_ad_ngd_vs            8.040992e-01\n",
       "rsfmri_c_ngd_cgc_ngd_cgc          3.021206e-01\n",
       "rsfmri_c_ngd_smh_ngd_smm          5.229689e-01\n",
       "rsfmri_c_ngd_sa_ngd_vta           5.637830e-01\n",
       "rsfmri_cor_ngd_au_scs_aalh        1.965349e-01\n",
       "rsfmri_cor_ngd_au_scs_ptrh        6.259573e-01\n",
       "rsfmri_cor_ngd_au_scs_vtdcrh      4.460617e-01\n",
       "rsfmri_cor_ngd_cerc_scs_cdelh     3.132491e-01\n",
       "rsfmri_cor_ngd_cerc_scs_ptlh      6.188473e-01\n",
       "rsfmri_cor_ngd_cerc_scs_aglh      4.047473e-01\n",
       "rsfmri_cor_ngd_cerc_scs_vtdclh    4.784918e-01\n",
       "rsfmri_cor_ngd_cerc_scs_hprh      3.542967e-01\n",
       "rsfmri_cor_ngd_cerc_scs_agrh      5.790313e-01\n",
       "rsfmri_cor_ngd_cerc_scs_vtdcrh    1.903321e-01\n",
       "rsfmri_cor_ngd_copa_scs_thplh     8.269350e-01\n",
       "rsfmri_cor_ngd_copa_scs_vtdclh    3.542829e-02\n",
       "rsfmri_cor_ngd_copa_scs_plrh      3.496048e-01\n",
       "rsfmri_cor_ngd_df_scs_ptlh        6.032538e-01\n",
       "rsfmri_cor_ngd_df_scs_pllh        7.283551e-01\n",
       "rsfmri_cor_ngd_df_scs_aalh        9.218588e-02\n",
       "rsfmri_cor_ngd_none_scs_ptlh      7.066186e-01\n",
       "rsfmri_cor_ngd_none_scs_thprh     2.923866e-01\n",
       "rsfmri_cor_ngd_none_scs_cderh     3.624851e-01\n",
       "rsfmri_cor_ngd_rst_scs_bs         3.482175e-02\n",
       "rsfmri_cor_ngd_rst_scs_thprh      3.591340e-01\n",
       "rsfmri_cor_ngd_rst_scs_hprh       9.207543e-01\n",
       "rsfmri_cor_ngd_rst_scs_vtdcrh     6.529146e-01\n",
       "rsfmri_cor_ngd_smh_scs_crcxlh     9.745016e-01\n",
       "rsfmri_cor_ngd_smh_scs_pllh       7.848711e-01\n",
       "rsfmri_cor_ngd_smh_scs_cderh      1.547656e-01\n",
       "rsfmri_cor_ngd_smh_scs_ptrh       5.420227e-01\n",
       "rsfmri_cor_ngd_smh_scs_hprh       3.862586e-01\n",
       "rsfmri_cor_ngd_smh_scs_aarh       6.125929e-01\n",
       "rsfmri_cor_ngd_smm_scs_hplh       8.095011e-02\n",
       "rsfmri_cor_ngd_smm_scs_aglh       8.593013e-01\n",
       "rsfmri_cor_ngd_smm_scs_thprh      9.480897e-01\n",
       "rsfmri_cor_ngd_sa_scs_crcxlh      8.899627e-01\n",
       "rsfmri_cor_ngd_sa_scs_thplh       4.428803e-01\n",
       "rsfmri_cor_ngd_vta_scs_hplh       6.209308e-01\n",
       "rsfmri_cor_ngd_vs_scs_hplh        9.251674e-02\n",
       "rsfmri_cor_ngd_vs_scs_thprh       5.407376e-01\n",
       "rsfmri_cor_ngd_vs_scs_plrh        5.996229e-01\n",
       "rsfmri_cor_ngd_vs_scs_hprh        9.892028e-01\n",
       "demo_comb_income_v2               8.996283e-07\n",
       "interview_age                     3.826282e-01\n",
       "bmi_perc                          8.280450e-02\n",
       "sex_M                             2.228070e-01\n",
       "dtype: float64"
      ]
     },
     "execution_count": 87,
     "metadata": {},
     "output_type": "execute_result"
    }
   ],
   "source": [
    "result.pvalues"
   ]
  },
  {
   "cell_type": "code",
   "execution_count": 88,
   "id": "f2b2a81c",
   "metadata": {},
   "outputs": [],
   "source": [
    "# Apply Benjamini-Hochberg FDR correction\n",
    "reject, pvals_corrected, _, _ = multipletests(p_values.values.flatten(), alpha=0.05, method='fdr_bh')\n",
    "\n",
    "# Reshape the corrected p-values to match the original shape\n",
    "pvals_corrected_reshaped = pvals_corrected.reshape(p_values.shape)\n",
    "\n",
    "# Create a DataFrame of the corrected p-values for easier interpretation\n",
    "# corrected_pvalues_df = pd.DataFrame(pvals_corrected_reshaped, index=p_values.index, columns=p_values.columns)"
   ]
  },
  {
   "cell_type": "code",
   "execution_count": 89,
   "id": "3dd4946e",
   "metadata": {},
   "outputs": [
    {
     "data": {
      "text/plain": [
       "array([9.56949135e-01, 9.15112762e-01, 9.56949135e-01, 8.76340208e-01,\n",
       "       8.76340208e-01, 8.76340208e-01, 8.76340208e-01, 8.76340208e-01,\n",
       "       8.76340208e-01, 8.76340208e-01, 8.76340208e-01, 8.76340208e-01,\n",
       "       8.76340208e-01, 8.76340208e-01, 8.76340208e-01, 8.76340208e-01,\n",
       "       9.56949135e-01, 5.78662006e-01, 8.76340208e-01, 8.76340208e-01,\n",
       "       9.15112762e-01, 6.47617170e-01, 9.15112762e-01, 8.76340208e-01,\n",
       "       8.76340208e-01, 5.78662006e-01, 8.76340208e-01, 9.80803463e-01,\n",
       "       8.88689366e-01, 9.89202796e-01, 9.56949135e-01, 8.76340208e-01,\n",
       "       8.76340208e-01, 8.76340208e-01, 8.76340208e-01, 6.47617170e-01,\n",
       "       9.56949135e-01, 9.88433984e-01, 9.69070512e-01, 8.76340208e-01,\n",
       "       8.76340208e-01, 6.47617170e-01, 8.76340208e-01, 8.76340208e-01,\n",
       "       9.89202796e-01, 4.40817888e-05, 8.76340208e-01, 6.47617170e-01,\n",
       "       8.76340208e-01])"
      ]
     },
     "execution_count": 89,
     "metadata": {},
     "output_type": "execute_result"
    }
   ],
   "source": [
    "pvals_corrected_reshaped"
   ]
  },
  {
   "cell_type": "code",
   "execution_count": 97,
   "id": "3d153368",
   "metadata": {},
   "outputs": [],
   "source": [
    "saveDict = {'df': df, 'X': X, 'y': y, 'X_train': X_train, 'X_test': X_test, 'y_train':y_train, 'y_test':y_test, 'best_pipeline':best_pipeline, \n",
    "            'X_reg':result_sm, 'X_trainReg':X_trainReg,'X_testReg':X_testReg, 'y_trainReg':y_trainReg, 'y_testReg':y_testReg,\n",
    "            'logistic': result}"
   ]
  },
  {
   "cell_type": "markdown",
   "id": "28fbbb00",
   "metadata": {},
   "source": [
    "# Save results"
   ]
  },
  {
   "cell_type": "code",
   "execution_count": 99,
   "id": "fc2f9427",
   "metadata": {},
   "outputs": [],
   "source": [
    "import pickle\n",
    "from datetime import datetime\n",
    "from time import time\n"
   ]
  },
  {
   "cell_type": "code",
   "execution_count": 92,
   "id": "7948d5c7",
   "metadata": {},
   "outputs": [],
   "source": [
    "datefmt='%m-%d-%Y_%I-%M-%S'"
   ]
  },
  {
   "cell_type": "code",
   "execution_count": 93,
   "id": "eef3e004",
   "metadata": {},
   "outputs": [],
   "source": [
    "def onetoughjar(path2dic):\n",
    "    with open(path2dic, 'rb') as pickle_file:\n",
    "        try:\n",
    "            while True:\n",
    "                output = pickle.load(pickle_file)\n",
    "        except EOFError:\n",
    "            pass\n",
    "    return(output)"
   ]
  },
  {
   "cell_type": "code",
   "execution_count": 95,
   "id": "7e02fe92",
   "metadata": {},
   "outputs": [],
   "source": [
    "def adillyofapickle(basepath,dic, name):\n",
    "    st = datetime.fromtimestamp(time()).strftime(datefmt)\n",
    "    if os.path.exists(os.path.join(basepath,'tmp')):\n",
    "        print('already have tmp')\n",
    "    else:\n",
    "        os.makedirs(os.path.join(basepath,'tmp'))\n",
    "    pickle.dump(dic, open(os.path.join(basepath,'tmp','%s_%s'%(name,st)), 'wb'), protocol=4)"
   ]
  },
  {
   "cell_type": "code",
   "execution_count": 100,
   "id": "988d8a94",
   "metadata": {},
   "outputs": [],
   "source": [
    "adillyofapickle(basepath,saveDict, 'SSBABCDanalysis')"
   ]
  },
  {
   "cell_type": "code",
   "execution_count": null,
   "id": "10dbe3f5",
   "metadata": {},
   "outputs": [],
   "source": []
  }
 ],
 "metadata": {
  "kernelspec": {
   "display_name": "Python 3 (ipykernel)",
   "language": "python",
   "name": "python3"
  },
  "language_info": {
   "codemirror_mode": {
    "name": "ipython",
    "version": 3
   },
   "file_extension": ".py",
   "mimetype": "text/x-python",
   "name": "python",
   "nbconvert_exporter": "python",
   "pygments_lexer": "ipython3",
   "version": "3.8.8"
  }
 },
 "nbformat": 4,
 "nbformat_minor": 5
}
