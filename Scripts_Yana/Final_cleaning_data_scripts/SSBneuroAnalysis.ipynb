{
 "cells": [
  {
   "cell_type": "markdown",
   "id": "c55a1b3b",
   "metadata": {},
   "source": [
    "https://data-dict.abcdstudy.org/?"
   ]
  },
  {
   "cell_type": "code",
   "execution_count": 1,
   "id": "4afd7d8d",
   "metadata": {},
   "outputs": [],
   "source": [
    "import  scipy.signal.signaltools\n",
    "\n",
    "def _centered(arr, newsize):\n",
    "    # Return the center newsize portion of the array.\n",
    "    newsize = np.asarray(newsize)\n",
    "    currsize = np.array(arr.shape)\n",
    "    startind = (currsize - newsize) // 2\n",
    "    endind = startind + newsize\n",
    "    myslice = [slice(startind[k], endind[k]) for k in range(len(endind))]\n",
    "    return arr[tuple(myslice)]\n",
    "\n",
    "scipy.signal.signaltools._centered = _centered\n"
   ]
  },
  {
   "cell_type": "code",
   "execution_count": 2,
   "id": "62fb0ced",
   "metadata": {},
   "outputs": [
    {
     "name": "stderr",
     "output_type": "stream",
     "text": [
      "/Users/gracer/opt/anaconda3/lib/python3.8/site-packages/statsmodels/tsa/base/tsa_model.py:7: FutureWarning: pandas.Int64Index is deprecated and will be removed from pandas in a future version. Use pandas.Index with the appropriate dtype instead.\n",
      "  from pandas import (to_datetime, Int64Index, DatetimeIndex, Period,\n",
      "/Users/gracer/opt/anaconda3/lib/python3.8/site-packages/statsmodels/tsa/base/tsa_model.py:7: FutureWarning: pandas.Float64Index is deprecated and will be removed from pandas in a future version. Use pandas.Index with the appropriate dtype instead.\n",
      "  from pandas import (to_datetime, Int64Index, DatetimeIndex, Period,\n"
     ]
    }
   ],
   "source": [
    "import statsmodels.api as sm"
   ]
  },
  {
   "cell_type": "code",
   "execution_count": 3,
   "id": "a9fa766a",
   "metadata": {},
   "outputs": [
    {
     "name": "stderr",
     "output_type": "stream",
     "text": [
      "/Users/gracer/opt/anaconda3/lib/python3.8/site-packages/nilearn/input_data/__init__.py:23: FutureWarning: The import path 'nilearn.input_data' is deprecated in version 0.9. Importing from 'nilearn.input_data' will be possible at least until release 0.13.0. Please import from 'nilearn.maskers' instead.\n",
      "  warnings.warn(message, FutureWarning)\n"
     ]
    }
   ],
   "source": [
    "import pandas as pd\n",
    "import nilearn\n",
    "import numpy as np\n",
    "import glob \n",
    "import os\n",
    "import pickle\n",
    "\n",
    "from sklearn.model_selection import train_test_split\n",
    "from sklearn import svm\n",
    "from sklearn.metrics import pairwise_distances\n",
    "from sklearn.utils import check_random_state\n",
    "from sklearn.manifold import TSNE\n",
    "\n",
    "from sklearn.feature_selection import SelectKBest, f_classif\n",
    "from sklearn.pipeline import make_pipeline\n",
    "from sklearn.pipeline import Pipeline\n",
    "\n",
    "from sklearn.svm import LinearSVC\n",
    "\n",
    "from sklearn.model_selection import GridSearchCV\n",
    "from sklearn.svm import SVC\n",
    "from sklearn.metrics import accuracy_score\n",
    "from sklearn.metrics import confusion_matrix\n",
    "from sklearn.model_selection import cross_val_score\n",
    "from sklearn.metrics import jaccard_score\n",
    "from sklearn.linear_model import LogisticRegression\n",
    "\n",
    "from statsmodels.stats.outliers_influence import variance_inflation_factor\n",
    "from statsmodels.stats.multitest import multipletests\n",
    "\n",
    "\n",
    "from pathlib import Path\n",
    "\n",
    "from scipy.stats import rankdata, ttest_rel, ttest_1samp\n",
    "\n",
    "from matplotlib import pyplot as plt\n",
    "import matplotlib.lines as mlines\n",
    "import matplotlib.transforms as mtransforms\n",
    "\n",
    "import seaborn as sns\n",
    "\n",
    "import nibabel as nib\n",
    "from nilearn.input_data import NiftiLabelsMasker\n",
    "from nilearn.plotting import plot_glass_brain, plot_stat_map, view_img, view_img_on_surf\n",
    "\n",
    "from nltools.data import Brain_Data, Adjacency\n",
    "from nltools.mask import roi_to_brain, expand_mask\n",
    "from nltools.stats import fdr, threshold\n",
    "\n",
    "\n",
    "\n",
    "%matplotlib inline\n"
   ]
  },
  {
   "cell_type": "code",
   "execution_count": 64,
   "id": "b57f201a",
   "metadata": {},
   "outputs": [],
   "source": [
    "basepath = '/Users/gracer/Library/CloudStorage/OneDrive-UniversityofWyoming/0. Lab/M2AENAD Lab - Documents/RESEARCH/ABCD/Yana_SSIB_2024/'"
   ]
  },
  {
   "cell_type": "code",
   "execution_count": 65,
   "id": "21f653f0",
   "metadata": {},
   "outputs": [],
   "source": [
    "df = pd.read_csv(os.path.join(basepath,'data','matchedFinal.csv'))  "
   ]
  },
  {
   "cell_type": "code",
   "execution_count": 66,
   "id": "034c20ed",
   "metadata": {},
   "outputs": [],
   "source": [
    "# Get number of subjects\n",
    "n = df.shape[0]"
   ]
  },
  {
   "cell_type": "code",
   "execution_count": 67,
   "id": "5d090472",
   "metadata": {},
   "outputs": [
    {
     "data": {
      "text/plain": [
       "5562"
      ]
     },
     "execution_count": 67,
     "metadata": {},
     "output_type": "execute_result"
    }
   ],
   "source": [
    "n"
   ]
  },
  {
   "cell_type": "code",
   "execution_count": 68,
   "id": "f86c33e4",
   "metadata": {},
   "outputs": [
    {
     "name": "stdout",
     "output_type": "stream",
     "text": [
      "subjectkey 0\n",
      "sex 1\n",
      "bkfs_soda 2\n",
      "interview_age 3\n",
      "anthroheightcalc 4\n",
      "rsfmri_c_ngd_ad_ngd_ad 5\n",
      "rsfmri_c_ngd_ad_ngd_cgc 6\n",
      "rsfmri_c_ngd_ad_ngd_ca 7\n",
      "rsfmri_c_ngd_ad_ngd_dt 8\n",
      "rsfmri_c_ngd_ad_ngd_dla 9\n",
      "rsfmri_c_ngd_ad_ngd_fo 10\n",
      "rsfmri_c_ngd_ad_ngd_n 11\n",
      "rsfmri_c_ngd_ad_ngd_rspltp 12\n",
      "rsfmri_c_ngd_ad_ngd_smh 13\n",
      "rsfmri_c_ngd_ad_ngd_smm 14\n",
      "rsfmri_c_ngd_ad_ngd_sa 15\n",
      "rsfmri_c_ngd_ad_ngd_vta 16\n",
      "rsfmri_c_ngd_ad_ngd_vs 17\n",
      "rsfmri_c_ngd_cgc_ngd_ad 18\n",
      "rsfmri_c_ngd_cgc_ngd_cgc 19\n",
      "rsfmri_c_ngd_cgc_ngd_ca 20\n",
      "rsfmri_c_ngd_cgc_ngd_dt 21\n",
      "rsfmri_c_ngd_cgc_ngd_dla 22\n",
      "rsfmri_c_ngd_cgc_ngd_fo 23\n",
      "rsfmri_c_ngd_cgc_ngd_n 24\n",
      "rsfmri_c_ngd_cgc_ngd_rspltp 25\n",
      "rsfmri_c_ngd_cgc_ngd_smh 26\n",
      "rsfmri_c_ngd_cgc_ngd_smm 27\n",
      "rsfmri_c_ngd_cgc_ngd_sa 28\n",
      "rsfmri_c_ngd_cgc_ngd_vta 29\n",
      "rsfmri_c_ngd_cgc_ngd_vs 30\n",
      "rsfmri_c_ngd_ca_ngd_ad 31\n",
      "rsfmri_c_ngd_ca_ngd_cgc 32\n",
      "rsfmri_c_ngd_ca_ngd_ca 33\n",
      "rsfmri_c_ngd_ca_ngd_dt 34\n",
      "rsfmri_c_ngd_ca_ngd_dla 35\n",
      "rsfmri_c_ngd_ca_ngd_fo 36\n",
      "rsfmri_c_ngd_ca_ngd_n 37\n",
      "rsfmri_c_ngd_ca_ngd_rspltp 38\n",
      "rsfmri_c_ngd_ca_ngd_smh 39\n",
      "rsfmri_c_ngd_ca_ngd_smm 40\n",
      "rsfmri_c_ngd_ca_ngd_sa 41\n",
      "rsfmri_c_ngd_ca_ngd_vta 42\n",
      "rsfmri_c_ngd_ca_ngd_vs 43\n",
      "rsfmri_c_ngd_dt_ngd_ad 44\n",
      "rsfmri_c_ngd_dt_ngd_cgc 45\n",
      "rsfmri_c_ngd_dt_ngd_ca 46\n",
      "rsfmri_c_ngd_dt_ngd_dt 47\n",
      "rsfmri_c_ngd_dt_ngd_dla 48\n",
      "rsfmri_c_ngd_dt_ngd_fo 49\n",
      "rsfmri_c_ngd_dt_ngd_n 50\n",
      "rsfmri_c_ngd_dt_ngd_rspltp 51\n",
      "rsfmri_c_ngd_dt_ngd_smh 52\n",
      "rsfmri_c_ngd_dt_ngd_smm 53\n",
      "rsfmri_c_ngd_dt_ngd_sa 54\n",
      "rsfmri_c_ngd_dt_ngd_vta 55\n",
      "rsfmri_c_ngd_dt_ngd_vs 56\n",
      "rsfmri_c_ngd_dla_ngd_ad 57\n",
      "rsfmri_c_ngd_dla_ngd_cgc 58\n",
      "rsfmri_c_ngd_dla_ngd_ca 59\n",
      "rsfmri_c_ngd_dla_ngd_dt 60\n",
      "rsfmri_c_ngd_dla_ngd_dla 61\n",
      "rsfmri_c_ngd_dla_ngd_fo 62\n",
      "rsfmri_c_ngd_dla_ngd_n 63\n",
      "rsfmri_c_ngd_dla_ngd_rspltp 64\n",
      "rsfmri_c_ngd_dla_ngd_smh 65\n",
      "rsfmri_c_ngd_dla_ngd_smm 66\n",
      "rsfmri_c_ngd_dla_ngd_sa 67\n",
      "rsfmri_c_ngd_dla_ngd_vta 68\n",
      "rsfmri_c_ngd_dla_ngd_vs 69\n",
      "rsfmri_c_ngd_fo_ngd_ad 70\n",
      "rsfmri_c_ngd_fo_ngd_cgc 71\n",
      "rsfmri_c_ngd_fo_ngd_ca 72\n",
      "rsfmri_c_ngd_fo_ngd_dt 73\n",
      "rsfmri_c_ngd_fo_ngd_dla 74\n",
      "rsfmri_c_ngd_fo_ngd_fo 75\n",
      "rsfmri_c_ngd_fo_ngd_n 76\n",
      "rsfmri_c_ngd_fo_ngd_rspltp 77\n",
      "rsfmri_c_ngd_fo_ngd_smh 78\n",
      "rsfmri_c_ngd_fo_ngd_smm 79\n",
      "rsfmri_c_ngd_fo_ngd_sa 80\n",
      "rsfmri_c_ngd_fo_ngd_vta 81\n",
      "rsfmri_c_ngd_fo_ngd_vs 82\n",
      "rsfmri_c_ngd_n_ngd_ad 83\n",
      "rsfmri_c_ngd_n_ngd_cgc 84\n",
      "rsfmri_c_ngd_n_ngd_ca 85\n",
      "rsfmri_c_ngd_n_ngd_dt 86\n",
      "rsfmri_c_ngd_n_ngd_dla 87\n",
      "rsfmri_c_ngd_n_ngd_fo 88\n",
      "rsfmri_c_ngd_n_ngd_n 89\n",
      "rsfmri_c_ngd_n_ngd_rspltp 90\n",
      "rsfmri_c_ngd_n_ngd_smh 91\n",
      "rsfmri_c_ngd_n_ngd_smm 92\n",
      "rsfmri_c_ngd_n_ngd_sa 93\n",
      "rsfmri_c_ngd_n_ngd_vta 94\n",
      "rsfmri_c_ngd_n_ngd_vs 95\n",
      "rsfmri_c_ngd_rspltp_ngd_ad 96\n",
      "rsfmri_c_ngd_rspltp_ngd_cgc 97\n",
      "rsfmri_c_ngd_rspltp_ngd_ca 98\n",
      "rsfmri_c_ngd_rspltp_ngd_dt 99\n",
      "rsfmri_c_ngd_rspltp_ngd_dla 100\n",
      "rsfmri_c_ngd_rspltp_ngd_fo 101\n",
      "rsfmri_c_ngd_rspltp_ngd_n 102\n",
      "rsfmri_c_ngd_rspltp_ngd_rspltp 103\n",
      "rsfmri_c_ngd_rspltp_ngd_smh 104\n",
      "rsfmri_c_ngd_rspltp_ngd_smm 105\n",
      "rsfmri_c_ngd_rspltp_ngd_sa 106\n",
      "rsfmri_c_ngd_rspltp_ngd_vta 107\n",
      "rsfmri_c_ngd_rspltp_ngd_vs 108\n",
      "rsfmri_c_ngd_smh_ngd_ad 109\n",
      "rsfmri_c_ngd_smh_ngd_cgc 110\n",
      "rsfmri_c_ngd_smh_ngd_ca 111\n",
      "rsfmri_c_ngd_smh_ngd_dt 112\n",
      "rsfmri_c_ngd_smh_ngd_dla 113\n",
      "rsfmri_c_ngd_smh_ngd_fo 114\n",
      "rsfmri_c_ngd_smh_ngd_n 115\n",
      "rsfmri_c_ngd_smh_ngd_rspltp 116\n",
      "rsfmri_c_ngd_smh_ngd_smh 117\n",
      "rsfmri_c_ngd_smh_ngd_smm 118\n",
      "rsfmri_c_ngd_smh_ngd_sa 119\n",
      "rsfmri_c_ngd_smh_ngd_vta 120\n",
      "rsfmri_c_ngd_smh_ngd_vs 121\n",
      "rsfmri_c_ngd_smm_ngd_ad 122\n",
      "rsfmri_c_ngd_smm_ngd_cgc 123\n",
      "rsfmri_c_ngd_smm_ngd_ca 124\n",
      "rsfmri_c_ngd_smm_ngd_dt 125\n",
      "rsfmri_c_ngd_smm_ngd_dla 126\n",
      "rsfmri_c_ngd_smm_ngd_fo 127\n",
      "rsfmri_c_ngd_smm_ngd_n 128\n",
      "rsfmri_c_ngd_smm_ngd_rspltp 129\n",
      "rsfmri_c_ngd_smm_ngd_smh 130\n",
      "rsfmri_c_ngd_smm_ngd_smm 131\n",
      "rsfmri_c_ngd_smm_ngd_sa 132\n",
      "rsfmri_c_ngd_smm_ngd_vta 133\n",
      "rsfmri_c_ngd_smm_ngd_vs 134\n",
      "rsfmri_c_ngd_sa_ngd_ad 135\n",
      "rsfmri_c_ngd_sa_ngd_cgc 136\n",
      "rsfmri_c_ngd_sa_ngd_ca 137\n",
      "rsfmri_c_ngd_sa_ngd_dt 138\n",
      "rsfmri_c_ngd_sa_ngd_dla 139\n",
      "rsfmri_c_ngd_sa_ngd_fo 140\n",
      "rsfmri_c_ngd_sa_ngd_n 141\n",
      "rsfmri_c_ngd_sa_ngd_rspltp 142\n",
      "rsfmri_c_ngd_sa_ngd_smh 143\n",
      "rsfmri_c_ngd_sa_ngd_smm 144\n",
      "rsfmri_c_ngd_sa_ngd_sa 145\n",
      "rsfmri_c_ngd_sa_ngd_vta 146\n",
      "rsfmri_c_ngd_sa_ngd_vs 147\n",
      "rsfmri_c_ngd_vta_ngd_ad 148\n",
      "rsfmri_c_ngd_vta_ngd_cgc 149\n",
      "rsfmri_c_ngd_vta_ngd_ca 150\n",
      "rsfmri_c_ngd_vta_ngd_dt 151\n",
      "rsfmri_c_ngd_vta_ngd_dla 152\n",
      "rsfmri_c_ngd_vta_ngd_fo 153\n",
      "rsfmri_c_ngd_vta_ngd_n 154\n",
      "rsfmri_c_ngd_vta_ngd_rspltp 155\n",
      "rsfmri_c_ngd_vta_ngd_smh 156\n",
      "rsfmri_c_ngd_vta_ngd_smm 157\n",
      "rsfmri_c_ngd_vta_ngd_sa 158\n",
      "rsfmri_c_ngd_vta_ngd_vta 159\n",
      "rsfmri_c_ngd_vta_ngd_vs 160\n",
      "rsfmri_c_ngd_vs_ngd_ad 161\n",
      "rsfmri_c_ngd_vs_ngd_cgc 162\n",
      "rsfmri_c_ngd_vs_ngd_ca 163\n",
      "rsfmri_c_ngd_vs_ngd_dt 164\n",
      "rsfmri_c_ngd_vs_ngd_dla 165\n",
      "rsfmri_c_ngd_vs_ngd_fo 166\n",
      "rsfmri_c_ngd_vs_ngd_n 167\n",
      "rsfmri_c_ngd_vs_ngd_rspltp 168\n",
      "rsfmri_c_ngd_vs_ngd_smh 169\n",
      "rsfmri_c_ngd_vs_ngd_smm 170\n",
      "rsfmri_c_ngd_vs_ngd_sa 171\n",
      "rsfmri_c_ngd_vs_ngd_vta 172\n",
      "rsfmri_c_ngd_vs_ngd_vs 173\n",
      "rsfmri_cor_ngd_au_scs_crcxlh 174\n",
      "rsfmri_cor_ngd_au_scs_thplh 175\n",
      "rsfmri_cor_ngd_au_scs_cdelh 176\n",
      "rsfmri_cor_ngd_au_scs_ptlh 177\n",
      "rsfmri_cor_ngd_au_scs_pllh 178\n",
      "rsfmri_cor_ngd_au_scs_bs 179\n",
      "rsfmri_cor_ngd_au_scs_hplh 180\n",
      "rsfmri_cor_ngd_au_scs_aglh 181\n",
      "rsfmri_cor_ngd_au_scs_aalh 182\n",
      "rsfmri_cor_ngd_au_scs_vtdclh 183\n",
      "rsfmri_cor_ngd_au_scs_crcxrh 184\n",
      "rsfmri_cor_ngd_au_scs_thprh 185\n",
      "rsfmri_cor_ngd_au_scs_cderh 186\n",
      "rsfmri_cor_ngd_au_scs_ptrh 187\n",
      "rsfmri_cor_ngd_au_scs_plrh 188\n",
      "rsfmri_cor_ngd_au_scs_hprh 189\n",
      "rsfmri_cor_ngd_au_scs_agrh 190\n",
      "rsfmri_cor_ngd_au_scs_aarh 191\n",
      "rsfmri_cor_ngd_au_scs_vtdcrh 192\n",
      "rsfmri_cor_ngd_cerc_scs_crcxlh 193\n",
      "rsfmri_cor_ngd_cerc_scs_thplh 194\n",
      "rsfmri_cor_ngd_cerc_scs_cdelh 195\n",
      "rsfmri_cor_ngd_cerc_scs_ptlh 196\n",
      "rsfmri_cor_ngd_cerc_scs_pllh 197\n",
      "rsfmri_cor_ngd_cerc_scs_bs 198\n",
      "rsfmri_cor_ngd_cerc_scs_hplh 199\n",
      "rsfmri_cor_ngd_cerc_scs_aglh 200\n",
      "rsfmri_cor_ngd_cerc_scs_aalh 201\n",
      "rsfmri_cor_ngd_cerc_scs_vtdclh 202\n",
      "rsfmri_cor_ngd_cerc_scs_crcxrh 203\n",
      "rsfmri_cor_ngd_cerc_scs_thprh 204\n",
      "rsfmri_cor_ngd_cerc_scs_cderh 205\n",
      "rsfmri_cor_ngd_cerc_scs_ptrh 206\n",
      "rsfmri_cor_ngd_cerc_scs_plrh 207\n",
      "rsfmri_cor_ngd_cerc_scs_hprh 208\n",
      "rsfmri_cor_ngd_cerc_scs_agrh 209\n",
      "rsfmri_cor_ngd_cerc_scs_aarh 210\n",
      "rsfmri_cor_ngd_cerc_scs_vtdcrh 211\n",
      "rsfmri_cor_ngd_copa_scs_crcxlh 212\n",
      "rsfmri_cor_ngd_copa_scs_thplh 213\n",
      "rsfmri_cor_ngd_copa_scs_cdelh 214\n",
      "rsfmri_cor_ngd_copa_scs_ptlh 215\n",
      "rsfmri_cor_ngd_copa_scs_pllh 216\n",
      "rsfmri_cor_ngd_copa_scs_bs 217\n",
      "rsfmri_cor_ngd_copa_scs_hplh 218\n",
      "rsfmri_cor_ngd_copa_scs_aglh 219\n",
      "rsfmri_cor_ngd_copa_scs_aalh 220\n",
      "rsfmri_cor_ngd_copa_scs_vtdclh 221\n",
      "rsfmri_cor_ngd_copa_scs_crcxrh 222\n",
      "rsfmri_cor_ngd_copa_scs_thprh 223\n",
      "rsfmri_cor_ngd_copa_scs_cderh 224\n",
      "rsfmri_cor_ngd_copa_scs_ptrh 225\n",
      "rsfmri_cor_ngd_copa_scs_plrh 226\n",
      "rsfmri_cor_ngd_copa_scs_hprh 227\n",
      "rsfmri_cor_ngd_copa_scs_agrh 228\n",
      "rsfmri_cor_ngd_copa_scs_aarh 229\n",
      "rsfmri_cor_ngd_copa_scs_vtdcrh 230\n",
      "rsfmri_cor_ngd_df_scs_crcxlh 231\n",
      "rsfmri_cor_ngd_df_scs_thplh 232\n",
      "rsfmri_cor_ngd_df_scs_cdelh 233\n",
      "rsfmri_cor_ngd_df_scs_ptlh 234\n",
      "rsfmri_cor_ngd_df_scs_pllh 235\n",
      "rsfmri_cor_ngd_df_scs_bs 236\n",
      "rsfmri_cor_ngd_df_scs_hplh 237\n",
      "rsfmri_cor_ngd_df_scs_aglh 238\n",
      "rsfmri_cor_ngd_df_scs_aalh 239\n",
      "rsfmri_cor_ngd_df_scs_vtdclh 240\n",
      "rsfmri_cor_ngd_df_scs_crcxrh 241\n",
      "rsfmri_cor_ngd_df_scs_thprh 242\n",
      "rsfmri_cor_ngd_df_scs_cderh 243\n",
      "rsfmri_cor_ngd_df_scs_ptrh 244\n",
      "rsfmri_cor_ngd_df_scs_plrh 245\n",
      "rsfmri_cor_ngd_df_scs_hprh 246\n",
      "rsfmri_cor_ngd_df_scs_agrh 247\n",
      "rsfmri_cor_ngd_df_scs_aarh 248\n",
      "rsfmri_cor_ngd_df_scs_vtdcrh 249\n",
      "rsfmri_cor_ngd_dsa_scs_crcxlh 250\n",
      "rsfmri_cor_ngd_dsa_scs_thplh 251\n",
      "rsfmri_cor_ngd_dsa_scs_cdelh 252\n",
      "rsfmri_cor_ngd_dsa_scs_ptlh 253\n",
      "rsfmri_cor_ngd_dsa_scs_pllh 254\n",
      "rsfmri_cor_ngd_dsa_scs_bs 255\n",
      "rsfmri_cor_ngd_dsa_scs_hplh 256\n",
      "rsfmri_cor_ngd_dsa_scs_aglh 257\n",
      "rsfmri_cor_ngd_dsa_scs_aalh 258\n",
      "rsfmri_cor_ngd_dsa_scs_vtdclh 259\n",
      "rsfmri_cor_ngd_dsa_scs_crcxrh 260\n",
      "rsfmri_cor_ngd_dsa_scs_thprh 261\n",
      "rsfmri_cor_ngd_dsa_scs_cderh 262\n",
      "rsfmri_cor_ngd_dsa_scs_ptrh 263\n",
      "rsfmri_cor_ngd_dsa_scs_plrh 264\n",
      "rsfmri_cor_ngd_dsa_scs_hprh 265\n",
      "rsfmri_cor_ngd_dsa_scs_agrh 266\n",
      "rsfmri_cor_ngd_dsa_scs_aarh 267\n",
      "rsfmri_cor_ngd_dsa_scs_vtdcrh 268\n",
      "rsfmri_cor_ngd_fopa_scs_crcxlh 269\n",
      "rsfmri_cor_ngd_fopa_scs_thplh 270\n",
      "rsfmri_cor_ngd_fopa_scs_cdelh 271\n",
      "rsfmri_cor_ngd_fopa_scs_ptlh 272\n",
      "rsfmri_cor_ngd_fopa_scs_pllh 273\n",
      "rsfmri_cor_ngd_fopa_scs_bs 274\n",
      "rsfmri_cor_ngd_fopa_scs_hplh 275\n",
      "rsfmri_cor_ngd_fopa_scs_aglh 276\n",
      "rsfmri_cor_ngd_fopa_scs_aalh 277\n",
      "rsfmri_cor_ngd_fopa_scs_vtdclh 278\n",
      "rsfmri_cor_ngd_fopa_scs_crcxrh 279\n",
      "rsfmri_cor_ngd_fopa_scs_thprh 280\n",
      "rsfmri_cor_ngd_fopa_scs_cderh 281\n",
      "rsfmri_cor_ngd_fopa_scs_ptrh 282\n",
      "rsfmri_cor_ngd_fopa_scs_plrh 283\n",
      "rsfmri_cor_ngd_fopa_scs_hprh 284\n",
      "rsfmri_cor_ngd_fopa_scs_agrh 285\n",
      "rsfmri_cor_ngd_fopa_scs_aarh 286\n",
      "rsfmri_cor_ngd_fopa_scs_vtdcrh 287\n",
      "rsfmri_cor_ngd_none_scs_crcxlh 288\n",
      "rsfmri_cor_ngd_none_scs_thplh 289\n",
      "rsfmri_cor_ngd_none_scs_cdelh 290\n",
      "rsfmri_cor_ngd_none_scs_ptlh 291\n",
      "rsfmri_cor_ngd_none_scs_pllh 292\n",
      "rsfmri_cor_ngd_none_scs_bs 293\n",
      "rsfmri_cor_ngd_none_scs_hplh 294\n",
      "rsfmri_cor_ngd_none_scs_aglh 295\n",
      "rsfmri_cor_ngd_none_scs_aalh 296\n",
      "rsfmri_cor_ngd_none_scs_vtdclh 297\n",
      "rsfmri_cor_ngd_none_scs_crcxrh 298\n",
      "rsfmri_cor_ngd_none_scs_thprh 299\n",
      "rsfmri_cor_ngd_none_scs_cderh 300\n",
      "rsfmri_cor_ngd_none_scs_ptrh 301\n",
      "rsfmri_cor_ngd_none_scs_plrh 302\n",
      "rsfmri_cor_ngd_none_scs_hprh 303\n",
      "rsfmri_cor_ngd_none_scs_agrh 304\n",
      "rsfmri_cor_ngd_none_scs_aarh 305\n",
      "rsfmri_cor_ngd_none_scs_vtdcrh 306\n",
      "rsfmri_cor_ngd_rst_scs_crcxlh 307\n",
      "rsfmri_cor_ngd_rst_scs_thplh 308\n",
      "rsfmri_cor_ngd_rst_scs_cdelh 309\n",
      "rsfmri_cor_ngd_rst_scs_ptlh 310\n",
      "rsfmri_cor_ngd_rst_scs_pllh 311\n",
      "rsfmri_cor_ngd_rst_scs_bs 312\n",
      "rsfmri_cor_ngd_rst_scs_hplh 313\n",
      "rsfmri_cor_ngd_rst_scs_aglh 314\n",
      "rsfmri_cor_ngd_rst_scs_aalh 315\n",
      "rsfmri_cor_ngd_rst_scs_vtdclh 316\n",
      "rsfmri_cor_ngd_rst_scs_crcxrh 317\n",
      "rsfmri_cor_ngd_rst_scs_thprh 318\n",
      "rsfmri_cor_ngd_rst_scs_cderh 319\n",
      "rsfmri_cor_ngd_rst_scs_ptrh 320\n",
      "rsfmri_cor_ngd_rst_scs_plrh 321\n",
      "rsfmri_cor_ngd_rst_scs_hprh 322\n",
      "rsfmri_cor_ngd_rst_scs_agrh 323\n",
      "rsfmri_cor_ngd_rst_scs_aarh 324\n",
      "rsfmri_cor_ngd_rst_scs_vtdcrh 325\n",
      "rsfmri_cor_ngd_smh_scs_crcxlh 326\n",
      "rsfmri_cor_ngd_smh_scs_thplh 327\n",
      "rsfmri_cor_ngd_smh_scs_cdelh 328\n",
      "rsfmri_cor_ngd_smh_scs_ptlh 329\n",
      "rsfmri_cor_ngd_smh_scs_pllh 330\n",
      "rsfmri_cor_ngd_smh_scs_bs 331\n",
      "rsfmri_cor_ngd_smh_scs_hplh 332\n",
      "rsfmri_cor_ngd_smh_scs_aglh 333\n",
      "rsfmri_cor_ngd_smh_scs_aalh 334\n",
      "rsfmri_cor_ngd_smh_scs_vtdclh 335\n",
      "rsfmri_cor_ngd_smh_scs_crcxrh 336\n",
      "rsfmri_cor_ngd_smh_scs_thprh 337\n",
      "rsfmri_cor_ngd_smh_scs_cderh 338\n",
      "rsfmri_cor_ngd_smh_scs_ptrh 339\n",
      "rsfmri_cor_ngd_smh_scs_plrh 340\n",
      "rsfmri_cor_ngd_smh_scs_hprh 341\n",
      "rsfmri_cor_ngd_smh_scs_agrh 342\n",
      "rsfmri_cor_ngd_smh_scs_aarh 343\n",
      "rsfmri_cor_ngd_smh_scs_vtdcrh 344\n",
      "rsfmri_cor_ngd_smm_scs_crcxlh 345\n",
      "rsfmri_cor_ngd_smm_scs_thplh 346\n",
      "rsfmri_cor_ngd_smm_scs_cdelh 347\n",
      "rsfmri_cor_ngd_smm_scs_ptlh 348\n",
      "rsfmri_cor_ngd_smm_scs_pllh 349\n",
      "rsfmri_cor_ngd_smm_scs_bs 350\n",
      "rsfmri_cor_ngd_smm_scs_hplh 351\n",
      "rsfmri_cor_ngd_smm_scs_aglh 352\n",
      "rsfmri_cor_ngd_smm_scs_aalh 353\n",
      "rsfmri_cor_ngd_smm_scs_vtdclh 354\n",
      "rsfmri_cor_ngd_smm_scs_crcxrh 355\n",
      "rsfmri_cor_ngd_smm_scs_thprh 356\n",
      "rsfmri_cor_ngd_smm_scs_cderh 357\n",
      "rsfmri_cor_ngd_smm_scs_ptrh 358\n",
      "rsfmri_cor_ngd_smm_scs_plrh 359\n",
      "rsfmri_cor_ngd_smm_scs_hprh 360\n",
      "rsfmri_cor_ngd_smm_scs_agrh 361\n",
      "rsfmri_cor_ngd_smm_scs_aarh 362\n",
      "rsfmri_cor_ngd_smm_scs_vtdcrh 363\n",
      "rsfmri_cor_ngd_sa_scs_crcxlh 364\n",
      "rsfmri_cor_ngd_sa_scs_thplh 365\n",
      "rsfmri_cor_ngd_sa_scs_cdelh 366\n",
      "rsfmri_cor_ngd_sa_scs_ptlh 367\n",
      "rsfmri_cor_ngd_sa_scs_pllh 368\n",
      "rsfmri_cor_ngd_sa_scs_bs 369\n",
      "rsfmri_cor_ngd_sa_scs_hplh 370\n",
      "rsfmri_cor_ngd_sa_scs_aglh 371\n",
      "rsfmri_cor_ngd_sa_scs_aalh 372\n",
      "rsfmri_cor_ngd_sa_scs_vtdclh 373\n",
      "rsfmri_cor_ngd_sa_scs_crcxrh 374\n",
      "rsfmri_cor_ngd_sa_scs_thprh 375\n",
      "rsfmri_cor_ngd_sa_scs_cderh 376\n",
      "rsfmri_cor_ngd_sa_scs_ptrh 377\n",
      "rsfmri_cor_ngd_sa_scs_plrh 378\n",
      "rsfmri_cor_ngd_sa_scs_hprh 379\n",
      "rsfmri_cor_ngd_sa_scs_agrh 380\n",
      "rsfmri_cor_ngd_sa_scs_aarh 381\n",
      "rsfmri_cor_ngd_sa_scs_vtdcrh 382\n",
      "rsfmri_cor_ngd_vta_scs_crcxlh 383\n",
      "rsfmri_cor_ngd_vta_scs_thplh 384\n",
      "rsfmri_cor_ngd_vta_scs_cdelh 385\n",
      "rsfmri_cor_ngd_vta_scs_ptlh 386\n",
      "rsfmri_cor_ngd_vta_scs_pllh 387\n",
      "rsfmri_cor_ngd_vta_scs_bs 388\n",
      "rsfmri_cor_ngd_vta_scs_hplh 389\n",
      "rsfmri_cor_ngd_vta_scs_aglh 390\n",
      "rsfmri_cor_ngd_vta_scs_aalh 391\n",
      "rsfmri_cor_ngd_vta_scs_vtdclh 392\n",
      "rsfmri_cor_ngd_vta_scs_crcxrh 393\n",
      "rsfmri_cor_ngd_vta_scs_thprh 394\n",
      "rsfmri_cor_ngd_vta_scs_cderh 395\n",
      "rsfmri_cor_ngd_vta_scs_ptrh 396\n",
      "rsfmri_cor_ngd_vta_scs_plrh 397\n",
      "rsfmri_cor_ngd_vta_scs_hprh 398\n",
      "rsfmri_cor_ngd_vta_scs_agrh 399\n",
      "rsfmri_cor_ngd_vta_scs_aarh 400\n",
      "rsfmri_cor_ngd_vta_scs_vtdcrh 401\n",
      "rsfmri_cor_ngd_vs_scs_crcxlh 402\n",
      "rsfmri_cor_ngd_vs_scs_thplh 403\n",
      "rsfmri_cor_ngd_vs_scs_cdelh 404\n",
      "rsfmri_cor_ngd_vs_scs_ptlh 405\n",
      "rsfmri_cor_ngd_vs_scs_pllh 406\n",
      "rsfmri_cor_ngd_vs_scs_bs 407\n",
      "rsfmri_cor_ngd_vs_scs_hplh 408\n",
      "rsfmri_cor_ngd_vs_scs_aglh 409\n",
      "rsfmri_cor_ngd_vs_scs_aalh 410\n",
      "rsfmri_cor_ngd_vs_scs_vtdclh 411\n",
      "rsfmri_cor_ngd_vs_scs_crcxrh 412\n",
      "rsfmri_cor_ngd_vs_scs_thprh 413\n",
      "rsfmri_cor_ngd_vs_scs_cderh 414\n",
      "rsfmri_cor_ngd_vs_scs_ptrh 415\n",
      "rsfmri_cor_ngd_vs_scs_plrh 416\n",
      "rsfmri_cor_ngd_vs_scs_hprh 417\n",
      "rsfmri_cor_ngd_vs_scs_agrh 418\n",
      "rsfmri_cor_ngd_vs_scs_aarh 419\n",
      "rsfmri_cor_ngd_vs_scs_vtdcrh 420\n",
      "demo_comb_income_v2 421\n",
      "anthroweightcalc 422\n",
      "BMI 423\n",
      "age_years 424\n",
      "bmi_perc 425\n",
      "ssb_group 426\n",
      "distance 427\n",
      "weights 428\n",
      "subclass 429\n"
     ]
    },
    {
     "data": {
      "text/plain": [
       "['sex',\n",
       " 'interview_age',\n",
       " 'rsfmri_c_ngd_ad_ngd_ad',\n",
       " 'rsfmri_c_ngd_ad_ngd_cgc',\n",
       " 'rsfmri_c_ngd_ad_ngd_ca',\n",
       " 'rsfmri_c_ngd_ad_ngd_dt',\n",
       " 'rsfmri_c_ngd_ad_ngd_dla',\n",
       " 'rsfmri_c_ngd_ad_ngd_fo',\n",
       " 'rsfmri_c_ngd_ad_ngd_n',\n",
       " 'rsfmri_c_ngd_ad_ngd_rspltp',\n",
       " 'rsfmri_c_ngd_ad_ngd_smh',\n",
       " 'rsfmri_c_ngd_ad_ngd_smm',\n",
       " 'rsfmri_c_ngd_ad_ngd_sa',\n",
       " 'rsfmri_c_ngd_ad_ngd_vta',\n",
       " 'rsfmri_c_ngd_ad_ngd_vs',\n",
       " 'rsfmri_c_ngd_cgc_ngd_ad',\n",
       " 'rsfmri_c_ngd_cgc_ngd_cgc',\n",
       " 'rsfmri_c_ngd_cgc_ngd_ca',\n",
       " 'rsfmri_c_ngd_cgc_ngd_dt',\n",
       " 'rsfmri_c_ngd_cgc_ngd_dla',\n",
       " 'rsfmri_c_ngd_cgc_ngd_fo',\n",
       " 'rsfmri_c_ngd_cgc_ngd_n',\n",
       " 'rsfmri_c_ngd_cgc_ngd_rspltp',\n",
       " 'rsfmri_c_ngd_cgc_ngd_smh',\n",
       " 'rsfmri_c_ngd_cgc_ngd_smm',\n",
       " 'rsfmri_c_ngd_cgc_ngd_sa',\n",
       " 'rsfmri_c_ngd_cgc_ngd_vta',\n",
       " 'rsfmri_c_ngd_cgc_ngd_vs',\n",
       " 'rsfmri_c_ngd_ca_ngd_ad',\n",
       " 'rsfmri_c_ngd_ca_ngd_cgc',\n",
       " 'rsfmri_c_ngd_ca_ngd_ca',\n",
       " 'rsfmri_c_ngd_ca_ngd_dt',\n",
       " 'rsfmri_c_ngd_ca_ngd_dla',\n",
       " 'rsfmri_c_ngd_ca_ngd_fo',\n",
       " 'rsfmri_c_ngd_ca_ngd_n',\n",
       " 'rsfmri_c_ngd_ca_ngd_rspltp',\n",
       " 'rsfmri_c_ngd_ca_ngd_smh',\n",
       " 'rsfmri_c_ngd_ca_ngd_smm',\n",
       " 'rsfmri_c_ngd_ca_ngd_sa',\n",
       " 'rsfmri_c_ngd_ca_ngd_vta',\n",
       " 'rsfmri_c_ngd_ca_ngd_vs',\n",
       " 'rsfmri_c_ngd_dt_ngd_ad',\n",
       " 'rsfmri_c_ngd_dt_ngd_cgc',\n",
       " 'rsfmri_c_ngd_dt_ngd_ca',\n",
       " 'rsfmri_c_ngd_dt_ngd_dt',\n",
       " 'rsfmri_c_ngd_dt_ngd_dla',\n",
       " 'rsfmri_c_ngd_dt_ngd_fo',\n",
       " 'rsfmri_c_ngd_dt_ngd_n',\n",
       " 'rsfmri_c_ngd_dt_ngd_rspltp',\n",
       " 'rsfmri_c_ngd_dt_ngd_smh',\n",
       " 'rsfmri_c_ngd_dt_ngd_smm',\n",
       " 'rsfmri_c_ngd_dt_ngd_sa',\n",
       " 'rsfmri_c_ngd_dt_ngd_vta',\n",
       " 'rsfmri_c_ngd_dt_ngd_vs',\n",
       " 'rsfmri_c_ngd_dla_ngd_ad',\n",
       " 'rsfmri_c_ngd_dla_ngd_cgc',\n",
       " 'rsfmri_c_ngd_dla_ngd_ca',\n",
       " 'rsfmri_c_ngd_dla_ngd_dt',\n",
       " 'rsfmri_c_ngd_dla_ngd_dla',\n",
       " 'rsfmri_c_ngd_dla_ngd_fo',\n",
       " 'rsfmri_c_ngd_dla_ngd_n',\n",
       " 'rsfmri_c_ngd_dla_ngd_rspltp',\n",
       " 'rsfmri_c_ngd_dla_ngd_smh',\n",
       " 'rsfmri_c_ngd_dla_ngd_smm',\n",
       " 'rsfmri_c_ngd_dla_ngd_sa',\n",
       " 'rsfmri_c_ngd_dla_ngd_vta',\n",
       " 'rsfmri_c_ngd_dla_ngd_vs',\n",
       " 'rsfmri_c_ngd_fo_ngd_ad',\n",
       " 'rsfmri_c_ngd_fo_ngd_cgc',\n",
       " 'rsfmri_c_ngd_fo_ngd_ca',\n",
       " 'rsfmri_c_ngd_fo_ngd_dt',\n",
       " 'rsfmri_c_ngd_fo_ngd_dla',\n",
       " 'rsfmri_c_ngd_fo_ngd_fo',\n",
       " 'rsfmri_c_ngd_fo_ngd_n',\n",
       " 'rsfmri_c_ngd_fo_ngd_rspltp',\n",
       " 'rsfmri_c_ngd_fo_ngd_smh',\n",
       " 'rsfmri_c_ngd_fo_ngd_smm',\n",
       " 'rsfmri_c_ngd_fo_ngd_sa',\n",
       " 'rsfmri_c_ngd_fo_ngd_vta',\n",
       " 'rsfmri_c_ngd_fo_ngd_vs',\n",
       " 'rsfmri_c_ngd_n_ngd_ad',\n",
       " 'rsfmri_c_ngd_n_ngd_cgc',\n",
       " 'rsfmri_c_ngd_n_ngd_ca',\n",
       " 'rsfmri_c_ngd_n_ngd_dt',\n",
       " 'rsfmri_c_ngd_n_ngd_dla',\n",
       " 'rsfmri_c_ngd_n_ngd_fo',\n",
       " 'rsfmri_c_ngd_n_ngd_n',\n",
       " 'rsfmri_c_ngd_n_ngd_rspltp',\n",
       " 'rsfmri_c_ngd_n_ngd_smh',\n",
       " 'rsfmri_c_ngd_n_ngd_smm',\n",
       " 'rsfmri_c_ngd_n_ngd_sa',\n",
       " 'rsfmri_c_ngd_n_ngd_vta',\n",
       " 'rsfmri_c_ngd_n_ngd_vs',\n",
       " 'rsfmri_c_ngd_rspltp_ngd_ad',\n",
       " 'rsfmri_c_ngd_rspltp_ngd_cgc',\n",
       " 'rsfmri_c_ngd_rspltp_ngd_ca',\n",
       " 'rsfmri_c_ngd_rspltp_ngd_dt',\n",
       " 'rsfmri_c_ngd_rspltp_ngd_dla',\n",
       " 'rsfmri_c_ngd_rspltp_ngd_fo',\n",
       " 'rsfmri_c_ngd_rspltp_ngd_n',\n",
       " 'rsfmri_c_ngd_rspltp_ngd_rspltp',\n",
       " 'rsfmri_c_ngd_rspltp_ngd_smh',\n",
       " 'rsfmri_c_ngd_rspltp_ngd_smm',\n",
       " 'rsfmri_c_ngd_rspltp_ngd_sa',\n",
       " 'rsfmri_c_ngd_rspltp_ngd_vta',\n",
       " 'rsfmri_c_ngd_rspltp_ngd_vs',\n",
       " 'rsfmri_c_ngd_smh_ngd_ad',\n",
       " 'rsfmri_c_ngd_smh_ngd_cgc',\n",
       " 'rsfmri_c_ngd_smh_ngd_ca',\n",
       " 'rsfmri_c_ngd_smh_ngd_dt',\n",
       " 'rsfmri_c_ngd_smh_ngd_dla',\n",
       " 'rsfmri_c_ngd_smh_ngd_fo',\n",
       " 'rsfmri_c_ngd_smh_ngd_n',\n",
       " 'rsfmri_c_ngd_smh_ngd_rspltp',\n",
       " 'rsfmri_c_ngd_smh_ngd_smh',\n",
       " 'rsfmri_c_ngd_smh_ngd_smm',\n",
       " 'rsfmri_c_ngd_smh_ngd_sa',\n",
       " 'rsfmri_c_ngd_smh_ngd_vta',\n",
       " 'rsfmri_c_ngd_smh_ngd_vs',\n",
       " 'rsfmri_c_ngd_smm_ngd_ad',\n",
       " 'rsfmri_c_ngd_smm_ngd_cgc',\n",
       " 'rsfmri_c_ngd_smm_ngd_ca',\n",
       " 'rsfmri_c_ngd_smm_ngd_dt',\n",
       " 'rsfmri_c_ngd_smm_ngd_dla',\n",
       " 'rsfmri_c_ngd_smm_ngd_fo',\n",
       " 'rsfmri_c_ngd_smm_ngd_n',\n",
       " 'rsfmri_c_ngd_smm_ngd_rspltp',\n",
       " 'rsfmri_c_ngd_smm_ngd_smh',\n",
       " 'rsfmri_c_ngd_smm_ngd_smm',\n",
       " 'rsfmri_c_ngd_smm_ngd_sa',\n",
       " 'rsfmri_c_ngd_smm_ngd_vta',\n",
       " 'rsfmri_c_ngd_smm_ngd_vs',\n",
       " 'rsfmri_c_ngd_sa_ngd_ad',\n",
       " 'rsfmri_c_ngd_sa_ngd_cgc',\n",
       " 'rsfmri_c_ngd_sa_ngd_ca',\n",
       " 'rsfmri_c_ngd_sa_ngd_dt',\n",
       " 'rsfmri_c_ngd_sa_ngd_dla',\n",
       " 'rsfmri_c_ngd_sa_ngd_fo',\n",
       " 'rsfmri_c_ngd_sa_ngd_n',\n",
       " 'rsfmri_c_ngd_sa_ngd_rspltp',\n",
       " 'rsfmri_c_ngd_sa_ngd_smh',\n",
       " 'rsfmri_c_ngd_sa_ngd_smm',\n",
       " 'rsfmri_c_ngd_sa_ngd_sa',\n",
       " 'rsfmri_c_ngd_sa_ngd_vta',\n",
       " 'rsfmri_c_ngd_sa_ngd_vs',\n",
       " 'rsfmri_c_ngd_vta_ngd_ad',\n",
       " 'rsfmri_c_ngd_vta_ngd_cgc',\n",
       " 'rsfmri_c_ngd_vta_ngd_ca',\n",
       " 'rsfmri_c_ngd_vta_ngd_dt',\n",
       " 'rsfmri_c_ngd_vta_ngd_dla',\n",
       " 'rsfmri_c_ngd_vta_ngd_fo',\n",
       " 'rsfmri_c_ngd_vta_ngd_n',\n",
       " 'rsfmri_c_ngd_vta_ngd_rspltp',\n",
       " 'rsfmri_c_ngd_vta_ngd_smh',\n",
       " 'rsfmri_c_ngd_vta_ngd_smm',\n",
       " 'rsfmri_c_ngd_vta_ngd_sa',\n",
       " 'rsfmri_c_ngd_vta_ngd_vta',\n",
       " 'rsfmri_c_ngd_vta_ngd_vs',\n",
       " 'rsfmri_c_ngd_vs_ngd_ad',\n",
       " 'rsfmri_c_ngd_vs_ngd_cgc',\n",
       " 'rsfmri_c_ngd_vs_ngd_ca',\n",
       " 'rsfmri_c_ngd_vs_ngd_dt',\n",
       " 'rsfmri_c_ngd_vs_ngd_dla',\n",
       " 'rsfmri_c_ngd_vs_ngd_fo',\n",
       " 'rsfmri_c_ngd_vs_ngd_n',\n",
       " 'rsfmri_c_ngd_vs_ngd_rspltp',\n",
       " 'rsfmri_c_ngd_vs_ngd_smh',\n",
       " 'rsfmri_c_ngd_vs_ngd_smm',\n",
       " 'rsfmri_c_ngd_vs_ngd_sa',\n",
       " 'rsfmri_c_ngd_vs_ngd_vta',\n",
       " 'rsfmri_c_ngd_vs_ngd_vs',\n",
       " 'rsfmri_cor_ngd_au_scs_crcxlh',\n",
       " 'rsfmri_cor_ngd_au_scs_thplh',\n",
       " 'rsfmri_cor_ngd_au_scs_cdelh',\n",
       " 'rsfmri_cor_ngd_au_scs_ptlh',\n",
       " 'rsfmri_cor_ngd_au_scs_pllh',\n",
       " 'rsfmri_cor_ngd_au_scs_bs',\n",
       " 'rsfmri_cor_ngd_au_scs_hplh',\n",
       " 'rsfmri_cor_ngd_au_scs_aglh',\n",
       " 'rsfmri_cor_ngd_au_scs_aalh',\n",
       " 'rsfmri_cor_ngd_au_scs_vtdclh',\n",
       " 'rsfmri_cor_ngd_au_scs_crcxrh',\n",
       " 'rsfmri_cor_ngd_au_scs_thprh',\n",
       " 'rsfmri_cor_ngd_au_scs_cderh',\n",
       " 'rsfmri_cor_ngd_au_scs_ptrh',\n",
       " 'rsfmri_cor_ngd_au_scs_plrh',\n",
       " 'rsfmri_cor_ngd_au_scs_hprh',\n",
       " 'rsfmri_cor_ngd_au_scs_agrh',\n",
       " 'rsfmri_cor_ngd_au_scs_aarh',\n",
       " 'rsfmri_cor_ngd_au_scs_vtdcrh',\n",
       " 'rsfmri_cor_ngd_cerc_scs_crcxlh',\n",
       " 'rsfmri_cor_ngd_cerc_scs_thplh',\n",
       " 'rsfmri_cor_ngd_cerc_scs_cdelh',\n",
       " 'rsfmri_cor_ngd_cerc_scs_ptlh',\n",
       " 'rsfmri_cor_ngd_cerc_scs_pllh',\n",
       " 'rsfmri_cor_ngd_cerc_scs_bs',\n",
       " 'rsfmri_cor_ngd_cerc_scs_hplh',\n",
       " 'rsfmri_cor_ngd_cerc_scs_aglh',\n",
       " 'rsfmri_cor_ngd_cerc_scs_aalh',\n",
       " 'rsfmri_cor_ngd_cerc_scs_vtdclh',\n",
       " 'rsfmri_cor_ngd_cerc_scs_crcxrh',\n",
       " 'rsfmri_cor_ngd_cerc_scs_thprh',\n",
       " 'rsfmri_cor_ngd_cerc_scs_cderh',\n",
       " 'rsfmri_cor_ngd_cerc_scs_ptrh',\n",
       " 'rsfmri_cor_ngd_cerc_scs_plrh',\n",
       " 'rsfmri_cor_ngd_cerc_scs_hprh',\n",
       " 'rsfmri_cor_ngd_cerc_scs_agrh',\n",
       " 'rsfmri_cor_ngd_cerc_scs_aarh',\n",
       " 'rsfmri_cor_ngd_cerc_scs_vtdcrh',\n",
       " 'rsfmri_cor_ngd_copa_scs_crcxlh',\n",
       " 'rsfmri_cor_ngd_copa_scs_thplh',\n",
       " 'rsfmri_cor_ngd_copa_scs_cdelh',\n",
       " 'rsfmri_cor_ngd_copa_scs_ptlh',\n",
       " 'rsfmri_cor_ngd_copa_scs_pllh',\n",
       " 'rsfmri_cor_ngd_copa_scs_bs',\n",
       " 'rsfmri_cor_ngd_copa_scs_hplh',\n",
       " 'rsfmri_cor_ngd_copa_scs_aglh',\n",
       " 'rsfmri_cor_ngd_copa_scs_aalh',\n",
       " 'rsfmri_cor_ngd_copa_scs_vtdclh',\n",
       " 'rsfmri_cor_ngd_copa_scs_crcxrh',\n",
       " 'rsfmri_cor_ngd_copa_scs_thprh',\n",
       " 'rsfmri_cor_ngd_copa_scs_cderh',\n",
       " 'rsfmri_cor_ngd_copa_scs_ptrh',\n",
       " 'rsfmri_cor_ngd_copa_scs_plrh',\n",
       " 'rsfmri_cor_ngd_copa_scs_hprh',\n",
       " 'rsfmri_cor_ngd_copa_scs_agrh',\n",
       " 'rsfmri_cor_ngd_copa_scs_aarh',\n",
       " 'rsfmri_cor_ngd_copa_scs_vtdcrh',\n",
       " 'rsfmri_cor_ngd_df_scs_crcxlh',\n",
       " 'rsfmri_cor_ngd_df_scs_thplh',\n",
       " 'rsfmri_cor_ngd_df_scs_cdelh',\n",
       " 'rsfmri_cor_ngd_df_scs_ptlh',\n",
       " 'rsfmri_cor_ngd_df_scs_pllh',\n",
       " 'rsfmri_cor_ngd_df_scs_bs',\n",
       " 'rsfmri_cor_ngd_df_scs_hplh',\n",
       " 'rsfmri_cor_ngd_df_scs_aglh',\n",
       " 'rsfmri_cor_ngd_df_scs_aalh',\n",
       " 'rsfmri_cor_ngd_df_scs_vtdclh',\n",
       " 'rsfmri_cor_ngd_df_scs_crcxrh',\n",
       " 'rsfmri_cor_ngd_df_scs_thprh',\n",
       " 'rsfmri_cor_ngd_df_scs_cderh',\n",
       " 'rsfmri_cor_ngd_df_scs_ptrh',\n",
       " 'rsfmri_cor_ngd_df_scs_plrh',\n",
       " 'rsfmri_cor_ngd_df_scs_hprh',\n",
       " 'rsfmri_cor_ngd_df_scs_agrh',\n",
       " 'rsfmri_cor_ngd_df_scs_aarh',\n",
       " 'rsfmri_cor_ngd_df_scs_vtdcrh',\n",
       " 'rsfmri_cor_ngd_dsa_scs_crcxlh',\n",
       " 'rsfmri_cor_ngd_dsa_scs_thplh',\n",
       " 'rsfmri_cor_ngd_dsa_scs_cdelh',\n",
       " 'rsfmri_cor_ngd_dsa_scs_ptlh',\n",
       " 'rsfmri_cor_ngd_dsa_scs_pllh',\n",
       " 'rsfmri_cor_ngd_dsa_scs_bs',\n",
       " 'rsfmri_cor_ngd_dsa_scs_hplh',\n",
       " 'rsfmri_cor_ngd_dsa_scs_aglh',\n",
       " 'rsfmri_cor_ngd_dsa_scs_aalh',\n",
       " 'rsfmri_cor_ngd_dsa_scs_vtdclh',\n",
       " 'rsfmri_cor_ngd_dsa_scs_crcxrh',\n",
       " 'rsfmri_cor_ngd_dsa_scs_thprh',\n",
       " 'rsfmri_cor_ngd_dsa_scs_cderh',\n",
       " 'rsfmri_cor_ngd_dsa_scs_ptrh',\n",
       " 'rsfmri_cor_ngd_dsa_scs_plrh',\n",
       " 'rsfmri_cor_ngd_dsa_scs_hprh',\n",
       " 'rsfmri_cor_ngd_dsa_scs_agrh',\n",
       " 'rsfmri_cor_ngd_dsa_scs_aarh',\n",
       " 'rsfmri_cor_ngd_dsa_scs_vtdcrh',\n",
       " 'rsfmri_cor_ngd_fopa_scs_crcxlh',\n",
       " 'rsfmri_cor_ngd_fopa_scs_thplh',\n",
       " 'rsfmri_cor_ngd_fopa_scs_cdelh',\n",
       " 'rsfmri_cor_ngd_fopa_scs_ptlh',\n",
       " 'rsfmri_cor_ngd_fopa_scs_pllh',\n",
       " 'rsfmri_cor_ngd_fopa_scs_bs',\n",
       " 'rsfmri_cor_ngd_fopa_scs_hplh',\n",
       " 'rsfmri_cor_ngd_fopa_scs_aglh',\n",
       " 'rsfmri_cor_ngd_fopa_scs_aalh',\n",
       " 'rsfmri_cor_ngd_fopa_scs_vtdclh',\n",
       " 'rsfmri_cor_ngd_fopa_scs_crcxrh',\n",
       " 'rsfmri_cor_ngd_fopa_scs_thprh',\n",
       " 'rsfmri_cor_ngd_fopa_scs_cderh',\n",
       " 'rsfmri_cor_ngd_fopa_scs_ptrh',\n",
       " 'rsfmri_cor_ngd_fopa_scs_plrh',\n",
       " 'rsfmri_cor_ngd_fopa_scs_hprh',\n",
       " 'rsfmri_cor_ngd_fopa_scs_agrh',\n",
       " 'rsfmri_cor_ngd_fopa_scs_aarh',\n",
       " 'rsfmri_cor_ngd_fopa_scs_vtdcrh',\n",
       " 'rsfmri_cor_ngd_none_scs_crcxlh',\n",
       " 'rsfmri_cor_ngd_none_scs_thplh',\n",
       " 'rsfmri_cor_ngd_none_scs_cdelh',\n",
       " 'rsfmri_cor_ngd_none_scs_ptlh',\n",
       " 'rsfmri_cor_ngd_none_scs_pllh',\n",
       " 'rsfmri_cor_ngd_none_scs_bs',\n",
       " 'rsfmri_cor_ngd_none_scs_hplh',\n",
       " 'rsfmri_cor_ngd_none_scs_aglh',\n",
       " 'rsfmri_cor_ngd_none_scs_aalh',\n",
       " 'rsfmri_cor_ngd_none_scs_vtdclh',\n",
       " 'rsfmri_cor_ngd_none_scs_crcxrh',\n",
       " 'rsfmri_cor_ngd_none_scs_thprh',\n",
       " 'rsfmri_cor_ngd_none_scs_cderh',\n",
       " 'rsfmri_cor_ngd_none_scs_ptrh',\n",
       " 'rsfmri_cor_ngd_none_scs_plrh',\n",
       " 'rsfmri_cor_ngd_none_scs_hprh',\n",
       " 'rsfmri_cor_ngd_none_scs_agrh',\n",
       " 'rsfmri_cor_ngd_none_scs_aarh',\n",
       " 'rsfmri_cor_ngd_none_scs_vtdcrh',\n",
       " 'rsfmri_cor_ngd_rst_scs_crcxlh',\n",
       " 'rsfmri_cor_ngd_rst_scs_thplh',\n",
       " 'rsfmri_cor_ngd_rst_scs_cdelh',\n",
       " 'rsfmri_cor_ngd_rst_scs_ptlh',\n",
       " 'rsfmri_cor_ngd_rst_scs_pllh',\n",
       " 'rsfmri_cor_ngd_rst_scs_bs',\n",
       " 'rsfmri_cor_ngd_rst_scs_hplh',\n",
       " 'rsfmri_cor_ngd_rst_scs_aglh',\n",
       " 'rsfmri_cor_ngd_rst_scs_aalh',\n",
       " 'rsfmri_cor_ngd_rst_scs_vtdclh',\n",
       " 'rsfmri_cor_ngd_rst_scs_crcxrh',\n",
       " 'rsfmri_cor_ngd_rst_scs_thprh',\n",
       " 'rsfmri_cor_ngd_rst_scs_cderh',\n",
       " 'rsfmri_cor_ngd_rst_scs_ptrh',\n",
       " 'rsfmri_cor_ngd_rst_scs_plrh',\n",
       " 'rsfmri_cor_ngd_rst_scs_hprh',\n",
       " 'rsfmri_cor_ngd_rst_scs_agrh',\n",
       " 'rsfmri_cor_ngd_rst_scs_aarh',\n",
       " 'rsfmri_cor_ngd_rst_scs_vtdcrh',\n",
       " 'rsfmri_cor_ngd_smh_scs_crcxlh',\n",
       " 'rsfmri_cor_ngd_smh_scs_thplh',\n",
       " 'rsfmri_cor_ngd_smh_scs_cdelh',\n",
       " 'rsfmri_cor_ngd_smh_scs_ptlh',\n",
       " 'rsfmri_cor_ngd_smh_scs_pllh',\n",
       " 'rsfmri_cor_ngd_smh_scs_bs',\n",
       " 'rsfmri_cor_ngd_smh_scs_hplh',\n",
       " 'rsfmri_cor_ngd_smh_scs_aglh',\n",
       " 'rsfmri_cor_ngd_smh_scs_aalh',\n",
       " 'rsfmri_cor_ngd_smh_scs_vtdclh',\n",
       " 'rsfmri_cor_ngd_smh_scs_crcxrh',\n",
       " 'rsfmri_cor_ngd_smh_scs_thprh',\n",
       " 'rsfmri_cor_ngd_smh_scs_cderh',\n",
       " 'rsfmri_cor_ngd_smh_scs_ptrh',\n",
       " 'rsfmri_cor_ngd_smh_scs_plrh',\n",
       " 'rsfmri_cor_ngd_smh_scs_hprh',\n",
       " 'rsfmri_cor_ngd_smh_scs_agrh',\n",
       " 'rsfmri_cor_ngd_smh_scs_aarh',\n",
       " 'rsfmri_cor_ngd_smh_scs_vtdcrh',\n",
       " 'rsfmri_cor_ngd_smm_scs_crcxlh',\n",
       " 'rsfmri_cor_ngd_smm_scs_thplh',\n",
       " 'rsfmri_cor_ngd_smm_scs_cdelh',\n",
       " 'rsfmri_cor_ngd_smm_scs_ptlh',\n",
       " 'rsfmri_cor_ngd_smm_scs_pllh',\n",
       " 'rsfmri_cor_ngd_smm_scs_bs',\n",
       " 'rsfmri_cor_ngd_smm_scs_hplh',\n",
       " 'rsfmri_cor_ngd_smm_scs_aglh',\n",
       " 'rsfmri_cor_ngd_smm_scs_aalh',\n",
       " 'rsfmri_cor_ngd_smm_scs_vtdclh',\n",
       " 'rsfmri_cor_ngd_smm_scs_crcxrh',\n",
       " 'rsfmri_cor_ngd_smm_scs_thprh',\n",
       " 'rsfmri_cor_ngd_smm_scs_cderh',\n",
       " 'rsfmri_cor_ngd_smm_scs_ptrh',\n",
       " 'rsfmri_cor_ngd_smm_scs_plrh',\n",
       " 'rsfmri_cor_ngd_smm_scs_hprh',\n",
       " 'rsfmri_cor_ngd_smm_scs_agrh',\n",
       " 'rsfmri_cor_ngd_smm_scs_aarh',\n",
       " 'rsfmri_cor_ngd_smm_scs_vtdcrh',\n",
       " 'rsfmri_cor_ngd_sa_scs_crcxlh',\n",
       " 'rsfmri_cor_ngd_sa_scs_thplh',\n",
       " 'rsfmri_cor_ngd_sa_scs_cdelh',\n",
       " 'rsfmri_cor_ngd_sa_scs_ptlh',\n",
       " 'rsfmri_cor_ngd_sa_scs_pllh',\n",
       " 'rsfmri_cor_ngd_sa_scs_bs',\n",
       " 'rsfmri_cor_ngd_sa_scs_hplh',\n",
       " 'rsfmri_cor_ngd_sa_scs_aglh',\n",
       " 'rsfmri_cor_ngd_sa_scs_aalh',\n",
       " 'rsfmri_cor_ngd_sa_scs_vtdclh',\n",
       " 'rsfmri_cor_ngd_sa_scs_crcxrh',\n",
       " 'rsfmri_cor_ngd_sa_scs_thprh',\n",
       " 'rsfmri_cor_ngd_sa_scs_cderh',\n",
       " 'rsfmri_cor_ngd_sa_scs_ptrh',\n",
       " 'rsfmri_cor_ngd_sa_scs_plrh',\n",
       " 'rsfmri_cor_ngd_sa_scs_hprh',\n",
       " 'rsfmri_cor_ngd_sa_scs_agrh',\n",
       " 'rsfmri_cor_ngd_sa_scs_aarh',\n",
       " 'rsfmri_cor_ngd_sa_scs_vtdcrh',\n",
       " 'rsfmri_cor_ngd_vta_scs_crcxlh',\n",
       " 'rsfmri_cor_ngd_vta_scs_thplh',\n",
       " 'rsfmri_cor_ngd_vta_scs_cdelh',\n",
       " 'rsfmri_cor_ngd_vta_scs_ptlh',\n",
       " 'rsfmri_cor_ngd_vta_scs_pllh',\n",
       " 'rsfmri_cor_ngd_vta_scs_bs',\n",
       " 'rsfmri_cor_ngd_vta_scs_hplh',\n",
       " 'rsfmri_cor_ngd_vta_scs_aglh',\n",
       " 'rsfmri_cor_ngd_vta_scs_aalh',\n",
       " 'rsfmri_cor_ngd_vta_scs_vtdclh',\n",
       " 'rsfmri_cor_ngd_vta_scs_crcxrh',\n",
       " 'rsfmri_cor_ngd_vta_scs_thprh',\n",
       " 'rsfmri_cor_ngd_vta_scs_cderh',\n",
       " 'rsfmri_cor_ngd_vta_scs_ptrh',\n",
       " 'rsfmri_cor_ngd_vta_scs_plrh',\n",
       " 'rsfmri_cor_ngd_vta_scs_hprh',\n",
       " 'rsfmri_cor_ngd_vta_scs_agrh',\n",
       " 'rsfmri_cor_ngd_vta_scs_aarh',\n",
       " 'rsfmri_cor_ngd_vta_scs_vtdcrh',\n",
       " 'rsfmri_cor_ngd_vs_scs_crcxlh',\n",
       " 'rsfmri_cor_ngd_vs_scs_thplh',\n",
       " 'rsfmri_cor_ngd_vs_scs_cdelh',\n",
       " 'rsfmri_cor_ngd_vs_scs_ptlh',\n",
       " 'rsfmri_cor_ngd_vs_scs_pllh',\n",
       " 'rsfmri_cor_ngd_vs_scs_bs',\n",
       " 'rsfmri_cor_ngd_vs_scs_hplh',\n",
       " 'rsfmri_cor_ngd_vs_scs_aglh',\n",
       " 'rsfmri_cor_ngd_vs_scs_aalh',\n",
       " 'rsfmri_cor_ngd_vs_scs_vtdclh',\n",
       " 'rsfmri_cor_ngd_vs_scs_crcxrh',\n",
       " 'rsfmri_cor_ngd_vs_scs_thprh',\n",
       " 'rsfmri_cor_ngd_vs_scs_cderh',\n",
       " 'rsfmri_cor_ngd_vs_scs_ptrh',\n",
       " 'rsfmri_cor_ngd_vs_scs_plrh',\n",
       " 'rsfmri_cor_ngd_vs_scs_hprh',\n",
       " 'rsfmri_cor_ngd_vs_scs_agrh',\n",
       " 'rsfmri_cor_ngd_vs_scs_aarh',\n",
       " 'rsfmri_cor_ngd_vs_scs_vtdcrh',\n",
       " 'demo_comb_income_v2',\n",
       " 'bmi_perc']"
      ]
     },
     "execution_count": 68,
     "metadata": {},
     "output_type": "execute_result"
    }
   ],
   "source": [
    "#looking for columns location to gather them into list later\n",
    "rois_0 = list(df.columns)\n",
    "\n",
    "for i in rois_0:\n",
    "    print(i, df.columns.get_loc(i))\n",
    "\n",
    "#Columns needed: 1,3,5:421,425\n",
    "#Don't need the subject keys!\n",
    "ROIS = []\n",
    "ROIS.append(rois_0[1])\n",
    "ROIS.append(rois_0[3])\n",
    "for i in rois_0[5:422]: #here need 422 to get 421 included!\n",
    "    ROIS.append(i)\n",
    "ROIS.append(rois_0[425])\n",
    "ROIS"
   ]
  },
  {
   "cell_type": "code",
   "execution_count": 69,
   "id": "3d676ab9",
   "metadata": {},
   "outputs": [
    {
     "data": {
      "text/plain": [
       "420"
      ]
     },
     "execution_count": 69,
     "metadata": {},
     "output_type": "execute_result"
    }
   ],
   "source": [
    "len(ROIS)"
   ]
  },
  {
   "cell_type": "code",
   "execution_count": 10,
   "id": "255161e0",
   "metadata": {},
   "outputs": [],
   "source": [
    "nonBrain = [list(df.columns)[5], list(df.columns)[7] , list(df.columns)[-19],list(df.columns)[-15]]"
   ]
  },
  {
   "cell_type": "code",
   "execution_count": 20,
   "id": "961bbc01",
   "metadata": {},
   "outputs": [
    {
     "data": {
      "text/plain": [
       "['rsfmri_c_ngd_ad_ngd_ad',\n",
       " 'rsfmri_c_ngd_ad_ngd_ca',\n",
       " 'rsfmri_cor_ngd_vs_scs_vtdclh',\n",
       " 'rsfmri_cor_ngd_vs_scs_ptrh']"
      ]
     },
     "execution_count": 20,
     "metadata": {},
     "output_type": "execute_result"
    }
   ],
   "source": [
    "nonBrain"
   ]
  },
  {
   "cell_type": "code",
   "execution_count": 11,
   "id": "82ea9a8e",
   "metadata": {
    "scrolled": false
   },
   "outputs": [],
   "source": [
    "ROIs = list(df.columns)[11:-23]"
   ]
  },
  {
   "cell_type": "code",
   "execution_count": 15,
   "id": "4ee71337",
   "metadata": {},
   "outputs": [],
   "source": [
    "ROIS2 = nonBrain+ROIs"
   ]
  },
  {
   "cell_type": "code",
   "execution_count": 16,
   "id": "bdb4fe31",
   "metadata": {},
   "outputs": [
    {
     "data": {
      "text/plain": [
       "400"
      ]
     },
     "execution_count": 16,
     "metadata": {},
     "output_type": "execute_result"
    }
   ],
   "source": [
    "len(list(ROIS2))"
   ]
  },
  {
   "cell_type": "code",
   "execution_count": 70,
   "id": "abdfc9c3",
   "metadata": {},
   "outputs": [],
   "source": [
    "#3. Set sex to 0 for M and 1 for female  \n",
    "df.replace({'sex': {'F': 1, 'M': 0}}, inplace=True)\n",
    "\n",
    "#4. Set ssb groups to low =0, medium = 1, and high = 2  \n",
    "df.replace({'ssb_group': {'low': 0, 'high': 2}}, inplace=True)\n",
    "\n",
    "#5. Drop the medium group  \n",
    "df = df[df['ssb_group'] != \"medium\"]\n",
    "\n",
    "#6. Create a dataframe called 'X' that is a subset of the dataframe with only the columns in the ROIS list.\n",
    "X = df[ROIS]\n"
   ]
  },
  {
   "cell_type": "markdown",
   "id": "c3c07841",
   "metadata": {},
   "source": [
    "# checking what is different"
   ]
  },
  {
   "cell_type": "code",
   "execution_count": 19,
   "id": "1486df6f",
   "metadata": {},
   "outputs": [
    {
     "name": "stdout",
     "output_type": "stream",
     "text": [
      "['demo_comb_income_v2', 'rsfmri_cor_ngd_vs_scs_bs', 'interview_age', 'rsfmri_c_ngd_ad_ngd_cgc', 'sex', 'bmi_perc', 'rsfmri_cor_ngd_vs_scs_thprh', 'rsfmri_cor_ngd_vs_scs_hplh', 'rsfmri_cor_ngd_vs_scs_aglh', 'rsfmri_c_ngd_ad_ngd_fo', 'rsfmri_cor_ngd_vs_scs_agrh', 'rsfmri_c_ngd_ad_ngd_dt', 'rsfmri_cor_ngd_vs_scs_aarh', 'rsfmri_cor_ngd_vs_scs_aalh', 'rsfmri_cor_ngd_vs_scs_hprh', 'rsfmri_cor_ngd_vs_scs_crcxrh', 'rsfmri_cor_ngd_vs_scs_vtdcrh', 'rsfmri_cor_ngd_vs_scs_cderh', 'rsfmri_c_ngd_ad_ngd_dla', 'rsfmri_cor_ngd_vs_scs_plrh']\n"
     ]
    }
   ],
   "source": [
    "# Convert to sets and use symmetric difference\n",
    "result = list(set(ROIS) ^ set(ROIS2))\n",
    "print(result)  # Output: [1, 2, 3, 6, 7, 8]"
   ]
  },
  {
   "cell_type": "code",
   "execution_count": 21,
   "id": "7ed6988b",
   "metadata": {},
   "outputs": [],
   "source": [
    "df['ssb_group'] = df['ssb_group'].replace({'low':0,'high':1})"
   ]
  },
  {
   "cell_type": "code",
   "execution_count": 51,
   "id": "069147d5",
   "metadata": {},
   "outputs": [],
   "source": [
    "#4. Set ssb groups to low =0, medium = 1, and high = 2  \n",
    "#df.replace({'ssb_group': {'low': 0, 'high': 2}}, inplace=True)\n",
    "#3. Set sex to 0 for M and 1 for female  \n",
    "df.replace({'sex': {'F': 1, 'M': 0}}, inplace=True)\n",
    "\n",
    "#5. Drop the medium group  \n",
    "df = df[df['ssb_group'] != \"medium\"]\n"
   ]
  },
  {
   "cell_type": "code",
   "execution_count": 52,
   "id": "bb51e282",
   "metadata": {},
   "outputs": [],
   "source": [
    "X = df[ROIS] #features"
   ]
  },
  {
   "cell_type": "code",
   "execution_count": 71,
   "id": "89b62315",
   "metadata": {},
   "outputs": [
    {
     "data": {
      "text/plain": [
       "(3708, 420)"
      ]
     },
     "execution_count": 71,
     "metadata": {},
     "output_type": "execute_result"
    }
   ],
   "source": [
    "X.shape"
   ]
  },
  {
   "cell_type": "code",
   "execution_count": 72,
   "id": "150ab41b",
   "metadata": {},
   "outputs": [],
   "source": [
    "# Transpose the DataFrame to make columns become rows\n",
    "X_T = X.T\n",
    "\n",
    "duplicates = X_T.duplicated(keep='first')\n"
   ]
  },
  {
   "cell_type": "code",
   "execution_count": 73,
   "id": "32b23f7d",
   "metadata": {},
   "outputs": [],
   "source": [
    "# Identifying columns to drop (all duplicates except the first occurrence)\n",
    "cols_to_drop = X_T[duplicates].index\n"
   ]
  },
  {
   "cell_type": "code",
   "execution_count": 74,
   "id": "ca9b2e89",
   "metadata": {
    "scrolled": true
   },
   "outputs": [
    {
     "name": "stdout",
     "output_type": "stream",
     "text": [
      "      sex  interview_age  rsfmri_c_ngd_ad_ngd_ad  rsfmri_c_ngd_ad_ngd_cgc  \\\n",
      "0       0            121                0.213868                 0.165938   \n",
      "1       0            125                0.328113                 0.152373   \n",
      "2       0            124                0.372677                 0.183640   \n",
      "3       1            116                0.271710                 0.136162   \n",
      "4       0            114                0.369960                 0.192517   \n",
      "...   ...            ...                     ...                      ...   \n",
      "5557    1            114                0.267806                 0.223559   \n",
      "5558    0            125                0.264370                 0.180252   \n",
      "5559    1            125                0.389125                 0.185672   \n",
      "5560    0            112                0.423005                 0.122905   \n",
      "5561    0            108                0.417296                 0.222191   \n",
      "\n",
      "      rsfmri_c_ngd_ad_ngd_ca  rsfmri_c_ngd_ad_ngd_dt  rsfmri_c_ngd_ad_ngd_dla  \\\n",
      "0                  -0.030807                0.052226                -0.061720   \n",
      "1                  -0.127411               -0.033414                -0.083417   \n",
      "2                  -0.025945               -0.043670                -0.038043   \n",
      "3                  -0.071880               -0.040917                 0.005814   \n",
      "4                   0.107008                0.004900                -0.083105   \n",
      "...                      ...                     ...                      ...   \n",
      "5557               -0.033785               -0.014161                -0.042092   \n",
      "5558               -0.117751               -0.084011                 0.030005   \n",
      "5559               -0.071543               -0.052378                -0.070848   \n",
      "5560               -0.114824               -0.079433                -0.086332   \n",
      "5561               -0.023937                0.051333                -0.059719   \n",
      "\n",
      "      rsfmri_c_ngd_ad_ngd_fo  rsfmri_c_ngd_ad_ngd_n  \\\n",
      "0                   0.039206               0.051652   \n",
      "1                  -0.045689              -0.001342   \n",
      "2                  -0.031804              -0.008028   \n",
      "3                  -0.031913              -0.014773   \n",
      "4                   0.014276               0.019605   \n",
      "...                      ...                    ...   \n",
      "5557                0.031422               0.010342   \n",
      "5558                0.051858              -0.018696   \n",
      "5559                0.000084              -0.004978   \n",
      "5560               -0.108114              -0.023778   \n",
      "5561                0.040057               0.034143   \n",
      "\n",
      "      rsfmri_c_ngd_ad_ngd_rspltp  ...  rsfmri_cor_ngd_vs_scs_thprh  \\\n",
      "0                       0.200635  ...                     0.013828   \n",
      "1                      -0.110649  ...                    -0.052625   \n",
      "2                      -0.007393  ...                    -0.200611   \n",
      "3                      -0.068659  ...                    -0.114936   \n",
      "4                      -0.067165  ...                    -0.002200   \n",
      "...                          ...  ...                          ...   \n",
      "5557                   -0.180369  ...                    -0.087912   \n",
      "5558                   -0.132572  ...                    -0.090049   \n",
      "5559                   -0.040151  ...                    -0.038153   \n",
      "5560                   -0.094571  ...                     0.003562   \n",
      "5561                    0.015625  ...                    -0.042409   \n",
      "\n",
      "      rsfmri_cor_ngd_vs_scs_cderh  rsfmri_cor_ngd_vs_scs_ptrh  \\\n",
      "0                        0.111133                    0.506031   \n",
      "1                        0.023398                    0.043878   \n",
      "2                        0.070830                    0.335921   \n",
      "3                        0.052225                    0.117304   \n",
      "4                        0.089957                    0.130097   \n",
      "...                           ...                         ...   \n",
      "5557                     0.054168                    0.020338   \n",
      "5558                     0.013392                   -0.002712   \n",
      "5559                    -0.023972                   -0.004517   \n",
      "5560                     0.074628                    0.098061   \n",
      "5561                     0.042885                    0.156965   \n",
      "\n",
      "      rsfmri_cor_ngd_vs_scs_plrh  rsfmri_cor_ngd_vs_scs_hprh  \\\n",
      "0                      -0.061479                   -0.026084   \n",
      "1                       0.026435                   -0.034839   \n",
      "2                       0.000322                    0.136032   \n",
      "3                      -0.069571                    0.014298   \n",
      "4                      -0.013421                    0.036857   \n",
      "...                          ...                         ...   \n",
      "5557                   -0.064549                    0.200837   \n",
      "5558                   -0.009556                    0.036888   \n",
      "5559                    0.071598                    0.101754   \n",
      "5560                   -0.152677                   -0.119866   \n",
      "5561                    0.040531                    0.109189   \n",
      "\n",
      "      rsfmri_cor_ngd_vs_scs_agrh  rsfmri_cor_ngd_vs_scs_aarh  \\\n",
      "0                      -0.135912                    0.225413   \n",
      "1                       0.025626                   -0.004684   \n",
      "2                       0.179860                    0.018676   \n",
      "3                       0.073779                   -0.015043   \n",
      "4                       0.367669                    0.128093   \n",
      "...                          ...                         ...   \n",
      "5557                    0.304654                    0.089463   \n",
      "5558                    0.049288                   -0.025919   \n",
      "5559                   -0.047765                    0.054225   \n",
      "5560                    0.047611                   -0.118046   \n",
      "5561                    0.037717                    0.004066   \n",
      "\n",
      "      rsfmri_cor_ngd_vs_scs_vtdcrh  demo_comb_income_v2  bmi_perc  \n",
      "0                        -0.331260                    1  0.883672  \n",
      "1                        -0.076500                   10  0.898579  \n",
      "2                         0.240465                    8  0.894232  \n",
      "3                         0.096678                    1  0.645289  \n",
      "4                        -0.215542                    7  0.896650  \n",
      "...                            ...                  ...       ...  \n",
      "5557                     -0.091075                    8  0.667403  \n",
      "5558                     -0.049309                    8  0.117997  \n",
      "5559                     -0.032956                    8  0.967659  \n",
      "5560                     -0.004226                   10  0.975305  \n",
      "5561                     -0.014607                    5  0.079174  \n",
      "\n",
      "[3708 rows x 342 columns]\n"
     ]
    }
   ],
   "source": [
    "# Drop the duplicate columns from the original DataFrame\n",
    "X_cleaned = X.drop(cols_to_drop, axis=1)\n",
    "\n",
    "print(X_cleaned)"
   ]
  },
  {
   "cell_type": "code",
   "execution_count": 75,
   "id": "57bb569f",
   "metadata": {},
   "outputs": [
    {
     "data": {
      "text/plain": [
       "(3708, 420)"
      ]
     },
     "execution_count": 75,
     "metadata": {},
     "output_type": "execute_result"
    }
   ],
   "source": [
    "X.shape"
   ]
  },
  {
   "cell_type": "code",
   "execution_count": 76,
   "id": "f5ea9c8b",
   "metadata": {},
   "outputs": [
    {
     "data": {
      "text/plain": [
       "(3708, 342)"
      ]
     },
     "execution_count": 76,
     "metadata": {},
     "output_type": "execute_result"
    }
   ],
   "source": [
    "X_cleaned.shape"
   ]
  },
  {
   "cell_type": "markdown",
   "id": "7dacb6e6",
   "metadata": {},
   "source": [
    "# Factor of interest\n",
    "This is sometimes called the target. Right now I am using sex, but eventually we will change this to SSB group"
   ]
  },
  {
   "cell_type": "code",
   "execution_count": 77,
   "id": "f92385f7",
   "metadata": {},
   "outputs": [],
   "source": [
    "y = df['ssb_group'] #target"
   ]
  },
  {
   "cell_type": "code",
   "execution_count": 78,
   "id": "5e0308d4",
   "metadata": {},
   "outputs": [
    {
     "data": {
      "text/plain": [
       "0    1854\n",
       "2    1854\n",
       "Name: ssb_group, dtype: int64"
      ]
     },
     "execution_count": 78,
     "metadata": {},
     "output_type": "execute_result"
    }
   ],
   "source": [
    "y.value_counts()"
   ]
  },
  {
   "cell_type": "code",
   "execution_count": null,
   "id": "330cb5d8",
   "metadata": {},
   "outputs": [],
   "source": []
  },
  {
   "cell_type": "markdown",
   "id": "a6dcd96a",
   "metadata": {},
   "source": [
    "# Train and test datasets\n",
    "Get randomly generated train and test datasets\n",
    "- Train 1 = train the model and feature elimination\n",
    "- Train 2 = cross validate the model\n",
    "- Test = test statistical differences"
   ]
  },
  {
   "cell_type": "code",
   "execution_count": 79,
   "id": "f3ae8db5",
   "metadata": {},
   "outputs": [],
   "source": [
    "X_train, X_test, y_train, y_test = train_test_split(X_cleaned, y, random_state=42)\n"
   ]
  },
  {
   "cell_type": "code",
   "execution_count": 80,
   "id": "06f427da",
   "metadata": {},
   "outputs": [
    {
     "data": {
      "text/plain": [
       "0    491\n",
       "2    436\n",
       "Name: ssb_group, dtype: int64"
      ]
     },
     "execution_count": 80,
     "metadata": {},
     "output_type": "execute_result"
    }
   ],
   "source": [
    "X_train1, X_train2, y_train1, y_train2 = train_test_split(X_train, y_train, random_state=42)\n",
    "X_test.shape\n",
    "y_test.value_counts()"
   ]
  },
  {
   "cell_type": "code",
   "execution_count": 84,
   "id": "8599c9aa",
   "metadata": {},
   "outputs": [
    {
     "name": "stdout",
     "output_type": "stream",
     "text": [
      "{0, 2}\n"
     ]
    }
   ],
   "source": [
    "print(set(y_train1))"
   ]
  },
  {
   "cell_type": "code",
   "execution_count": 88,
   "id": "8fb58d58",
   "metadata": {},
   "outputs": [],
   "source": [
    "#1. Define the maximum value for ANOVA K parameter (10% of X_test sample)\n",
    "max_anova_k = int(len(X_test) * 0.1) #made it an integer, cause it's 92.7 and float can't be used in the script below\n",
    "\n",
    "# Make a list of ANOVA K parameters with intervals of 10\n",
    "ANOVAK = list(range(10, max_anova_k+1, 10)) #range 10-max_anova_k (+1 bcs otherwise the last number won't be included to the range), steps - 10\n",
    "\n",
    "#2. Make a list of svc__C parameters that include 0.1, 1, 10, 100\n",
    "#call this list 'svcC'\n",
    "svcC = [0.1, 1, 10, 100]"
   ]
  },
  {
   "cell_type": "code",
   "execution_count": 81,
   "id": "6cc8d517",
   "metadata": {},
   "outputs": [
    {
     "ename": "ValueError",
     "evalue": "\nAll the 1210 fits failed.\nIt is very likely that your model is misconfigured.\nYou can try to debug the error by setting error_score='raise'.\n\nBelow are more details about the failures:\n--------------------------------------------------------------------------------\n1210 fits failed with the following error:\nTraceback (most recent call last):\n  File \"/Users/gracer/opt/anaconda3/lib/python3.8/site-packages/sklearn/model_selection/_validation.py\", line 686, in _fit_and_score\n    estimator.fit(X_train, y_train, **fit_params)\n  File \"/Users/gracer/opt/anaconda3/lib/python3.8/site-packages/sklearn/pipeline.py\", line 405, in fit\n    self._final_estimator.fit(Xt, y, **fit_params_last_step)\n  File \"/Users/gracer/opt/anaconda3/lib/python3.8/site-packages/sklearn/svm/_base.py\", line 201, in fit\n    y = self._validate_targets(y)\n  File \"/Users/gracer/opt/anaconda3/lib/python3.8/site-packages/sklearn/svm/_base.py\", line 745, in _validate_targets\n    check_classification_targets(y)\n  File \"/Users/gracer/opt/anaconda3/lib/python3.8/site-packages/sklearn/utils/multiclass.py\", line 207, in check_classification_targets\n    raise ValueError(\"Unknown label type: %r\" % y_type)\nValueError: Unknown label type: 'unknown'\n",
     "output_type": "error",
     "traceback": [
      "\u001b[0;31m---------------------------------------------------------------------------\u001b[0m",
      "\u001b[0;31mValueError\u001b[0m                                Traceback (most recent call last)",
      "Cell \u001b[0;32mIn [81], line 16\u001b[0m\n\u001b[1;32m     14\u001b[0m \u001b[38;5;66;03m# Setup GridSearchCV\u001b[39;00m\n\u001b[1;32m     15\u001b[0m grid_search \u001b[38;5;241m=\u001b[39m GridSearchCV(anova_svm, param_grid\u001b[38;5;241m=\u001b[39mparam_grid, cv\u001b[38;5;241m=\u001b[39m\u001b[38;5;241m10\u001b[39m, n_jobs\u001b[38;5;241m=\u001b[39m\u001b[38;5;241m4\u001b[39m)\n\u001b[0;32m---> 16\u001b[0m grid_search\u001b[38;5;241m.\u001b[39mfit(X_train1, y_train1)\n",
      "File \u001b[0;32m~/opt/anaconda3/lib/python3.8/site-packages/sklearn/model_selection/_search.py:874\u001b[0m, in \u001b[0;36mBaseSearchCV.fit\u001b[0;34m(self, X, y, groups, **fit_params)\u001b[0m\n\u001b[1;32m    868\u001b[0m     results \u001b[38;5;241m=\u001b[39m \u001b[38;5;28mself\u001b[39m\u001b[38;5;241m.\u001b[39m_format_results(\n\u001b[1;32m    869\u001b[0m         all_candidate_params, n_splits, all_out, all_more_results\n\u001b[1;32m    870\u001b[0m     )\n\u001b[1;32m    872\u001b[0m     \u001b[38;5;28;01mreturn\u001b[39;00m results\n\u001b[0;32m--> 874\u001b[0m \u001b[38;5;28;43mself\u001b[39;49m\u001b[38;5;241;43m.\u001b[39;49m\u001b[43m_run_search\u001b[49m\u001b[43m(\u001b[49m\u001b[43mevaluate_candidates\u001b[49m\u001b[43m)\u001b[49m\n\u001b[1;32m    876\u001b[0m \u001b[38;5;66;03m# multimetric is determined here because in the case of a callable\u001b[39;00m\n\u001b[1;32m    877\u001b[0m \u001b[38;5;66;03m# self.scoring the return type is only known after calling\u001b[39;00m\n\u001b[1;32m    878\u001b[0m first_test_score \u001b[38;5;241m=\u001b[39m all_out[\u001b[38;5;241m0\u001b[39m][\u001b[38;5;124m\"\u001b[39m\u001b[38;5;124mtest_scores\u001b[39m\u001b[38;5;124m\"\u001b[39m]\n",
      "File \u001b[0;32m~/opt/anaconda3/lib/python3.8/site-packages/sklearn/model_selection/_search.py:1388\u001b[0m, in \u001b[0;36mGridSearchCV._run_search\u001b[0;34m(self, evaluate_candidates)\u001b[0m\n\u001b[1;32m   1386\u001b[0m \u001b[38;5;28;01mdef\u001b[39;00m \u001b[38;5;21m_run_search\u001b[39m(\u001b[38;5;28mself\u001b[39m, evaluate_candidates):\n\u001b[1;32m   1387\u001b[0m     \u001b[38;5;124;03m\"\"\"Search all candidates in param_grid\"\"\"\u001b[39;00m\n\u001b[0;32m-> 1388\u001b[0m     \u001b[43mevaluate_candidates\u001b[49m\u001b[43m(\u001b[49m\u001b[43mParameterGrid\u001b[49m\u001b[43m(\u001b[49m\u001b[38;5;28;43mself\u001b[39;49m\u001b[38;5;241;43m.\u001b[39;49m\u001b[43mparam_grid\u001b[49m\u001b[43m)\u001b[49m\u001b[43m)\u001b[49m\n",
      "File \u001b[0;32m~/opt/anaconda3/lib/python3.8/site-packages/sklearn/model_selection/_search.py:851\u001b[0m, in \u001b[0;36mBaseSearchCV.fit.<locals>.evaluate_candidates\u001b[0;34m(candidate_params, cv, more_results)\u001b[0m\n\u001b[1;32m    844\u001b[0m \u001b[38;5;28;01melif\u001b[39;00m \u001b[38;5;28mlen\u001b[39m(out) \u001b[38;5;241m!=\u001b[39m n_candidates \u001b[38;5;241m*\u001b[39m n_splits:\n\u001b[1;32m    845\u001b[0m     \u001b[38;5;28;01mraise\u001b[39;00m \u001b[38;5;167;01mValueError\u001b[39;00m(\n\u001b[1;32m    846\u001b[0m         \u001b[38;5;124m\"\u001b[39m\u001b[38;5;124mcv.split and cv.get_n_splits returned \u001b[39m\u001b[38;5;124m\"\u001b[39m\n\u001b[1;32m    847\u001b[0m         \u001b[38;5;124m\"\u001b[39m\u001b[38;5;124minconsistent results. Expected \u001b[39m\u001b[38;5;132;01m{}\u001b[39;00m\u001b[38;5;124m \u001b[39m\u001b[38;5;124m\"\u001b[39m\n\u001b[1;32m    848\u001b[0m         \u001b[38;5;124m\"\u001b[39m\u001b[38;5;124msplits, got \u001b[39m\u001b[38;5;132;01m{}\u001b[39;00m\u001b[38;5;124m\"\u001b[39m\u001b[38;5;241m.\u001b[39mformat(n_splits, \u001b[38;5;28mlen\u001b[39m(out) \u001b[38;5;241m/\u001b[39m\u001b[38;5;241m/\u001b[39m n_candidates)\n\u001b[1;32m    849\u001b[0m     )\n\u001b[0;32m--> 851\u001b[0m \u001b[43m_warn_or_raise_about_fit_failures\u001b[49m\u001b[43m(\u001b[49m\u001b[43mout\u001b[49m\u001b[43m,\u001b[49m\u001b[43m \u001b[49m\u001b[38;5;28;43mself\u001b[39;49m\u001b[38;5;241;43m.\u001b[39;49m\u001b[43merror_score\u001b[49m\u001b[43m)\u001b[49m\n\u001b[1;32m    853\u001b[0m \u001b[38;5;66;03m# For callable self.scoring, the return type is only know after\u001b[39;00m\n\u001b[1;32m    854\u001b[0m \u001b[38;5;66;03m# calling. If the return type is a dictionary, the error scores\u001b[39;00m\n\u001b[1;32m    855\u001b[0m \u001b[38;5;66;03m# can now be inserted with the correct key. The type checking\u001b[39;00m\n\u001b[1;32m    856\u001b[0m \u001b[38;5;66;03m# of out will be done in `_insert_error_scores`.\u001b[39;00m\n\u001b[1;32m    857\u001b[0m \u001b[38;5;28;01mif\u001b[39;00m callable(\u001b[38;5;28mself\u001b[39m\u001b[38;5;241m.\u001b[39mscoring):\n",
      "File \u001b[0;32m~/opt/anaconda3/lib/python3.8/site-packages/sklearn/model_selection/_validation.py:367\u001b[0m, in \u001b[0;36m_warn_or_raise_about_fit_failures\u001b[0;34m(results, error_score)\u001b[0m\n\u001b[1;32m    360\u001b[0m \u001b[38;5;28;01mif\u001b[39;00m num_failed_fits \u001b[38;5;241m==\u001b[39m num_fits:\n\u001b[1;32m    361\u001b[0m     all_fits_failed_message \u001b[38;5;241m=\u001b[39m (\n\u001b[1;32m    362\u001b[0m         \u001b[38;5;124mf\u001b[39m\u001b[38;5;124m\"\u001b[39m\u001b[38;5;130;01m\\n\u001b[39;00m\u001b[38;5;124mAll the \u001b[39m\u001b[38;5;132;01m{\u001b[39;00mnum_fits\u001b[38;5;132;01m}\u001b[39;00m\u001b[38;5;124m fits failed.\u001b[39m\u001b[38;5;130;01m\\n\u001b[39;00m\u001b[38;5;124m\"\u001b[39m\n\u001b[1;32m    363\u001b[0m         \u001b[38;5;124m\"\u001b[39m\u001b[38;5;124mIt is very likely that your model is misconfigured.\u001b[39m\u001b[38;5;130;01m\\n\u001b[39;00m\u001b[38;5;124m\"\u001b[39m\n\u001b[1;32m    364\u001b[0m         \u001b[38;5;124m\"\u001b[39m\u001b[38;5;124mYou can try to debug the error by setting error_score=\u001b[39m\u001b[38;5;124m'\u001b[39m\u001b[38;5;124mraise\u001b[39m\u001b[38;5;124m'\u001b[39m\u001b[38;5;124m.\u001b[39m\u001b[38;5;130;01m\\n\u001b[39;00m\u001b[38;5;130;01m\\n\u001b[39;00m\u001b[38;5;124m\"\u001b[39m\n\u001b[1;32m    365\u001b[0m         \u001b[38;5;124mf\u001b[39m\u001b[38;5;124m\"\u001b[39m\u001b[38;5;124mBelow are more details about the failures:\u001b[39m\u001b[38;5;130;01m\\n\u001b[39;00m\u001b[38;5;132;01m{\u001b[39;00mfit_errors_summary\u001b[38;5;132;01m}\u001b[39;00m\u001b[38;5;124m\"\u001b[39m\n\u001b[1;32m    366\u001b[0m     )\n\u001b[0;32m--> 367\u001b[0m     \u001b[38;5;28;01mraise\u001b[39;00m \u001b[38;5;167;01mValueError\u001b[39;00m(all_fits_failed_message)\n\u001b[1;32m    369\u001b[0m \u001b[38;5;28;01melse\u001b[39;00m:\n\u001b[1;32m    370\u001b[0m     some_fits_failed_message \u001b[38;5;241m=\u001b[39m (\n\u001b[1;32m    371\u001b[0m         \u001b[38;5;124mf\u001b[39m\u001b[38;5;124m\"\u001b[39m\u001b[38;5;130;01m\\n\u001b[39;00m\u001b[38;5;132;01m{\u001b[39;00mnum_failed_fits\u001b[38;5;132;01m}\u001b[39;00m\u001b[38;5;124m fits failed out of a total of \u001b[39m\u001b[38;5;132;01m{\u001b[39;00mnum_fits\u001b[38;5;132;01m}\u001b[39;00m\u001b[38;5;124m.\u001b[39m\u001b[38;5;130;01m\\n\u001b[39;00m\u001b[38;5;124m\"\u001b[39m\n\u001b[1;32m    372\u001b[0m         \u001b[38;5;124m\"\u001b[39m\u001b[38;5;124mThe score on these train-test partitions for these parameters\u001b[39m\u001b[38;5;124m\"\u001b[39m\n\u001b[0;32m   (...)\u001b[0m\n\u001b[1;32m    376\u001b[0m         \u001b[38;5;124mf\u001b[39m\u001b[38;5;124m\"\u001b[39m\u001b[38;5;124mBelow are more details about the failures:\u001b[39m\u001b[38;5;130;01m\\n\u001b[39;00m\u001b[38;5;132;01m{\u001b[39;00mfit_errors_summary\u001b[38;5;132;01m}\u001b[39;00m\u001b[38;5;124m\"\u001b[39m\n\u001b[1;32m    377\u001b[0m     )\n",
      "\u001b[0;31mValueError\u001b[0m: \nAll the 1210 fits failed.\nIt is very likely that your model is misconfigured.\nYou can try to debug the error by setting error_score='raise'.\n\nBelow are more details about the failures:\n--------------------------------------------------------------------------------\n1210 fits failed with the following error:\nTraceback (most recent call last):\n  File \"/Users/gracer/opt/anaconda3/lib/python3.8/site-packages/sklearn/model_selection/_validation.py\", line 686, in _fit_and_score\n    estimator.fit(X_train, y_train, **fit_params)\n  File \"/Users/gracer/opt/anaconda3/lib/python3.8/site-packages/sklearn/pipeline.py\", line 405, in fit\n    self._final_estimator.fit(Xt, y, **fit_params_last_step)\n  File \"/Users/gracer/opt/anaconda3/lib/python3.8/site-packages/sklearn/svm/_base.py\", line 201, in fit\n    y = self._validate_targets(y)\n  File \"/Users/gracer/opt/anaconda3/lib/python3.8/site-packages/sklearn/svm/_base.py\", line 745, in _validate_targets\n    check_classification_targets(y)\n  File \"/Users/gracer/opt/anaconda3/lib/python3.8/site-packages/sklearn/utils/multiclass.py\", line 207, in check_classification_targets\n    raise ValueError(\"Unknown label type: %r\" % y_type)\nValueError: Unknown label type: 'unknown'\n"
     ]
    }
   ],
   "source": [
    "anova_filter = SelectKBest(f_classif)\n",
    "svm = SVC(kernel='linear')\n",
    "\n",
    "anova_svm = Pipeline([\n",
    "    ('anova', anova_filter),\n",
    "    ('svc', svm)\n",
    "])\n",
    "# Define a range of parameters for feature selection and SVM\n",
    "param_grid = {\n",
    "    'anova__k': [50, 51, 52, 53, 54, 55, 56, 57, 58, 59, 60],  # Trying different numbers of top features\n",
    "    'svc__C': [0.05, 0.06, 0.07, 0.08, 0.09, 0.1, 0.11, 0.12, 0.13, 0.14, 0.15],  # SVM regularization parameter\n",
    "}\n",
    "\n",
    "# Setup GridSearchCV\n",
    "grid_search = GridSearchCV(anova_svm, param_grid=param_grid, cv=10, n_jobs=4)\n",
    "grid_search.fit(X_train1, y_train1)\n"
   ]
  },
  {
   "cell_type": "code",
   "execution_count": null,
   "id": "15cc6244",
   "metadata": {
    "scrolled": true
   },
   "outputs": [],
   "source": [
    "bestK = []\n",
    "bestC = []\n",
    "bestModel = []\n",
    "for i in range(49):\n",
    "    print(i)\n",
    "    #Setup GridSearchCV\n",
    "    grid_search = GridSearchCV(anova_svm, param_grid=param_grid, cv=10, n_jobs=4)\n",
    "    bestModel.append(grid_search)\n",
    "    grid_search.fit(X_train1, y_train1)\n",
    "    bestK.append(grid_search.best_params_['anova__k'])\n",
    "    bestC.append(grid_search.best_params_['svc__C'])"
   ]
  },
  {
   "cell_type": "markdown",
   "id": "5cd62aa0",
   "metadata": {},
   "source": [
    "## Initial\n",
    "* anova_initial = [10,20,30,40,50,60]\n",
    "* svc_C_initial = [0.1, 1, 10, 100]\n",
    "* Then narrowed to anova 50, 51, 52, 53, 54, 55, 56, 57, 58, 59, 60\n",
    "* svc c 0.05, 0.06, 0.07, 0.08, 0.09, 0.1, 0.11, 0.12, 0.13, 0.14, 0.15\n",
    "## First try\n",
    "* Best parameters: {'anova__k': 51, 'svc__C': 0.15}\n",
    "* Best cross-validation score: 0.5530157342657344## Second try\n",
    "## 48 iterations \n",
    "* Best parameters: {'anova__k': 50, 'svc__C': 0.05}\n",
    "* Best cross-validation score: 0.7112026131762974\n",
    "# Note\n",
    "the model is much better with nonBrain regions. But still better than chance\n",
    "* Best parameters: {'anova__k': 52, 'svc__C': 0.12}\n",
    "* Best cross-validation score: 0.5713424733161576"
   ]
  },
  {
   "cell_type": "markdown",
   "id": "2ecd888d",
   "metadata": {},
   "source": [
    "## Check the best parameters"
   ]
  },
  {
   "cell_type": "code",
   "execution_count": null,
   "id": "dcce325e",
   "metadata": {},
   "outputs": [],
   "source": [
    "print(bestK)\n",
    "print(bestC)\n",
    "# Find the best and then select the model from the bestModel list"
   ]
  },
  {
   "cell_type": "code",
   "execution_count": null,
   "id": "57764cde",
   "metadata": {},
   "outputs": [],
   "source": [
    "print(grid_search.best_params_)"
   ]
  },
  {
   "cell_type": "code",
   "execution_count": null,
   "id": "8d0caecd",
   "metadata": {},
   "outputs": [],
   "source": [
    "# Assuming anova_svm is your original pipeline\n",
    "best_pipeline = Pipeline([\n",
    "    ('anova', SelectKBest(f_classif)),  # You don't need to specify k here; it will be set by best_params_\n",
    "    ('svc', SVC(kernel='linear'))      # No need to specify C here for the same reason\n",
    "])\n",
    "\n",
    "# Set the best parameters found for the entire pipeline\n",
    "best_pipeline.set_params(**grid_search.best_params_)\n",
    "\n",
    "# Now, retrain on the entire training set with the best parameters\n",
    "best_pipeline.fit(X_train1, y_train1)"
   ]
  },
  {
   "cell_type": "code",
   "execution_count": null,
   "id": "89dcea12",
   "metadata": {},
   "outputs": [],
   "source": [
    "# Predict on the test set\n",
    "y_pred = best_pipeline.predict(X_train2)\n",
    "\n",
    "# Evaluate the model\n",
    "test_accuracy = accuracy_score(y_train2, y_pred)\n",
    "print(\"Test set accuracy:\", test_accuracy)"
   ]
  },
  {
   "cell_type": "code",
   "execution_count": null,
   "id": "373816e3",
   "metadata": {},
   "outputs": [],
   "source": [
    "cm = confusion_matrix(y_train2, y_pred, normalize = 'true')\n",
    "print(cm)"
   ]
  },
  {
   "cell_type": "code",
   "execution_count": null,
   "id": "24a621de",
   "metadata": {},
   "outputs": [],
   "source": [
    "plt.figure(figsize=(10,7))\n",
    "sns.heatmap(cm, annot=True,  cmap=\"Blues\")\n",
    "plt.title('Confusion Matrix')\n",
    "plt.xlabel('Predicted Labels')\n",
    "plt.ylabel('True Labels')\n",
    "plt.show()"
   ]
  },
  {
   "cell_type": "code",
   "execution_count": null,
   "id": "862a9cfb",
   "metadata": {},
   "outputs": [],
   "source": [
    "# Access the best set of parameters found by GridSearchCV\n",
    "best_parameters = grid_search.best_params_\n",
    "print(\"Best parameters found by GridSearchCV:\", best_parameters)\n",
    "\n",
    "# Access the best estimator directly\n",
    "best_model = grid_search.best_estimator_\n",
    "print(\"Best model:\", best_model)\n"
   ]
  },
  {
   "cell_type": "code",
   "execution_count": null,
   "id": "acc01caa",
   "metadata": {},
   "outputs": [],
   "source": [
    "# Access the feature selection step ('anova' in your case)\n",
    "feature_selection_step = best_model.named_steps['anova']\n"
   ]
  },
  {
   "cell_type": "code",
   "execution_count": null,
   "id": "76f07c20",
   "metadata": {},
   "outputs": [],
   "source": [
    "# Get the mask of selected features (boolean array)\n",
    "selected_features_mask = feature_selection_step.get_support()\n",
    "\n"
   ]
  },
  {
   "cell_type": "code",
   "execution_count": null,
   "id": "3515b805",
   "metadata": {},
   "outputs": [],
   "source": [
    "selected_features_mask.shape"
   ]
  },
  {
   "cell_type": "code",
   "execution_count": null,
   "id": "61b69fb8",
   "metadata": {},
   "outputs": [],
   "source": [
    "selected_columns = X_train.columns[selected_features_mask]\n"
   ]
  },
  {
   "cell_type": "code",
   "execution_count": null,
   "id": "a7601e7e",
   "metadata": {},
   "outputs": [],
   "source": [
    "selected_columns"
   ]
  },
  {
   "cell_type": "markdown",
   "id": "9e43c791",
   "metadata": {},
   "source": [
    "# Regression"
   ]
  },
  {
   "cell_type": "code",
   "execution_count": null,
   "id": "f0121e53",
   "metadata": {},
   "outputs": [],
   "source": [
    "from sklearn.linear_model import LogisticRegression"
   ]
  },
  {
   "cell_type": "code",
   "execution_count": null,
   "id": "ce875cc6",
   "metadata": {},
   "outputs": [],
   "source": [
    "X_regression = X_test[selected_columns]"
   ]
  },
  {
   "cell_type": "markdown",
   "id": "b2b600eb",
   "metadata": {},
   "source": [
    "## Check high correlations between regions"
   ]
  },
  {
   "cell_type": "code",
   "execution_count": null,
   "id": "8d9776a8",
   "metadata": {},
   "outputs": [],
   "source": [
    "correlation_matrix = X_regression.corr()\n"
   ]
  },
  {
   "cell_type": "code",
   "execution_count": null,
   "id": "3a1fd501",
   "metadata": {},
   "outputs": [],
   "source": [
    "# Set the threshold for high correlation\n",
    "threshold = 0.8\n",
    "\n",
    "# Create a boolean mask for values above the threshold\n",
    "high_corr_mask = np.abs(correlation_matrix) > threshold\n",
    "\n",
    "# Mask the diagonal and lower triangle\n",
    "mask_upper_triangle = np.triu(np.ones(high_corr_mask.shape), k=1).astype(np.bool)\n",
    "\n",
    "# Combine masks\n",
    "final_mask = high_corr_mask & mask_upper_triangle"
   ]
  },
  {
   "cell_type": "code",
   "execution_count": null,
   "id": "0fa7b3cb",
   "metadata": {},
   "outputs": [],
   "source": [
    "# Apply mask to the correlation matrix\n",
    "high_corr_pairs = correlation_matrix.where(final_mask)\n",
    "\n",
    "# Stack the matrix and reset index to get pair-wise correlation in a readable format\n",
    "stacked_corr_pairs = high_corr_pairs.stack().reset_index()\n",
    "stacked_corr_pairs.columns = ['Feature 1', 'Feature 2', 'Correlation']\n",
    "\n",
    "print(stacked_corr_pairs)"
   ]
  },
  {
   "cell_type": "markdown",
   "id": "c6c7b4f6",
   "metadata": {},
   "source": [
    "|#|feature 1|feature 2|r|\n",
    "|---|-------------------------------|--------------------------------|--------------|\n",
    "| 0  |    rsfmri_cor_ngd_au_scs_ptrh |  rsfmri_cor_ngd_rst_scs_crcxrh |    0.822824  |\n",
    "| 1 |  rsfmri_cor_ngd_cerc_scs_aglh |   rsfmri_cor_ngd_smh_scs_pllh  |     0.858514 |\n",
    "| 2 |    rsfmri_cor_ngd_cerc_scs_hprh|   rsfmri_cor_ngd_smh_scs_cderh|      0.867641|\n",
    "| 3 |    rsfmri_cor_ngd_cerc_scs_agrh|     rsfmri_cor_ngd_smh_scs_ptrh|      0.831211| \n",
    "|  4  | rsfmri_cor_ngd_cerc_scs_vtdcrh  |   rsfmri_cor_ngd_smh_scs_hprh  |    0.815776| \n",
    "| 5|   rsfmri_cor_ngd_copa_scs_thplh |    rsfmri_cor_ngd_smh_scs_aarh  |    0.877435| \n",
    "|  6  | rsfmri_cor_ngd_copa_scs_vtdclh  |   rsfmri_cor_ngd_smm_scs_hplh  |    0.864477| \n",
    "|  7 |  rsfmri_cor_ngd_copa_scs_crcxrh  |   rsfmri_cor_ngd_smm_scs_aglh   |   0.805186| "
   ]
  },
  {
   "cell_type": "markdown",
   "id": "3a9a80c9",
   "metadata": {},
   "source": [
    "|ABCD|Human|\n",
    "|---|----|\n",
    "|rsfmri_cor_ngd_au_scs_ptrh|\tAverage correlation between auditory network and ASEG ROI right-putamen|\n",
    "| rsfmri_cor_ngd_cerc_scs_aglh| Average correlation between cingulo-opercular network and ASEG ROI left-amygdala|\n",
    "|rsfmri_cor_ngd_cerc_scs_hprh|cingulo-opercular network and ASEG ROI right-hippocampus\t|\n",
    "|rsfmri_cor_ngd_cerc_scs_vtdcrh| cingulo-opercular network and ASEG ROI right-ventraldc|\n",
    "|rsfmri_cor_ngd_copa_scs_thplh|cingulo-parietal network and ASEG ROI left-thalamus-proper|\n",
    "|rsfmri_cor_ngd_copa_scs_crcxrh |cingulo-parietal network and ASEG ROI right-cerebellum-cortex|\n",
    "|sfmri_cor_ngd_rst_scs_crcxrh|retrosplenial temporal network and ASEG ROI right-cerebellum-cortex|\n",
    "|rsfmri_cor_ngd_smh_scs_pllh|Average correlation between sensorimotor hand network and ASEG ROI left-pallidum|\n",
    "|rsfmri_cor_ngd_smh_scs_cderh|Average correlation between sensorimotor hand network and ASEG ROI right-caudate|\n",
    "|rsfmri_cor_ngd_smh_scs_hprh|sensorimotor hand network and ASEG ROI right-hippocampus|\n",
    "|sfmri_cor_ngd_smh_scs_aarh\t|sensorimotor hand network and ASEG ROI right-accumbens-area|\n",
    "|rsfmri_cor_ngd_smm_scs_aglh|sensorimotor mouth network and ASEG ROI left-amygdala|"
   ]
  },
  {
   "cell_type": "code",
   "execution_count": null,
   "id": "fad93b5f",
   "metadata": {},
   "outputs": [],
   "source": [
    "# Dropping cerebellar first\n",
    "columns_to_drop_list = ['rsfmri_cor_ngd_rst_scs_crcxrh','rsfmri_cor_ngd_copa_scs_crcxrh']\n",
    "\n",
    "X_regression_reduced = X_regression.drop(columns=columns_to_drop_list)\n",
    "\n"
   ]
  },
  {
   "cell_type": "code",
   "execution_count": null,
   "id": "5bb744d9",
   "metadata": {
    "scrolled": true
   },
   "outputs": [],
   "source": [
    "# Assuming X_scaled is your scaled feature matrix and it's a numpy array\n",
    "#X_scaled_df = pd.DataFrame(X_scaled, columns=X_test_reg_sm.columns)  # Convert to DataFrame if necessary\n",
    "#X_scaled_df_with_const = sm.add_constant(X_scaled_df)  # Add constant for VIF calculation\n",
    "\n",
    "vifs = pd.Series([variance_inflation_factor(X_regression_reduced.values, i) \n",
    "                   for i in range(X_regression_reduced.shape[1])], \n",
    "                  index=X_regression_reduced.columns)\n",
    "\n",
    "print(vifs) # looks OK, everything is under 10"
   ]
  },
  {
   "cell_type": "code",
   "execution_count": null,
   "id": "2bf0da82",
   "metadata": {},
   "outputs": [],
   "source": [
    "result_sm = sm.add_constant(X_regression_reduced)"
   ]
  },
  {
   "cell_type": "markdown",
   "id": "5bd4cca9",
   "metadata": {},
   "source": [
    "# Create train, test datasets for regression"
   ]
  },
  {
   "cell_type": "code",
   "execution_count": null,
   "id": "33c1bcff",
   "metadata": {},
   "outputs": [],
   "source": [
    "X_trainReg, X_testReg, y_trainReg, y_testReg = train_test_split(result_sm, y_test, random_state=42)\n"
   ]
  },
  {
   "cell_type": "code",
   "execution_count": null,
   "id": "55a37291",
   "metadata": {},
   "outputs": [],
   "source": [
    "X_testReg.shape"
   ]
  },
  {
   "cell_type": "code",
   "execution_count": null,
   "id": "4843677e",
   "metadata": {},
   "outputs": [],
   "source": [
    "selected_columns =X_trainReg.columns"
   ]
  },
  {
   "cell_type": "code",
   "execution_count": null,
   "id": "b7de6d9f",
   "metadata": {},
   "outputs": [],
   "source": [
    "# Initialize the Logistic Regression model\n",
    "model = LogisticRegression(max_iter=1000)"
   ]
  },
  {
   "cell_type": "code",
   "execution_count": null,
   "id": "4803d2e4",
   "metadata": {},
   "outputs": [],
   "source": [
    "# Fit the model on the training data\n",
    "model.fit(X_trainReg, y_trainReg)"
   ]
  },
  {
   "cell_type": "code",
   "execution_count": null,
   "id": "fd50c2c2",
   "metadata": {},
   "outputs": [],
   "source": [
    "# Predict on the test set\n",
    "y_predReg = model.predict(X_testReg)\n",
    "\n",
    "# Calculate the accuracy\n",
    "accuracyReg = accuracy_score(y_testReg, y_predReg)\n",
    "print(f\"Accuracy: {accuracyReg}\")\n"
   ]
  },
  {
   "cell_type": "code",
   "execution_count": null,
   "id": "120c08f2",
   "metadata": {},
   "outputs": [],
   "source": [
    "# Coefficients\n",
    "coefficients = model.coef_\n",
    "# Intercepts\n",
    "intercepts = model.intercept_"
   ]
  },
  {
   "cell_type": "code",
   "execution_count": null,
   "id": "b4ccbbab",
   "metadata": {},
   "outputs": [],
   "source": [
    "coeff_df = pd.DataFrame(coefficients, columns=selected_columns)\n"
   ]
  },
  {
   "cell_type": "code",
   "execution_count": null,
   "id": "c0877553",
   "metadata": {},
   "outputs": [],
   "source": [
    "coeff_df['Intercept'] = intercepts"
   ]
  },
  {
   "cell_type": "code",
   "execution_count": null,
   "id": "336b4c40",
   "metadata": {},
   "outputs": [],
   "source": [
    "class_names = ['low']  # Adjust as per your classes\n",
    "coeff_df.index = class_names\n",
    "\n",
    "print(coeff_df)\n"
   ]
  },
  {
   "cell_type": "code",
   "execution_count": null,
   "id": "29a033dd",
   "metadata": {},
   "outputs": [],
   "source": [
    "plt.figure(figsize=(10, 6))\n",
    "sns.heatmap(coeff_df.iloc[:, :-1], annot=False, cmap='coolwarm')  # Exclude intercepts for visualization\n",
    "plt.title('Coefficients of Multinomial Logistic Regression')\n",
    "plt.ylabel('Class')\n",
    "plt.xlabel('Feature')\n",
    "plt.show()"
   ]
  },
  {
   "cell_type": "code",
   "execution_count": null,
   "id": "bc1d1f20",
   "metadata": {
    "scrolled": false
   },
   "outputs": [],
   "source": [
    "# Fit the multinomial logistic regression model\n",
    "logit_model = sm.Logit(y_testReg, X_testReg)\n",
    "result = logit_model.fit()\n",
    "#model_sm = sm.MNLogit(y_testReg, X_test_reg_sm)\n",
    "#result_sm = model_sm.fit(method='newton', maxiter=5000)\n",
    "# Summary of the model\n",
    "# print(result_sm.summary())\n",
    "print(result.summary())"
   ]
  },
  {
   "cell_type": "code",
   "execution_count": null,
   "id": "54f50703",
   "metadata": {},
   "outputs": [],
   "source": [
    "# Making predictions\n",
    "predictions = result.predict(X_testReg)\n",
    "\n",
    "# Converting probabilities to class labels\n",
    "class_predictions = np.where(predictions > 0.5, 1, 0)"
   ]
  },
  {
   "cell_type": "code",
   "execution_count": null,
   "id": "84557121",
   "metadata": {},
   "outputs": [],
   "source": [
    "array = y_testReg.to_numpy()"
   ]
  },
  {
   "cell_type": "code",
   "execution_count": null,
   "id": "7063d30b",
   "metadata": {},
   "outputs": [],
   "source": [
    "dfPrevReal = pd.DataFrame({'real': array, 'pred': class_predictions})"
   ]
  },
  {
   "cell_type": "code",
   "execution_count": null,
   "id": "1e74ce77",
   "metadata": {},
   "outputs": [],
   "source": [
    "jaccard = jaccard_score(dfPrevReal['real'], dfPrevReal['pred'])\n",
    "print(\"Jaccard Similarity Score:\", jaccard)"
   ]
  },
  {
   "cell_type": "code",
   "execution_count": null,
   "id": "6f0a57ee",
   "metadata": {},
   "outputs": [],
   "source": [
    "# Extract p-values for all coefficients in the model\n",
    "p_values = result.pvalues"
   ]
  },
  {
   "cell_type": "code",
   "execution_count": null,
   "id": "c3669217",
   "metadata": {
    "scrolled": true
   },
   "outputs": [],
   "source": [
    "result.pvalues"
   ]
  },
  {
   "cell_type": "code",
   "execution_count": null,
   "id": "f2b2a81c",
   "metadata": {},
   "outputs": [],
   "source": [
    "# Apply Benjamini-Hochberg FDR correction\n",
    "reject, pvals_corrected, _, _ = multipletests(p_values.values.flatten(), alpha=0.05, method='fdr_bh')\n",
    "\n",
    "# Reshape the corrected p-values to match the original shape\n",
    "pvals_corrected_reshaped = pvals_corrected.reshape(p_values.shape)\n",
    "\n",
    "# Create a DataFrame of the corrected p-values for easier interpretation\n",
    "# corrected_pvalues_df = pd.DataFrame(pvals_corrected_reshaped, index=p_values.index, columns=p_values.columns)"
   ]
  },
  {
   "cell_type": "code",
   "execution_count": null,
   "id": "3dd4946e",
   "metadata": {},
   "outputs": [],
   "source": [
    "pvals_corrected_reshaped"
   ]
  }
 ],
 "metadata": {
  "kernelspec": {
   "display_name": "Python 3 (ipykernel)",
   "language": "python",
   "name": "python3"
  },
  "language_info": {
   "codemirror_mode": {
    "name": "ipython",
    "version": 3
   },
   "file_extension": ".py",
   "mimetype": "text/x-python",
   "name": "python",
   "nbconvert_exporter": "python",
   "pygments_lexer": "ipython3",
   "version": "3.8.8"
  }
 },
 "nbformat": 4,
 "nbformat_minor": 5
}
