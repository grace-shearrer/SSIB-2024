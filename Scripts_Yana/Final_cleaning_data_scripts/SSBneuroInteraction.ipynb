{
 "cells": [
  {
   "cell_type": "code",
   "execution_count": 3,
   "id": "468c06c1",
   "metadata": {},
   "outputs": [],
   "source": [
    "import  scipy.signal.signaltools\n",
    "\n",
    "def _centered(arr, newsize):\n",
    "    # Return the center newsize portion of the array.\n",
    "    newsize = np.asarray(newsize)\n",
    "    currsize = np.array(arr.shape)\n",
    "    startind = (currsize - newsize) // 2\n",
    "    endind = startind + newsize\n",
    "    myslice = [slice(startind[k], endind[k]) for k in range(len(endind))]\n",
    "    return arr[tuple(myslice)]\n",
    "\n",
    "scipy.signal.signaltools._centered = _centered\n"
   ]
  },
  {
   "cell_type": "code",
   "execution_count": 9,
   "id": "e256ade2",
   "metadata": {},
   "outputs": [],
   "source": [
    "import pandas as pd\n",
    "import nilearn\n",
    "import numpy as np\n",
    "import glob \n",
    "import os\n",
    "import pickle\n",
    "\n",
    "import statsmodels.api as sm\n",
    "from statsmodels.stats.outliers_influence import variance_inflation_factor\n",
    "from statsmodels.stats.multitest import multipletests\n",
    "import statsmodels.formula.api as smf\n",
    "\n",
    "\n",
    "from pathlib import Path\n",
    "\n",
    "\n",
    "from matplotlib import pyplot as plt\n",
    "import matplotlib.lines as mlines\n",
    "import matplotlib.transforms as mtransforms\n",
    "\n",
    "import seaborn as sns\n",
    "\n",
    "\n",
    "from nltools.data import Brain_Data, Adjacency\n",
    "from nltools.mask import roi_to_brain, expand_mask\n",
    "from nltools.stats import fdr, threshold\n",
    "\n",
    "%matplotlib inline\n"
   ]
  },
  {
   "cell_type": "code",
   "execution_count": 6,
   "id": "a1099265",
   "metadata": {},
   "outputs": [],
   "source": [
    "def onetoughjar(path2dic):\n",
    "    with open(path2dic, 'rb') as pickle_file:\n",
    "        try:\n",
    "            while True:\n",
    "                output = pickle.load(pickle_file)\n",
    "        except EOFError:\n",
    "            pass\n",
    "    return(output)"
   ]
  },
  {
   "cell_type": "code",
   "execution_count": 31,
   "id": "2df9f36a",
   "metadata": {},
   "outputs": [],
   "source": [
    "def interactor(m):\n",
    "    X['int'] = X['demo_comb_income_v2']*X['%s'%m]\n",
    "    # Fit the multinomial logistic regression model\n",
    "    logit_model = sm.Logit(y, X)\n",
    "    result = logit_model.fit()\n",
    "    return(result.pvalues)\n",
    "\n"
   ]
  },
  {
   "cell_type": "code",
   "execution_count": 7,
   "id": "35705cbc",
   "metadata": {},
   "outputs": [],
   "source": [
    "savedDict = onetoughjar('/Users/gracer/Library/CloudStorage/OneDrive-UniversityofWyoming/0. Lab/M2AENAD Lab - Documents/RESEARCH/ABCD/Yana_SSIB_2024/tmp/SSBABCDanalysis_11-23-2024_07-36-16')"
   ]
  },
  {
   "cell_type": "code",
   "execution_count": 8,
   "id": "35577187",
   "metadata": {},
   "outputs": [
    {
     "data": {
      "text/plain": [
       "dict_keys(['df', 'X', 'y', 'X_train', 'X_test', 'y_train', 'y_test', 'best_pipeline', 'X_reg', 'X_trainReg', 'X_testReg', 'y_trainReg', 'y_testReg', 'logistic'])"
      ]
     },
     "execution_count": 8,
     "metadata": {},
     "output_type": "execute_result"
    }
   ],
   "source": [
    "savedDict.keys()"
   ]
  },
  {
   "cell_type": "code",
   "execution_count": 29,
   "id": "ab4c0915",
   "metadata": {},
   "outputs": [],
   "source": [
    "X = savedDict['X']"
   ]
  },
  {
   "cell_type": "code",
   "execution_count": 55,
   "id": "ed0b3290",
   "metadata": {},
   "outputs": [
    {
     "data": {
      "text/plain": [
       "Index(['rsfmri_c_ngd_ad_ngd_ad', 'rsfmri_c_ngd_ad_ngd_cgc',\n",
       "       'rsfmri_c_ngd_ad_ngd_ca', 'rsfmri_c_ngd_ad_ngd_dt',\n",
       "       'rsfmri_c_ngd_ad_ngd_dla', 'rsfmri_c_ngd_ad_ngd_fo',\n",
       "       'rsfmri_c_ngd_ad_ngd_n', 'rsfmri_c_ngd_ad_ngd_rspltp',\n",
       "       'rsfmri_c_ngd_ad_ngd_smh', 'rsfmri_c_ngd_ad_ngd_smm',\n",
       "       ...\n",
       "       'rsfmri_cor_ngd_vs_scs_plrh', 'rsfmri_cor_ngd_vs_scs_hprh',\n",
       "       'rsfmri_cor_ngd_vs_scs_agrh', 'rsfmri_cor_ngd_vs_scs_aarh',\n",
       "       'rsfmri_cor_ngd_vs_scs_vtdcrh', 'demo_comb_income_v2', 'interview_age',\n",
       "       'bmi_perc', 'sex_M', 'int'],\n",
       "      dtype='object', length=421)"
      ]
     },
     "execution_count": 55,
     "metadata": {},
     "output_type": "execute_result"
    }
   ],
   "source": [
    "X.columns"
   ]
  },
  {
   "cell_type": "code",
   "execution_count": 30,
   "id": "317c3c9d",
   "metadata": {},
   "outputs": [],
   "source": [
    "y = savedDict['y']"
   ]
  },
  {
   "cell_type": "code",
   "execution_count": 56,
   "id": "637d4123",
   "metadata": {},
   "outputs": [],
   "source": [
    "brain = ['rsfmri_c_ngd_ad_ngd_cgc', 'rsfmri_c_ngd_ad_ngd_vs',\n",
    "       'rsfmri_c_ngd_cgc_ngd_cgc', 'rsfmri_c_ngd_smh_ngd_smm',\n",
    "       'rsfmri_c_ngd_sa_ngd_vta', 'rsfmri_cor_ngd_au_scs_aalh',\n",
    "       'rsfmri_cor_ngd_au_scs_ptrh', 'rsfmri_cor_ngd_au_scs_vtdcrh',\n",
    "       'rsfmri_cor_ngd_cerc_scs_cdelh', 'rsfmri_cor_ngd_cerc_scs_ptlh',\n",
    "       'rsfmri_cor_ngd_cerc_scs_aglh', 'rsfmri_cor_ngd_cerc_scs_vtdclh',\n",
    "       'rsfmri_cor_ngd_cerc_scs_hprh', 'rsfmri_cor_ngd_cerc_scs_agrh',\n",
    "       'rsfmri_cor_ngd_cerc_scs_vtdcrh', 'rsfmri_cor_ngd_copa_scs_thplh',\n",
    "       'rsfmri_cor_ngd_copa_scs_vtdclh', 'rsfmri_cor_ngd_copa_scs_plrh',\n",
    "       'rsfmri_cor_ngd_df_scs_ptlh', 'rsfmri_cor_ngd_df_scs_pllh',\n",
    "       'rsfmri_cor_ngd_df_scs_aalh', 'rsfmri_cor_ngd_none_scs_ptlh',\n",
    "       'rsfmri_cor_ngd_none_scs_thprh', 'rsfmri_cor_ngd_none_scs_cderh',\n",
    "       'rsfmri_cor_ngd_rst_scs_bs', 'rsfmri_cor_ngd_rst_scs_thprh',\n",
    "       'rsfmri_cor_ngd_rst_scs_hprh', 'rsfmri_cor_ngd_rst_scs_vtdcrh',\n",
    "       'rsfmri_cor_ngd_smh_scs_crcxlh', 'rsfmri_cor_ngd_smh_scs_pllh',\n",
    "       'rsfmri_cor_ngd_smh_scs_cderh', 'rsfmri_cor_ngd_smh_scs_ptrh',\n",
    "       'rsfmri_cor_ngd_smh_scs_hprh', 'rsfmri_cor_ngd_smh_scs_aarh',\n",
    "       'rsfmri_cor_ngd_smm_scs_hplh', 'rsfmri_cor_ngd_smm_scs_aglh',\n",
    "       'rsfmri_cor_ngd_smm_scs_thprh', 'rsfmri_cor_ngd_sa_scs_crcxlh',\n",
    "       'rsfmri_cor_ngd_sa_scs_thplh', 'rsfmri_cor_ngd_vta_scs_hplh',\n",
    "       'rsfmri_cor_ngd_vs_scs_hplh', 'rsfmri_cor_ngd_vs_scs_thprh',\n",
    "       'rsfmri_cor_ngd_vs_scs_plrh', 'rsfmri_cor_ngd_vs_scs_hprh', 'interview_age',\n",
    "       'bmi_perc', 'sex_M']"
   ]
  },
  {
   "cell_type": "code",
   "execution_count": 57,
   "id": "8286ddde",
   "metadata": {},
   "outputs": [],
   "source": [
    "pvalues = {}"
   ]
  },
  {
   "cell_type": "code",
   "execution_count": 58,
   "id": "31b245dd",
   "metadata": {},
   "outputs": [
    {
     "name": "stdout",
     "output_type": "stream",
     "text": [
      "Optimization terminated successfully.\n",
      "         Current function value: 0.480148\n",
      "         Iterations 7\n",
      "Optimization terminated successfully.\n",
      "         Current function value: 0.480125\n",
      "         Iterations 7\n",
      "Optimization terminated successfully.\n",
      "         Current function value: 0.478985\n",
      "         Iterations 7\n",
      "Optimization terminated successfully.\n",
      "         Current function value: 0.480072\n",
      "         Iterations 7\n",
      "Optimization terminated successfully.\n",
      "         Current function value: 0.480039\n",
      "         Iterations 7\n",
      "Optimization terminated successfully.\n",
      "         Current function value: 0.480157\n",
      "         Iterations 7\n",
      "Optimization terminated successfully.\n",
      "         Current function value: 0.480162\n",
      "         Iterations 7\n",
      "Optimization terminated successfully.\n",
      "         Current function value: 0.478642\n",
      "         Iterations 8\n",
      "Optimization terminated successfully.\n",
      "         Current function value: 0.480176\n",
      "         Iterations 7\n",
      "Optimization terminated successfully.\n",
      "         Current function value: 0.479869\n",
      "         Iterations 7\n",
      "Optimization terminated successfully.\n",
      "         Current function value: 0.480170\n",
      "         Iterations 7\n",
      "Optimization terminated successfully.\n",
      "         Current function value: 0.480085\n",
      "         Iterations 7\n",
      "Optimization terminated successfully.\n",
      "         Current function value: 0.479965\n",
      "         Iterations 8\n",
      "Optimization terminated successfully.\n",
      "         Current function value: 0.479579\n",
      "         Iterations 7\n",
      "Optimization terminated successfully.\n",
      "         Current function value: 0.479577\n",
      "         Iterations 7\n",
      "Optimization terminated successfully.\n",
      "         Current function value: 0.480084\n",
      "         Iterations 7\n",
      "Optimization terminated successfully.\n",
      "         Current function value: 0.480027\n",
      "         Iterations 7\n",
      "Optimization terminated successfully.\n",
      "         Current function value: 0.479598\n",
      "         Iterations 7\n",
      "Optimization terminated successfully.\n",
      "         Current function value: 0.480176\n",
      "         Iterations 7\n",
      "Optimization terminated successfully.\n",
      "         Current function value: 0.479102\n",
      "         Iterations 7\n",
      "Optimization terminated successfully.\n",
      "         Current function value: 0.479618\n",
      "         Iterations 7\n",
      "Optimization terminated successfully.\n",
      "         Current function value: 0.479831\n",
      "         Iterations 7\n",
      "Optimization terminated successfully.\n",
      "         Current function value: 0.480173\n",
      "         Iterations 7\n",
      "Optimization terminated successfully.\n",
      "         Current function value: 0.478483\n",
      "         Iterations 7\n",
      "Optimization terminated successfully.\n",
      "         Current function value: 0.479941\n",
      "         Iterations 7\n",
      "Optimization terminated successfully.\n",
      "         Current function value: 0.480173\n",
      "         Iterations 7\n",
      "Optimization terminated successfully.\n",
      "         Current function value: 0.479636\n",
      "         Iterations 8\n",
      "Optimization terminated successfully.\n",
      "         Current function value: 0.480139\n",
      "         Iterations 7\n",
      "Optimization terminated successfully.\n",
      "         Current function value: 0.479943\n",
      "         Iterations 7\n",
      "Optimization terminated successfully.\n",
      "         Current function value: 0.480120\n",
      "         Iterations 7\n",
      "Optimization terminated successfully.\n",
      "         Current function value: 0.480099\n",
      "         Iterations 7\n",
      "Optimization terminated successfully.\n",
      "         Current function value: 0.479810\n",
      "         Iterations 7\n",
      "Optimization terminated successfully.\n",
      "         Current function value: 0.479842\n",
      "         Iterations 7\n",
      "Optimization terminated successfully.\n",
      "         Current function value: 0.480000\n",
      "         Iterations 7\n",
      "Optimization terminated successfully.\n",
      "         Current function value: 0.480104\n",
      "         Iterations 7\n",
      "Optimization terminated successfully.\n",
      "         Current function value: 0.479679\n",
      "         Iterations 7\n",
      "Optimization terminated successfully.\n",
      "         Current function value: 0.479973\n",
      "         Iterations 7\n",
      "Optimization terminated successfully.\n",
      "         Current function value: 0.480164\n",
      "         Iterations 7\n",
      "Optimization terminated successfully.\n",
      "         Current function value: 0.479328\n",
      "         Iterations 7\n",
      "Optimization terminated successfully.\n",
      "         Current function value: 0.480077\n",
      "         Iterations 7\n",
      "Optimization terminated successfully.\n",
      "         Current function value: 0.480147\n",
      "         Iterations 7\n",
      "Optimization terminated successfully.\n",
      "         Current function value: 0.480147\n",
      "         Iterations 7\n",
      "Optimization terminated successfully.\n",
      "         Current function value: 0.480130\n",
      "         Iterations 7\n",
      "Optimization terminated successfully.\n",
      "         Current function value: 0.479825\n",
      "         Iterations 7\n",
      "Optimization terminated successfully.\n",
      "         Current function value: 0.475522\n",
      "         Iterations 7\n",
      "Optimization terminated successfully.\n",
      "         Current function value: 0.471203\n",
      "         Iterations 7\n",
      "Optimization terminated successfully.\n",
      "         Current function value: 0.479688\n",
      "         Iterations 7\n"
     ]
    }
   ],
   "source": [
    "for ROI in brain:\n",
    "    try:\n",
    "        pvalues[ROI] = interactor(ROI)\n",
    "    except:\n",
    "        pvalues[ROI] = 'error'\n",
    "    "
   ]
  },
  {
   "cell_type": "code",
   "execution_count": 59,
   "id": "6286a463",
   "metadata": {},
   "outputs": [],
   "source": [
    "intP = []\n",
    "for ps in pvalues.values():\n",
    "    intP.append(ps[-1])"
   ]
  },
  {
   "cell_type": "code",
   "execution_count": 60,
   "id": "52a2c81e",
   "metadata": {},
   "outputs": [
    {
     "name": "stdout",
     "output_type": "stream",
     "text": [
      "rsfmri_c_ngd_ad_ngd_cgc           4.886635e-01\n",
      "rsfmri_c_ngd_ad_ngd_vs            5.297153e-01\n",
      "rsfmri_c_ngd_cgc_ngd_cgc          1.000000e+00\n",
      "rsfmri_c_ngd_smh_ngd_smm          3.333756e-01\n",
      "rsfmri_c_ngd_sa_ngd_vta           4.365616e-01\n",
      "rsfmri_cor_ngd_au_scs_aalh        7.330833e-01\n",
      "rsfmri_cor_ngd_au_scs_ptrh        7.464842e-01\n",
      "rsfmri_cor_ngd_au_scs_vtdcrh      9.581110e-04\n",
      "rsfmri_cor_ngd_cerc_scs_cdelh     1.000000e+00\n",
      "rsfmri_cor_ngd_cerc_scs_ptlh      3.768102e-01\n",
      "rsfmri_cor_ngd_cerc_scs_aglh      1.000000e+00\n",
      "rsfmri_cor_ngd_cerc_scs_vtdclh    1.000000e+00\n",
      "rsfmri_cor_ngd_cerc_scs_hprh      2.475097e-01\n",
      "rsfmri_cor_ngd_cerc_scs_agrh      9.929158e-02\n",
      "rsfmri_cor_ngd_cerc_scs_vtdcrh    3.052787e-02\n",
      "rsfmri_cor_ngd_copa_scs_thplh     1.000000e+00\n",
      "rsfmri_cor_ngd_copa_scs_vtdclh    1.000000e+00\n",
      "rsfmri_cor_ngd_copa_scs_plrh      1.000000e+00\n",
      "rsfmri_cor_ngd_df_scs_ptlh        9.070055e-01\n",
      "rsfmri_cor_ngd_df_scs_pllh        3.890663e-05\n",
      "rsfmri_cor_ngd_df_scs_aalh        2.346900e-01\n",
      "rsfmri_cor_ngd_none_scs_ptlh      1.000000e+00\n",
      "rsfmri_cor_ngd_none_scs_thprh     0.000000e+00\n",
      "rsfmri_cor_ngd_none_scs_cderh     1.694528e-01\n",
      "rsfmri_cor_ngd_rst_scs_bs         2.252066e-01\n",
      "rsfmri_cor_ngd_rst_scs_thprh      1.000000e+00\n",
      "rsfmri_cor_ngd_rst_scs_hprh       1.000000e+00\n",
      "rsfmri_cor_ngd_rst_scs_vtdcrh     5.602757e-01\n",
      "rsfmri_cor_ngd_smh_scs_crcxlh     1.000000e+00\n",
      "rsfmri_cor_ngd_smh_scs_pllh       1.000000e+00\n",
      "rsfmri_cor_ngd_smh_scs_cderh      8.910877e-01\n",
      "rsfmri_cor_ngd_smh_scs_ptrh       7.367016e-01\n",
      "rsfmri_cor_ngd_smh_scs_hprh       3.700289e-01\n",
      "rsfmri_cor_ngd_smh_scs_aarh       2.558080e-01\n",
      "rsfmri_cor_ngd_smm_scs_hplh       1.000000e+00\n",
      "rsfmri_cor_ngd_smm_scs_aglh       5.171362e-01\n",
      "rsfmri_cor_ngd_smm_scs_thprh      1.000000e+00\n",
      "rsfmri_cor_ngd_sa_scs_crcxlh      8.197215e-01\n",
      "rsfmri_cor_ngd_sa_scs_thplh       4.664378e-02\n",
      "rsfmri_cor_ngd_vta_scs_hplh       1.000000e+00\n",
      "rsfmri_cor_ngd_vs_scs_hplh        6.717287e-01\n",
      "rsfmri_cor_ngd_vs_scs_thprh       1.000000e+00\n",
      "rsfmri_cor_ngd_vs_scs_plrh        6.056971e-01\n",
      "rsfmri_cor_ngd_vs_scs_hprh        2.389049e-01\n",
      "interview_age                     3.781619e-03\n",
      "bmi_perc                          2.543217e-13\n",
      "sex_M                             6.996877e-01\n",
      "dtype: float64\n"
     ]
    }
   ],
   "source": [
    "# Create a Series without a custom index\n",
    "seriesP = pd.Series(intP)\n",
    "\n",
    "# Assign a custom index\n",
    "seriesP.index = pvalues.keys()\n",
    "# Replace 'r' with 1\n",
    "seriesP = seriesP.replace('r', 1)\n",
    "\n",
    "# Replace NaN with 1\n",
    "seriesP = seriesP.fillna(1)\n",
    "\n",
    "# Display the Series\n",
    "print(seriesP)"
   ]
  },
  {
   "cell_type": "code",
   "execution_count": 61,
   "id": "6bf7da1f",
   "metadata": {},
   "outputs": [
    {
     "name": "stdout",
     "output_type": "stream",
     "text": [
      "Rejected (Significant after FDR): [False False False False False False False  True False False False False\n",
      " False False False False False False False  True False False  True False\n",
      " False False False False False False False False False False False False\n",
      " False False False False False False False False  True  True False]\n",
      "Corrected p-values: [1.00000000e+00 1.00000000e+00 1.00000000e+00 1.00000000e+00\n",
      " 1.00000000e+00 1.00000000e+00 1.00000000e+00 1.12578042e-02\n",
      " 1.00000000e+00 1.00000000e+00 1.00000000e+00 1.00000000e+00\n",
      " 8.58783920e-01 5.83338021e-01 2.39134999e-01 1.00000000e+00\n",
      " 1.00000000e+00 1.00000000e+00 1.00000000e+00 6.09537275e-04\n",
      " 8.58783920e-01 1.00000000e+00 0.00000000e+00 8.58783920e-01\n",
      " 8.58783920e-01 1.00000000e+00 1.00000000e+00 1.00000000e+00\n",
      " 1.00000000e+00 1.00000000e+00 1.00000000e+00 1.00000000e+00\n",
      " 1.00000000e+00 8.58783920e-01 1.00000000e+00 1.00000000e+00\n",
      " 1.00000000e+00 1.00000000e+00 3.13179669e-01 1.00000000e+00\n",
      " 1.00000000e+00 1.00000000e+00 1.00000000e+00 8.58783920e-01\n",
      " 3.55472209e-02 5.97655884e-12 1.00000000e+00]\n"
     ]
    }
   ],
   "source": [
    "# Perform FDR correction\n",
    "rejected, pvals_corrected, _, _ = multipletests(seriesP, alpha=0.05, method='fdr_bh')\n",
    "\n",
    "# Print the results\n",
    "print(\"Rejected (Significant after FDR):\", rejected)\n",
    "print(\"Corrected p-values:\", pvals_corrected)\n"
   ]
  },
  {
   "cell_type": "code",
   "execution_count": 62,
   "id": "d0aa5a24",
   "metadata": {},
   "outputs": [],
   "source": [
    "# Create a Series without a custom index\n",
    "sigP = pd.Series(pvals_corrected)\n",
    "# Assign a custom index\n",
    "sigP.index = seriesP.index\n"
   ]
  },
  {
   "cell_type": "code",
   "execution_count": 63,
   "id": "d3d8361a",
   "metadata": {},
   "outputs": [
    {
     "data": {
      "text/plain": [
       "rsfmri_c_ngd_ad_ngd_cgc           1.000000e+00\n",
       "rsfmri_c_ngd_ad_ngd_vs            1.000000e+00\n",
       "rsfmri_c_ngd_cgc_ngd_cgc          1.000000e+00\n",
       "rsfmri_c_ngd_smh_ngd_smm          1.000000e+00\n",
       "rsfmri_c_ngd_sa_ngd_vta           1.000000e+00\n",
       "rsfmri_cor_ngd_au_scs_aalh        1.000000e+00\n",
       "rsfmri_cor_ngd_au_scs_ptrh        1.000000e+00\n",
       "rsfmri_cor_ngd_au_scs_vtdcrh      1.125780e-02\n",
       "rsfmri_cor_ngd_cerc_scs_cdelh     1.000000e+00\n",
       "rsfmri_cor_ngd_cerc_scs_ptlh      1.000000e+00\n",
       "rsfmri_cor_ngd_cerc_scs_aglh      1.000000e+00\n",
       "rsfmri_cor_ngd_cerc_scs_vtdclh    1.000000e+00\n",
       "rsfmri_cor_ngd_cerc_scs_hprh      8.587839e-01\n",
       "rsfmri_cor_ngd_cerc_scs_agrh      5.833380e-01\n",
       "rsfmri_cor_ngd_cerc_scs_vtdcrh    2.391350e-01\n",
       "rsfmri_cor_ngd_copa_scs_thplh     1.000000e+00\n",
       "rsfmri_cor_ngd_copa_scs_vtdclh    1.000000e+00\n",
       "rsfmri_cor_ngd_copa_scs_plrh      1.000000e+00\n",
       "rsfmri_cor_ngd_df_scs_ptlh        1.000000e+00\n",
       "rsfmri_cor_ngd_df_scs_pllh        6.095373e-04\n",
       "rsfmri_cor_ngd_df_scs_aalh        8.587839e-01\n",
       "rsfmri_cor_ngd_none_scs_ptlh      1.000000e+00\n",
       "rsfmri_cor_ngd_none_scs_thprh     0.000000e+00\n",
       "rsfmri_cor_ngd_none_scs_cderh     8.587839e-01\n",
       "rsfmri_cor_ngd_rst_scs_bs         8.587839e-01\n",
       "rsfmri_cor_ngd_rst_scs_thprh      1.000000e+00\n",
       "rsfmri_cor_ngd_rst_scs_hprh       1.000000e+00\n",
       "rsfmri_cor_ngd_rst_scs_vtdcrh     1.000000e+00\n",
       "rsfmri_cor_ngd_smh_scs_crcxlh     1.000000e+00\n",
       "rsfmri_cor_ngd_smh_scs_pllh       1.000000e+00\n",
       "rsfmri_cor_ngd_smh_scs_cderh      1.000000e+00\n",
       "rsfmri_cor_ngd_smh_scs_ptrh       1.000000e+00\n",
       "rsfmri_cor_ngd_smh_scs_hprh       1.000000e+00\n",
       "rsfmri_cor_ngd_smh_scs_aarh       8.587839e-01\n",
       "rsfmri_cor_ngd_smm_scs_hplh       1.000000e+00\n",
       "rsfmri_cor_ngd_smm_scs_aglh       1.000000e+00\n",
       "rsfmri_cor_ngd_smm_scs_thprh      1.000000e+00\n",
       "rsfmri_cor_ngd_sa_scs_crcxlh      1.000000e+00\n",
       "rsfmri_cor_ngd_sa_scs_thplh       3.131797e-01\n",
       "rsfmri_cor_ngd_vta_scs_hplh       1.000000e+00\n",
       "rsfmri_cor_ngd_vs_scs_hplh        1.000000e+00\n",
       "rsfmri_cor_ngd_vs_scs_thprh       1.000000e+00\n",
       "rsfmri_cor_ngd_vs_scs_plrh        1.000000e+00\n",
       "rsfmri_cor_ngd_vs_scs_hprh        8.587839e-01\n",
       "interview_age                     3.554722e-02\n",
       "bmi_perc                          5.976559e-12\n",
       "sex_M                             1.000000e+00\n",
       "dtype: float64"
      ]
     },
     "execution_count": 63,
     "metadata": {},
     "output_type": "execute_result"
    }
   ],
   "source": [
    "sigP"
   ]
  },
  {
   "cell_type": "markdown",
   "id": "3657e195",
   "metadata": {},
   "source": [
    "# Summary\n",
    "Household income interacts with:\n",
    "* Average correlation between auditory network and ASEG ROI right-ventraldc\n",
    "* Average correlation between default network and ASEG ROI left-pallidum\n",
    "* Average correlation between none network and ASEG ROI right-thalamus-proper\n",
    "* bmi_perc\n",
    "* interview_age "
   ]
  },
  {
   "cell_type": "code",
   "execution_count": 64,
   "id": "b0597dde",
   "metadata": {},
   "outputs": [],
   "source": [
    "savedDict.update({'sigP':sigP})"
   ]
  },
  {
   "cell_type": "code",
   "execution_count": 66,
   "id": "d428506b",
   "metadata": {},
   "outputs": [],
   "source": [
    "import pickle\n",
    "from datetime import datetime\n",
    "from time import time\n"
   ]
  },
  {
   "cell_type": "code",
   "execution_count": 67,
   "id": "6575ee71",
   "metadata": {},
   "outputs": [],
   "source": [
    "datefmt='%m-%d-%Y_%I-%M-%S'"
   ]
  },
  {
   "cell_type": "code",
   "execution_count": 68,
   "id": "0febdb12",
   "metadata": {},
   "outputs": [],
   "source": [
    "def adillyofapickle(basepath,dic, name):\n",
    "    st = datetime.fromtimestamp(time()).strftime(datefmt)\n",
    "    if os.path.exists(os.path.join(basepath,'tmp')):\n",
    "        print('already have tmp')\n",
    "    else:\n",
    "        os.makedirs(os.path.join(basepath,'tmp'))\n",
    "    pickle.dump(dic, open(os.path.join(basepath,'tmp','%s_%s'%(name,st)), 'wb'), protocol=4)"
   ]
  },
  {
   "cell_type": "code",
   "execution_count": 70,
   "id": "b759e0ad",
   "metadata": {},
   "outputs": [],
   "source": [
    "basepath = '/Users/gracer/Library/CloudStorage/OneDrive-UniversityofWyoming/0. Lab/M2AENAD Lab - Documents/RESEARCH/ABCD/Yana_SSIB_2024'\n",
    "\n",
    "\n"
   ]
  },
  {
   "cell_type": "code",
   "execution_count": 71,
   "id": "7e185d20",
   "metadata": {},
   "outputs": [
    {
     "name": "stdout",
     "output_type": "stream",
     "text": [
      "already have tmp\n"
     ]
    }
   ],
   "source": [
    "adillyofapickle(basepath,savedDict, 'SSBABCDanalysisInt')"
   ]
  },
  {
   "cell_type": "code",
   "execution_count": null,
   "id": "eef30c4f",
   "metadata": {},
   "outputs": [],
   "source": []
  }
 ],
 "metadata": {
  "kernelspec": {
   "display_name": "Python 3 (ipykernel)",
   "language": "python",
   "name": "python3"
  },
  "language_info": {
   "codemirror_mode": {
    "name": "ipython",
    "version": 3
   },
   "file_extension": ".py",
   "mimetype": "text/x-python",
   "name": "python",
   "nbconvert_exporter": "python",
   "pygments_lexer": "ipython3",
   "version": "3.8.8"
  }
 },
 "nbformat": 4,
 "nbformat_minor": 5
}
