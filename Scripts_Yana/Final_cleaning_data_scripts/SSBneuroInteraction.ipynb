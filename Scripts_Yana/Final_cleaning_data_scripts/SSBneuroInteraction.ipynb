{
 "cells": [
  {
   "cell_type": "code",
   "execution_count": 1,
   "id": "468c06c1",
   "metadata": {},
   "outputs": [],
   "source": [
    "import  scipy.signal.signaltools\n",
    "\n",
    "def _centered(arr, newsize):\n",
    "    # Return the center newsize portion of the array.\n",
    "    newsize = np.asarray(newsize)\n",
    "    currsize = np.array(arr.shape)\n",
    "    startind = (currsize - newsize) // 2\n",
    "    endind = startind + newsize\n",
    "    myslice = [slice(startind[k], endind[k]) for k in range(len(endind))]\n",
    "    return arr[tuple(myslice)]\n",
    "\n",
    "scipy.signal.signaltools._centered = _centered\n"
   ]
  },
  {
   "cell_type": "code",
   "execution_count": 2,
   "id": "e256ade2",
   "metadata": {},
   "outputs": [
    {
     "name": "stderr",
     "output_type": "stream",
     "text": [
      "/Users/gracer/opt/anaconda3/lib/python3.8/site-packages/statsmodels/tsa/base/tsa_model.py:7: FutureWarning: pandas.Int64Index is deprecated and will be removed from pandas in a future version. Use pandas.Index with the appropriate dtype instead.\n",
      "  from pandas import (to_datetime, Int64Index, DatetimeIndex, Period,\n",
      "/Users/gracer/opt/anaconda3/lib/python3.8/site-packages/statsmodels/tsa/base/tsa_model.py:7: FutureWarning: pandas.Float64Index is deprecated and will be removed from pandas in a future version. Use pandas.Index with the appropriate dtype instead.\n",
      "  from pandas import (to_datetime, Int64Index, DatetimeIndex, Period,\n"
     ]
    }
   ],
   "source": [
    "import pandas as pd\n",
    "import nilearn\n",
    "import numpy as np\n",
    "import glob \n",
    "import os\n",
    "import pickle\n",
    "\n",
    "import statsmodels.api as sm\n",
    "from statsmodels.stats.outliers_influence import variance_inflation_factor\n",
    "from statsmodels.stats.multitest import multipletests\n",
    "import statsmodels.formula.api as smf\n",
    "\n",
    "\n",
    "from pathlib import Path\n",
    "\n",
    "\n",
    "from matplotlib import pyplot as plt\n",
    "import matplotlib.lines as mlines\n",
    "import matplotlib.transforms as mtransforms\n",
    "\n",
    "import seaborn as sns\n",
    "\n",
    "\n",
    "from nltools.data import Brain_Data, Adjacency\n",
    "from nltools.mask import roi_to_brain, expand_mask\n",
    "from nltools.stats import fdr, threshold\n",
    "\n",
    "%matplotlib inline\n"
   ]
  },
  {
   "cell_type": "code",
   "execution_count": 3,
   "id": "a1099265",
   "metadata": {},
   "outputs": [],
   "source": [
    "def onetoughjar(path2dic):\n",
    "    with open(path2dic, 'rb') as pickle_file:\n",
    "        try:\n",
    "            while True:\n",
    "                output = pickle.load(pickle_file)\n",
    "        except EOFError:\n",
    "            pass\n",
    "    return(output)"
   ]
  },
  {
   "cell_type": "code",
   "execution_count": 4,
   "id": "2df9f36a",
   "metadata": {},
   "outputs": [],
   "source": [
    "def interactor(m):\n",
    "    X['int'] = X['demo_comb_income_v2']*X['%s'%m]\n",
    "    # Fit the multinomial logistic regression model\n",
    "    logit_model = sm.Logit(y, X)\n",
    "    result = logit_model.fit()\n",
    "    return(result)\n",
    "\n"
   ]
  },
  {
   "cell_type": "code",
   "execution_count": 5,
   "id": "35705cbc",
   "metadata": {},
   "outputs": [],
   "source": [
    "savedDict = onetoughjar('/Users/gracer/Library/CloudStorage/OneDrive-UniversityofWyoming/0. Lab/M2AENAD Lab - Documents/RESEARCH/ABCD/Yana_SSIB_2024/tmp/SSBABCDanalysis_11-23-2024_07-36-16')"
   ]
  },
  {
   "cell_type": "code",
   "execution_count": 8,
   "id": "35577187",
   "metadata": {
    "scrolled": true
   },
   "outputs": [
    {
     "data": {
      "text/html": [
       "<table class=\"simpletable\">\n",
       "<caption>Logit Regression Results</caption>\n",
       "<tr>\n",
       "  <th>Dep. Variable:</th>       <td>ssb_group</td>    <th>  No. Observations:  </th>  <td>   232</td>  \n",
       "</tr>\n",
       "<tr>\n",
       "  <th>Model:</th>                 <td>Logit</td>      <th>  Df Residuals:      </th>  <td>   183</td>  \n",
       "</tr>\n",
       "<tr>\n",
       "  <th>Method:</th>                 <td>MLE</td>       <th>  Df Model:          </th>  <td>    48</td>  \n",
       "</tr>\n",
       "<tr>\n",
       "  <th>Date:</th>            <td>Wed, 08 Jan 2025</td> <th>  Pseudo R-squ.:     </th>  <td>0.3819</td>  \n",
       "</tr>\n",
       "<tr>\n",
       "  <th>Time:</th>                <td>11:57:46</td>     <th>  Log-Likelihood:    </th> <td> -99.350</td> \n",
       "</tr>\n",
       "<tr>\n",
       "  <th>converged:</th>             <td>True</td>       <th>  LL-Null:           </th> <td> -160.73</td> \n",
       "</tr>\n",
       "<tr>\n",
       "  <th>Covariance Type:</th>     <td>nonrobust</td>    <th>  LLR p-value:       </th> <td>1.787e-08</td>\n",
       "</tr>\n",
       "</table>\n",
       "<table class=\"simpletable\">\n",
       "<tr>\n",
       "                 <td></td>                   <th>coef</th>     <th>std err</th>      <th>z</th>      <th>P>|z|</th>  <th>[0.025</th>    <th>0.975]</th>  \n",
       "</tr>\n",
       "<tr>\n",
       "  <th>const</th>                          <td>   -0.0603</td> <td>    0.311</td> <td>   -0.194</td> <td> 0.846</td> <td>   -0.669</td> <td>    0.549</td>\n",
       "</tr>\n",
       "<tr>\n",
       "  <th>rsfmri_c_ngd_ad_ngd_cgc</th>        <td>    2.3492</td> <td>    6.378</td> <td>    0.368</td> <td> 0.713</td> <td>  -10.151</td> <td>   14.849</td>\n",
       "</tr>\n",
       "<tr>\n",
       "  <th>rsfmri_c_ngd_ad_ngd_vs</th>         <td>    1.0149</td> <td>    4.092</td> <td>    0.248</td> <td> 0.804</td> <td>   -7.005</td> <td>    9.034</td>\n",
       "</tr>\n",
       "<tr>\n",
       "  <th>rsfmri_c_ngd_cgc_ngd_cgc</th>       <td>   -4.2945</td> <td>    4.162</td> <td>   -1.032</td> <td> 0.302</td> <td>  -12.451</td> <td>    3.862</td>\n",
       "</tr>\n",
       "<tr>\n",
       "  <th>rsfmri_c_ngd_smh_ngd_smm</th>       <td>    2.0506</td> <td>    3.210</td> <td>    0.639</td> <td> 0.523</td> <td>   -4.241</td> <td>    8.342</td>\n",
       "</tr>\n",
       "<tr>\n",
       "  <th>rsfmri_c_ngd_sa_ngd_vta</th>        <td>    2.0462</td> <td>    3.545</td> <td>    0.577</td> <td> 0.564</td> <td>   -4.902</td> <td>    8.994</td>\n",
       "</tr>\n",
       "<tr>\n",
       "  <th>rsfmri_cor_ngd_au_scs_aalh</th>     <td>   -4.7756</td> <td>    3.698</td> <td>   -1.291</td> <td> 0.197</td> <td>  -12.023</td> <td>    2.472</td>\n",
       "</tr>\n",
       "<tr>\n",
       "  <th>rsfmri_cor_ngd_au_scs_ptrh</th>     <td>    1.8736</td> <td>    3.844</td> <td>    0.487</td> <td> 0.626</td> <td>   -5.660</td> <td>    9.407</td>\n",
       "</tr>\n",
       "<tr>\n",
       "  <th>rsfmri_cor_ngd_au_scs_vtdcrh</th>   <td>    3.1658</td> <td>    4.155</td> <td>    0.762</td> <td> 0.446</td> <td>   -4.977</td> <td>   11.309</td>\n",
       "</tr>\n",
       "<tr>\n",
       "  <th>rsfmri_cor_ngd_cerc_scs_cdelh</th>  <td>    4.4005</td> <td>    4.364</td> <td>    1.008</td> <td> 0.313</td> <td>   -4.152</td> <td>   12.953</td>\n",
       "</tr>\n",
       "<tr>\n",
       "  <th>rsfmri_cor_ngd_cerc_scs_ptlh</th>   <td>   -1.5727</td> <td>    3.161</td> <td>   -0.497</td> <td> 0.619</td> <td>   -7.769</td> <td>    4.623</td>\n",
       "</tr>\n",
       "<tr>\n",
       "  <th>rsfmri_cor_ngd_cerc_scs_aglh</th>   <td>   -4.7619</td> <td>    5.715</td> <td>   -0.833</td> <td> 0.405</td> <td>  -15.964</td> <td>    6.440</td>\n",
       "</tr>\n",
       "<tr>\n",
       "  <th>rsfmri_cor_ngd_cerc_scs_vtdclh</th> <td>   -1.1574</td> <td>    1.633</td> <td>   -0.709</td> <td> 0.478</td> <td>   -4.358</td> <td>    2.043</td>\n",
       "</tr>\n",
       "<tr>\n",
       "  <th>rsfmri_cor_ngd_cerc_scs_hprh</th>   <td>    5.6376</td> <td>    6.086</td> <td>    0.926</td> <td> 0.354</td> <td>   -6.291</td> <td>   17.566</td>\n",
       "</tr>\n",
       "<tr>\n",
       "  <th>rsfmri_cor_ngd_cerc_scs_agrh</th>   <td>   -2.2473</td> <td>    4.051</td> <td>   -0.555</td> <td> 0.579</td> <td>  -10.187</td> <td>    5.692</td>\n",
       "</tr>\n",
       "<tr>\n",
       "  <th>rsfmri_cor_ngd_cerc_scs_vtdcrh</th> <td>   -6.2587</td> <td>    4.779</td> <td>   -1.310</td> <td> 0.190</td> <td>  -15.626</td> <td>    3.108</td>\n",
       "</tr>\n",
       "<tr>\n",
       "  <th>rsfmri_cor_ngd_copa_scs_thplh</th>  <td>    1.1951</td> <td>    5.466</td> <td>    0.219</td> <td> 0.827</td> <td>   -9.518</td> <td>   11.909</td>\n",
       "</tr>\n",
       "<tr>\n",
       "  <th>rsfmri_cor_ngd_copa_scs_vtdclh</th> <td>   12.9257</td> <td>    6.145</td> <td>    2.103</td> <td> 0.035</td> <td>    0.882</td> <td>   24.970</td>\n",
       "</tr>\n",
       "<tr>\n",
       "  <th>rsfmri_cor_ngd_copa_scs_plrh</th>   <td>   -3.0238</td> <td>    3.233</td> <td>   -0.935</td> <td> 0.350</td> <td>   -9.360</td> <td>    3.312</td>\n",
       "</tr>\n",
       "<tr>\n",
       "  <th>rsfmri_cor_ngd_df_scs_ptlh</th>     <td>    2.1731</td> <td>    4.181</td> <td>    0.520</td> <td> 0.603</td> <td>   -6.022</td> <td>   10.368</td>\n",
       "</tr>\n",
       "<tr>\n",
       "  <th>rsfmri_cor_ngd_df_scs_pllh</th>     <td>    0.8833</td> <td>    2.543</td> <td>    0.347</td> <td> 0.728</td> <td>   -4.101</td> <td>    5.868</td>\n",
       "</tr>\n",
       "<tr>\n",
       "  <th>rsfmri_cor_ngd_df_scs_aalh</th>     <td>    4.0218</td> <td>    2.388</td> <td>    1.684</td> <td> 0.092</td> <td>   -0.659</td> <td>    8.703</td>\n",
       "</tr>\n",
       "<tr>\n",
       "  <th>rsfmri_cor_ngd_none_scs_ptlh</th>   <td>    1.6436</td> <td>    4.367</td> <td>    0.376</td> <td> 0.707</td> <td>   -6.915</td> <td>   10.202</td>\n",
       "</tr>\n",
       "<tr>\n",
       "  <th>rsfmri_cor_ngd_none_scs_thprh</th>  <td>    4.8505</td> <td>    4.607</td> <td>    1.053</td> <td> 0.292</td> <td>   -4.179</td> <td>   13.880</td>\n",
       "</tr>\n",
       "<tr>\n",
       "  <th>rsfmri_cor_ngd_none_scs_cderh</th>  <td>   -2.7695</td> <td>    3.041</td> <td>   -0.911</td> <td> 0.362</td> <td>   -8.730</td> <td>    3.191</td>\n",
       "</tr>\n",
       "<tr>\n",
       "  <th>rsfmri_cor_ngd_rst_scs_bs</th>      <td>    7.9817</td> <td>    3.782</td> <td>    2.110</td> <td> 0.035</td> <td>    0.569</td> <td>   15.394</td>\n",
       "</tr>\n",
       "<tr>\n",
       "  <th>rsfmri_cor_ngd_rst_scs_thprh</th>   <td>   -2.7711</td> <td>    3.022</td> <td>   -0.917</td> <td> 0.359</td> <td>   -8.694</td> <td>    3.152</td>\n",
       "</tr>\n",
       "<tr>\n",
       "  <th>rsfmri_cor_ngd_rst_scs_hprh</th>    <td>    0.4386</td> <td>    4.408</td> <td>    0.099</td> <td> 0.921</td> <td>   -8.202</td> <td>    9.079</td>\n",
       "</tr>\n",
       "<tr>\n",
       "  <th>rsfmri_cor_ngd_rst_scs_vtdcrh</th>  <td>   -2.2974</td> <td>    5.109</td> <td>   -0.450</td> <td> 0.653</td> <td>  -12.310</td> <td>    7.715</td>\n",
       "</tr>\n",
       "<tr>\n",
       "  <th>rsfmri_cor_ngd_smh_scs_crcxlh</th>  <td>    0.0873</td> <td>    2.731</td> <td>    0.032</td> <td> 0.975</td> <td>   -5.266</td> <td>    5.441</td>\n",
       "</tr>\n",
       "<tr>\n",
       "  <th>rsfmri_cor_ngd_smh_scs_pllh</th>    <td>    1.6218</td> <td>    5.941</td> <td>    0.273</td> <td> 0.785</td> <td>  -10.023</td> <td>   13.267</td>\n",
       "</tr>\n",
       "<tr>\n",
       "  <th>rsfmri_cor_ngd_smh_scs_cderh</th>   <td>   -8.1301</td> <td>    5.714</td> <td>   -1.423</td> <td> 0.155</td> <td>  -19.329</td> <td>    3.069</td>\n",
       "</tr>\n",
       "<tr>\n",
       "  <th>rsfmri_cor_ngd_smh_scs_ptrh</th>    <td>    2.4477</td> <td>    4.014</td> <td>    0.610</td> <td> 0.542</td> <td>   -5.420</td> <td>   10.315</td>\n",
       "</tr>\n",
       "<tr>\n",
       "  <th>rsfmri_cor_ngd_smh_scs_hprh</th>    <td>    4.3047</td> <td>    4.968</td> <td>    0.866</td> <td> 0.386</td> <td>   -5.433</td> <td>   14.042</td>\n",
       "</tr>\n",
       "<tr>\n",
       "  <th>rsfmri_cor_ngd_smh_scs_aarh</th>    <td>    2.7537</td> <td>    5.438</td> <td>    0.506</td> <td> 0.613</td> <td>   -7.905</td> <td>   13.412</td>\n",
       "</tr>\n",
       "<tr>\n",
       "  <th>rsfmri_cor_ngd_smm_scs_hplh</th>    <td>   -9.8564</td> <td>    5.648</td> <td>   -1.745</td> <td> 0.081</td> <td>  -20.926</td> <td>    1.213</td>\n",
       "</tr>\n",
       "<tr>\n",
       "  <th>rsfmri_cor_ngd_smm_scs_aglh</th>    <td>   -0.4684</td> <td>    2.642</td> <td>   -0.177</td> <td> 0.859</td> <td>   -5.647</td> <td>    4.711</td>\n",
       "</tr>\n",
       "<tr>\n",
       "  <th>rsfmri_cor_ngd_smm_scs_thprh</th>   <td>   -0.2507</td> <td>    3.851</td> <td>   -0.065</td> <td> 0.948</td> <td>   -7.798</td> <td>    7.297</td>\n",
       "</tr>\n",
       "<tr>\n",
       "  <th>rsfmri_cor_ngd_sa_scs_crcxlh</th>   <td>   -0.5468</td> <td>    3.953</td> <td>   -0.138</td> <td> 0.890</td> <td>   -8.294</td> <td>    7.200</td>\n",
       "</tr>\n",
       "<tr>\n",
       "  <th>rsfmri_cor_ngd_sa_scs_thplh</th>    <td>    2.1599</td> <td>    2.815</td> <td>    0.767</td> <td> 0.443</td> <td>   -3.357</td> <td>    7.677</td>\n",
       "</tr>\n",
       "<tr>\n",
       "  <th>rsfmri_cor_ngd_vta_scs_hplh</th>    <td>    0.9175</td> <td>    1.855</td> <td>    0.495</td> <td> 0.621</td> <td>   -2.719</td> <td>    4.554</td>\n",
       "</tr>\n",
       "<tr>\n",
       "  <th>rsfmri_cor_ngd_vs_scs_hplh</th>     <td>   -6.4780</td> <td>    3.851</td> <td>   -1.682</td> <td> 0.093</td> <td>  -14.025</td> <td>    1.069</td>\n",
       "</tr>\n",
       "<tr>\n",
       "  <th>rsfmri_cor_ngd_vs_scs_thprh</th>    <td>   -2.0180</td> <td>    3.299</td> <td>   -0.612</td> <td> 0.541</td> <td>   -8.484</td> <td>    4.448</td>\n",
       "</tr>\n",
       "<tr>\n",
       "  <th>rsfmri_cor_ngd_vs_scs_plrh</th>     <td>   -2.2492</td> <td>    4.285</td> <td>   -0.525</td> <td> 0.600</td> <td>  -10.647</td> <td>    6.149</td>\n",
       "</tr>\n",
       "<tr>\n",
       "  <th>rsfmri_cor_ngd_vs_scs_hprh</th>     <td>    0.0393</td> <td>    2.902</td> <td>    0.014</td> <td> 0.989</td> <td>   -5.648</td> <td>    5.727</td>\n",
       "</tr>\n",
       "<tr>\n",
       "  <th>demo_comb_income_v2</th>            <td>   -0.9894</td> <td>    0.201</td> <td>   -4.912</td> <td> 0.000</td> <td>   -1.384</td> <td>   -0.595</td>\n",
       "</tr>\n",
       "<tr>\n",
       "  <th>interview_age</th>                  <td>    0.0254</td> <td>    0.029</td> <td>    0.873</td> <td> 0.383</td> <td>   -0.032</td> <td>    0.082</td>\n",
       "</tr>\n",
       "<tr>\n",
       "  <th>bmi_perc</th>                       <td>    1.2770</td> <td>    0.736</td> <td>    1.735</td> <td> 0.083</td> <td>   -0.166</td> <td>    2.720</td>\n",
       "</tr>\n",
       "<tr>\n",
       "  <th>sex_M</th>                          <td>    0.4920</td> <td>    0.404</td> <td>    1.219</td> <td> 0.223</td> <td>   -0.299</td> <td>    1.283</td>\n",
       "</tr>\n",
       "</table>"
      ],
      "text/plain": [
       "<class 'statsmodels.iolib.summary.Summary'>\n",
       "\"\"\"\n",
       "                           Logit Regression Results                           \n",
       "==============================================================================\n",
       "Dep. Variable:              ssb_group   No. Observations:                  232\n",
       "Model:                          Logit   Df Residuals:                      183\n",
       "Method:                           MLE   Df Model:                           48\n",
       "Date:                Wed, 08 Jan 2025   Pseudo R-squ.:                  0.3819\n",
       "Time:                        11:57:46   Log-Likelihood:                -99.350\n",
       "converged:                       True   LL-Null:                       -160.73\n",
       "Covariance Type:            nonrobust   LLR p-value:                 1.787e-08\n",
       "==================================================================================================\n",
       "                                     coef    std err          z      P>|z|      [0.025      0.975]\n",
       "--------------------------------------------------------------------------------------------------\n",
       "const                             -0.0603      0.311     -0.194      0.846      -0.669       0.549\n",
       "rsfmri_c_ngd_ad_ngd_cgc            2.3492      6.378      0.368      0.713     -10.151      14.849\n",
       "rsfmri_c_ngd_ad_ngd_vs             1.0149      4.092      0.248      0.804      -7.005       9.034\n",
       "rsfmri_c_ngd_cgc_ngd_cgc          -4.2945      4.162     -1.032      0.302     -12.451       3.862\n",
       "rsfmri_c_ngd_smh_ngd_smm           2.0506      3.210      0.639      0.523      -4.241       8.342\n",
       "rsfmri_c_ngd_sa_ngd_vta            2.0462      3.545      0.577      0.564      -4.902       8.994\n",
       "rsfmri_cor_ngd_au_scs_aalh        -4.7756      3.698     -1.291      0.197     -12.023       2.472\n",
       "rsfmri_cor_ngd_au_scs_ptrh         1.8736      3.844      0.487      0.626      -5.660       9.407\n",
       "rsfmri_cor_ngd_au_scs_vtdcrh       3.1658      4.155      0.762      0.446      -4.977      11.309\n",
       "rsfmri_cor_ngd_cerc_scs_cdelh      4.4005      4.364      1.008      0.313      -4.152      12.953\n",
       "rsfmri_cor_ngd_cerc_scs_ptlh      -1.5727      3.161     -0.497      0.619      -7.769       4.623\n",
       "rsfmri_cor_ngd_cerc_scs_aglh      -4.7619      5.715     -0.833      0.405     -15.964       6.440\n",
       "rsfmri_cor_ngd_cerc_scs_vtdclh    -1.1574      1.633     -0.709      0.478      -4.358       2.043\n",
       "rsfmri_cor_ngd_cerc_scs_hprh       5.6376      6.086      0.926      0.354      -6.291      17.566\n",
       "rsfmri_cor_ngd_cerc_scs_agrh      -2.2473      4.051     -0.555      0.579     -10.187       5.692\n",
       "rsfmri_cor_ngd_cerc_scs_vtdcrh    -6.2587      4.779     -1.310      0.190     -15.626       3.108\n",
       "rsfmri_cor_ngd_copa_scs_thplh      1.1951      5.466      0.219      0.827      -9.518      11.909\n",
       "rsfmri_cor_ngd_copa_scs_vtdclh    12.9257      6.145      2.103      0.035       0.882      24.970\n",
       "rsfmri_cor_ngd_copa_scs_plrh      -3.0238      3.233     -0.935      0.350      -9.360       3.312\n",
       "rsfmri_cor_ngd_df_scs_ptlh         2.1731      4.181      0.520      0.603      -6.022      10.368\n",
       "rsfmri_cor_ngd_df_scs_pllh         0.8833      2.543      0.347      0.728      -4.101       5.868\n",
       "rsfmri_cor_ngd_df_scs_aalh         4.0218      2.388      1.684      0.092      -0.659       8.703\n",
       "rsfmri_cor_ngd_none_scs_ptlh       1.6436      4.367      0.376      0.707      -6.915      10.202\n",
       "rsfmri_cor_ngd_none_scs_thprh      4.8505      4.607      1.053      0.292      -4.179      13.880\n",
       "rsfmri_cor_ngd_none_scs_cderh     -2.7695      3.041     -0.911      0.362      -8.730       3.191\n",
       "rsfmri_cor_ngd_rst_scs_bs          7.9817      3.782      2.110      0.035       0.569      15.394\n",
       "rsfmri_cor_ngd_rst_scs_thprh      -2.7711      3.022     -0.917      0.359      -8.694       3.152\n",
       "rsfmri_cor_ngd_rst_scs_hprh        0.4386      4.408      0.099      0.921      -8.202       9.079\n",
       "rsfmri_cor_ngd_rst_scs_vtdcrh     -2.2974      5.109     -0.450      0.653     -12.310       7.715\n",
       "rsfmri_cor_ngd_smh_scs_crcxlh      0.0873      2.731      0.032      0.975      -5.266       5.441\n",
       "rsfmri_cor_ngd_smh_scs_pllh        1.6218      5.941      0.273      0.785     -10.023      13.267\n",
       "rsfmri_cor_ngd_smh_scs_cderh      -8.1301      5.714     -1.423      0.155     -19.329       3.069\n",
       "rsfmri_cor_ngd_smh_scs_ptrh        2.4477      4.014      0.610      0.542      -5.420      10.315\n",
       "rsfmri_cor_ngd_smh_scs_hprh        4.3047      4.968      0.866      0.386      -5.433      14.042\n",
       "rsfmri_cor_ngd_smh_scs_aarh        2.7537      5.438      0.506      0.613      -7.905      13.412\n",
       "rsfmri_cor_ngd_smm_scs_hplh       -9.8564      5.648     -1.745      0.081     -20.926       1.213\n",
       "rsfmri_cor_ngd_smm_scs_aglh       -0.4684      2.642     -0.177      0.859      -5.647       4.711\n",
       "rsfmri_cor_ngd_smm_scs_thprh      -0.2507      3.851     -0.065      0.948      -7.798       7.297\n",
       "rsfmri_cor_ngd_sa_scs_crcxlh      -0.5468      3.953     -0.138      0.890      -8.294       7.200\n",
       "rsfmri_cor_ngd_sa_scs_thplh        2.1599      2.815      0.767      0.443      -3.357       7.677\n",
       "rsfmri_cor_ngd_vta_scs_hplh        0.9175      1.855      0.495      0.621      -2.719       4.554\n",
       "rsfmri_cor_ngd_vs_scs_hplh        -6.4780      3.851     -1.682      0.093     -14.025       1.069\n",
       "rsfmri_cor_ngd_vs_scs_thprh       -2.0180      3.299     -0.612      0.541      -8.484       4.448\n",
       "rsfmri_cor_ngd_vs_scs_plrh        -2.2492      4.285     -0.525      0.600     -10.647       6.149\n",
       "rsfmri_cor_ngd_vs_scs_hprh         0.0393      2.902      0.014      0.989      -5.648       5.727\n",
       "demo_comb_income_v2               -0.9894      0.201     -4.912      0.000      -1.384      -0.595\n",
       "interview_age                      0.0254      0.029      0.873      0.383      -0.032       0.082\n",
       "bmi_perc                           1.2770      0.736      1.735      0.083      -0.166       2.720\n",
       "sex_M                              0.4920      0.404      1.219      0.223      -0.299       1.283\n",
       "==================================================================================================\n",
       "\"\"\""
      ]
     },
     "execution_count": 8,
     "metadata": {},
     "output_type": "execute_result"
    }
   ],
   "source": [
    "savedDict['logistic'].summary()"
   ]
  },
  {
   "cell_type": "code",
   "execution_count": null,
   "id": "fdb4ce7e",
   "metadata": {
    "scrolled": true
   },
   "outputs": [],
   "source": [
    "savedDict['logistic'].params"
   ]
  },
  {
   "cell_type": "code",
   "execution_count": 13,
   "id": "ab4c0915",
   "metadata": {},
   "outputs": [],
   "source": [
    "colz = savedDict['X_reg']"
   ]
  },
  {
   "cell_type": "code",
   "execution_count": 14,
   "id": "ed0b3290",
   "metadata": {
    "scrolled": true
   },
   "outputs": [
    {
     "data": {
      "text/plain": [
       "['rsfmri_c_ngd_ad_ngd_cgc',\n",
       " 'rsfmri_c_ngd_ad_ngd_vs',\n",
       " 'rsfmri_c_ngd_cgc_ngd_cgc',\n",
       " 'rsfmri_c_ngd_smh_ngd_smm',\n",
       " 'rsfmri_c_ngd_sa_ngd_vta',\n",
       " 'rsfmri_cor_ngd_au_scs_aalh',\n",
       " 'rsfmri_cor_ngd_au_scs_ptrh',\n",
       " 'rsfmri_cor_ngd_au_scs_vtdcrh',\n",
       " 'rsfmri_cor_ngd_cerc_scs_cdelh',\n",
       " 'rsfmri_cor_ngd_cerc_scs_ptlh',\n",
       " 'rsfmri_cor_ngd_cerc_scs_aglh',\n",
       " 'rsfmri_cor_ngd_cerc_scs_vtdclh',\n",
       " 'rsfmri_cor_ngd_cerc_scs_hprh',\n",
       " 'rsfmri_cor_ngd_cerc_scs_agrh',\n",
       " 'rsfmri_cor_ngd_cerc_scs_vtdcrh',\n",
       " 'rsfmri_cor_ngd_copa_scs_thplh',\n",
       " 'rsfmri_cor_ngd_copa_scs_vtdclh',\n",
       " 'rsfmri_cor_ngd_copa_scs_plrh',\n",
       " 'rsfmri_cor_ngd_df_scs_ptlh',\n",
       " 'rsfmri_cor_ngd_df_scs_pllh',\n",
       " 'rsfmri_cor_ngd_df_scs_aalh',\n",
       " 'rsfmri_cor_ngd_none_scs_ptlh',\n",
       " 'rsfmri_cor_ngd_none_scs_thprh',\n",
       " 'rsfmri_cor_ngd_none_scs_cderh',\n",
       " 'rsfmri_cor_ngd_rst_scs_bs',\n",
       " 'rsfmri_cor_ngd_rst_scs_thprh',\n",
       " 'rsfmri_cor_ngd_rst_scs_hprh',\n",
       " 'rsfmri_cor_ngd_rst_scs_vtdcrh',\n",
       " 'rsfmri_cor_ngd_smh_scs_crcxlh',\n",
       " 'rsfmri_cor_ngd_smh_scs_pllh',\n",
       " 'rsfmri_cor_ngd_smh_scs_cderh',\n",
       " 'rsfmri_cor_ngd_smh_scs_ptrh',\n",
       " 'rsfmri_cor_ngd_smh_scs_hprh',\n",
       " 'rsfmri_cor_ngd_smh_scs_aarh',\n",
       " 'rsfmri_cor_ngd_smm_scs_hplh',\n",
       " 'rsfmri_cor_ngd_smm_scs_aglh',\n",
       " 'rsfmri_cor_ngd_smm_scs_thprh',\n",
       " 'rsfmri_cor_ngd_sa_scs_crcxlh',\n",
       " 'rsfmri_cor_ngd_sa_scs_thplh',\n",
       " 'rsfmri_cor_ngd_vta_scs_hplh',\n",
       " 'rsfmri_cor_ngd_vs_scs_hplh',\n",
       " 'rsfmri_cor_ngd_vs_scs_thprh',\n",
       " 'rsfmri_cor_ngd_vs_scs_plrh',\n",
       " 'rsfmri_cor_ngd_vs_scs_hprh',\n",
       " 'demo_comb_income_v2',\n",
       " 'interview_age',\n",
       " 'bmi_perc',\n",
       " 'sex_M',\n",
       " 'int']"
      ]
     },
     "execution_count": 14,
     "metadata": {},
     "output_type": "execute_result"
    }
   ],
   "source": [
    "list(colz.columns[1:])"
   ]
  },
  {
   "cell_type": "code",
   "execution_count": 15,
   "id": "0b6ce470",
   "metadata": {},
   "outputs": [],
   "source": [
    "X = savedDict['X']"
   ]
  },
  {
   "cell_type": "code",
   "execution_count": 16,
   "id": "c52924af",
   "metadata": {},
   "outputs": [],
   "source": [
    "X = X[list(colz.columns[1:])]"
   ]
  },
  {
   "cell_type": "code",
   "execution_count": 17,
   "id": "a8297589",
   "metadata": {},
   "outputs": [
    {
     "data": {
      "text/plain": [
       "(3700, 49)"
      ]
     },
     "execution_count": 17,
     "metadata": {},
     "output_type": "execute_result"
    }
   ],
   "source": [
    "X.shape"
   ]
  },
  {
   "cell_type": "code",
   "execution_count": 18,
   "id": "317c3c9d",
   "metadata": {},
   "outputs": [],
   "source": [
    "y = savedDict['y']"
   ]
  },
  {
   "cell_type": "code",
   "execution_count": 19,
   "id": "b7bd158d",
   "metadata": {},
   "outputs": [
    {
     "data": {
      "text/plain": [
       "(3700,)"
      ]
     },
     "execution_count": 19,
     "metadata": {},
     "output_type": "execute_result"
    }
   ],
   "source": [
    "y.shape"
   ]
  },
  {
   "cell_type": "code",
   "execution_count": 20,
   "id": "637d4123",
   "metadata": {},
   "outputs": [],
   "source": [
    "brain = ['rsfmri_c_ngd_ad_ngd_cgc', 'rsfmri_c_ngd_ad_ngd_vs',\n",
    "       'rsfmri_c_ngd_cgc_ngd_cgc', 'rsfmri_c_ngd_smh_ngd_smm',\n",
    "       'rsfmri_c_ngd_sa_ngd_vta', 'rsfmri_cor_ngd_au_scs_aalh',\n",
    "       'rsfmri_cor_ngd_au_scs_ptrh', 'rsfmri_cor_ngd_au_scs_vtdcrh',\n",
    "       'rsfmri_cor_ngd_cerc_scs_cdelh', 'rsfmri_cor_ngd_cerc_scs_ptlh',\n",
    "       'rsfmri_cor_ngd_cerc_scs_aglh', 'rsfmri_cor_ngd_cerc_scs_vtdclh',\n",
    "       'rsfmri_cor_ngd_cerc_scs_hprh', 'rsfmri_cor_ngd_cerc_scs_agrh',\n",
    "       'rsfmri_cor_ngd_cerc_scs_vtdcrh', 'rsfmri_cor_ngd_copa_scs_thplh',\n",
    "       'rsfmri_cor_ngd_copa_scs_vtdclh', 'rsfmri_cor_ngd_copa_scs_plrh',\n",
    "       'rsfmri_cor_ngd_df_scs_ptlh', 'rsfmri_cor_ngd_df_scs_pllh',\n",
    "       'rsfmri_cor_ngd_df_scs_aalh', 'rsfmri_cor_ngd_none_scs_ptlh',\n",
    "       'rsfmri_cor_ngd_none_scs_thprh', 'rsfmri_cor_ngd_none_scs_cderh',\n",
    "       'rsfmri_cor_ngd_rst_scs_bs', 'rsfmri_cor_ngd_rst_scs_thprh',\n",
    "       'rsfmri_cor_ngd_rst_scs_hprh', 'rsfmri_cor_ngd_rst_scs_vtdcrh',\n",
    "       'rsfmri_cor_ngd_smh_scs_crcxlh', 'rsfmri_cor_ngd_smh_scs_pllh',\n",
    "       'rsfmri_cor_ngd_smh_scs_cderh', 'rsfmri_cor_ngd_smh_scs_ptrh',\n",
    "       'rsfmri_cor_ngd_smh_scs_hprh', 'rsfmri_cor_ngd_smh_scs_aarh',\n",
    "       'rsfmri_cor_ngd_smm_scs_hplh', 'rsfmri_cor_ngd_smm_scs_aglh',\n",
    "       'rsfmri_cor_ngd_smm_scs_thprh', 'rsfmri_cor_ngd_sa_scs_crcxlh',\n",
    "       'rsfmri_cor_ngd_sa_scs_thplh', 'rsfmri_cor_ngd_vta_scs_hplh',\n",
    "       'rsfmri_cor_ngd_vs_scs_hplh', 'rsfmri_cor_ngd_vs_scs_thprh',\n",
    "       'rsfmri_cor_ngd_vs_scs_plrh', 'rsfmri_cor_ngd_vs_scs_hprh', 'interview_age',\n",
    "       'bmi_perc', 'sex_M']"
   ]
  },
  {
   "cell_type": "code",
   "execution_count": 21,
   "id": "8286ddde",
   "metadata": {},
   "outputs": [],
   "source": [
    "pvalues = {}"
   ]
  },
  {
   "cell_type": "code",
   "execution_count": 22,
   "id": "31b245dd",
   "metadata": {},
   "outputs": [
    {
     "name": "stderr",
     "output_type": "stream",
     "text": [
      "/var/folders/02/zfp2v0gd46j44wl8qx8jxjtr0000gn/T/ipykernel_3561/2375773377.py:2: SettingWithCopyWarning: \n",
      "A value is trying to be set on a copy of a slice from a DataFrame.\n",
      "Try using .loc[row_indexer,col_indexer] = value instead\n",
      "\n",
      "See the caveats in the documentation: https://pandas.pydata.org/pandas-docs/stable/user_guide/indexing.html#returning-a-view-versus-a-copy\n",
      "  X['int'] = X['demo_comb_income_v2']*X['%s'%m]\n"
     ]
    },
    {
     "name": "stdout",
     "output_type": "stream",
     "text": [
      "Optimization terminated successfully.\n",
      "         Current function value: 0.529505\n",
      "         Iterations 7\n",
      "Optimization terminated successfully.\n",
      "         Current function value: 0.529721\n",
      "         Iterations 7\n",
      "Optimization terminated successfully.\n",
      "         Current function value: 0.528425\n",
      "         Iterations 7\n",
      "Optimization terminated successfully.\n",
      "         Current function value: 0.529654\n",
      "         Iterations 7\n",
      "Optimization terminated successfully.\n",
      "         Current function value: 0.529367\n",
      "         Iterations 7\n",
      "Optimization terminated successfully.\n",
      "         Current function value: 0.529756\n",
      "         Iterations 7\n",
      "Optimization terminated successfully.\n",
      "         Current function value: 0.529686\n",
      "         Iterations 7\n",
      "Optimization terminated successfully.\n",
      "         Current function value: 0.529038\n",
      "         Iterations 7\n",
      "Optimization terminated successfully.\n",
      "         Current function value: 0.529746\n",
      "         Iterations 7\n",
      "Optimization terminated successfully.\n",
      "         Current function value: 0.529613\n",
      "         Iterations 7\n",
      "Optimization terminated successfully.\n",
      "         Current function value: 0.529590\n",
      "         Iterations 7\n",
      "Optimization terminated successfully.\n",
      "         Current function value: 0.529634\n",
      "         Iterations 7\n",
      "Optimization terminated successfully.\n",
      "         Current function value: 0.529487\n",
      "         Iterations 7\n",
      "Optimization terminated successfully.\n",
      "         Current function value: 0.529220\n",
      "         Iterations 7\n",
      "Optimization terminated successfully.\n",
      "         Current function value: 0.528943\n",
      "         Iterations 7\n",
      "Optimization terminated successfully.\n",
      "         Current function value: 0.529294\n",
      "         Iterations 7\n",
      "Optimization terminated successfully.\n",
      "         Current function value: 0.529476\n",
      "         Iterations 7\n",
      "Optimization terminated successfully.\n",
      "         Current function value: 0.528826\n",
      "         Iterations 7\n",
      "Optimization terminated successfully.\n",
      "         Current function value: 0.529741\n",
      "         Iterations 7\n",
      "Optimization terminated successfully.\n",
      "         Current function value: 0.528595\n",
      "         Iterations 7\n",
      "Optimization terminated successfully.\n",
      "         Current function value: 0.529354\n",
      "         Iterations 7\n",
      "Optimization terminated successfully.\n",
      "         Current function value: 0.529443\n",
      "         Iterations 7\n",
      "Optimization terminated successfully.\n",
      "         Current function value: 0.529714\n",
      "         Iterations 7\n",
      "Optimization terminated successfully.\n",
      "         Current function value: 0.528377\n",
      "         Iterations 7\n",
      "Optimization terminated successfully.\n",
      "         Current function value: 0.529672\n",
      "         Iterations 7\n",
      "Optimization terminated successfully.\n",
      "         Current function value: 0.529685\n",
      "         Iterations 7\n",
      "Optimization terminated successfully.\n",
      "         Current function value: 0.529678\n",
      "         Iterations 7\n",
      "Optimization terminated successfully.\n",
      "         Current function value: 0.529663\n",
      "         Iterations 7\n",
      "Optimization terminated successfully.\n",
      "         Current function value: 0.529522\n",
      "         Iterations 7\n",
      "Optimization terminated successfully.\n",
      "         Current function value: 0.529429\n",
      "         Iterations 7\n",
      "Optimization terminated successfully.\n",
      "         Current function value: 0.529613\n",
      "         Iterations 7\n",
      "Optimization terminated successfully.\n",
      "         Current function value: 0.529366\n",
      "         Iterations 7\n",
      "Optimization terminated successfully.\n",
      "         Current function value: 0.529237\n",
      "         Iterations 7\n",
      "Optimization terminated successfully.\n",
      "         Current function value: 0.529145\n",
      "         Iterations 7\n",
      "Optimization terminated successfully.\n",
      "         Current function value: 0.529586\n",
      "         Iterations 7\n",
      "Optimization terminated successfully.\n",
      "         Current function value: 0.529062\n",
      "         Iterations 7\n",
      "Optimization terminated successfully.\n",
      "         Current function value: 0.529088\n",
      "         Iterations 7\n",
      "Optimization terminated successfully.\n",
      "         Current function value: 0.529768\n",
      "         Iterations 7\n",
      "Optimization terminated successfully.\n",
      "         Current function value: 0.528657\n",
      "         Iterations 7\n",
      "Optimization terminated successfully.\n",
      "         Current function value: 0.529753\n",
      "         Iterations 7\n",
      "Optimization terminated successfully.\n",
      "         Current function value: 0.529627\n",
      "         Iterations 7\n",
      "Optimization terminated successfully.\n",
      "         Current function value: 0.529750\n",
      "         Iterations 7\n",
      "Optimization terminated successfully.\n",
      "         Current function value: 0.529763\n",
      "         Iterations 7\n",
      "Optimization terminated successfully.\n",
      "         Current function value: 0.529293\n",
      "         Iterations 7\n",
      "Optimization terminated successfully.\n",
      "         Current function value: 0.525822\n",
      "         Iterations 7\n",
      "Optimization terminated successfully.\n",
      "         Current function value: 0.521212\n",
      "         Iterations 7\n",
      "Optimization terminated successfully.\n",
      "         Current function value: 0.528884\n",
      "         Iterations 7\n"
     ]
    }
   ],
   "source": [
    "for ROI in brain:\n",
    "    try:\n",
    "        pvalues[ROI] = interactor(ROI)\n",
    "    except:\n",
    "        pvalues[ROI] = 'error'\n",
    "    "
   ]
  },
  {
   "cell_type": "code",
   "execution_count": 32,
   "id": "4e7bb11a",
   "metadata": {},
   "outputs": [],
   "source": [
    "savedDict['interactionModels'] = pvalues"
   ]
  },
  {
   "cell_type": "code",
   "execution_count": 50,
   "id": "eb4877f9",
   "metadata": {
    "scrolled": true
   },
   "outputs": [
    {
     "data": {
      "text/html": [
       "<table class=\"simpletable\">\n",
       "<caption>Logit Regression Results</caption>\n",
       "<tr>\n",
       "  <th>Dep. Variable:</th>       <td>ssb_group</td>    <th>  No. Observations:  </th>   <td>  3700</td>  \n",
       "</tr>\n",
       "<tr>\n",
       "  <th>Model:</th>                 <td>Logit</td>      <th>  Df Residuals:      </th>   <td>  3651</td>  \n",
       "</tr>\n",
       "<tr>\n",
       "  <th>Method:</th>                 <td>MLE</td>       <th>  Df Model:          </th>   <td>    48</td>  \n",
       "</tr>\n",
       "<tr>\n",
       "  <th>Date:</th>            <td>Wed, 08 Jan 2025</td> <th>  Pseudo R-squ.:     </th>   <td>0.2481</td>  \n",
       "</tr>\n",
       "<tr>\n",
       "  <th>Time:</th>                <td>12:10:03</td>     <th>  Log-Likelihood:    </th>  <td> -1928.5</td> \n",
       "</tr>\n",
       "<tr>\n",
       "  <th>converged:</th>             <td>True</td>       <th>  LL-Null:           </th>  <td> -2564.6</td> \n",
       "</tr>\n",
       "<tr>\n",
       "  <th>Covariance Type:</th>     <td>nonrobust</td>    <th>  LLR p-value:       </th> <td>6.367e-235</td>\n",
       "</tr>\n",
       "</table>\n",
       "<table class=\"simpletable\">\n",
       "<tr>\n",
       "                 <td></td>                   <th>coef</th>     <th>std err</th>      <th>z</th>      <th>P>|z|</th>  <th>[0.025</th>    <th>0.975]</th>  \n",
       "</tr>\n",
       "<tr>\n",
       "  <th>rsfmri_c_ngd_ad_ngd_cgc</th>        <td>   -0.1227</td> <td>    1.057</td> <td>   -0.116</td> <td> 0.908</td> <td>   -2.194</td> <td>    1.949</td>\n",
       "</tr>\n",
       "<tr>\n",
       "  <th>rsfmri_c_ngd_ad_ngd_vs</th>         <td>    1.2073</td> <td>    0.714</td> <td>    1.692</td> <td> 0.091</td> <td>   -0.191</td> <td>    2.606</td>\n",
       "</tr>\n",
       "<tr>\n",
       "  <th>rsfmri_c_ngd_cgc_ngd_cgc</th>       <td>    0.0816</td> <td>    0.763</td> <td>    0.107</td> <td> 0.915</td> <td>   -1.413</td> <td>    1.576</td>\n",
       "</tr>\n",
       "<tr>\n",
       "  <th>rsfmri_c_ngd_smh_ngd_smm</th>       <td>    0.8413</td> <td>    0.560</td> <td>    1.501</td> <td> 0.133</td> <td>   -0.257</td> <td>    1.939</td>\n",
       "</tr>\n",
       "<tr>\n",
       "  <th>rsfmri_c_ngd_sa_ngd_vta</th>        <td>    0.1123</td> <td>    0.683</td> <td>    0.164</td> <td> 0.869</td> <td>   -1.227</td> <td>    1.452</td>\n",
       "</tr>\n",
       "<tr>\n",
       "  <th>rsfmri_cor_ngd_au_scs_aalh</th>     <td>   -1.9416</td> <td>    0.666</td> <td>   -2.913</td> <td> 0.004</td> <td>   -3.248</td> <td>   -0.635</td>\n",
       "</tr>\n",
       "<tr>\n",
       "  <th>rsfmri_cor_ngd_au_scs_ptrh</th>     <td>    0.3650</td> <td>    0.706</td> <td>    0.517</td> <td> 0.605</td> <td>   -1.018</td> <td>    1.749</td>\n",
       "</tr>\n",
       "<tr>\n",
       "  <th>rsfmri_cor_ngd_au_scs_vtdcrh</th>   <td>   -0.2969</td> <td>    0.729</td> <td>   -0.407</td> <td> 0.684</td> <td>   -1.725</td> <td>    1.132</td>\n",
       "</tr>\n",
       "<tr>\n",
       "  <th>rsfmri_cor_ngd_cerc_scs_cdelh</th>  <td>   -2.6307</td> <td>    0.806</td> <td>   -3.265</td> <td> 0.001</td> <td>   -4.210</td> <td>   -1.051</td>\n",
       "</tr>\n",
       "<tr>\n",
       "  <th>rsfmri_cor_ngd_cerc_scs_ptlh</th>   <td>   -0.0714</td> <td>    0.578</td> <td>   -0.124</td> <td> 0.902</td> <td>   -1.204</td> <td>    1.061</td>\n",
       "</tr>\n",
       "<tr>\n",
       "  <th>rsfmri_cor_ngd_cerc_scs_aglh</th>   <td>   -0.2981</td> <td>    1.002</td> <td>   -0.298</td> <td> 0.766</td> <td>   -2.262</td> <td>    1.665</td>\n",
       "</tr>\n",
       "<tr>\n",
       "  <th>rsfmri_cor_ngd_cerc_scs_vtdclh</th> <td>   -0.2651</td> <td>    0.339</td> <td>   -0.782</td> <td> 0.434</td> <td>   -0.929</td> <td>    0.399</td>\n",
       "</tr>\n",
       "<tr>\n",
       "  <th>rsfmri_cor_ngd_cerc_scs_hprh</th>   <td>    0.4258</td> <td>    0.996</td> <td>    0.428</td> <td> 0.669</td> <td>   -1.526</td> <td>    2.378</td>\n",
       "</tr>\n",
       "<tr>\n",
       "  <th>rsfmri_cor_ngd_cerc_scs_agrh</th>   <td>    0.4444</td> <td>    0.673</td> <td>    0.660</td> <td> 0.509</td> <td>   -0.875</td> <td>    1.763</td>\n",
       "</tr>\n",
       "<tr>\n",
       "  <th>rsfmri_cor_ngd_cerc_scs_vtdcrh</th> <td>   -0.4856</td> <td>    0.856</td> <td>   -0.567</td> <td> 0.571</td> <td>   -2.164</td> <td>    1.193</td>\n",
       "</tr>\n",
       "<tr>\n",
       "  <th>rsfmri_cor_ngd_copa_scs_thplh</th>  <td>    0.1182</td> <td>    0.916</td> <td>    0.129</td> <td> 0.897</td> <td>   -1.676</td> <td>    1.913</td>\n",
       "</tr>\n",
       "<tr>\n",
       "  <th>rsfmri_cor_ngd_copa_scs_vtdclh</th> <td>    1.4929</td> <td>    1.024</td> <td>    1.458</td> <td> 0.145</td> <td>   -0.514</td> <td>    3.499</td>\n",
       "</tr>\n",
       "<tr>\n",
       "  <th>rsfmri_cor_ngd_copa_scs_plrh</th>   <td>    0.5096</td> <td>    0.709</td> <td>    0.719</td> <td> 0.472</td> <td>   -0.880</td> <td>    1.899</td>\n",
       "</tr>\n",
       "<tr>\n",
       "  <th>rsfmri_cor_ngd_df_scs_ptlh</th>     <td>   -0.5711</td> <td>    0.716</td> <td>   -0.798</td> <td> 0.425</td> <td>   -1.974</td> <td>    0.832</td>\n",
       "</tr>\n",
       "<tr>\n",
       "  <th>rsfmri_cor_ngd_df_scs_pllh</th>     <td>   -0.5433</td> <td>    0.477</td> <td>   -1.139</td> <td> 0.255</td> <td>   -1.478</td> <td>    0.391</td>\n",
       "</tr>\n",
       "<tr>\n",
       "  <th>rsfmri_cor_ngd_df_scs_aalh</th>     <td>    0.1950</td> <td>    0.463</td> <td>    0.421</td> <td> 0.674</td> <td>   -0.713</td> <td>    1.103</td>\n",
       "</tr>\n",
       "<tr>\n",
       "  <th>rsfmri_cor_ngd_none_scs_ptlh</th>   <td>    0.3568</td> <td>    0.747</td> <td>    0.477</td> <td> 0.633</td> <td>   -1.108</td> <td>    1.822</td>\n",
       "</tr>\n",
       "<tr>\n",
       "  <th>rsfmri_cor_ngd_none_scs_thprh</th>  <td>   -0.1069</td> <td>    0.717</td> <td>   -0.149</td> <td> 0.882</td> <td>   -1.513</td> <td>    1.299</td>\n",
       "</tr>\n",
       "<tr>\n",
       "  <th>rsfmri_cor_ngd_none_scs_cderh</th>  <td>   -0.4568</td> <td>    0.535</td> <td>   -0.855</td> <td> 0.393</td> <td>   -1.504</td> <td>    0.591</td>\n",
       "</tr>\n",
       "<tr>\n",
       "  <th>rsfmri_cor_ngd_rst_scs_bs</th>      <td>    1.3823</td> <td>    0.685</td> <td>    2.018</td> <td> 0.044</td> <td>    0.040</td> <td>    2.725</td>\n",
       "</tr>\n",
       "<tr>\n",
       "  <th>rsfmri_cor_ngd_rst_scs_thprh</th>   <td>   -0.1459</td> <td>    0.567</td> <td>   -0.257</td> <td> 0.797</td> <td>   -1.257</td> <td>    0.965</td>\n",
       "</tr>\n",
       "<tr>\n",
       "  <th>rsfmri_cor_ngd_rst_scs_hprh</th>    <td>    1.2708</td> <td>    0.735</td> <td>    1.729</td> <td> 0.084</td> <td>   -0.170</td> <td>    2.711</td>\n",
       "</tr>\n",
       "<tr>\n",
       "  <th>rsfmri_cor_ngd_rst_scs_vtdcrh</th>  <td>    2.3742</td> <td>    0.767</td> <td>    3.094</td> <td> 0.002</td> <td>    0.870</td> <td>    3.878</td>\n",
       "</tr>\n",
       "<tr>\n",
       "  <th>rsfmri_cor_ngd_smh_scs_crcxlh</th>  <td>    0.2584</td> <td>    0.525</td> <td>    0.493</td> <td> 0.622</td> <td>   -0.770</td> <td>    1.286</td>\n",
       "</tr>\n",
       "<tr>\n",
       "  <th>rsfmri_cor_ngd_smh_scs_pllh</th>    <td>    0.7103</td> <td>    0.996</td> <td>    0.713</td> <td> 0.476</td> <td>   -1.242</td> <td>    2.663</td>\n",
       "</tr>\n",
       "<tr>\n",
       "  <th>rsfmri_cor_ngd_smh_scs_cderh</th>   <td>   -1.0228</td> <td>    0.953</td> <td>   -1.073</td> <td> 0.283</td> <td>   -2.891</td> <td>    0.846</td>\n",
       "</tr>\n",
       "<tr>\n",
       "  <th>rsfmri_cor_ngd_smh_scs_ptrh</th>    <td>   -0.0330</td> <td>    0.722</td> <td>   -0.046</td> <td> 0.964</td> <td>   -1.448</td> <td>    1.382</td>\n",
       "</tr>\n",
       "<tr>\n",
       "  <th>rsfmri_cor_ngd_smh_scs_hprh</th>    <td>   -0.0721</td> <td>    0.866</td> <td>   -0.083</td> <td> 0.934</td> <td>   -1.770</td> <td>    1.625</td>\n",
       "</tr>\n",
       "<tr>\n",
       "  <th>rsfmri_cor_ngd_smh_scs_aarh</th>    <td>   -0.7405</td> <td>    0.979</td> <td>   -0.757</td> <td> 0.449</td> <td>   -2.659</td> <td>    1.178</td>\n",
       "</tr>\n",
       "<tr>\n",
       "  <th>rsfmri_cor_ngd_smm_scs_hplh</th>    <td>   -0.8511</td> <td>    1.029</td> <td>   -0.827</td> <td> 0.408</td> <td>   -2.869</td> <td>    1.166</td>\n",
       "</tr>\n",
       "<tr>\n",
       "  <th>rsfmri_cor_ngd_smm_scs_aglh</th>    <td>   -0.1228</td> <td>    0.525</td> <td>   -0.234</td> <td> 0.815</td> <td>   -1.151</td> <td>    0.906</td>\n",
       "</tr>\n",
       "<tr>\n",
       "  <th>rsfmri_cor_ngd_smm_scs_thprh</th>   <td>    0.7482</td> <td>    0.725</td> <td>    1.032</td> <td> 0.302</td> <td>   -0.672</td> <td>    2.169</td>\n",
       "</tr>\n",
       "<tr>\n",
       "  <th>rsfmri_cor_ngd_sa_scs_crcxlh</th>   <td>   -0.2454</td> <td>    0.751</td> <td>   -0.327</td> <td> 0.744</td> <td>   -1.718</td> <td>    1.227</td>\n",
       "</tr>\n",
       "<tr>\n",
       "  <th>rsfmri_cor_ngd_sa_scs_thplh</th>    <td>   -0.3911</td> <td>    0.495</td> <td>   -0.790</td> <td> 0.430</td> <td>   -1.362</td> <td>    0.580</td>\n",
       "</tr>\n",
       "<tr>\n",
       "  <th>rsfmri_cor_ngd_vta_scs_hplh</th>    <td>   -0.6300</td> <td>    0.359</td> <td>   -1.754</td> <td> 0.079</td> <td>   -1.334</td> <td>    0.074</td>\n",
       "</tr>\n",
       "<tr>\n",
       "  <th>rsfmri_cor_ngd_vs_scs_hplh</th>     <td>   -1.3379</td> <td>    0.708</td> <td>   -1.890</td> <td> 0.059</td> <td>   -2.725</td> <td>    0.050</td>\n",
       "</tr>\n",
       "<tr>\n",
       "  <th>rsfmri_cor_ngd_vs_scs_thprh</th>    <td>   -0.3638</td> <td>    0.617</td> <td>   -0.590</td> <td> 0.555</td> <td>   -1.573</td> <td>    0.845</td>\n",
       "</tr>\n",
       "<tr>\n",
       "  <th>rsfmri_cor_ngd_vs_scs_plrh</th>     <td>    0.4851</td> <td>    0.740</td> <td>    0.655</td> <td> 0.512</td> <td>   -0.965</td> <td>    1.936</td>\n",
       "</tr>\n",
       "<tr>\n",
       "  <th>rsfmri_cor_ngd_vs_scs_hprh</th>     <td>    0.0998</td> <td>    0.523</td> <td>    0.191</td> <td> 0.849</td> <td>   -0.926</td> <td>    1.125</td>\n",
       "</tr>\n",
       "<tr>\n",
       "  <th>demo_comb_income_v2</th>            <td>   -0.7893</td> <td>    0.035</td> <td>  -22.730</td> <td> 0.000</td> <td>   -0.857</td> <td>   -0.721</td>\n",
       "</tr>\n",
       "<tr>\n",
       "  <th>interview_age</th>                  <td>    0.0411</td> <td>    0.005</td> <td>    7.645</td> <td> 0.000</td> <td>    0.031</td> <td>    0.052</td>\n",
       "</tr>\n",
       "<tr>\n",
       "  <th>bmi_perc</th>                       <td>    1.1435</td> <td>    0.152</td> <td>    7.527</td> <td> 0.000</td> <td>    0.846</td> <td>    1.441</td>\n",
       "</tr>\n",
       "<tr>\n",
       "  <th>sex_M</th>                          <td>    0.5492</td> <td>    0.059</td> <td>    9.319</td> <td> 0.000</td> <td>    0.434</td> <td>    0.665</td>\n",
       "</tr>\n",
       "<tr>\n",
       "  <th>int</th>                            <td>   -0.8910</td> <td>    0.112</td> <td>   -7.928</td> <td> 0.000</td> <td>   -1.111</td> <td>   -0.671</td>\n",
       "</tr>\n",
       "</table>"
      ],
      "text/plain": [
       "<class 'statsmodels.iolib.summary.Summary'>\n",
       "\"\"\"\n",
       "                           Logit Regression Results                           \n",
       "==============================================================================\n",
       "Dep. Variable:              ssb_group   No. Observations:                 3700\n",
       "Model:                          Logit   Df Residuals:                     3651\n",
       "Method:                           MLE   Df Model:                           48\n",
       "Date:                Wed, 08 Jan 2025   Pseudo R-squ.:                  0.2481\n",
       "Time:                        12:10:03   Log-Likelihood:                -1928.5\n",
       "converged:                       True   LL-Null:                       -2564.6\n",
       "Covariance Type:            nonrobust   LLR p-value:                6.367e-235\n",
       "==================================================================================================\n",
       "                                     coef    std err          z      P>|z|      [0.025      0.975]\n",
       "--------------------------------------------------------------------------------------------------\n",
       "rsfmri_c_ngd_ad_ngd_cgc           -0.1227      1.057     -0.116      0.908      -2.194       1.949\n",
       "rsfmri_c_ngd_ad_ngd_vs             1.2073      0.714      1.692      0.091      -0.191       2.606\n",
       "rsfmri_c_ngd_cgc_ngd_cgc           0.0816      0.763      0.107      0.915      -1.413       1.576\n",
       "rsfmri_c_ngd_smh_ngd_smm           0.8413      0.560      1.501      0.133      -0.257       1.939\n",
       "rsfmri_c_ngd_sa_ngd_vta            0.1123      0.683      0.164      0.869      -1.227       1.452\n",
       "rsfmri_cor_ngd_au_scs_aalh        -1.9416      0.666     -2.913      0.004      -3.248      -0.635\n",
       "rsfmri_cor_ngd_au_scs_ptrh         0.3650      0.706      0.517      0.605      -1.018       1.749\n",
       "rsfmri_cor_ngd_au_scs_vtdcrh      -0.2969      0.729     -0.407      0.684      -1.725       1.132\n",
       "rsfmri_cor_ngd_cerc_scs_cdelh     -2.6307      0.806     -3.265      0.001      -4.210      -1.051\n",
       "rsfmri_cor_ngd_cerc_scs_ptlh      -0.0714      0.578     -0.124      0.902      -1.204       1.061\n",
       "rsfmri_cor_ngd_cerc_scs_aglh      -0.2981      1.002     -0.298      0.766      -2.262       1.665\n",
       "rsfmri_cor_ngd_cerc_scs_vtdclh    -0.2651      0.339     -0.782      0.434      -0.929       0.399\n",
       "rsfmri_cor_ngd_cerc_scs_hprh       0.4258      0.996      0.428      0.669      -1.526       2.378\n",
       "rsfmri_cor_ngd_cerc_scs_agrh       0.4444      0.673      0.660      0.509      -0.875       1.763\n",
       "rsfmri_cor_ngd_cerc_scs_vtdcrh    -0.4856      0.856     -0.567      0.571      -2.164       1.193\n",
       "rsfmri_cor_ngd_copa_scs_thplh      0.1182      0.916      0.129      0.897      -1.676       1.913\n",
       "rsfmri_cor_ngd_copa_scs_vtdclh     1.4929      1.024      1.458      0.145      -0.514       3.499\n",
       "rsfmri_cor_ngd_copa_scs_plrh       0.5096      0.709      0.719      0.472      -0.880       1.899\n",
       "rsfmri_cor_ngd_df_scs_ptlh        -0.5711      0.716     -0.798      0.425      -1.974       0.832\n",
       "rsfmri_cor_ngd_df_scs_pllh        -0.5433      0.477     -1.139      0.255      -1.478       0.391\n",
       "rsfmri_cor_ngd_df_scs_aalh         0.1950      0.463      0.421      0.674      -0.713       1.103\n",
       "rsfmri_cor_ngd_none_scs_ptlh       0.3568      0.747      0.477      0.633      -1.108       1.822\n",
       "rsfmri_cor_ngd_none_scs_thprh     -0.1069      0.717     -0.149      0.882      -1.513       1.299\n",
       "rsfmri_cor_ngd_none_scs_cderh     -0.4568      0.535     -0.855      0.393      -1.504       0.591\n",
       "rsfmri_cor_ngd_rst_scs_bs          1.3823      0.685      2.018      0.044       0.040       2.725\n",
       "rsfmri_cor_ngd_rst_scs_thprh      -0.1459      0.567     -0.257      0.797      -1.257       0.965\n",
       "rsfmri_cor_ngd_rst_scs_hprh        1.2708      0.735      1.729      0.084      -0.170       2.711\n",
       "rsfmri_cor_ngd_rst_scs_vtdcrh      2.3742      0.767      3.094      0.002       0.870       3.878\n",
       "rsfmri_cor_ngd_smh_scs_crcxlh      0.2584      0.525      0.493      0.622      -0.770       1.286\n",
       "rsfmri_cor_ngd_smh_scs_pllh        0.7103      0.996      0.713      0.476      -1.242       2.663\n",
       "rsfmri_cor_ngd_smh_scs_cderh      -1.0228      0.953     -1.073      0.283      -2.891       0.846\n",
       "rsfmri_cor_ngd_smh_scs_ptrh       -0.0330      0.722     -0.046      0.964      -1.448       1.382\n",
       "rsfmri_cor_ngd_smh_scs_hprh       -0.0721      0.866     -0.083      0.934      -1.770       1.625\n",
       "rsfmri_cor_ngd_smh_scs_aarh       -0.7405      0.979     -0.757      0.449      -2.659       1.178\n",
       "rsfmri_cor_ngd_smm_scs_hplh       -0.8511      1.029     -0.827      0.408      -2.869       1.166\n",
       "rsfmri_cor_ngd_smm_scs_aglh       -0.1228      0.525     -0.234      0.815      -1.151       0.906\n",
       "rsfmri_cor_ngd_smm_scs_thprh       0.7482      0.725      1.032      0.302      -0.672       2.169\n",
       "rsfmri_cor_ngd_sa_scs_crcxlh      -0.2454      0.751     -0.327      0.744      -1.718       1.227\n",
       "rsfmri_cor_ngd_sa_scs_thplh       -0.3911      0.495     -0.790      0.430      -1.362       0.580\n",
       "rsfmri_cor_ngd_vta_scs_hplh       -0.6300      0.359     -1.754      0.079      -1.334       0.074\n",
       "rsfmri_cor_ngd_vs_scs_hplh        -1.3379      0.708     -1.890      0.059      -2.725       0.050\n",
       "rsfmri_cor_ngd_vs_scs_thprh       -0.3638      0.617     -0.590      0.555      -1.573       0.845\n",
       "rsfmri_cor_ngd_vs_scs_plrh         0.4851      0.740      0.655      0.512      -0.965       1.936\n",
       "rsfmri_cor_ngd_vs_scs_hprh         0.0998      0.523      0.191      0.849      -0.926       1.125\n",
       "demo_comb_income_v2               -0.7893      0.035    -22.730      0.000      -0.857      -0.721\n",
       "interview_age                      0.0411      0.005      7.645      0.000       0.031       0.052\n",
       "bmi_perc                           1.1435      0.152      7.527      0.000       0.846       1.441\n",
       "sex_M                              0.5492      0.059      9.319      0.000       0.434       0.665\n",
       "int                               -0.8910      0.112     -7.928      0.000      -1.111      -0.671\n",
       "==================================================================================================\n",
       "\"\"\""
      ]
     },
     "execution_count": 50,
     "metadata": {},
     "output_type": "execute_result"
    }
   ],
   "source": [
    "pvalues['bmi_perc'].summary()"
   ]
  },
  {
   "cell_type": "code",
   "execution_count": 40,
   "id": "6286a463",
   "metadata": {},
   "outputs": [],
   "source": [
    "intP = []\n",
    "for ps in pvalues.values():\n",
    "    intP.append(ps.pvalues[-1])"
   ]
  },
  {
   "cell_type": "code",
   "execution_count": 41,
   "id": "52a2c81e",
   "metadata": {
    "scrolled": true
   },
   "outputs": [
    {
     "name": "stdout",
     "output_type": "stream",
     "text": [
      "rsfmri_c_ngd_ad_ngd_cgc           1.474841e-01\n",
      "rsfmri_c_ngd_ad_ngd_vs            5.530529e-01\n",
      "rsfmri_c_ngd_cgc_ngd_cgc          1.351834e-03\n",
      "rsfmri_c_ngd_smh_ngd_smm          3.635078e-01\n",
      "rsfmri_c_ngd_sa_ngd_vta           8.454847e-02\n",
      "rsfmri_cor_ngd_au_scs_aalh        7.707925e-01\n",
      "rsfmri_cor_ngd_au_scs_ptrh        4.358952e-01\n",
      "rsfmri_cor_ngd_au_scs_vtdcrh      2.165500e-02\n",
      "rsfmri_cor_ngd_cerc_scs_cdelh     6.889941e-01\n",
      "rsfmri_cor_ngd_cerc_scs_ptlh      2.884348e-01\n",
      "rsfmri_cor_ngd_cerc_scs_aglh      2.464524e-01\n",
      "rsfmri_cor_ngd_cerc_scs_vtdclh    3.236377e-01\n",
      "rsfmri_cor_ngd_cerc_scs_hprh      1.503627e-01\n",
      "rsfmri_cor_ngd_cerc_scs_agrh      4.486701e-02\n",
      "rsfmri_cor_ngd_cerc_scs_vtdcrh    1.291085e-02\n",
      "rsfmri_cor_ngd_copa_scs_thplh     5.055608e-02\n",
      "rsfmri_cor_ngd_copa_scs_vtdclh    1.378073e-01\n",
      "rsfmri_cor_ngd_copa_scs_plrh      7.520731e-03\n",
      "rsfmri_cor_ngd_df_scs_ptlh        6.555527e-01\n",
      "rsfmri_cor_ngd_df_scs_pllh        2.659025e-03\n",
      "rsfmri_cor_ngd_df_scs_aalh        8.005686e-02\n",
      "rsfmri_cor_ngd_none_scs_ptlh      1.204423e-01\n",
      "rsfmri_cor_ngd_none_scs_thprh     5.311449e-01\n",
      "rsfmri_cor_ngd_none_scs_cderh     1.396019e-03\n",
      "rsfmri_cor_ngd_rst_scs_bs         3.991729e-01\n",
      "rsfmri_cor_ngd_rst_scs_thprh      4.304164e-01\n",
      "rsfmri_cor_ngd_rst_scs_hprh       4.163976e-01\n",
      "rsfmri_cor_ngd_rst_scs_vtdcrh     3.806552e-01\n",
      "rsfmri_cor_ngd_smh_scs_crcxlh     1.777586e-01\n",
      "rsfmri_cor_ngd_smh_scs_pllh       9.845162e-02\n",
      "rsfmri_cor_ngd_smh_scs_cderh      2.802937e-01\n",
      "rsfmri_cor_ngd_smh_scs_ptrh       8.437646e-02\n",
      "rsfmri_cor_ngd_smh_scs_hprh       4.434472e-02\n",
      "rsfmri_cor_ngd_smh_scs_aarh       2.480536e-02\n",
      "rsfmri_cor_ngd_smm_scs_hplh       2.411225e-01\n",
      "rsfmri_cor_ngd_smm_scs_aglh       2.186680e-02\n",
      "rsfmri_cor_ngd_smm_scs_thprh      2.096886e-02\n",
      "rsfmri_cor_ngd_sa_scs_crcxlh      9.769477e-01\n",
      "rsfmri_cor_ngd_sa_scs_thplh       4.152628e-03\n",
      "rsfmri_cor_ngd_vta_scs_hplh       7.428999e-01\n",
      "rsfmri_cor_ngd_vs_scs_hplh        3.015443e-01\n",
      "rsfmri_cor_ngd_vs_scs_thprh       7.162791e-01\n",
      "rsfmri_cor_ngd_vs_scs_plrh        8.441385e-01\n",
      "rsfmri_cor_ngd_vs_scs_hprh        5.939453e-02\n",
      "interview_age                     6.589915e-08\n",
      "bmi_perc                          2.221625e-15\n",
      "sex_M                             1.050180e-02\n",
      "dtype: float64\n"
     ]
    }
   ],
   "source": [
    "# Create a Series without a custom index\n",
    "seriesP = pd.Series(intP)\n",
    "\n",
    "# Assign a custom index\n",
    "seriesP.index = pvalues.keys()\n",
    "# Replace 'r' with 1\n",
    "seriesP = seriesP.replace('r', 1)\n",
    "\n",
    "# Replace NaN with 1\n",
    "seriesP = seriesP.fillna(1)\n",
    "\n",
    "# Display the Series\n",
    "print(seriesP)"
   ]
  },
  {
   "cell_type": "code",
   "execution_count": 42,
   "id": "6bf7da1f",
   "metadata": {
    "scrolled": true
   },
   "outputs": [
    {
     "name": "stdout",
     "output_type": "stream",
     "text": [
      "Rejected (Significant after FDR): [False False  True False False False False False False False False False\n",
      " False False False False False False False  True False False False  True\n",
      " False False False False False False False False False False False False\n",
      " False False  True False False False False False  True  True False]\n",
      "Corrected p-values: [2.82681848e-01 6.49837194e-01 1.64032213e-02 5.17723217e-01\n",
      " 1.98688899e-01 8.05049896e-01 5.39133545e-01 8.56449736e-02\n",
      " 7.71017192e-01 4.51881141e-01 4.13688010e-01 4.75342888e-01\n",
      " 2.82681848e-01 1.40583297e-01 6.74233278e-02 1.48508499e-01\n",
      " 2.81606245e-01 5.04963364e-02 7.51487232e-01 2.49948378e-02\n",
      " 1.98688899e-01 2.57308600e-01 6.40097702e-01 1.64032213e-02\n",
      " 5.36032152e-01 5.39133545e-01 5.39133545e-01 5.26199849e-01\n",
      " 3.21332933e-01 2.20344098e-01 4.51881141e-01 1.98688899e-01\n",
      " 1.40583297e-01 8.96809241e-02 4.13688010e-01 8.56449736e-02\n",
      " 8.56449736e-02 9.76947681e-01 3.25289190e-02 7.93552166e-01\n",
      " 4.57180065e-01 7.82909685e-01 8.62489302e-01 1.64208412e-01\n",
      " 1.54862993e-06 1.04416398e-13 6.16980553e-02]\n"
     ]
    }
   ],
   "source": [
    "# Perform FDR correction\n",
    "rejected, pvals_corrected, _, _ = multipletests(seriesP, alpha=0.05, method='fdr_bh')\n",
    "\n",
    "# Print the results\n",
    "print(\"Rejected (Significant after FDR):\", rejected)\n",
    "print(\"Corrected p-values:\", pvals_corrected)\n"
   ]
  },
  {
   "cell_type": "code",
   "execution_count": 43,
   "id": "d0aa5a24",
   "metadata": {},
   "outputs": [],
   "source": [
    "# Create a Series without a custom index\n",
    "sigP = pd.Series(pvals_corrected)\n",
    "# Assign a custom index\n",
    "sigP.index = seriesP.index\n"
   ]
  },
  {
   "cell_type": "code",
   "execution_count": 44,
   "id": "18850c8a",
   "metadata": {},
   "outputs": [],
   "source": [
    "# Filter the series using the boolean list\n",
    "filtered_values = sigP[rejected]"
   ]
  },
  {
   "cell_type": "code",
   "execution_count": 45,
   "id": "a0339969",
   "metadata": {},
   "outputs": [
    {
     "data": {
      "text/plain": [
       "rsfmri_c_ngd_cgc_ngd_cgc         1.640322e-02\n",
       "rsfmri_cor_ngd_df_scs_pllh       2.499484e-02\n",
       "rsfmri_cor_ngd_none_scs_cderh    1.640322e-02\n",
       "rsfmri_cor_ngd_sa_scs_thplh      3.252892e-02\n",
       "interview_age                    1.548630e-06\n",
       "bmi_perc                         1.044164e-13\n",
       "dtype: float64"
      ]
     },
     "execution_count": 45,
     "metadata": {},
     "output_type": "execute_result"
    }
   ],
   "source": [
    "filtered_values"
   ]
  },
  {
   "cell_type": "markdown",
   "id": "3657e195",
   "metadata": {},
   "source": [
    "# Summary\n",
    "Household income interacts with:\n",
    "* rsfmri_c_ngd_cgc_ngd_cgc         1.640322e-02 Average correlation between cingulo-opercular network and cingulo-opercular network\n",
    "* rsfmri_cor_ngd_df_scs_pllh       2.499484e-02 Average correlation between default network and ASEG ROI left-pallidum\n",
    "* rsfmri_cor_ngd_none_scs_cderh    1.640322e-02 Average correlation between none network and ASEG ROI right-caudate\n",
    "* rsfmri_cor_ngd_sa_scs_thplh      3.252892e-02 Average correlation between salience network and ASEG ROI left-thalamus-proper\n",
    "* interview_age                    1.548630e-06\n",
    "* bmi_perc                         1.044164e-13"
   ]
  },
  {
   "cell_type": "markdown",
   "id": "32db808a",
   "metadata": {},
   "source": [
    "# Probing the interaction"
   ]
  },
  {
   "cell_type": "code",
   "execution_count": null,
   "id": "2a938a5e",
   "metadata": {},
   "outputs": [],
   "source": [
    "result = pvalues['rsfmri_c_ngd_cgc_ngd_cgc']"
   ]
  },
  {
   "cell_type": "code",
   "execution_count": null,
   "id": "2af34a98",
   "metadata": {},
   "outputs": [],
   "source": [
    "def tableMaker(result):\n",
    "    # Assuming `result` is your BinaryResultsWrapper object\n",
    "    # Extract coefficients, confidence intervals, and compute odds ratios\n",
    "    params = result.params\n",
    "    conf = result.conf_int()\n",
    "    conf['OR'] = np.exp(params)  # Compute odds ratios\n",
    "    conf.columns = ['2.5%', '97.5%', 'OR']  # Rename columns\n",
    "\n",
    "    # Compute odds ratios for confidence intervals\n",
    "    conf['2.5%'] = np.exp(conf['2.5%'])\n",
    "    conf['97.5%'] = np.exp(conf['97.5%'])\n",
    "\n",
    "    # Format as a DataFrame for publication\n",
    "    table = conf[['OR', '2.5%', '97.5%']]\n",
    "\n",
    "    # Optionally, round the table for readability\n",
    "    table = table.round(2)\n",
    "    return(table)\n",
    "\n",
    "    "
   ]
  },
  {
   "cell_type": "code",
   "execution_count": null,
   "id": "09f22063",
   "metadata": {},
   "outputs": [],
   "source": [
    "tableMaker(savedDict['logistic'])"
   ]
  },
  {
   "cell_type": "code",
   "execution_count": null,
   "id": "76073509",
   "metadata": {},
   "outputs": [],
   "source": [
    "tableHolder = {}"
   ]
  },
  {
   "cell_type": "code",
   "execution_count": null,
   "id": "9780ab1f",
   "metadata": {},
   "outputs": [],
   "source": [
    "for ROI in list(filtered_values.index):\n",
    "    result = pvalues['%s'%ROI]\n",
    "    tableHolder['%s'%ROI] = tableMaker(result)"
   ]
  },
  {
   "cell_type": "code",
   "execution_count": null,
   "id": "4ffdf674",
   "metadata": {},
   "outputs": [],
   "source": [
    "tableHolder.keys()"
   ]
  },
  {
   "cell_type": "code",
   "execution_count": null,
   "id": "256b6bb7",
   "metadata": {},
   "outputs": [],
   "source": [
    "tableHolder['bmi_perc']"
   ]
  },
  {
   "cell_type": "code",
   "execution_count": null,
   "id": "b0597dde",
   "metadata": {},
   "outputs": [],
   "source": [
    "savedDict.update({'sigP':sigP})"
   ]
  },
  {
   "cell_type": "code",
   "execution_count": null,
   "id": "f27a731b",
   "metadata": {},
   "outputs": [],
   "source": [
    "savedDict.update({'odds':tableHolder})"
   ]
  },
  {
   "cell_type": "code",
   "execution_count": null,
   "id": "49a59b73",
   "metadata": {},
   "outputs": [],
   "source": [
    "savedDict['odds']"
   ]
  },
  {
   "cell_type": "code",
   "execution_count": 35,
   "id": "d428506b",
   "metadata": {},
   "outputs": [],
   "source": [
    "import pickle\n",
    "from datetime import datetime\n",
    "from time import time\n"
   ]
  },
  {
   "cell_type": "code",
   "execution_count": 36,
   "id": "6575ee71",
   "metadata": {},
   "outputs": [],
   "source": [
    "datefmt='%m-%d-%Y_%I-%M-%S'"
   ]
  },
  {
   "cell_type": "code",
   "execution_count": 37,
   "id": "0febdb12",
   "metadata": {},
   "outputs": [],
   "source": [
    "def adillyofapickle(basepath,dic, name):\n",
    "    st = datetime.fromtimestamp(time()).strftime(datefmt)\n",
    "    if os.path.exists(os.path.join(basepath,'tmp')):\n",
    "        print('already have tmp')\n",
    "    else:\n",
    "        os.makedirs(os.path.join(basepath,'tmp'))\n",
    "    pickle.dump(dic, open(os.path.join(basepath,'tmp','%s_%s'%(name,st)), 'wb'), protocol=4)"
   ]
  },
  {
   "cell_type": "code",
   "execution_count": 38,
   "id": "b759e0ad",
   "metadata": {},
   "outputs": [],
   "source": [
    "basepath = '/Users/gracer/Library/CloudStorage/OneDrive-UniversityofWyoming/0. Lab/M2AENAD Lab - Documents/RESEARCH/ABCD/Yana_SSIB_2024'\n",
    "\n",
    "\n"
   ]
  },
  {
   "cell_type": "code",
   "execution_count": 39,
   "id": "7e185d20",
   "metadata": {},
   "outputs": [
    {
     "name": "stdout",
     "output_type": "stream",
     "text": [
      "already have tmp\n"
     ]
    }
   ],
   "source": [
    "adillyofapickle(basepath,savedDict, 'SSBABCDanalysisInt')"
   ]
  },
  {
   "cell_type": "markdown",
   "id": "851593cf",
   "metadata": {},
   "source": [
    "## Probe the interaction for plots\n",
    "Didn't have the dataset with factor level of CHI, loaded that and re-merged with original"
   ]
  },
  {
   "cell_type": "code",
   "execution_count": 9,
   "id": "c05989dd",
   "metadata": {},
   "outputs": [],
   "source": [
    "dataPath = '/Users/gracer/Library/CloudStorage/OneDrive-UniversityofWyoming/0. Lab/M2AENAD Lab - Documents/RESEARCH/ABCD/Yana_SSIB_2024/tmp'\n",
    "savedDict = onetoughjar(os.path.join(dataPath,'SSBABCDanalysisInt_11-26-2024_10-44-32'))"
   ]
  },
  {
   "cell_type": "code",
   "execution_count": 10,
   "id": "68fdedca",
   "metadata": {},
   "outputs": [
    {
     "data": {
      "text/plain": [
       "dict_keys(['df', 'X', 'y', 'X_train', 'X_test', 'y_train', 'y_test', 'best_pipeline', 'X_reg', 'X_trainReg', 'X_testReg', 'y_trainReg', 'y_testReg', 'logistic', 'sigP', 'odds'])"
      ]
     },
     "execution_count": 10,
     "metadata": {},
     "output_type": "execute_result"
    }
   ],
   "source": [
    "savedDict.keys()"
   ]
  },
  {
   "cell_type": "code",
   "execution_count": 12,
   "id": "ae3fe6c6",
   "metadata": {
    "scrolled": true
   },
   "outputs": [
    {
     "data": {
      "text/plain": [
       "rsfmri_c_ngd_ad_ngd_cgc           2.826818e-01\n",
       "rsfmri_c_ngd_ad_ngd_vs            6.498372e-01\n",
       "rsfmri_c_ngd_cgc_ngd_cgc          1.640322e-02\n",
       "rsfmri_c_ngd_smh_ngd_smm          5.177232e-01\n",
       "rsfmri_c_ngd_sa_ngd_vta           1.986889e-01\n",
       "rsfmri_cor_ngd_au_scs_aalh        8.050499e-01\n",
       "rsfmri_cor_ngd_au_scs_ptrh        5.391335e-01\n",
       "rsfmri_cor_ngd_au_scs_vtdcrh      8.564497e-02\n",
       "rsfmri_cor_ngd_cerc_scs_cdelh     7.710172e-01\n",
       "rsfmri_cor_ngd_cerc_scs_ptlh      4.518811e-01\n",
       "rsfmri_cor_ngd_cerc_scs_aglh      4.136880e-01\n",
       "rsfmri_cor_ngd_cerc_scs_vtdclh    4.753429e-01\n",
       "rsfmri_cor_ngd_cerc_scs_hprh      2.826818e-01\n",
       "rsfmri_cor_ngd_cerc_scs_agrh      1.405833e-01\n",
       "rsfmri_cor_ngd_cerc_scs_vtdcrh    6.742333e-02\n",
       "rsfmri_cor_ngd_copa_scs_thplh     1.485085e-01\n",
       "rsfmri_cor_ngd_copa_scs_vtdclh    2.816062e-01\n",
       "rsfmri_cor_ngd_copa_scs_plrh      5.049634e-02\n",
       "rsfmri_cor_ngd_df_scs_ptlh        7.514872e-01\n",
       "rsfmri_cor_ngd_df_scs_pllh        2.499484e-02\n",
       "rsfmri_cor_ngd_df_scs_aalh        1.986889e-01\n",
       "rsfmri_cor_ngd_none_scs_ptlh      2.573086e-01\n",
       "rsfmri_cor_ngd_none_scs_thprh     6.400977e-01\n",
       "rsfmri_cor_ngd_none_scs_cderh     1.640322e-02\n",
       "rsfmri_cor_ngd_rst_scs_bs         5.360322e-01\n",
       "rsfmri_cor_ngd_rst_scs_thprh      5.391335e-01\n",
       "rsfmri_cor_ngd_rst_scs_hprh       5.391335e-01\n",
       "rsfmri_cor_ngd_rst_scs_vtdcrh     5.261998e-01\n",
       "rsfmri_cor_ngd_smh_scs_crcxlh     3.213329e-01\n",
       "rsfmri_cor_ngd_smh_scs_pllh       2.203441e-01\n",
       "rsfmri_cor_ngd_smh_scs_cderh      4.518811e-01\n",
       "rsfmri_cor_ngd_smh_scs_ptrh       1.986889e-01\n",
       "rsfmri_cor_ngd_smh_scs_hprh       1.405833e-01\n",
       "rsfmri_cor_ngd_smh_scs_aarh       8.968092e-02\n",
       "rsfmri_cor_ngd_smm_scs_hplh       4.136880e-01\n",
       "rsfmri_cor_ngd_smm_scs_aglh       8.564497e-02\n",
       "rsfmri_cor_ngd_smm_scs_thprh      8.564497e-02\n",
       "rsfmri_cor_ngd_sa_scs_crcxlh      9.769477e-01\n",
       "rsfmri_cor_ngd_sa_scs_thplh       3.252892e-02\n",
       "rsfmri_cor_ngd_vta_scs_hplh       7.935522e-01\n",
       "rsfmri_cor_ngd_vs_scs_hplh        4.571801e-01\n",
       "rsfmri_cor_ngd_vs_scs_thprh       7.829097e-01\n",
       "rsfmri_cor_ngd_vs_scs_plrh        8.624893e-01\n",
       "rsfmri_cor_ngd_vs_scs_hprh        1.642084e-01\n",
       "interview_age                     1.548630e-06\n",
       "bmi_perc                          1.044164e-13\n",
       "sex_M                             6.169806e-02\n",
       "dtype: float64"
      ]
     },
     "execution_count": 12,
     "metadata": {},
     "output_type": "execute_result"
    }
   ],
   "source": [
    "savedDict['sigP']"
   ]
  },
  {
   "cell_type": "code",
   "execution_count": 6,
   "id": "82ac01d2",
   "metadata": {},
   "outputs": [],
   "source": [
    "\n",
    "factorDF = pd.read_csv('/Users/gracer/Library/CloudStorage/OneDrive-UniversityofWyoming/0. Lab/M2AENAD Lab - Documents/RESEARCH/ABCD/Yana_SSIB_2024/data/justCHI.csv')"
   ]
  },
  {
   "cell_type": "code",
   "execution_count": 7,
   "id": "27897791",
   "metadata": {},
   "outputs": [],
   "source": [
    "df = pd.merge(factorDF, savedDict['df'], on='subjectkey', how='outer')"
   ]
  },
  {
   "cell_type": "code",
   "execution_count": 10,
   "id": "63ecdad0",
   "metadata": {
    "scrolled": true
   },
   "outputs": [
    {
     "data": {
      "text/plain": [
       "(3700, 442)"
      ]
     },
     "execution_count": 10,
     "metadata": {},
     "output_type": "execute_result"
    }
   ],
   "source": [
    "df.shape"
   ]
  },
  {
   "cell_type": "code",
   "execution_count": 9,
   "id": "c9a3d756",
   "metadata": {},
   "outputs": [],
   "source": [
    "df = df.dropna(subset=['demo_comb_income_factor'])"
   ]
  },
  {
   "cell_type": "code",
   "execution_count": 11,
   "id": "f74960e6",
   "metadata": {},
   "outputs": [],
   "source": [
    "nonBrain = df[['demo_comb_income_factor','interview_age', 'bmi_perc',  'sex_M','ssb_group',]]"
   ]
  },
  {
   "cell_type": "code",
   "execution_count": 22,
   "id": "23ece713",
   "metadata": {},
   "outputs": [],
   "source": [
    "ROIs = list(savedDict['X_reg'].columns[1:-5])"
   ]
  },
  {
   "cell_type": "code",
   "execution_count": 26,
   "id": "929ed71e",
   "metadata": {},
   "outputs": [],
   "source": [
    "brain = df[ROIs]"
   ]
  },
  {
   "cell_type": "code",
   "execution_count": null,
   "id": "04bd7c55",
   "metadata": {},
   "outputs": [],
   "source": [
    "df.shape"
   ]
  },
  {
   "cell_type": "code",
   "execution_count": 27,
   "id": "d2000f34",
   "metadata": {},
   "outputs": [],
   "source": [
    "Xfact = brain.join(nonBrain)"
   ]
  },
  {
   "cell_type": "code",
   "execution_count": 29,
   "id": "1596b2a3",
   "metadata": {},
   "outputs": [],
   "source": [
    "Xfact['const'] = 1"
   ]
  },
  {
   "cell_type": "code",
   "execution_count": 31,
   "id": "57d3c867",
   "metadata": {},
   "outputs": [
    {
     "data": {
      "text/plain": [
       "(3700, 50)"
      ]
     },
     "execution_count": 31,
     "metadata": {},
     "output_type": "execute_result"
    }
   ],
   "source": [
    "Xfact.shape"
   ]
  },
  {
   "cell_type": "code",
   "execution_count": 32,
   "id": "a398f47d",
   "metadata": {},
   "outputs": [],
   "source": [
    "CHIlevels = [1,2,3,4,5,6,7,8,9,10]"
   ]
  },
  {
   "cell_type": "code",
   "execution_count": 33,
   "id": "8617ddce",
   "metadata": {},
   "outputs": [],
   "source": [
    "breakOut = {}"
   ]
  },
  {
   "cell_type": "code",
   "execution_count": 34,
   "id": "dac516b5",
   "metadata": {},
   "outputs": [
    {
     "name": "stdout",
     "output_type": "stream",
     "text": [
      "1\n",
      "2\n",
      "3\n",
      "4\n",
      "5\n",
      "6\n",
      "7\n",
      "8\n",
      "9\n",
      "10\n"
     ]
    }
   ],
   "source": [
    "for i in CHIlevels:\n",
    "    print(i)\n",
    "    subset_df_ = Xfact[Xfact['demo_comb_income_factor'] == i]\n",
    "    subset_df_ = subset_df_.drop('demo_comb_income_factor', axis=1)\n",
    "    breakOut[i] = subset_df_\n"
   ]
  },
  {
   "cell_type": "code",
   "execution_count": 46,
   "id": "b62ba713",
   "metadata": {},
   "outputs": [],
   "source": [
    "testers = ['rsfmri_c_ngd_cgc_ngd_cgc', 'rsfmri_cor_ngd_df_scs_pllh',\n",
    "       'rsfmri_cor_ngd_none_scs_cderh', 'rsfmri_cor_ngd_sa_scs_thplh',\n",
    "       'interview_age', 'bmi_perc']"
   ]
  },
  {
   "cell_type": "code",
   "execution_count": 36,
   "id": "fb198145",
   "metadata": {},
   "outputs": [],
   "source": [
    "X = breakOut[8].drop('ssb_group', axis = 1)"
   ]
  },
  {
   "cell_type": "code",
   "execution_count": 37,
   "id": "ddf65eb5",
   "metadata": {},
   "outputs": [],
   "source": [
    "y = breakOut[8]['ssb_group']"
   ]
  },
  {
   "cell_type": "code",
   "execution_count": 38,
   "id": "28c3d2cb",
   "metadata": {},
   "outputs": [
    {
     "data": {
      "text/plain": [
       "(621, 48)"
      ]
     },
     "execution_count": 38,
     "metadata": {},
     "output_type": "execute_result"
    }
   ],
   "source": [
    "X.shape"
   ]
  },
  {
   "cell_type": "code",
   "execution_count": 39,
   "id": "4515f99f",
   "metadata": {},
   "outputs": [
    {
     "data": {
      "text/plain": [
       "0.0    356\n",
       "1.0    265\n",
       "Name: ssb_group, dtype: int64"
      ]
     },
     "execution_count": 39,
     "metadata": {},
     "output_type": "execute_result"
    }
   ],
   "source": [
    "y.value_counts()"
   ]
  },
  {
   "cell_type": "code",
   "execution_count": 40,
   "id": "b2858857",
   "metadata": {},
   "outputs": [],
   "source": [
    "def modelerTest(i):\n",
    "    X = breakOut[i].drop('ssb_group', axis = 1)\n",
    "    y = breakOut[i]['ssb_group']\n",
    "    logit_model = sm.Logit(y, X)\n",
    "    result = logit_model.fit()\n",
    "    return(result)"
   ]
  },
  {
   "cell_type": "code",
   "execution_count": 49,
   "id": "d0811da4",
   "metadata": {},
   "outputs": [],
   "source": [
    "probInt = {}"
   ]
  },
  {
   "cell_type": "code",
   "execution_count": 53,
   "id": "11f571e3",
   "metadata": {
    "scrolled": true
   },
   "outputs": [
    {
     "name": "stdout",
     "output_type": "stream",
     "text": [
      "1\n",
      "Warning: Maximum number of iterations has been exceeded.\n",
      "         Current function value: inf\n",
      "         Iterations: 35\n",
      "2\n",
      "3\n",
      "4\n",
      "5\n",
      "6\n",
      "Optimization terminated successfully.\n",
      "         Current function value: 0.206592\n",
      "         Iterations 10\n",
      "7\n",
      "Optimization terminated successfully.\n",
      "         Current function value: 0.306252\n",
      "         Iterations 8\n",
      "8\n",
      "Optimization terminated successfully.\n",
      "         Current function value: 0.590394\n",
      "         Iterations 6\n",
      "9\n",
      "Optimization terminated successfully.\n",
      "         Current function value: 0.597549\n",
      "         Iterations 5\n",
      "10\n",
      "Optimization terminated successfully.\n",
      "         Current function value: 0.543546\n",
      "         Iterations 6\n"
     ]
    },
    {
     "name": "stderr",
     "output_type": "stream",
     "text": [
      "/Users/gracer/opt/anaconda3/lib/python3.8/site-packages/statsmodels/discrete/discrete_model.py:1810: RuntimeWarning: overflow encountered in exp\n",
      "  return 1/(1+np.exp(-X))\n",
      "/Users/gracer/opt/anaconda3/lib/python3.8/site-packages/statsmodels/discrete/discrete_model.py:1863: RuntimeWarning: divide by zero encountered in log\n",
      "  return np.sum(np.log(self.cdf(q*np.dot(X,params))))\n"
     ]
    }
   ],
   "source": [
    "for i in breakOut.keys():\n",
    "    print(i)\n",
    "    try:\n",
    "        probInt[i] = modelerTest(i)\n",
    "    except:  # Catch the LinAlgError properly\n",
    "        probInt[i] = 'Check error'\n"
   ]
  },
  {
   "cell_type": "code",
   "execution_count": 54,
   "id": "33fef2d3",
   "metadata": {},
   "outputs": [
    {
     "data": {
      "text/plain": [
       "{1: 'Check error',\n",
       " 2: 'Check error',\n",
       " 3: 'Check error',\n",
       " 4: 'Check error',\n",
       " 5: 'Check error',\n",
       " 6: <statsmodels.discrete.discrete_model.BinaryResultsWrapper at 0x7fc190502f70>,\n",
       " 7: <statsmodels.discrete.discrete_model.BinaryResultsWrapper at 0x7fc190510220>,\n",
       " 8: <statsmodels.discrete.discrete_model.BinaryResultsWrapper at 0x7fc190510460>,\n",
       " 9: <statsmodels.discrete.discrete_model.BinaryResultsWrapper at 0x7fc1905107f0>,\n",
       " 10: <statsmodels.discrete.discrete_model.BinaryResultsWrapper at 0x7fc190510b80>}"
      ]
     },
     "execution_count": 54,
     "metadata": {},
     "output_type": "execute_result"
    }
   ],
   "source": [
    "probInt"
   ]
  },
  {
   "cell_type": "code",
   "execution_count": 47,
   "id": "af303b6f",
   "metadata": {},
   "outputs": [
    {
     "name": "stdout",
     "output_type": "stream",
     "text": [
      "rsfmri_c_ngd_cgc_ngd_cgc         8.893909e-01\n",
      "rsfmri_cor_ngd_df_scs_pllh       1.819174e-01\n",
      "rsfmri_cor_ngd_none_scs_cderh    3.381372e-02\n",
      "rsfmri_cor_ngd_sa_scs_thplh      1.727194e-02\n",
      "interview_age                    1.982785e-07\n",
      "bmi_perc                         4.123034e-04\n",
      "dtype: float64\n"
     ]
    }
   ],
   "source": [
    "testers = ['rsfmri_c_ngd_cgc_ngd_cgc', 'rsfmri_cor_ngd_df_scs_pllh',\n",
    "           'rsfmri_cor_ngd_none_scs_cderh', 'rsfmri_cor_ngd_sa_scs_thplh',\n",
    "           'interview_age', 'bmi_perc']\n",
    "\n",
    "# Filter the p-values using the testers list\n",
    "filtered_pvalues = test.pvalues[test.pvalues.index.isin(testers)]\n",
    "\n",
    "print(filtered_pvalues)\n"
   ]
  },
  {
   "cell_type": "code",
   "execution_count": 59,
   "id": "ceab34d9",
   "metadata": {},
   "outputs": [
    {
     "name": "stdout",
     "output_type": "stream",
     "text": [
      "6\n",
      "rsfmri_c_ngd_cgc_ngd_cgc         0.5101\n",
      "rsfmri_cor_ngd_df_scs_pllh       0.3216\n",
      "rsfmri_cor_ngd_none_scs_cderh    0.2169\n",
      "rsfmri_cor_ngd_sa_scs_thplh      0.7944\n",
      "interview_age                    0.0000\n",
      "bmi_perc                         0.0000\n",
      "dtype: float64\n",
      "7\n",
      "rsfmri_c_ngd_cgc_ngd_cgc         0.1608\n",
      "rsfmri_cor_ngd_df_scs_pllh       0.1680\n",
      "rsfmri_cor_ngd_none_scs_cderh    0.1748\n",
      "rsfmri_cor_ngd_sa_scs_thplh      0.6229\n",
      "interview_age                    0.0000\n",
      "bmi_perc                         0.0000\n",
      "dtype: float64\n",
      "8\n",
      "rsfmri_c_ngd_cgc_ngd_cgc         0.8894\n",
      "rsfmri_cor_ngd_df_scs_pllh       0.1819\n",
      "rsfmri_cor_ngd_none_scs_cderh    0.0338\n",
      "rsfmri_cor_ngd_sa_scs_thplh      0.0173\n",
      "interview_age                    0.0000\n",
      "bmi_perc                         0.0004\n",
      "dtype: float64\n",
      "9\n",
      "rsfmri_c_ngd_cgc_ngd_cgc         0.3018\n",
      "rsfmri_cor_ngd_df_scs_pllh       0.9878\n",
      "rsfmri_cor_ngd_none_scs_cderh    0.1449\n",
      "rsfmri_cor_ngd_sa_scs_thplh      0.3834\n",
      "interview_age                    0.5750\n",
      "bmi_perc                         0.9174\n",
      "dtype: float64\n",
      "10\n",
      "rsfmri_c_ngd_cgc_ngd_cgc         0.1619\n",
      "rsfmri_cor_ngd_df_scs_pllh       0.9528\n",
      "rsfmri_cor_ngd_none_scs_cderh    0.9262\n",
      "rsfmri_cor_ngd_sa_scs_thplh      0.9935\n",
      "interview_age                    0.1188\n",
      "bmi_perc                         0.7152\n",
      "dtype: float64\n"
     ]
    }
   ],
   "source": [
    "for i in range(6,11):\n",
    "    print(i)\n",
    "    test = probInt[i]\n",
    "    filtered_pvalues = round(test.pvalues[test.pvalues.index.isin(testers)],4)\n",
    "    print(filtered_pvalues)\n"
   ]
  },
  {
   "cell_type": "code",
   "execution_count": null,
   "id": "bbc29d09",
   "metadata": {},
   "outputs": [],
   "source": [
    "savedDict.keys()"
   ]
  },
  {
   "cell_type": "code",
   "execution_count": 60,
   "id": "86345402",
   "metadata": {},
   "outputs": [
    {
     "data": {
      "text/plain": [
       "Index(['rsfmri_c_ngd_ad_ngd_cgc', 'rsfmri_c_ngd_ad_ngd_vs',\n",
       "       'rsfmri_c_ngd_cgc_ngd_cgc', 'rsfmri_c_ngd_smh_ngd_smm',\n",
       "       'rsfmri_c_ngd_sa_ngd_vta', 'rsfmri_cor_ngd_au_scs_aalh',\n",
       "       'rsfmri_cor_ngd_au_scs_ptrh', 'rsfmri_cor_ngd_au_scs_vtdcrh',\n",
       "       'rsfmri_cor_ngd_cerc_scs_cdelh', 'rsfmri_cor_ngd_cerc_scs_ptlh',\n",
       "       'rsfmri_cor_ngd_cerc_scs_aglh', 'rsfmri_cor_ngd_cerc_scs_vtdclh',\n",
       "       'rsfmri_cor_ngd_cerc_scs_hprh', 'rsfmri_cor_ngd_cerc_scs_agrh',\n",
       "       'rsfmri_cor_ngd_cerc_scs_vtdcrh', 'rsfmri_cor_ngd_copa_scs_thplh',\n",
       "       'rsfmri_cor_ngd_copa_scs_vtdclh', 'rsfmri_cor_ngd_copa_scs_plrh',\n",
       "       'rsfmri_cor_ngd_df_scs_ptlh', 'rsfmri_cor_ngd_df_scs_pllh',\n",
       "       'rsfmri_cor_ngd_df_scs_aalh', 'rsfmri_cor_ngd_none_scs_ptlh',\n",
       "       'rsfmri_cor_ngd_none_scs_thprh', 'rsfmri_cor_ngd_none_scs_cderh',\n",
       "       'rsfmri_cor_ngd_rst_scs_bs', 'rsfmri_cor_ngd_rst_scs_thprh',\n",
       "       'rsfmri_cor_ngd_rst_scs_hprh', 'rsfmri_cor_ngd_rst_scs_vtdcrh',\n",
       "       'rsfmri_cor_ngd_smh_scs_crcxlh', 'rsfmri_cor_ngd_smh_scs_pllh',\n",
       "       'rsfmri_cor_ngd_smh_scs_cderh', 'rsfmri_cor_ngd_smh_scs_ptrh',\n",
       "       'rsfmri_cor_ngd_smh_scs_hprh', 'rsfmri_cor_ngd_smh_scs_aarh',\n",
       "       'rsfmri_cor_ngd_smm_scs_hplh', 'rsfmri_cor_ngd_smm_scs_aglh',\n",
       "       'rsfmri_cor_ngd_smm_scs_thprh', 'rsfmri_cor_ngd_sa_scs_crcxlh',\n",
       "       'rsfmri_cor_ngd_sa_scs_thplh', 'rsfmri_cor_ngd_vta_scs_hplh',\n",
       "       'rsfmri_cor_ngd_vs_scs_hplh', 'rsfmri_cor_ngd_vs_scs_thprh',\n",
       "       'rsfmri_cor_ngd_vs_scs_plrh', 'rsfmri_cor_ngd_vs_scs_hprh',\n",
       "       'demo_comb_income_factor', 'interview_age', 'bmi_perc', 'sex_M',\n",
       "       'ssb_group', 'const'],\n",
       "      dtype='object')"
      ]
     },
     "execution_count": 60,
     "metadata": {},
     "output_type": "execute_result"
    }
   ],
   "source": [
    "Xfact.columns"
   ]
  },
  {
   "cell_type": "code",
   "execution_count": 62,
   "id": "93b4a57a",
   "metadata": {},
   "outputs": [
    {
     "data": {
      "text/plain": [
       "dict_keys(['df', 'X', 'y', 'X_train', 'X_test', 'y_train', 'y_test', 'best_pipeline', 'X_reg', 'X_trainReg', 'X_testReg', 'y_trainReg', 'y_testReg', 'logistic', 'sigP', 'odds'])"
      ]
     },
     "execution_count": 62,
     "metadata": {},
     "output_type": "execute_result"
    }
   ],
   "source": [
    "savedDict.keys()"
   ]
  },
  {
   "cell_type": "code",
   "execution_count": 68,
   "id": "e03a82a8",
   "metadata": {},
   "outputs": [
    {
     "ename": "NameError",
     "evalue": "name 'y_trainReg' is not defined",
     "output_type": "error",
     "traceback": [
      "\u001b[0;31m---------------------------------------------------------------------------\u001b[0m",
      "\u001b[0;31mNameError\u001b[0m                                 Traceback (most recent call last)",
      "Cell \u001b[0;32mIn [68], line 1\u001b[0m\n\u001b[0;32m----> 1\u001b[0m y_trainReg\n",
      "\u001b[0;31mNameError\u001b[0m: name 'y_trainReg' is not defined"
     ]
    }
   ],
   "source": [
    "y_trainReg"
   ]
  },
  {
   "cell_type": "code",
   "execution_count": 70,
   "id": "89009f25",
   "metadata": {
    "scrolled": true
   },
   "outputs": [
    {
     "data": {
      "text/plain": [
       "{'rsfmri_c_ngd_cgc_ngd_cgc':                                    OR  2.5%  97.5%\n",
       " rsfmri_c_ngd_ad_ngd_cgc          0.82  0.11   6.39\n",
       " rsfmri_c_ngd_ad_ngd_vs           3.20  0.80  12.84\n",
       " rsfmri_c_ngd_cgc_ngd_cgc         0.50  0.11   2.30\n",
       " rsfmri_c_ngd_smh_ngd_smm         2.30  0.78   6.83\n",
       " rsfmri_c_ngd_sa_ngd_vta          1.08  0.29   4.07\n",
       " rsfmri_cor_ngd_au_scs_aalh       0.14  0.04   0.53\n",
       " rsfmri_cor_ngd_au_scs_ptrh       1.56  0.40   6.15\n",
       " rsfmri_cor_ngd_au_scs_vtdcrh     0.85  0.20   3.52\n",
       " rsfmri_cor_ngd_cerc_scs_cdelh    0.07  0.01   0.34\n",
       " rsfmri_cor_ngd_cerc_scs_ptlh     0.93  0.31   2.86\n",
       " rsfmri_cor_ngd_cerc_scs_aglh     0.71  0.10   4.99\n",
       " rsfmri_cor_ngd_cerc_scs_vtdclh   0.74  0.38   1.43\n",
       " rsfmri_cor_ngd_cerc_scs_hprh     1.42  0.20   9.80\n",
       " rsfmri_cor_ngd_cerc_scs_agrh     1.55  0.42   5.77\n",
       " rsfmri_cor_ngd_cerc_scs_vtdcrh   0.57  0.11   2.97\n",
       " rsfmri_cor_ngd_copa_scs_thplh    1.34  0.22   7.97\n",
       " rsfmri_cor_ngd_copa_scs_vtdclh   4.08  0.56  29.87\n",
       " rsfmri_cor_ngd_copa_scs_plrh     1.69  0.43   6.63\n",
       " rsfmri_cor_ngd_df_scs_ptlh       0.52  0.13   2.10\n",
       " rsfmri_cor_ngd_df_scs_pllh       0.55  0.22   1.39\n",
       " rsfmri_cor_ngd_df_scs_aalh       1.25  0.51   3.07\n",
       " rsfmri_cor_ngd_none_scs_ptlh     1.17  0.27   5.00\n",
       " rsfmri_cor_ngd_none_scs_thprh    1.01  0.25   4.08\n",
       " rsfmri_cor_ngd_none_scs_cderh    0.68  0.24   1.93\n",
       " rsfmri_cor_ngd_rst_scs_bs        4.11  1.08  15.68\n",
       " rsfmri_cor_ngd_rst_scs_thprh     0.86  0.29   2.58\n",
       " rsfmri_cor_ngd_rst_scs_hprh      3.66  0.88  15.26\n",
       " rsfmri_cor_ngd_rst_scs_vtdcrh   10.57  2.38  46.97\n",
       " rsfmri_cor_ngd_smh_scs_crcxlh    1.34  0.49   3.71\n",
       " rsfmri_cor_ngd_smh_scs_pllh      1.95  0.28  13.60\n",
       " rsfmri_cor_ngd_smh_scs_cderh     0.38  0.06   2.43\n",
       " rsfmri_cor_ngd_smh_scs_ptrh      1.08  0.26   4.40\n",
       " rsfmri_cor_ngd_smh_scs_hprh      0.92  0.17   4.95\n",
       " rsfmri_cor_ngd_smh_scs_aarh      0.42  0.06   2.81\n",
       " rsfmri_cor_ngd_smm_scs_hplh      0.47  0.06   3.50\n",
       " rsfmri_cor_ngd_smm_scs_aglh      0.81  0.29   2.26\n",
       " rsfmri_cor_ngd_smm_scs_thprh     2.50  0.61  10.16\n",
       " rsfmri_cor_ngd_sa_scs_crcxlh     0.79  0.18   3.40\n",
       " rsfmri_cor_ngd_sa_scs_thplh      0.65  0.25   1.71\n",
       " rsfmri_cor_ngd_vta_scs_hplh      0.50  0.25   1.00\n",
       " rsfmri_cor_ngd_vs_scs_hplh       0.29  0.07   1.13\n",
       " rsfmri_cor_ngd_vs_scs_thprh      0.69  0.21   2.30\n",
       " rsfmri_cor_ngd_vs_scs_plrh       1.59  0.38   6.70\n",
       " rsfmri_cor_ngd_vs_scs_hprh       1.03  0.37   2.84\n",
       " demo_comb_income_v2              0.47  0.45   0.51\n",
       " interview_age                    1.04  1.03   1.05\n",
       " bmi_perc                         1.87  1.43   2.45\n",
       " sex_M                            1.67  1.49   1.87\n",
       " int                              3.78  1.68   8.51,\n",
       " 'rsfmri_cor_ngd_df_scs_pllh':                                    OR  2.5%  97.5%\n",
       " rsfmri_c_ngd_ad_ngd_cgc          0.82  0.10   6.42\n",
       " rsfmri_c_ngd_ad_ngd_vs           3.54  0.88  14.21\n",
       " rsfmri_c_ngd_cgc_ngd_cgc         1.04  0.24   4.60\n",
       " rsfmri_c_ngd_smh_ngd_smm         2.20  0.74   6.55\n",
       " rsfmri_c_ngd_sa_ngd_vta          1.12  0.30   4.21\n",
       " rsfmri_cor_ngd_au_scs_aalh       0.16  0.04   0.57\n",
       " rsfmri_cor_ngd_au_scs_ptrh       1.64  0.42   6.44\n",
       " rsfmri_cor_ngd_au_scs_vtdcrh     0.83  0.20   3.45\n",
       " rsfmri_cor_ngd_cerc_scs_cdelh    0.07  0.01   0.33\n",
       " rsfmri_cor_ngd_cerc_scs_ptlh     0.92  0.30   2.80\n",
       " rsfmri_cor_ngd_cerc_scs_aglh     0.61  0.09   4.26\n",
       " rsfmri_cor_ngd_cerc_scs_vtdclh   0.76  0.39   1.46\n",
       " rsfmri_cor_ngd_cerc_scs_hprh     1.40  0.20   9.62\n",
       " rsfmri_cor_ngd_cerc_scs_agrh     1.69  0.46   6.27\n",
       " rsfmri_cor_ngd_cerc_scs_vtdcrh   0.65  0.12   3.40\n",
       " rsfmri_cor_ngd_copa_scs_thplh    1.33  0.23   7.84\n",
       " rsfmri_cor_ngd_copa_scs_vtdclh   4.22  0.58  30.65\n",
       " rsfmri_cor_ngd_copa_scs_plrh     1.74  0.44   6.81\n",
       " rsfmri_cor_ngd_df_scs_ptlh       0.47  0.12   1.87\n",
       " rsfmri_cor_ngd_df_scs_pllh       0.37  0.14   0.95\n",
       " rsfmri_cor_ngd_df_scs_aalh       1.22  0.50   3.01\n",
       " rsfmri_cor_ngd_none_scs_ptlh     1.20  0.28   5.10\n",
       " rsfmri_cor_ngd_none_scs_thprh    0.94  0.23   3.80\n",
       " rsfmri_cor_ngd_none_scs_cderh    0.69  0.25   1.96\n",
       " rsfmri_cor_ngd_rst_scs_bs        3.97  1.05  15.03\n",
       " rsfmri_cor_ngd_rst_scs_thprh     0.84  0.28   2.53\n",
       " rsfmri_cor_ngd_rst_scs_hprh      3.47  0.83  14.53\n",
       " rsfmri_cor_ngd_rst_scs_vtdcrh   10.31  2.34  45.50\n",
       " rsfmri_cor_ngd_smh_scs_crcxlh    1.29  0.47   3.56\n",
       " rsfmri_cor_ngd_smh_scs_pllh      2.07  0.30  14.21\n",
       " rsfmri_cor_ngd_smh_scs_cderh     0.40  0.06   2.50\n",
       " rsfmri_cor_ngd_smh_scs_ptrh      1.01  0.25   4.11\n",
       " rsfmri_cor_ngd_smh_scs_hprh      0.87  0.16   4.67\n",
       " rsfmri_cor_ngd_smh_scs_aarh      0.41  0.06   2.76\n",
       " rsfmri_cor_ngd_smm_scs_hplh      0.52  0.07   3.86\n",
       " rsfmri_cor_ngd_smm_scs_aglh      0.80  0.29   2.21\n",
       " rsfmri_cor_ngd_smm_scs_thprh     2.51  0.62  10.18\n",
       " rsfmri_cor_ngd_sa_scs_crcxlh     0.73  0.17   3.15\n",
       " rsfmri_cor_ngd_sa_scs_thplh      0.66  0.25   1.72\n",
       " rsfmri_cor_ngd_vta_scs_hplh      0.50  0.25   1.00\n",
       " rsfmri_cor_ngd_vs_scs_hplh       0.27  0.07   1.09\n",
       " rsfmri_cor_ngd_vs_scs_thprh      0.67  0.20   2.21\n",
       " rsfmri_cor_ngd_vs_scs_plrh       1.66  0.40   7.00\n",
       " rsfmri_cor_ngd_vs_scs_hprh       1.07  0.39   2.96\n",
       " demo_comb_income_v2              0.47  0.44   0.51\n",
       " interview_age                    1.04  1.03   1.05\n",
       " bmi_perc                         1.87  1.43   2.45\n",
       " sex_M                            1.68  1.50   1.88\n",
       " int                              2.11  1.30   3.43,\n",
       " 'rsfmri_cor_ngd_none_scs_cderh':                                    OR  2.5%  97.5%\n",
       " rsfmri_c_ngd_ad_ngd_cgc          0.86  0.11   6.75\n",
       " rsfmri_c_ngd_ad_ngd_vs           3.33  0.83  13.40\n",
       " rsfmri_c_ngd_cgc_ngd_cgc         0.96  0.22   4.23\n",
       " rsfmri_c_ngd_smh_ngd_smm         2.19  0.74   6.51\n",
       " rsfmri_c_ngd_sa_ngd_vta          1.09  0.29   4.10\n",
       " rsfmri_cor_ngd_au_scs_aalh       0.16  0.04   0.58\n",
       " rsfmri_cor_ngd_au_scs_ptrh       1.53  0.39   6.01\n",
       " rsfmri_cor_ngd_au_scs_vtdcrh     0.85  0.20   3.52\n",
       " rsfmri_cor_ngd_cerc_scs_cdelh    0.07  0.02   0.33\n",
       " rsfmri_cor_ngd_cerc_scs_ptlh     1.01  0.33   3.09\n",
       " rsfmri_cor_ngd_cerc_scs_aglh     0.64  0.09   4.45\n",
       " rsfmri_cor_ngd_cerc_scs_vtdclh   0.75  0.39   1.45\n",
       " rsfmri_cor_ngd_cerc_scs_hprh     1.41  0.21   9.69\n",
       " rsfmri_cor_ngd_cerc_scs_agrh     1.77  0.48   6.58\n",
       " rsfmri_cor_ngd_cerc_scs_vtdcrh   0.62  0.12   3.28\n",
       " rsfmri_cor_ngd_copa_scs_thplh    1.21  0.20   7.16\n",
       " rsfmri_cor_ngd_copa_scs_vtdclh   4.25  0.58  30.96\n",
       " rsfmri_cor_ngd_copa_scs_plrh     1.67  0.42   6.61\n",
       " rsfmri_cor_ngd_df_scs_ptlh       0.48  0.12   1.93\n",
       " rsfmri_cor_ngd_df_scs_pllh       0.55  0.22   1.38\n",
       " rsfmri_cor_ngd_df_scs_aalh       1.25  0.51   3.08\n",
       " rsfmri_cor_ngd_none_scs_ptlh     1.22  0.29   5.19\n",
       " rsfmri_cor_ngd_none_scs_thprh    0.94  0.23   3.79\n",
       " rsfmri_cor_ngd_none_scs_cderh    0.42  0.14   1.23\n",
       " rsfmri_cor_ngd_rst_scs_bs        3.85  1.02  14.54\n",
       " rsfmri_cor_ngd_rst_scs_thprh     0.90  0.30   2.71\n",
       " rsfmri_cor_ngd_rst_scs_hprh      3.49  0.83  14.62\n",
       " rsfmri_cor_ngd_rst_scs_vtdcrh   10.41  2.37  45.79\n",
       " rsfmri_cor_ngd_smh_scs_crcxlh    1.23  0.45   3.41\n",
       " rsfmri_cor_ngd_smh_scs_pllh      2.16  0.31  14.83\n",
       " rsfmri_cor_ngd_smh_scs_cderh     0.36  0.06   2.25\n",
       " rsfmri_cor_ngd_smh_scs_ptrh      0.97  0.24   3.95\n",
       " rsfmri_cor_ngd_smh_scs_hprh      0.91  0.17   4.84\n",
       " rsfmri_cor_ngd_smh_scs_aarh      0.45  0.07   3.03\n",
       " rsfmri_cor_ngd_smm_scs_hplh      0.53  0.07   3.91\n",
       " rsfmri_cor_ngd_smm_scs_aglh      0.82  0.30   2.28\n",
       " rsfmri_cor_ngd_smm_scs_thprh     2.47  0.61  10.03\n",
       " rsfmri_cor_ngd_sa_scs_crcxlh     0.75  0.18   3.23\n",
       " rsfmri_cor_ngd_sa_scs_thplh      0.63  0.24   1.66\n",
       " rsfmri_cor_ngd_vta_scs_hplh      0.51  0.25   1.02\n",
       " rsfmri_cor_ngd_vs_scs_hplh       0.27  0.07   1.06\n",
       " rsfmri_cor_ngd_vs_scs_thprh      0.63  0.19   2.09\n",
       " rsfmri_cor_ngd_vs_scs_plrh       1.71  0.41   7.14\n",
       " rsfmri_cor_ngd_vs_scs_hprh       1.09  0.40   3.02\n",
       " demo_comb_income_v2              0.47  0.44   0.50\n",
       " interview_age                    1.04  1.03   1.05\n",
       " bmi_perc                         1.89  1.44   2.48\n",
       " sex_M                            1.67  1.49   1.87\n",
       " int                              2.48  1.42   4.33,\n",
       " 'rsfmri_cor_ngd_sa_scs_thplh':                                    OR  2.5%  97.5%\n",
       " rsfmri_c_ngd_ad_ngd_cgc          0.82  0.10   6.39\n",
       " rsfmri_c_ngd_ad_ngd_vs           3.36  0.84  13.51\n",
       " rsfmri_c_ngd_cgc_ngd_cgc         1.04  0.24   4.60\n",
       " rsfmri_c_ngd_smh_ngd_smm         2.14  0.72   6.36\n",
       " rsfmri_c_ngd_sa_ngd_vta          1.18  0.31   4.43\n",
       " rsfmri_cor_ngd_au_scs_aalh       0.15  0.04   0.55\n",
       " rsfmri_cor_ngd_au_scs_ptrh       1.45  0.37   5.71\n",
       " rsfmri_cor_ngd_au_scs_vtdcrh     0.90  0.22   3.71\n",
       " rsfmri_cor_ngd_cerc_scs_cdelh    0.07  0.02   0.35\n",
       " rsfmri_cor_ngd_cerc_scs_ptlh     0.92  0.30   2.81\n",
       " rsfmri_cor_ngd_cerc_scs_aglh     0.67  0.10   4.59\n",
       " rsfmri_cor_ngd_cerc_scs_vtdclh   0.75  0.39   1.46\n",
       " rsfmri_cor_ngd_cerc_scs_hprh     1.34  0.20   9.20\n",
       " rsfmri_cor_ngd_cerc_scs_agrh     1.60  0.43   5.87\n",
       " rsfmri_cor_ngd_cerc_scs_vtdcrh   0.65  0.12   3.44\n",
       " rsfmri_cor_ngd_copa_scs_thplh    1.35  0.23   8.02\n",
       " rsfmri_cor_ngd_copa_scs_vtdclh   4.51  0.62  32.83\n",
       " rsfmri_cor_ngd_copa_scs_plrh     1.91  0.49   7.52\n",
       " rsfmri_cor_ngd_df_scs_ptlh       0.44  0.11   1.76\n",
       " rsfmri_cor_ngd_df_scs_pllh       0.52  0.21   1.30\n",
       " rsfmri_cor_ngd_df_scs_aalh       1.20  0.49   2.95\n",
       " rsfmri_cor_ngd_none_scs_ptlh     1.11  0.26   4.75\n",
       " rsfmri_cor_ngd_none_scs_thprh    1.06  0.26   4.29\n",
       " rsfmri_cor_ngd_none_scs_cderh    0.67  0.24   1.88\n",
       " rsfmri_cor_ngd_rst_scs_bs        3.97  1.04  15.14\n",
       " rsfmri_cor_ngd_rst_scs_thprh     0.81  0.27   2.42\n",
       " rsfmri_cor_ngd_rst_scs_hprh      3.69  0.89  15.37\n",
       " rsfmri_cor_ngd_rst_scs_vtdcrh   11.16  2.51  49.54\n",
       " rsfmri_cor_ngd_smh_scs_crcxlh    1.38  0.50   3.81\n",
       " rsfmri_cor_ngd_smh_scs_pllh      2.12  0.31  14.62\n",
       " rsfmri_cor_ngd_smh_scs_cderh     0.37  0.06   2.32\n",
       " rsfmri_cor_ngd_smh_scs_ptrh      0.99  0.24   4.01\n",
       " rsfmri_cor_ngd_smh_scs_hprh      0.80  0.15   4.31\n",
       " rsfmri_cor_ngd_smh_scs_aarh      0.41  0.06   2.75\n",
       " rsfmri_cor_ngd_smm_scs_hplh      0.47  0.06   3.50\n",
       " rsfmri_cor_ngd_smm_scs_aglh      0.88  0.32   2.41\n",
       " rsfmri_cor_ngd_smm_scs_thprh     2.34  0.58   9.50\n",
       " rsfmri_cor_ngd_sa_scs_crcxlh     0.77  0.18   3.33\n",
       " rsfmri_cor_ngd_sa_scs_thplh      0.45  0.17   1.23\n",
       " rsfmri_cor_ngd_vta_scs_hplh      0.51  0.26   1.04\n",
       " rsfmri_cor_ngd_vs_scs_hplh       0.30  0.08   1.18\n",
       " rsfmri_cor_ngd_vs_scs_thprh      0.66  0.20   2.16\n",
       " rsfmri_cor_ngd_vs_scs_plrh       1.66  0.40   6.94\n",
       " rsfmri_cor_ngd_vs_scs_hprh       1.10  0.40   3.00\n",
       " demo_comb_income_v2              0.47  0.45   0.51\n",
       " interview_age                    1.04  1.03   1.05\n",
       " bmi_perc                         1.87  1.43   2.46\n",
       " sex_M                            1.67  1.49   1.87\n",
       " int                              2.03  1.25   3.29,\n",
       " 'interview_age':                                    OR  2.5%  97.5%\n",
       " rsfmri_c_ngd_ad_ngd_cgc          0.90  0.11   7.05\n",
       " rsfmri_c_ngd_ad_ngd_vs           3.55  0.88  14.31\n",
       " rsfmri_c_ngd_cgc_ngd_cgc         1.06  0.24   4.70\n",
       " rsfmri_c_ngd_smh_ngd_smm         2.27  0.76   6.76\n",
       " rsfmri_c_ngd_sa_ngd_vta          1.14  0.30   4.30\n",
       " rsfmri_cor_ngd_au_scs_aalh       0.15  0.04   0.56\n",
       " rsfmri_cor_ngd_au_scs_ptrh       1.55  0.39   6.08\n",
       " rsfmri_cor_ngd_au_scs_vtdcrh     0.80  0.19   3.32\n",
       " rsfmri_cor_ngd_cerc_scs_cdelh    0.07  0.01   0.34\n",
       " rsfmri_cor_ngd_cerc_scs_ptlh     0.99  0.32   3.02\n",
       " rsfmri_cor_ngd_cerc_scs_aglh     0.67  0.10   4.64\n",
       " rsfmri_cor_ngd_cerc_scs_vtdclh   0.78  0.40   1.51\n",
       " rsfmri_cor_ngd_cerc_scs_hprh     1.36  0.20   9.39\n",
       " rsfmri_cor_ngd_cerc_scs_agrh     1.70  0.46   6.27\n",
       " rsfmri_cor_ngd_cerc_scs_vtdcrh   0.61  0.12   3.21\n",
       " rsfmri_cor_ngd_copa_scs_thplh    1.32  0.22   7.81\n",
       " rsfmri_cor_ngd_copa_scs_vtdclh   4.83  0.66  35.28\n",
       " rsfmri_cor_ngd_copa_scs_plrh     1.58  0.41   6.19\n",
       " rsfmri_cor_ngd_df_scs_ptlh       0.46  0.12   1.84\n",
       " rsfmri_cor_ngd_df_scs_pllh       0.56  0.22   1.41\n",
       " rsfmri_cor_ngd_df_scs_aalh       1.20  0.49   2.96\n",
       " rsfmri_cor_ngd_none_scs_ptlh     1.16  0.27   4.97\n",
       " rsfmri_cor_ngd_none_scs_thprh    0.94  0.23   3.79\n",
       " rsfmri_cor_ngd_none_scs_cderh    0.66  0.23   1.86\n",
       " rsfmri_cor_ngd_rst_scs_bs        3.72  0.98  14.12\n",
       " rsfmri_cor_ngd_rst_scs_thprh     0.84  0.28   2.53\n",
       " rsfmri_cor_ngd_rst_scs_hprh      3.61  0.86  15.13\n",
       " rsfmri_cor_ngd_rst_scs_vtdcrh   11.18  2.53  49.40\n",
       " rsfmri_cor_ngd_smh_scs_crcxlh    1.29  0.47   3.57\n",
       " rsfmri_cor_ngd_smh_scs_pllh      2.15  0.31  14.73\n",
       " rsfmri_cor_ngd_smh_scs_cderh     0.37  0.06   2.37\n",
       " rsfmri_cor_ngd_smh_scs_ptrh      0.99  0.24   4.05\n",
       " rsfmri_cor_ngd_smh_scs_hprh      0.93  0.17   4.95\n",
       " rsfmri_cor_ngd_smh_scs_aarh      0.40  0.06   2.67\n",
       " rsfmri_cor_ngd_smm_scs_hplh      0.47  0.06   3.47\n",
       " rsfmri_cor_ngd_smm_scs_aglh      0.84  0.30   2.33\n",
       " rsfmri_cor_ngd_smm_scs_thprh     2.25  0.56   9.09\n",
       " rsfmri_cor_ngd_sa_scs_crcxlh     0.73  0.17   3.14\n",
       " rsfmri_cor_ngd_sa_scs_thplh      0.65  0.25   1.70\n",
       " rsfmri_cor_ngd_vta_scs_hplh      0.51  0.25   1.02\n",
       " rsfmri_cor_ngd_vs_scs_hplh       0.29  0.07   1.14\n",
       " rsfmri_cor_ngd_vs_scs_thprh      0.62  0.19   2.04\n",
       " rsfmri_cor_ngd_vs_scs_plrh       1.63  0.39   6.86\n",
       " rsfmri_cor_ngd_vs_scs_hprh       1.10  0.40   3.04\n",
       " demo_comb_income_v2              0.46  0.43   0.49\n",
       " interview_age                    1.06  1.04   1.07\n",
       " bmi_perc                         1.89  1.44   2.48\n",
       " sex_M                            1.80  1.60   2.02\n",
       " int                              0.98  0.97   0.99,\n",
       " 'bmi_perc':                                    OR  2.5%  97.5%\n",
       " rsfmri_c_ngd_ad_ngd_cgc          0.88  0.11   7.02\n",
       " rsfmri_c_ngd_ad_ngd_vs           3.34  0.83  13.54\n",
       " rsfmri_c_ngd_cgc_ngd_cgc         1.09  0.24   4.84\n",
       " rsfmri_c_ngd_smh_ngd_smm         2.32  0.77   6.96\n",
       " rsfmri_c_ngd_sa_ngd_vta          1.12  0.29   4.27\n",
       " rsfmri_cor_ngd_au_scs_aalh       0.14  0.04   0.53\n",
       " rsfmri_cor_ngd_au_scs_ptrh       1.44  0.36   5.75\n",
       " rsfmri_cor_ngd_au_scs_vtdcrh     0.74  0.18   3.10\n",
       " rsfmri_cor_ngd_cerc_scs_cdelh    0.07  0.01   0.35\n",
       " rsfmri_cor_ngd_cerc_scs_ptlh     0.93  0.30   2.89\n",
       " rsfmri_cor_ngd_cerc_scs_aglh     0.74  0.10   5.29\n",
       " rsfmri_cor_ngd_cerc_scs_vtdclh   0.77  0.39   1.49\n",
       " rsfmri_cor_ngd_cerc_scs_hprh     1.53  0.22  10.78\n",
       " rsfmri_cor_ngd_cerc_scs_agrh     1.56  0.42   5.83\n",
       " rsfmri_cor_ngd_cerc_scs_vtdcrh   0.62  0.11   3.30\n",
       " rsfmri_cor_ngd_copa_scs_thplh    1.13  0.19   6.77\n",
       " rsfmri_cor_ngd_copa_scs_vtdclh   4.45  0.60  33.10\n",
       " rsfmri_cor_ngd_copa_scs_plrh     1.66  0.41   6.68\n",
       " rsfmri_cor_ngd_df_scs_ptlh       0.56  0.14   2.30\n",
       " rsfmri_cor_ngd_df_scs_pllh       0.58  0.23   1.48\n",
       " rsfmri_cor_ngd_df_scs_aalh       1.22  0.49   3.01\n",
       " rsfmri_cor_ngd_none_scs_ptlh     1.43  0.33   6.18\n",
       " rsfmri_cor_ngd_none_scs_thprh    0.90  0.22   3.67\n",
       " rsfmri_cor_ngd_none_scs_cderh    0.63  0.22   1.81\n",
       " rsfmri_cor_ngd_rst_scs_bs        3.98  1.04  15.25\n",
       " rsfmri_cor_ngd_rst_scs_thprh     0.86  0.28   2.63\n",
       " rsfmri_cor_ngd_rst_scs_hprh      3.56  0.84  15.05\n",
       " rsfmri_cor_ngd_rst_scs_vtdcrh   10.74  2.39  48.32\n",
       " rsfmri_cor_ngd_smh_scs_crcxlh    1.29  0.46   3.62\n",
       " rsfmri_cor_ngd_smh_scs_pllh      2.03  0.29  14.33\n",
       " rsfmri_cor_ngd_smh_scs_cderh     0.36  0.06   2.33\n",
       " rsfmri_cor_ngd_smh_scs_ptrh      0.97  0.23   3.98\n",
       " rsfmri_cor_ngd_smh_scs_hprh      0.93  0.17   5.08\n",
       " rsfmri_cor_ngd_smh_scs_aarh      0.48  0.07   3.25\n",
       " rsfmri_cor_ngd_smm_scs_hplh      0.43  0.06   3.21\n",
       " rsfmri_cor_ngd_smm_scs_aglh      0.88  0.32   2.47\n",
       " rsfmri_cor_ngd_smm_scs_thprh     2.11  0.51   8.75\n",
       " rsfmri_cor_ngd_sa_scs_crcxlh     0.78  0.18   3.41\n",
       " rsfmri_cor_ngd_sa_scs_thplh      0.68  0.26   1.79\n",
       " rsfmri_cor_ngd_vta_scs_hplh      0.53  0.26   1.08\n",
       " rsfmri_cor_ngd_vs_scs_hplh       0.26  0.07   1.05\n",
       " rsfmri_cor_ngd_vs_scs_thprh      0.70  0.21   2.33\n",
       " rsfmri_cor_ngd_vs_scs_plrh       1.62  0.38   6.93\n",
       " rsfmri_cor_ngd_vs_scs_hprh       1.10  0.40   3.08\n",
       " demo_comb_income_v2              0.45  0.42   0.49\n",
       " interview_age                    1.04  1.03   1.05\n",
       " bmi_perc                         3.14  2.33   4.23\n",
       " sex_M                            1.73  1.54   1.94\n",
       " int                              0.41  0.33   0.51}"
      ]
     },
     "execution_count": 70,
     "metadata": {},
     "output_type": "execute_result"
    }
   ],
   "source": [
    "savedDict['odds'][]"
   ]
  },
  {
   "cell_type": "code",
   "execution_count": null,
   "id": "1603f192",
   "metadata": {},
   "outputs": [],
   "source": []
  }
 ],
 "metadata": {
  "kernelspec": {
   "display_name": "Python 3 (ipykernel)",
   "language": "python",
   "name": "python3"
  },
  "language_info": {
   "codemirror_mode": {
    "name": "ipython",
    "version": 3
   },
   "file_extension": ".py",
   "mimetype": "text/x-python",
   "name": "python",
   "nbconvert_exporter": "python",
   "pygments_lexer": "ipython3",
   "version": "3.8.8"
  }
 },
 "nbformat": 4,
 "nbformat_minor": 5
}
