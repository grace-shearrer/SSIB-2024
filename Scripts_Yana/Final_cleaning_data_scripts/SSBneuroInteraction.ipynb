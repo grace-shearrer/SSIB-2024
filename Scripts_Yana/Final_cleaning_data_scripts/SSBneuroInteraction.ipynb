{
 "cells": [
  {
   "cell_type": "code",
   "execution_count": 1,
   "id": "468c06c1",
   "metadata": {},
   "outputs": [],
   "source": [
    "import  scipy.signal.signaltools\n",
    "\n",
    "def _centered(arr, newsize):\n",
    "    # Return the center newsize portion of the array.\n",
    "    newsize = np.asarray(newsize)\n",
    "    currsize = np.array(arr.shape)\n",
    "    startind = (currsize - newsize) // 2\n",
    "    endind = startind + newsize\n",
    "    myslice = [slice(startind[k], endind[k]) for k in range(len(endind))]\n",
    "    return arr[tuple(myslice)]\n",
    "\n",
    "scipy.signal.signaltools._centered = _centered\n"
   ]
  },
  {
   "cell_type": "code",
   "execution_count": 2,
   "id": "e256ade2",
   "metadata": {},
   "outputs": [
    {
     "name": "stderr",
     "output_type": "stream",
     "text": [
      "/Users/gracer/opt/anaconda3/lib/python3.8/site-packages/statsmodels/tsa/base/tsa_model.py:7: FutureWarning: pandas.Int64Index is deprecated and will be removed from pandas in a future version. Use pandas.Index with the appropriate dtype instead.\n",
      "  from pandas import (to_datetime, Int64Index, DatetimeIndex, Period,\n",
      "/Users/gracer/opt/anaconda3/lib/python3.8/site-packages/statsmodels/tsa/base/tsa_model.py:7: FutureWarning: pandas.Float64Index is deprecated and will be removed from pandas in a future version. Use pandas.Index with the appropriate dtype instead.\n",
      "  from pandas import (to_datetime, Int64Index, DatetimeIndex, Period,\n"
     ]
    }
   ],
   "source": [
    "import pandas as pd\n",
    "import nilearn\n",
    "import numpy as np\n",
    "import glob \n",
    "import os\n",
    "import pickle\n",
    "\n",
    "import statsmodels.api as sm\n",
    "from statsmodels.stats.outliers_influence import variance_inflation_factor\n",
    "from statsmodels.stats.multitest import multipletests\n",
    "import statsmodels.formula.api as smf\n",
    "\n",
    "\n",
    "from pathlib import Path\n",
    "\n",
    "\n",
    "from matplotlib import pyplot as plt\n",
    "import matplotlib.lines as mlines\n",
    "import matplotlib.transforms as mtransforms\n",
    "\n",
    "import seaborn as sns\n",
    "\n",
    "\n",
    "from nltools.data import Brain_Data, Adjacency\n",
    "from nltools.mask import roi_to_brain, expand_mask\n",
    "from nltools.stats import fdr, threshold\n",
    "\n",
    "%matplotlib inline\n"
   ]
  },
  {
   "cell_type": "code",
   "execution_count": 3,
   "id": "a1099265",
   "metadata": {},
   "outputs": [],
   "source": [
    "def onetoughjar(path2dic):\n",
    "    with open(path2dic, 'rb') as pickle_file:\n",
    "        try:\n",
    "            while True:\n",
    "                output = pickle.load(pickle_file)\n",
    "        except EOFError:\n",
    "            pass\n",
    "    return(output)"
   ]
  },
  {
   "cell_type": "code",
   "execution_count": 4,
   "id": "2df9f36a",
   "metadata": {},
   "outputs": [],
   "source": [
    "def interactor(m):\n",
    "    X['int'] = X['demo_comb_income_v2']*X['%s'%m]\n",
    "    # Fit the multinomial logistic regression model\n",
    "    logit_model = sm.Logit(y, X)\n",
    "    result = logit_model.fit()\n",
    "    return(result)\n",
    "\n"
   ]
  },
  {
   "cell_type": "code",
   "execution_count": null,
   "id": "35705cbc",
   "metadata": {},
   "outputs": [],
   "source": [
    "savedDict = onetoughjar('/Users/gracer/Library/CloudStorage/OneDrive-UniversityofWyoming/0. Lab/M2AENAD Lab - Documents/RESEARCH/ABCD/Yana_SSIB_2024/tmp/SSBABCDanalysis_11-23-2024_07-36-16')"
   ]
  },
  {
   "cell_type": "code",
   "execution_count": null,
   "id": "35577187",
   "metadata": {},
   "outputs": [],
   "source": [
    "savedDict.keys()"
   ]
  },
  {
   "cell_type": "code",
   "execution_count": null,
   "id": "fdb4ce7e",
   "metadata": {
    "scrolled": true
   },
   "outputs": [],
   "source": [
    "savedDict['logistic'].params"
   ]
  },
  {
   "cell_type": "code",
   "execution_count": null,
   "id": "ab4c0915",
   "metadata": {},
   "outputs": [],
   "source": [
    "colz = savedDict['X_reg']"
   ]
  },
  {
   "cell_type": "code",
   "execution_count": null,
   "id": "ed0b3290",
   "metadata": {
    "scrolled": true
   },
   "outputs": [],
   "source": [
    "list(colz.columns[1:])"
   ]
  },
  {
   "cell_type": "code",
   "execution_count": null,
   "id": "0b6ce470",
   "metadata": {},
   "outputs": [],
   "source": [
    "X = savedDict['X']"
   ]
  },
  {
   "cell_type": "code",
   "execution_count": null,
   "id": "c52924af",
   "metadata": {},
   "outputs": [],
   "source": [
    "X = X[list(colz.columns[1:])]"
   ]
  },
  {
   "cell_type": "code",
   "execution_count": null,
   "id": "a8297589",
   "metadata": {},
   "outputs": [],
   "source": [
    "X.shape"
   ]
  },
  {
   "cell_type": "code",
   "execution_count": null,
   "id": "317c3c9d",
   "metadata": {},
   "outputs": [],
   "source": [
    "y = savedDict['y']"
   ]
  },
  {
   "cell_type": "code",
   "execution_count": null,
   "id": "b7bd158d",
   "metadata": {},
   "outputs": [],
   "source": [
    "y.shape"
   ]
  },
  {
   "cell_type": "code",
   "execution_count": null,
   "id": "637d4123",
   "metadata": {},
   "outputs": [],
   "source": [
    "brain = ['rsfmri_c_ngd_ad_ngd_cgc', 'rsfmri_c_ngd_ad_ngd_vs',\n",
    "       'rsfmri_c_ngd_cgc_ngd_cgc', 'rsfmri_c_ngd_smh_ngd_smm',\n",
    "       'rsfmri_c_ngd_sa_ngd_vta', 'rsfmri_cor_ngd_au_scs_aalh',\n",
    "       'rsfmri_cor_ngd_au_scs_ptrh', 'rsfmri_cor_ngd_au_scs_vtdcrh',\n",
    "       'rsfmri_cor_ngd_cerc_scs_cdelh', 'rsfmri_cor_ngd_cerc_scs_ptlh',\n",
    "       'rsfmri_cor_ngd_cerc_scs_aglh', 'rsfmri_cor_ngd_cerc_scs_vtdclh',\n",
    "       'rsfmri_cor_ngd_cerc_scs_hprh', 'rsfmri_cor_ngd_cerc_scs_agrh',\n",
    "       'rsfmri_cor_ngd_cerc_scs_vtdcrh', 'rsfmri_cor_ngd_copa_scs_thplh',\n",
    "       'rsfmri_cor_ngd_copa_scs_vtdclh', 'rsfmri_cor_ngd_copa_scs_plrh',\n",
    "       'rsfmri_cor_ngd_df_scs_ptlh', 'rsfmri_cor_ngd_df_scs_pllh',\n",
    "       'rsfmri_cor_ngd_df_scs_aalh', 'rsfmri_cor_ngd_none_scs_ptlh',\n",
    "       'rsfmri_cor_ngd_none_scs_thprh', 'rsfmri_cor_ngd_none_scs_cderh',\n",
    "       'rsfmri_cor_ngd_rst_scs_bs', 'rsfmri_cor_ngd_rst_scs_thprh',\n",
    "       'rsfmri_cor_ngd_rst_scs_hprh', 'rsfmri_cor_ngd_rst_scs_vtdcrh',\n",
    "       'rsfmri_cor_ngd_smh_scs_crcxlh', 'rsfmri_cor_ngd_smh_scs_pllh',\n",
    "       'rsfmri_cor_ngd_smh_scs_cderh', 'rsfmri_cor_ngd_smh_scs_ptrh',\n",
    "       'rsfmri_cor_ngd_smh_scs_hprh', 'rsfmri_cor_ngd_smh_scs_aarh',\n",
    "       'rsfmri_cor_ngd_smm_scs_hplh', 'rsfmri_cor_ngd_smm_scs_aglh',\n",
    "       'rsfmri_cor_ngd_smm_scs_thprh', 'rsfmri_cor_ngd_sa_scs_crcxlh',\n",
    "       'rsfmri_cor_ngd_sa_scs_thplh', 'rsfmri_cor_ngd_vta_scs_hplh',\n",
    "       'rsfmri_cor_ngd_vs_scs_hplh', 'rsfmri_cor_ngd_vs_scs_thprh',\n",
    "       'rsfmri_cor_ngd_vs_scs_plrh', 'rsfmri_cor_ngd_vs_scs_hprh', 'interview_age',\n",
    "       'bmi_perc', 'sex_M']"
   ]
  },
  {
   "cell_type": "code",
   "execution_count": null,
   "id": "8286ddde",
   "metadata": {},
   "outputs": [],
   "source": [
    "pvalues = {}"
   ]
  },
  {
   "cell_type": "code",
   "execution_count": null,
   "id": "31b245dd",
   "metadata": {},
   "outputs": [],
   "source": [
    "for ROI in brain:\n",
    "    try:\n",
    "        pvalues[ROI] = interactor(ROI)\n",
    "    except:\n",
    "        pvalues[ROI] = 'error'\n",
    "    "
   ]
  },
  {
   "cell_type": "code",
   "execution_count": null,
   "id": "6286a463",
   "metadata": {},
   "outputs": [],
   "source": [
    "intP = []\n",
    "for ps in pvalues.values():\n",
    "    intP.append(ps.pvalues[-1])"
   ]
  },
  {
   "cell_type": "code",
   "execution_count": null,
   "id": "52a2c81e",
   "metadata": {
    "scrolled": true
   },
   "outputs": [],
   "source": [
    "# Create a Series without a custom index\n",
    "seriesP = pd.Series(intP)\n",
    "\n",
    "# Assign a custom index\n",
    "seriesP.index = pvalues.keys()\n",
    "# Replace 'r' with 1\n",
    "seriesP = seriesP.replace('r', 1)\n",
    "\n",
    "# Replace NaN with 1\n",
    "seriesP = seriesP.fillna(1)\n",
    "\n",
    "# Display the Series\n",
    "print(seriesP)"
   ]
  },
  {
   "cell_type": "code",
   "execution_count": null,
   "id": "6bf7da1f",
   "metadata": {},
   "outputs": [],
   "source": [
    "# Perform FDR correction\n",
    "rejected, pvals_corrected, _, _ = multipletests(seriesP, alpha=0.05, method='fdr_bh')\n",
    "\n",
    "# Print the results\n",
    "print(\"Rejected (Significant after FDR):\", rejected)\n",
    "print(\"Corrected p-values:\", pvals_corrected)\n"
   ]
  },
  {
   "cell_type": "code",
   "execution_count": null,
   "id": "d0aa5a24",
   "metadata": {},
   "outputs": [],
   "source": [
    "# Create a Series without a custom index\n",
    "sigP = pd.Series(pvals_corrected)\n",
    "# Assign a custom index\n",
    "sigP.index = seriesP.index\n"
   ]
  },
  {
   "cell_type": "code",
   "execution_count": null,
   "id": "18850c8a",
   "metadata": {},
   "outputs": [],
   "source": [
    "# Filter the series using the boolean list\n",
    "filtered_values = sigP[rejected]"
   ]
  },
  {
   "cell_type": "code",
   "execution_count": null,
   "id": "a0339969",
   "metadata": {},
   "outputs": [],
   "source": [
    "filtered_values.index"
   ]
  },
  {
   "cell_type": "markdown",
   "id": "3657e195",
   "metadata": {},
   "source": [
    "# Summary\n",
    "Household income interacts with:\n",
    "* rsfmri_c_ngd_cgc_ngd_cgc         1.640322e-02 Average correlation between cingulo-opercular network and cingulo-opercular network\n",
    "* rsfmri_cor_ngd_df_scs_pllh       2.499484e-02 Average correlation between default network and ASEG ROI left-pallidum\n",
    "* rsfmri_cor_ngd_none_scs_cderh    1.640322e-02 Average correlation between none network and ASEG ROI right-caudate\n",
    "* rsfmri_cor_ngd_sa_scs_thplh      3.252892e-02 Average correlation between salience network and ASEG ROI left-thalamus-proper\n",
    "* interview_age                    1.548630e-06\n",
    "* bmi_perc                         1.044164e-13"
   ]
  },
  {
   "cell_type": "markdown",
   "id": "32db808a",
   "metadata": {},
   "source": [
    "# Probing the interaction"
   ]
  },
  {
   "cell_type": "code",
   "execution_count": null,
   "id": "2a938a5e",
   "metadata": {},
   "outputs": [],
   "source": [
    "result = pvalues['rsfmri_c_ngd_cgc_ngd_cgc']"
   ]
  },
  {
   "cell_type": "code",
   "execution_count": null,
   "id": "2af34a98",
   "metadata": {},
   "outputs": [],
   "source": [
    "def tableMaker(result):\n",
    "    # Assuming `result` is your BinaryResultsWrapper object\n",
    "    # Extract coefficients, confidence intervals, and compute odds ratios\n",
    "    params = result.params\n",
    "    conf = result.conf_int()\n",
    "    conf['OR'] = np.exp(params)  # Compute odds ratios\n",
    "    conf.columns = ['2.5%', '97.5%', 'OR']  # Rename columns\n",
    "\n",
    "    # Compute odds ratios for confidence intervals\n",
    "    conf['2.5%'] = np.exp(conf['2.5%'])\n",
    "    conf['97.5%'] = np.exp(conf['97.5%'])\n",
    "\n",
    "    # Format as a DataFrame for publication\n",
    "    table = conf[['OR', '2.5%', '97.5%']]\n",
    "\n",
    "    # Optionally, round the table for readability\n",
    "    table = table.round(2)\n",
    "    return(table)\n",
    "\n",
    "    "
   ]
  },
  {
   "cell_type": "code",
   "execution_count": null,
   "id": "09f22063",
   "metadata": {},
   "outputs": [],
   "source": [
    "tableMaker(savedDict['logistic'])"
   ]
  },
  {
   "cell_type": "code",
   "execution_count": null,
   "id": "76073509",
   "metadata": {},
   "outputs": [],
   "source": [
    "tableHolder = {}"
   ]
  },
  {
   "cell_type": "code",
   "execution_count": null,
   "id": "9780ab1f",
   "metadata": {},
   "outputs": [],
   "source": [
    "for ROI in list(filtered_values.index):\n",
    "    result = pvalues['%s'%ROI]\n",
    "    tableHolder['%s'%ROI] = tableMaker(result)"
   ]
  },
  {
   "cell_type": "code",
   "execution_count": null,
   "id": "4ffdf674",
   "metadata": {},
   "outputs": [],
   "source": [
    "tableHolder.keys()"
   ]
  },
  {
   "cell_type": "code",
   "execution_count": null,
   "id": "256b6bb7",
   "metadata": {},
   "outputs": [],
   "source": [
    "tableHolder['bmi_perc']"
   ]
  },
  {
   "cell_type": "code",
   "execution_count": null,
   "id": "b0597dde",
   "metadata": {},
   "outputs": [],
   "source": [
    "savedDict.update({'sigP':sigP})"
   ]
  },
  {
   "cell_type": "code",
   "execution_count": null,
   "id": "f27a731b",
   "metadata": {},
   "outputs": [],
   "source": [
    "savedDict.update({'odds':tableHolder})"
   ]
  },
  {
   "cell_type": "code",
   "execution_count": null,
   "id": "49a59b73",
   "metadata": {},
   "outputs": [],
   "source": [
    "savedDict['odds']"
   ]
  },
  {
   "cell_type": "code",
   "execution_count": null,
   "id": "d428506b",
   "metadata": {},
   "outputs": [],
   "source": [
    "import pickle\n",
    "from datetime import datetime\n",
    "from time import time\n"
   ]
  },
  {
   "cell_type": "code",
   "execution_count": null,
   "id": "6575ee71",
   "metadata": {},
   "outputs": [],
   "source": [
    "datefmt='%m-%d-%Y_%I-%M-%S'"
   ]
  },
  {
   "cell_type": "code",
   "execution_count": null,
   "id": "0febdb12",
   "metadata": {},
   "outputs": [],
   "source": [
    "def adillyofapickle(basepath,dic, name):\n",
    "    st = datetime.fromtimestamp(time()).strftime(datefmt)\n",
    "    if os.path.exists(os.path.join(basepath,'tmp')):\n",
    "        print('already have tmp')\n",
    "    else:\n",
    "        os.makedirs(os.path.join(basepath,'tmp'))\n",
    "    pickle.dump(dic, open(os.path.join(basepath,'tmp','%s_%s'%(name,st)), 'wb'), protocol=4)"
   ]
  },
  {
   "cell_type": "code",
   "execution_count": null,
   "id": "b759e0ad",
   "metadata": {},
   "outputs": [],
   "source": [
    "basepath = '/Users/gracer/Library/CloudStorage/OneDrive-UniversityofWyoming/0. Lab/M2AENAD Lab - Documents/RESEARCH/ABCD/Yana_SSIB_2024'\n",
    "\n",
    "\n"
   ]
  },
  {
   "cell_type": "code",
   "execution_count": null,
   "id": "7e185d20",
   "metadata": {},
   "outputs": [],
   "source": [
    "adillyofapickle(basepath,savedDict, 'SSBABCDanalysisInt')"
   ]
  },
  {
   "cell_type": "markdown",
   "id": "851593cf",
   "metadata": {},
   "source": [
    "## Probe the interaction for plots\n",
    "Didn't have the dataset with factor level of CHI, loaded that and re-merged with original"
   ]
  },
  {
   "cell_type": "code",
   "execution_count": 5,
   "id": "c05989dd",
   "metadata": {},
   "outputs": [],
   "source": [
    "dataPath = '/Users/gracer/Library/CloudStorage/OneDrive-UniversityofWyoming/0. Lab/M2AENAD Lab - Documents/RESEARCH/ABCD/Yana_SSIB_2024/tmp'\n",
    "savedDict = onetoughjar(os.path.join(dataPath,'SSBABCDanalysisInt_11-26-2024_10-44-32'))"
   ]
  },
  {
   "cell_type": "code",
   "execution_count": 6,
   "id": "82ac01d2",
   "metadata": {},
   "outputs": [],
   "source": [
    "\n",
    "factorDF = pd.read_csv('/Users/gracer/Library/CloudStorage/OneDrive-UniversityofWyoming/0. Lab/M2AENAD Lab - Documents/RESEARCH/ABCD/Yana_SSIB_2024/data/justCHI.csv')"
   ]
  },
  {
   "cell_type": "code",
   "execution_count": 7,
   "id": "27897791",
   "metadata": {},
   "outputs": [],
   "source": [
    "df = pd.merge(factorDF, savedDict['df'], on='subjectkey', how='outer')"
   ]
  },
  {
   "cell_type": "code",
   "execution_count": 10,
   "id": "63ecdad0",
   "metadata": {
    "scrolled": true
   },
   "outputs": [
    {
     "data": {
      "text/plain": [
       "(3700, 442)"
      ]
     },
     "execution_count": 10,
     "metadata": {},
     "output_type": "execute_result"
    }
   ],
   "source": [
    "df.shape"
   ]
  },
  {
   "cell_type": "code",
   "execution_count": 9,
   "id": "c9a3d756",
   "metadata": {},
   "outputs": [],
   "source": [
    "df = df.dropna(subset=['demo_comb_income_factor'])"
   ]
  },
  {
   "cell_type": "code",
   "execution_count": 11,
   "id": "f74960e6",
   "metadata": {},
   "outputs": [],
   "source": [
    "nonBrain = df[['demo_comb_income_factor','interview_age', 'bmi_perc',  'sex_M','ssb_group',]]"
   ]
  },
  {
   "cell_type": "code",
   "execution_count": 22,
   "id": "23ece713",
   "metadata": {},
   "outputs": [],
   "source": [
    "ROIs = list(savedDict['X_reg'].columns[1:-5])"
   ]
  },
  {
   "cell_type": "code",
   "execution_count": 26,
   "id": "929ed71e",
   "metadata": {},
   "outputs": [],
   "source": [
    "brain = df[ROIs]"
   ]
  },
  {
   "cell_type": "code",
   "execution_count": null,
   "id": "04bd7c55",
   "metadata": {},
   "outputs": [],
   "source": [
    "df.shape"
   ]
  },
  {
   "cell_type": "code",
   "execution_count": 27,
   "id": "d2000f34",
   "metadata": {},
   "outputs": [],
   "source": [
    "Xfact = brain.join(nonBrain)"
   ]
  },
  {
   "cell_type": "code",
   "execution_count": 29,
   "id": "1596b2a3",
   "metadata": {},
   "outputs": [],
   "source": [
    "Xfact['const'] = 1"
   ]
  },
  {
   "cell_type": "code",
   "execution_count": 31,
   "id": "57d3c867",
   "metadata": {},
   "outputs": [
    {
     "data": {
      "text/plain": [
       "(3700, 50)"
      ]
     },
     "execution_count": 31,
     "metadata": {},
     "output_type": "execute_result"
    }
   ],
   "source": [
    "Xfact.shape"
   ]
  },
  {
   "cell_type": "code",
   "execution_count": 32,
   "id": "a398f47d",
   "metadata": {},
   "outputs": [],
   "source": [
    "CHIlevels = [1,2,3,4,5,6,7,8,9,10]"
   ]
  },
  {
   "cell_type": "code",
   "execution_count": 33,
   "id": "8617ddce",
   "metadata": {},
   "outputs": [],
   "source": [
    "breakOut = {}"
   ]
  },
  {
   "cell_type": "code",
   "execution_count": 34,
   "id": "dac516b5",
   "metadata": {},
   "outputs": [
    {
     "name": "stdout",
     "output_type": "stream",
     "text": [
      "1\n",
      "2\n",
      "3\n",
      "4\n",
      "5\n",
      "6\n",
      "7\n",
      "8\n",
      "9\n",
      "10\n"
     ]
    }
   ],
   "source": [
    "for i in CHIlevels:\n",
    "    print(i)\n",
    "    subset_df_ = Xfact[Xfact['demo_comb_income_factor'] == i]\n",
    "    subset_df_ = subset_df_.drop('demo_comb_income_factor', axis=1)\n",
    "    breakOut[i] = subset_df_\n"
   ]
  },
  {
   "cell_type": "code",
   "execution_count": 46,
   "id": "b62ba713",
   "metadata": {},
   "outputs": [],
   "source": [
    "testers = ['rsfmri_c_ngd_cgc_ngd_cgc', 'rsfmri_cor_ngd_df_scs_pllh',\n",
    "       'rsfmri_cor_ngd_none_scs_cderh', 'rsfmri_cor_ngd_sa_scs_thplh',\n",
    "       'interview_age', 'bmi_perc']"
   ]
  },
  {
   "cell_type": "code",
   "execution_count": 36,
   "id": "fb198145",
   "metadata": {},
   "outputs": [],
   "source": [
    "X = breakOut[8].drop('ssb_group', axis = 1)"
   ]
  },
  {
   "cell_type": "code",
   "execution_count": 37,
   "id": "ddf65eb5",
   "metadata": {},
   "outputs": [],
   "source": [
    "y = breakOut[8]['ssb_group']"
   ]
  },
  {
   "cell_type": "code",
   "execution_count": 38,
   "id": "28c3d2cb",
   "metadata": {},
   "outputs": [
    {
     "data": {
      "text/plain": [
       "(621, 48)"
      ]
     },
     "execution_count": 38,
     "metadata": {},
     "output_type": "execute_result"
    }
   ],
   "source": [
    "X.shape"
   ]
  },
  {
   "cell_type": "code",
   "execution_count": 39,
   "id": "4515f99f",
   "metadata": {},
   "outputs": [
    {
     "data": {
      "text/plain": [
       "0.0    356\n",
       "1.0    265\n",
       "Name: ssb_group, dtype: int64"
      ]
     },
     "execution_count": 39,
     "metadata": {},
     "output_type": "execute_result"
    }
   ],
   "source": [
    "y.value_counts()"
   ]
  },
  {
   "cell_type": "code",
   "execution_count": 40,
   "id": "b2858857",
   "metadata": {},
   "outputs": [],
   "source": [
    "def modelerTest(i):\n",
    "    X = breakOut[i].drop('ssb_group', axis = 1)\n",
    "    y = breakOut[i]['ssb_group']\n",
    "    logit_model = sm.Logit(y, X)\n",
    "    result = logit_model.fit()\n",
    "    return(result)"
   ]
  },
  {
   "cell_type": "code",
   "execution_count": 49,
   "id": "d0811da4",
   "metadata": {},
   "outputs": [],
   "source": [
    "probInt = {}"
   ]
  },
  {
   "cell_type": "code",
   "execution_count": 53,
   "id": "11f571e3",
   "metadata": {},
   "outputs": [
    {
     "name": "stdout",
     "output_type": "stream",
     "text": [
      "1\n",
      "Warning: Maximum number of iterations has been exceeded.\n",
      "         Current function value: inf\n",
      "         Iterations: 35\n",
      "2\n",
      "3\n",
      "4\n",
      "5\n",
      "6\n",
      "Optimization terminated successfully.\n",
      "         Current function value: 0.206592\n",
      "         Iterations 10\n",
      "7\n",
      "Optimization terminated successfully.\n",
      "         Current function value: 0.306252\n",
      "         Iterations 8\n",
      "8\n",
      "Optimization terminated successfully.\n",
      "         Current function value: 0.590394\n",
      "         Iterations 6\n",
      "9\n",
      "Optimization terminated successfully.\n",
      "         Current function value: 0.597549\n",
      "         Iterations 5\n",
      "10\n",
      "Optimization terminated successfully.\n",
      "         Current function value: 0.543546\n",
      "         Iterations 6\n"
     ]
    },
    {
     "name": "stderr",
     "output_type": "stream",
     "text": [
      "/Users/gracer/opt/anaconda3/lib/python3.8/site-packages/statsmodels/discrete/discrete_model.py:1810: RuntimeWarning: overflow encountered in exp\n",
      "  return 1/(1+np.exp(-X))\n",
      "/Users/gracer/opt/anaconda3/lib/python3.8/site-packages/statsmodels/discrete/discrete_model.py:1863: RuntimeWarning: divide by zero encountered in log\n",
      "  return np.sum(np.log(self.cdf(q*np.dot(X,params))))\n"
     ]
    }
   ],
   "source": [
    "for i in breakOut.keys():\n",
    "    print(i)\n",
    "    try:\n",
    "        probInt[i] = modelerTest(i)\n",
    "    except:  # Catch the LinAlgError properly\n",
    "        probInt[i] = 'Check error'\n"
   ]
  },
  {
   "cell_type": "code",
   "execution_count": 54,
   "id": "33fef2d3",
   "metadata": {},
   "outputs": [
    {
     "data": {
      "text/plain": [
       "{1: 'Check error',\n",
       " 2: 'Check error',\n",
       " 3: 'Check error',\n",
       " 4: 'Check error',\n",
       " 5: 'Check error',\n",
       " 6: <statsmodels.discrete.discrete_model.BinaryResultsWrapper at 0x7fc190502f70>,\n",
       " 7: <statsmodels.discrete.discrete_model.BinaryResultsWrapper at 0x7fc190510220>,\n",
       " 8: <statsmodels.discrete.discrete_model.BinaryResultsWrapper at 0x7fc190510460>,\n",
       " 9: <statsmodels.discrete.discrete_model.BinaryResultsWrapper at 0x7fc1905107f0>,\n",
       " 10: <statsmodels.discrete.discrete_model.BinaryResultsWrapper at 0x7fc190510b80>}"
      ]
     },
     "execution_count": 54,
     "metadata": {},
     "output_type": "execute_result"
    }
   ],
   "source": [
    "probInt"
   ]
  },
  {
   "cell_type": "code",
   "execution_count": 47,
   "id": "af303b6f",
   "metadata": {},
   "outputs": [
    {
     "name": "stdout",
     "output_type": "stream",
     "text": [
      "rsfmri_c_ngd_cgc_ngd_cgc         8.893909e-01\n",
      "rsfmri_cor_ngd_df_scs_pllh       1.819174e-01\n",
      "rsfmri_cor_ngd_none_scs_cderh    3.381372e-02\n",
      "rsfmri_cor_ngd_sa_scs_thplh      1.727194e-02\n",
      "interview_age                    1.982785e-07\n",
      "bmi_perc                         4.123034e-04\n",
      "dtype: float64\n"
     ]
    }
   ],
   "source": [
    "testers = ['rsfmri_c_ngd_cgc_ngd_cgc', 'rsfmri_cor_ngd_df_scs_pllh',\n",
    "           'rsfmri_cor_ngd_none_scs_cderh', 'rsfmri_cor_ngd_sa_scs_thplh',\n",
    "           'interview_age', 'bmi_perc']\n",
    "\n",
    "# Filter the p-values using the testers list\n",
    "filtered_pvalues = test.pvalues[test.pvalues.index.isin(testers)]\n",
    "\n",
    "print(filtered_pvalues)\n"
   ]
  },
  {
   "cell_type": "code",
   "execution_count": 59,
   "id": "ceab34d9",
   "metadata": {},
   "outputs": [
    {
     "name": "stdout",
     "output_type": "stream",
     "text": [
      "6\n",
      "rsfmri_c_ngd_cgc_ngd_cgc         0.5101\n",
      "rsfmri_cor_ngd_df_scs_pllh       0.3216\n",
      "rsfmri_cor_ngd_none_scs_cderh    0.2169\n",
      "rsfmri_cor_ngd_sa_scs_thplh      0.7944\n",
      "interview_age                    0.0000\n",
      "bmi_perc                         0.0000\n",
      "dtype: float64\n",
      "7\n",
      "rsfmri_c_ngd_cgc_ngd_cgc         0.1608\n",
      "rsfmri_cor_ngd_df_scs_pllh       0.1680\n",
      "rsfmri_cor_ngd_none_scs_cderh    0.1748\n",
      "rsfmri_cor_ngd_sa_scs_thplh      0.6229\n",
      "interview_age                    0.0000\n",
      "bmi_perc                         0.0000\n",
      "dtype: float64\n",
      "8\n",
      "rsfmri_c_ngd_cgc_ngd_cgc         0.8894\n",
      "rsfmri_cor_ngd_df_scs_pllh       0.1819\n",
      "rsfmri_cor_ngd_none_scs_cderh    0.0338\n",
      "rsfmri_cor_ngd_sa_scs_thplh      0.0173\n",
      "interview_age                    0.0000\n",
      "bmi_perc                         0.0004\n",
      "dtype: float64\n",
      "9\n",
      "rsfmri_c_ngd_cgc_ngd_cgc         0.3018\n",
      "rsfmri_cor_ngd_df_scs_pllh       0.9878\n",
      "rsfmri_cor_ngd_none_scs_cderh    0.1449\n",
      "rsfmri_cor_ngd_sa_scs_thplh      0.3834\n",
      "interview_age                    0.5750\n",
      "bmi_perc                         0.9174\n",
      "dtype: float64\n",
      "10\n",
      "rsfmri_c_ngd_cgc_ngd_cgc         0.1619\n",
      "rsfmri_cor_ngd_df_scs_pllh       0.9528\n",
      "rsfmri_cor_ngd_none_scs_cderh    0.9262\n",
      "rsfmri_cor_ngd_sa_scs_thplh      0.9935\n",
      "interview_age                    0.1188\n",
      "bmi_perc                         0.7152\n",
      "dtype: float64\n"
     ]
    }
   ],
   "source": [
    "for i in range(6,11):\n",
    "    print(i)\n",
    "    test = probInt[i]\n",
    "    filtered_pvalues = round(test.pvalues[test.pvalues.index.isin(testers)],4)\n",
    "    print(filtered_pvalues)\n"
   ]
  },
  {
   "cell_type": "code",
   "execution_count": null,
   "id": "bbc29d09",
   "metadata": {},
   "outputs": [],
   "source": [
    "savedDict.keys()"
   ]
  },
  {
   "cell_type": "code",
   "execution_count": 60,
   "id": "86345402",
   "metadata": {},
   "outputs": [
    {
     "data": {
      "text/plain": [
       "Index(['rsfmri_c_ngd_ad_ngd_cgc', 'rsfmri_c_ngd_ad_ngd_vs',\n",
       "       'rsfmri_c_ngd_cgc_ngd_cgc', 'rsfmri_c_ngd_smh_ngd_smm',\n",
       "       'rsfmri_c_ngd_sa_ngd_vta', 'rsfmri_cor_ngd_au_scs_aalh',\n",
       "       'rsfmri_cor_ngd_au_scs_ptrh', 'rsfmri_cor_ngd_au_scs_vtdcrh',\n",
       "       'rsfmri_cor_ngd_cerc_scs_cdelh', 'rsfmri_cor_ngd_cerc_scs_ptlh',\n",
       "       'rsfmri_cor_ngd_cerc_scs_aglh', 'rsfmri_cor_ngd_cerc_scs_vtdclh',\n",
       "       'rsfmri_cor_ngd_cerc_scs_hprh', 'rsfmri_cor_ngd_cerc_scs_agrh',\n",
       "       'rsfmri_cor_ngd_cerc_scs_vtdcrh', 'rsfmri_cor_ngd_copa_scs_thplh',\n",
       "       'rsfmri_cor_ngd_copa_scs_vtdclh', 'rsfmri_cor_ngd_copa_scs_plrh',\n",
       "       'rsfmri_cor_ngd_df_scs_ptlh', 'rsfmri_cor_ngd_df_scs_pllh',\n",
       "       'rsfmri_cor_ngd_df_scs_aalh', 'rsfmri_cor_ngd_none_scs_ptlh',\n",
       "       'rsfmri_cor_ngd_none_scs_thprh', 'rsfmri_cor_ngd_none_scs_cderh',\n",
       "       'rsfmri_cor_ngd_rst_scs_bs', 'rsfmri_cor_ngd_rst_scs_thprh',\n",
       "       'rsfmri_cor_ngd_rst_scs_hprh', 'rsfmri_cor_ngd_rst_scs_vtdcrh',\n",
       "       'rsfmri_cor_ngd_smh_scs_crcxlh', 'rsfmri_cor_ngd_smh_scs_pllh',\n",
       "       'rsfmri_cor_ngd_smh_scs_cderh', 'rsfmri_cor_ngd_smh_scs_ptrh',\n",
       "       'rsfmri_cor_ngd_smh_scs_hprh', 'rsfmri_cor_ngd_smh_scs_aarh',\n",
       "       'rsfmri_cor_ngd_smm_scs_hplh', 'rsfmri_cor_ngd_smm_scs_aglh',\n",
       "       'rsfmri_cor_ngd_smm_scs_thprh', 'rsfmri_cor_ngd_sa_scs_crcxlh',\n",
       "       'rsfmri_cor_ngd_sa_scs_thplh', 'rsfmri_cor_ngd_vta_scs_hplh',\n",
       "       'rsfmri_cor_ngd_vs_scs_hplh', 'rsfmri_cor_ngd_vs_scs_thprh',\n",
       "       'rsfmri_cor_ngd_vs_scs_plrh', 'rsfmri_cor_ngd_vs_scs_hprh',\n",
       "       'demo_comb_income_factor', 'interview_age', 'bmi_perc', 'sex_M',\n",
       "       'ssb_group', 'const'],\n",
       "      dtype='object')"
      ]
     },
     "execution_count": 60,
     "metadata": {},
     "output_type": "execute_result"
    }
   ],
   "source": [
    "Xfact.columns"
   ]
  },
  {
   "cell_type": "code",
   "execution_count": 62,
   "id": "93b4a57a",
   "metadata": {},
   "outputs": [
    {
     "data": {
      "text/plain": [
       "dict_keys(['df', 'X', 'y', 'X_train', 'X_test', 'y_train', 'y_test', 'best_pipeline', 'X_reg', 'X_trainReg', 'X_testReg', 'y_trainReg', 'y_testReg', 'logistic', 'sigP', 'odds'])"
      ]
     },
     "execution_count": 62,
     "metadata": {},
     "output_type": "execute_result"
    }
   ],
   "source": [
    "savedDict.keys()"
   ]
  },
  {
   "cell_type": "code",
   "execution_count": 68,
   "id": "e03a82a8",
   "metadata": {},
   "outputs": [
    {
     "ename": "NameError",
     "evalue": "name 'y_trainReg' is not defined",
     "output_type": "error",
     "traceback": [
      "\u001b[0;31m---------------------------------------------------------------------------\u001b[0m",
      "\u001b[0;31mNameError\u001b[0m                                 Traceback (most recent call last)",
      "Cell \u001b[0;32mIn [68], line 1\u001b[0m\n\u001b[0;32m----> 1\u001b[0m y_trainReg\n",
      "\u001b[0;31mNameError\u001b[0m: name 'y_trainReg' is not defined"
     ]
    }
   ],
   "source": [
    "y_trainReg"
   ]
  },
  {
   "cell_type": "code",
   "execution_count": 70,
   "id": "89009f25",
   "metadata": {
    "scrolled": false
   },
   "outputs": [
    {
     "data": {
      "text/plain": [
       "{'rsfmri_c_ngd_cgc_ngd_cgc':                                    OR  2.5%  97.5%\n",
       " rsfmri_c_ngd_ad_ngd_cgc          0.82  0.11   6.39\n",
       " rsfmri_c_ngd_ad_ngd_vs           3.20  0.80  12.84\n",
       " rsfmri_c_ngd_cgc_ngd_cgc         0.50  0.11   2.30\n",
       " rsfmri_c_ngd_smh_ngd_smm         2.30  0.78   6.83\n",
       " rsfmri_c_ngd_sa_ngd_vta          1.08  0.29   4.07\n",
       " rsfmri_cor_ngd_au_scs_aalh       0.14  0.04   0.53\n",
       " rsfmri_cor_ngd_au_scs_ptrh       1.56  0.40   6.15\n",
       " rsfmri_cor_ngd_au_scs_vtdcrh     0.85  0.20   3.52\n",
       " rsfmri_cor_ngd_cerc_scs_cdelh    0.07  0.01   0.34\n",
       " rsfmri_cor_ngd_cerc_scs_ptlh     0.93  0.31   2.86\n",
       " rsfmri_cor_ngd_cerc_scs_aglh     0.71  0.10   4.99\n",
       " rsfmri_cor_ngd_cerc_scs_vtdclh   0.74  0.38   1.43\n",
       " rsfmri_cor_ngd_cerc_scs_hprh     1.42  0.20   9.80\n",
       " rsfmri_cor_ngd_cerc_scs_agrh     1.55  0.42   5.77\n",
       " rsfmri_cor_ngd_cerc_scs_vtdcrh   0.57  0.11   2.97\n",
       " rsfmri_cor_ngd_copa_scs_thplh    1.34  0.22   7.97\n",
       " rsfmri_cor_ngd_copa_scs_vtdclh   4.08  0.56  29.87\n",
       " rsfmri_cor_ngd_copa_scs_plrh     1.69  0.43   6.63\n",
       " rsfmri_cor_ngd_df_scs_ptlh       0.52  0.13   2.10\n",
       " rsfmri_cor_ngd_df_scs_pllh       0.55  0.22   1.39\n",
       " rsfmri_cor_ngd_df_scs_aalh       1.25  0.51   3.07\n",
       " rsfmri_cor_ngd_none_scs_ptlh     1.17  0.27   5.00\n",
       " rsfmri_cor_ngd_none_scs_thprh    1.01  0.25   4.08\n",
       " rsfmri_cor_ngd_none_scs_cderh    0.68  0.24   1.93\n",
       " rsfmri_cor_ngd_rst_scs_bs        4.11  1.08  15.68\n",
       " rsfmri_cor_ngd_rst_scs_thprh     0.86  0.29   2.58\n",
       " rsfmri_cor_ngd_rst_scs_hprh      3.66  0.88  15.26\n",
       " rsfmri_cor_ngd_rst_scs_vtdcrh   10.57  2.38  46.97\n",
       " rsfmri_cor_ngd_smh_scs_crcxlh    1.34  0.49   3.71\n",
       " rsfmri_cor_ngd_smh_scs_pllh      1.95  0.28  13.60\n",
       " rsfmri_cor_ngd_smh_scs_cderh     0.38  0.06   2.43\n",
       " rsfmri_cor_ngd_smh_scs_ptrh      1.08  0.26   4.40\n",
       " rsfmri_cor_ngd_smh_scs_hprh      0.92  0.17   4.95\n",
       " rsfmri_cor_ngd_smh_scs_aarh      0.42  0.06   2.81\n",
       " rsfmri_cor_ngd_smm_scs_hplh      0.47  0.06   3.50\n",
       " rsfmri_cor_ngd_smm_scs_aglh      0.81  0.29   2.26\n",
       " rsfmri_cor_ngd_smm_scs_thprh     2.50  0.61  10.16\n",
       " rsfmri_cor_ngd_sa_scs_crcxlh     0.79  0.18   3.40\n",
       " rsfmri_cor_ngd_sa_scs_thplh      0.65  0.25   1.71\n",
       " rsfmri_cor_ngd_vta_scs_hplh      0.50  0.25   1.00\n",
       " rsfmri_cor_ngd_vs_scs_hplh       0.29  0.07   1.13\n",
       " rsfmri_cor_ngd_vs_scs_thprh      0.69  0.21   2.30\n",
       " rsfmri_cor_ngd_vs_scs_plrh       1.59  0.38   6.70\n",
       " rsfmri_cor_ngd_vs_scs_hprh       1.03  0.37   2.84\n",
       " demo_comb_income_v2              0.47  0.45   0.51\n",
       " interview_age                    1.04  1.03   1.05\n",
       " bmi_perc                         1.87  1.43   2.45\n",
       " sex_M                            1.67  1.49   1.87\n",
       " int                              3.78  1.68   8.51,\n",
       " 'rsfmri_cor_ngd_df_scs_pllh':                                    OR  2.5%  97.5%\n",
       " rsfmri_c_ngd_ad_ngd_cgc          0.82  0.10   6.42\n",
       " rsfmri_c_ngd_ad_ngd_vs           3.54  0.88  14.21\n",
       " rsfmri_c_ngd_cgc_ngd_cgc         1.04  0.24   4.60\n",
       " rsfmri_c_ngd_smh_ngd_smm         2.20  0.74   6.55\n",
       " rsfmri_c_ngd_sa_ngd_vta          1.12  0.30   4.21\n",
       " rsfmri_cor_ngd_au_scs_aalh       0.16  0.04   0.57\n",
       " rsfmri_cor_ngd_au_scs_ptrh       1.64  0.42   6.44\n",
       " rsfmri_cor_ngd_au_scs_vtdcrh     0.83  0.20   3.45\n",
       " rsfmri_cor_ngd_cerc_scs_cdelh    0.07  0.01   0.33\n",
       " rsfmri_cor_ngd_cerc_scs_ptlh     0.92  0.30   2.80\n",
       " rsfmri_cor_ngd_cerc_scs_aglh     0.61  0.09   4.26\n",
       " rsfmri_cor_ngd_cerc_scs_vtdclh   0.76  0.39   1.46\n",
       " rsfmri_cor_ngd_cerc_scs_hprh     1.40  0.20   9.62\n",
       " rsfmri_cor_ngd_cerc_scs_agrh     1.69  0.46   6.27\n",
       " rsfmri_cor_ngd_cerc_scs_vtdcrh   0.65  0.12   3.40\n",
       " rsfmri_cor_ngd_copa_scs_thplh    1.33  0.23   7.84\n",
       " rsfmri_cor_ngd_copa_scs_vtdclh   4.22  0.58  30.65\n",
       " rsfmri_cor_ngd_copa_scs_plrh     1.74  0.44   6.81\n",
       " rsfmri_cor_ngd_df_scs_ptlh       0.47  0.12   1.87\n",
       " rsfmri_cor_ngd_df_scs_pllh       0.37  0.14   0.95\n",
       " rsfmri_cor_ngd_df_scs_aalh       1.22  0.50   3.01\n",
       " rsfmri_cor_ngd_none_scs_ptlh     1.20  0.28   5.10\n",
       " rsfmri_cor_ngd_none_scs_thprh    0.94  0.23   3.80\n",
       " rsfmri_cor_ngd_none_scs_cderh    0.69  0.25   1.96\n",
       " rsfmri_cor_ngd_rst_scs_bs        3.97  1.05  15.03\n",
       " rsfmri_cor_ngd_rst_scs_thprh     0.84  0.28   2.53\n",
       " rsfmri_cor_ngd_rst_scs_hprh      3.47  0.83  14.53\n",
       " rsfmri_cor_ngd_rst_scs_vtdcrh   10.31  2.34  45.50\n",
       " rsfmri_cor_ngd_smh_scs_crcxlh    1.29  0.47   3.56\n",
       " rsfmri_cor_ngd_smh_scs_pllh      2.07  0.30  14.21\n",
       " rsfmri_cor_ngd_smh_scs_cderh     0.40  0.06   2.50\n",
       " rsfmri_cor_ngd_smh_scs_ptrh      1.01  0.25   4.11\n",
       " rsfmri_cor_ngd_smh_scs_hprh      0.87  0.16   4.67\n",
       " rsfmri_cor_ngd_smh_scs_aarh      0.41  0.06   2.76\n",
       " rsfmri_cor_ngd_smm_scs_hplh      0.52  0.07   3.86\n",
       " rsfmri_cor_ngd_smm_scs_aglh      0.80  0.29   2.21\n",
       " rsfmri_cor_ngd_smm_scs_thprh     2.51  0.62  10.18\n",
       " rsfmri_cor_ngd_sa_scs_crcxlh     0.73  0.17   3.15\n",
       " rsfmri_cor_ngd_sa_scs_thplh      0.66  0.25   1.72\n",
       " rsfmri_cor_ngd_vta_scs_hplh      0.50  0.25   1.00\n",
       " rsfmri_cor_ngd_vs_scs_hplh       0.27  0.07   1.09\n",
       " rsfmri_cor_ngd_vs_scs_thprh      0.67  0.20   2.21\n",
       " rsfmri_cor_ngd_vs_scs_plrh       1.66  0.40   7.00\n",
       " rsfmri_cor_ngd_vs_scs_hprh       1.07  0.39   2.96\n",
       " demo_comb_income_v2              0.47  0.44   0.51\n",
       " interview_age                    1.04  1.03   1.05\n",
       " bmi_perc                         1.87  1.43   2.45\n",
       " sex_M                            1.68  1.50   1.88\n",
       " int                              2.11  1.30   3.43,\n",
       " 'rsfmri_cor_ngd_none_scs_cderh':                                    OR  2.5%  97.5%\n",
       " rsfmri_c_ngd_ad_ngd_cgc          0.86  0.11   6.75\n",
       " rsfmri_c_ngd_ad_ngd_vs           3.33  0.83  13.40\n",
       " rsfmri_c_ngd_cgc_ngd_cgc         0.96  0.22   4.23\n",
       " rsfmri_c_ngd_smh_ngd_smm         2.19  0.74   6.51\n",
       " rsfmri_c_ngd_sa_ngd_vta          1.09  0.29   4.10\n",
       " rsfmri_cor_ngd_au_scs_aalh       0.16  0.04   0.58\n",
       " rsfmri_cor_ngd_au_scs_ptrh       1.53  0.39   6.01\n",
       " rsfmri_cor_ngd_au_scs_vtdcrh     0.85  0.20   3.52\n",
       " rsfmri_cor_ngd_cerc_scs_cdelh    0.07  0.02   0.33\n",
       " rsfmri_cor_ngd_cerc_scs_ptlh     1.01  0.33   3.09\n",
       " rsfmri_cor_ngd_cerc_scs_aglh     0.64  0.09   4.45\n",
       " rsfmri_cor_ngd_cerc_scs_vtdclh   0.75  0.39   1.45\n",
       " rsfmri_cor_ngd_cerc_scs_hprh     1.41  0.21   9.69\n",
       " rsfmri_cor_ngd_cerc_scs_agrh     1.77  0.48   6.58\n",
       " rsfmri_cor_ngd_cerc_scs_vtdcrh   0.62  0.12   3.28\n",
       " rsfmri_cor_ngd_copa_scs_thplh    1.21  0.20   7.16\n",
       " rsfmri_cor_ngd_copa_scs_vtdclh   4.25  0.58  30.96\n",
       " rsfmri_cor_ngd_copa_scs_plrh     1.67  0.42   6.61\n",
       " rsfmri_cor_ngd_df_scs_ptlh       0.48  0.12   1.93\n",
       " rsfmri_cor_ngd_df_scs_pllh       0.55  0.22   1.38\n",
       " rsfmri_cor_ngd_df_scs_aalh       1.25  0.51   3.08\n",
       " rsfmri_cor_ngd_none_scs_ptlh     1.22  0.29   5.19\n",
       " rsfmri_cor_ngd_none_scs_thprh    0.94  0.23   3.79\n",
       " rsfmri_cor_ngd_none_scs_cderh    0.42  0.14   1.23\n",
       " rsfmri_cor_ngd_rst_scs_bs        3.85  1.02  14.54\n",
       " rsfmri_cor_ngd_rst_scs_thprh     0.90  0.30   2.71\n",
       " rsfmri_cor_ngd_rst_scs_hprh      3.49  0.83  14.62\n",
       " rsfmri_cor_ngd_rst_scs_vtdcrh   10.41  2.37  45.79\n",
       " rsfmri_cor_ngd_smh_scs_crcxlh    1.23  0.45   3.41\n",
       " rsfmri_cor_ngd_smh_scs_pllh      2.16  0.31  14.83\n",
       " rsfmri_cor_ngd_smh_scs_cderh     0.36  0.06   2.25\n",
       " rsfmri_cor_ngd_smh_scs_ptrh      0.97  0.24   3.95\n",
       " rsfmri_cor_ngd_smh_scs_hprh      0.91  0.17   4.84\n",
       " rsfmri_cor_ngd_smh_scs_aarh      0.45  0.07   3.03\n",
       " rsfmri_cor_ngd_smm_scs_hplh      0.53  0.07   3.91\n",
       " rsfmri_cor_ngd_smm_scs_aglh      0.82  0.30   2.28\n",
       " rsfmri_cor_ngd_smm_scs_thprh     2.47  0.61  10.03\n",
       " rsfmri_cor_ngd_sa_scs_crcxlh     0.75  0.18   3.23\n",
       " rsfmri_cor_ngd_sa_scs_thplh      0.63  0.24   1.66\n",
       " rsfmri_cor_ngd_vta_scs_hplh      0.51  0.25   1.02\n",
       " rsfmri_cor_ngd_vs_scs_hplh       0.27  0.07   1.06\n",
       " rsfmri_cor_ngd_vs_scs_thprh      0.63  0.19   2.09\n",
       " rsfmri_cor_ngd_vs_scs_plrh       1.71  0.41   7.14\n",
       " rsfmri_cor_ngd_vs_scs_hprh       1.09  0.40   3.02\n",
       " demo_comb_income_v2              0.47  0.44   0.50\n",
       " interview_age                    1.04  1.03   1.05\n",
       " bmi_perc                         1.89  1.44   2.48\n",
       " sex_M                            1.67  1.49   1.87\n",
       " int                              2.48  1.42   4.33,\n",
       " 'rsfmri_cor_ngd_sa_scs_thplh':                                    OR  2.5%  97.5%\n",
       " rsfmri_c_ngd_ad_ngd_cgc          0.82  0.10   6.39\n",
       " rsfmri_c_ngd_ad_ngd_vs           3.36  0.84  13.51\n",
       " rsfmri_c_ngd_cgc_ngd_cgc         1.04  0.24   4.60\n",
       " rsfmri_c_ngd_smh_ngd_smm         2.14  0.72   6.36\n",
       " rsfmri_c_ngd_sa_ngd_vta          1.18  0.31   4.43\n",
       " rsfmri_cor_ngd_au_scs_aalh       0.15  0.04   0.55\n",
       " rsfmri_cor_ngd_au_scs_ptrh       1.45  0.37   5.71\n",
       " rsfmri_cor_ngd_au_scs_vtdcrh     0.90  0.22   3.71\n",
       " rsfmri_cor_ngd_cerc_scs_cdelh    0.07  0.02   0.35\n",
       " rsfmri_cor_ngd_cerc_scs_ptlh     0.92  0.30   2.81\n",
       " rsfmri_cor_ngd_cerc_scs_aglh     0.67  0.10   4.59\n",
       " rsfmri_cor_ngd_cerc_scs_vtdclh   0.75  0.39   1.46\n",
       " rsfmri_cor_ngd_cerc_scs_hprh     1.34  0.20   9.20\n",
       " rsfmri_cor_ngd_cerc_scs_agrh     1.60  0.43   5.87\n",
       " rsfmri_cor_ngd_cerc_scs_vtdcrh   0.65  0.12   3.44\n",
       " rsfmri_cor_ngd_copa_scs_thplh    1.35  0.23   8.02\n",
       " rsfmri_cor_ngd_copa_scs_vtdclh   4.51  0.62  32.83\n",
       " rsfmri_cor_ngd_copa_scs_plrh     1.91  0.49   7.52\n",
       " rsfmri_cor_ngd_df_scs_ptlh       0.44  0.11   1.76\n",
       " rsfmri_cor_ngd_df_scs_pllh       0.52  0.21   1.30\n",
       " rsfmri_cor_ngd_df_scs_aalh       1.20  0.49   2.95\n",
       " rsfmri_cor_ngd_none_scs_ptlh     1.11  0.26   4.75\n",
       " rsfmri_cor_ngd_none_scs_thprh    1.06  0.26   4.29\n",
       " rsfmri_cor_ngd_none_scs_cderh    0.67  0.24   1.88\n",
       " rsfmri_cor_ngd_rst_scs_bs        3.97  1.04  15.14\n",
       " rsfmri_cor_ngd_rst_scs_thprh     0.81  0.27   2.42\n",
       " rsfmri_cor_ngd_rst_scs_hprh      3.69  0.89  15.37\n",
       " rsfmri_cor_ngd_rst_scs_vtdcrh   11.16  2.51  49.54\n",
       " rsfmri_cor_ngd_smh_scs_crcxlh    1.38  0.50   3.81\n",
       " rsfmri_cor_ngd_smh_scs_pllh      2.12  0.31  14.62\n",
       " rsfmri_cor_ngd_smh_scs_cderh     0.37  0.06   2.32\n",
       " rsfmri_cor_ngd_smh_scs_ptrh      0.99  0.24   4.01\n",
       " rsfmri_cor_ngd_smh_scs_hprh      0.80  0.15   4.31\n",
       " rsfmri_cor_ngd_smh_scs_aarh      0.41  0.06   2.75\n",
       " rsfmri_cor_ngd_smm_scs_hplh      0.47  0.06   3.50\n",
       " rsfmri_cor_ngd_smm_scs_aglh      0.88  0.32   2.41\n",
       " rsfmri_cor_ngd_smm_scs_thprh     2.34  0.58   9.50\n",
       " rsfmri_cor_ngd_sa_scs_crcxlh     0.77  0.18   3.33\n",
       " rsfmri_cor_ngd_sa_scs_thplh      0.45  0.17   1.23\n",
       " rsfmri_cor_ngd_vta_scs_hplh      0.51  0.26   1.04\n",
       " rsfmri_cor_ngd_vs_scs_hplh       0.30  0.08   1.18\n",
       " rsfmri_cor_ngd_vs_scs_thprh      0.66  0.20   2.16\n",
       " rsfmri_cor_ngd_vs_scs_plrh       1.66  0.40   6.94\n",
       " rsfmri_cor_ngd_vs_scs_hprh       1.10  0.40   3.00\n",
       " demo_comb_income_v2              0.47  0.45   0.51\n",
       " interview_age                    1.04  1.03   1.05\n",
       " bmi_perc                         1.87  1.43   2.46\n",
       " sex_M                            1.67  1.49   1.87\n",
       " int                              2.03  1.25   3.29,\n",
       " 'interview_age':                                    OR  2.5%  97.5%\n",
       " rsfmri_c_ngd_ad_ngd_cgc          0.90  0.11   7.05\n",
       " rsfmri_c_ngd_ad_ngd_vs           3.55  0.88  14.31\n",
       " rsfmri_c_ngd_cgc_ngd_cgc         1.06  0.24   4.70\n",
       " rsfmri_c_ngd_smh_ngd_smm         2.27  0.76   6.76\n",
       " rsfmri_c_ngd_sa_ngd_vta          1.14  0.30   4.30\n",
       " rsfmri_cor_ngd_au_scs_aalh       0.15  0.04   0.56\n",
       " rsfmri_cor_ngd_au_scs_ptrh       1.55  0.39   6.08\n",
       " rsfmri_cor_ngd_au_scs_vtdcrh     0.80  0.19   3.32\n",
       " rsfmri_cor_ngd_cerc_scs_cdelh    0.07  0.01   0.34\n",
       " rsfmri_cor_ngd_cerc_scs_ptlh     0.99  0.32   3.02\n",
       " rsfmri_cor_ngd_cerc_scs_aglh     0.67  0.10   4.64\n",
       " rsfmri_cor_ngd_cerc_scs_vtdclh   0.78  0.40   1.51\n",
       " rsfmri_cor_ngd_cerc_scs_hprh     1.36  0.20   9.39\n",
       " rsfmri_cor_ngd_cerc_scs_agrh     1.70  0.46   6.27\n",
       " rsfmri_cor_ngd_cerc_scs_vtdcrh   0.61  0.12   3.21\n",
       " rsfmri_cor_ngd_copa_scs_thplh    1.32  0.22   7.81\n",
       " rsfmri_cor_ngd_copa_scs_vtdclh   4.83  0.66  35.28\n",
       " rsfmri_cor_ngd_copa_scs_plrh     1.58  0.41   6.19\n",
       " rsfmri_cor_ngd_df_scs_ptlh       0.46  0.12   1.84\n",
       " rsfmri_cor_ngd_df_scs_pllh       0.56  0.22   1.41\n",
       " rsfmri_cor_ngd_df_scs_aalh       1.20  0.49   2.96\n",
       " rsfmri_cor_ngd_none_scs_ptlh     1.16  0.27   4.97\n",
       " rsfmri_cor_ngd_none_scs_thprh    0.94  0.23   3.79\n",
       " rsfmri_cor_ngd_none_scs_cderh    0.66  0.23   1.86\n",
       " rsfmri_cor_ngd_rst_scs_bs        3.72  0.98  14.12\n",
       " rsfmri_cor_ngd_rst_scs_thprh     0.84  0.28   2.53\n",
       " rsfmri_cor_ngd_rst_scs_hprh      3.61  0.86  15.13\n",
       " rsfmri_cor_ngd_rst_scs_vtdcrh   11.18  2.53  49.40\n",
       " rsfmri_cor_ngd_smh_scs_crcxlh    1.29  0.47   3.57\n",
       " rsfmri_cor_ngd_smh_scs_pllh      2.15  0.31  14.73\n",
       " rsfmri_cor_ngd_smh_scs_cderh     0.37  0.06   2.37\n",
       " rsfmri_cor_ngd_smh_scs_ptrh      0.99  0.24   4.05\n",
       " rsfmri_cor_ngd_smh_scs_hprh      0.93  0.17   4.95\n",
       " rsfmri_cor_ngd_smh_scs_aarh      0.40  0.06   2.67\n",
       " rsfmri_cor_ngd_smm_scs_hplh      0.47  0.06   3.47\n",
       " rsfmri_cor_ngd_smm_scs_aglh      0.84  0.30   2.33\n",
       " rsfmri_cor_ngd_smm_scs_thprh     2.25  0.56   9.09\n",
       " rsfmri_cor_ngd_sa_scs_crcxlh     0.73  0.17   3.14\n",
       " rsfmri_cor_ngd_sa_scs_thplh      0.65  0.25   1.70\n",
       " rsfmri_cor_ngd_vta_scs_hplh      0.51  0.25   1.02\n",
       " rsfmri_cor_ngd_vs_scs_hplh       0.29  0.07   1.14\n",
       " rsfmri_cor_ngd_vs_scs_thprh      0.62  0.19   2.04\n",
       " rsfmri_cor_ngd_vs_scs_plrh       1.63  0.39   6.86\n",
       " rsfmri_cor_ngd_vs_scs_hprh       1.10  0.40   3.04\n",
       " demo_comb_income_v2              0.46  0.43   0.49\n",
       " interview_age                    1.06  1.04   1.07\n",
       " bmi_perc                         1.89  1.44   2.48\n",
       " sex_M                            1.80  1.60   2.02\n",
       " int                              0.98  0.97   0.99,\n",
       " 'bmi_perc':                                    OR  2.5%  97.5%\n",
       " rsfmri_c_ngd_ad_ngd_cgc          0.88  0.11   7.02\n",
       " rsfmri_c_ngd_ad_ngd_vs           3.34  0.83  13.54\n",
       " rsfmri_c_ngd_cgc_ngd_cgc         1.09  0.24   4.84\n",
       " rsfmri_c_ngd_smh_ngd_smm         2.32  0.77   6.96\n",
       " rsfmri_c_ngd_sa_ngd_vta          1.12  0.29   4.27\n",
       " rsfmri_cor_ngd_au_scs_aalh       0.14  0.04   0.53\n",
       " rsfmri_cor_ngd_au_scs_ptrh       1.44  0.36   5.75\n",
       " rsfmri_cor_ngd_au_scs_vtdcrh     0.74  0.18   3.10\n",
       " rsfmri_cor_ngd_cerc_scs_cdelh    0.07  0.01   0.35\n",
       " rsfmri_cor_ngd_cerc_scs_ptlh     0.93  0.30   2.89\n",
       " rsfmri_cor_ngd_cerc_scs_aglh     0.74  0.10   5.29\n",
       " rsfmri_cor_ngd_cerc_scs_vtdclh   0.77  0.39   1.49\n",
       " rsfmri_cor_ngd_cerc_scs_hprh     1.53  0.22  10.78\n",
       " rsfmri_cor_ngd_cerc_scs_agrh     1.56  0.42   5.83\n",
       " rsfmri_cor_ngd_cerc_scs_vtdcrh   0.62  0.11   3.30\n",
       " rsfmri_cor_ngd_copa_scs_thplh    1.13  0.19   6.77\n",
       " rsfmri_cor_ngd_copa_scs_vtdclh   4.45  0.60  33.10\n",
       " rsfmri_cor_ngd_copa_scs_plrh     1.66  0.41   6.68\n",
       " rsfmri_cor_ngd_df_scs_ptlh       0.56  0.14   2.30\n",
       " rsfmri_cor_ngd_df_scs_pllh       0.58  0.23   1.48\n",
       " rsfmri_cor_ngd_df_scs_aalh       1.22  0.49   3.01\n",
       " rsfmri_cor_ngd_none_scs_ptlh     1.43  0.33   6.18\n",
       " rsfmri_cor_ngd_none_scs_thprh    0.90  0.22   3.67\n",
       " rsfmri_cor_ngd_none_scs_cderh    0.63  0.22   1.81\n",
       " rsfmri_cor_ngd_rst_scs_bs        3.98  1.04  15.25\n",
       " rsfmri_cor_ngd_rst_scs_thprh     0.86  0.28   2.63\n",
       " rsfmri_cor_ngd_rst_scs_hprh      3.56  0.84  15.05\n",
       " rsfmri_cor_ngd_rst_scs_vtdcrh   10.74  2.39  48.32\n",
       " rsfmri_cor_ngd_smh_scs_crcxlh    1.29  0.46   3.62\n",
       " rsfmri_cor_ngd_smh_scs_pllh      2.03  0.29  14.33\n",
       " rsfmri_cor_ngd_smh_scs_cderh     0.36  0.06   2.33\n",
       " rsfmri_cor_ngd_smh_scs_ptrh      0.97  0.23   3.98\n",
       " rsfmri_cor_ngd_smh_scs_hprh      0.93  0.17   5.08\n",
       " rsfmri_cor_ngd_smh_scs_aarh      0.48  0.07   3.25\n",
       " rsfmri_cor_ngd_smm_scs_hplh      0.43  0.06   3.21\n",
       " rsfmri_cor_ngd_smm_scs_aglh      0.88  0.32   2.47\n",
       " rsfmri_cor_ngd_smm_scs_thprh     2.11  0.51   8.75\n",
       " rsfmri_cor_ngd_sa_scs_crcxlh     0.78  0.18   3.41\n",
       " rsfmri_cor_ngd_sa_scs_thplh      0.68  0.26   1.79\n",
       " rsfmri_cor_ngd_vta_scs_hplh      0.53  0.26   1.08\n",
       " rsfmri_cor_ngd_vs_scs_hplh       0.26  0.07   1.05\n",
       " rsfmri_cor_ngd_vs_scs_thprh      0.70  0.21   2.33\n",
       " rsfmri_cor_ngd_vs_scs_plrh       1.62  0.38   6.93\n",
       " rsfmri_cor_ngd_vs_scs_hprh       1.10  0.40   3.08\n",
       " demo_comb_income_v2              0.45  0.42   0.49\n",
       " interview_age                    1.04  1.03   1.05\n",
       " bmi_perc                         3.14  2.33   4.23\n",
       " sex_M                            1.73  1.54   1.94\n",
       " int                              0.41  0.33   0.51}"
      ]
     },
     "execution_count": 70,
     "metadata": {},
     "output_type": "execute_result"
    }
   ],
   "source": [
    "savedDict['odds'][]"
   ]
  },
  {
   "cell_type": "code",
   "execution_count": null,
   "id": "1603f192",
   "metadata": {},
   "outputs": [],
   "source": []
  }
 ],
 "metadata": {
  "kernelspec": {
   "display_name": "Python 3 (ipykernel)",
   "language": "python",
   "name": "python3"
  },
  "language_info": {
   "codemirror_mode": {
    "name": "ipython",
    "version": 3
   },
   "file_extension": ".py",
   "mimetype": "text/x-python",
   "name": "python",
   "nbconvert_exporter": "python",
   "pygments_lexer": "ipython3",
   "version": "3.8.8"
  }
 },
 "nbformat": 4,
 "nbformat_minor": 5
}
