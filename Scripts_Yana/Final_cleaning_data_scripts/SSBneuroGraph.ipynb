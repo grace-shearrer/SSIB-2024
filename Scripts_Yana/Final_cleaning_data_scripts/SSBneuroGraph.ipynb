{
 "cells": [
  {
   "cell_type": "code",
   "execution_count": 2,
   "id": "4a85c45a",
   "metadata": {},
   "outputs": [],
   "source": [
    "import os\n",
    "import glob\n",
    "import pickle\n",
    "import networkx as nx\n",
    "import pandas as pd\n",
    "import numpy as np"
   ]
  },
  {
   "cell_type": "code",
   "execution_count": 7,
   "id": "b8650cb3",
   "metadata": {},
   "outputs": [],
   "source": [
    "def onetoughjar(path2dic):\n",
    "    with open(path2dic, 'rb') as pickle_file:\n",
    "        try:\n",
    "            while True:\n",
    "                output = pickle.load(pickle_file)\n",
    "        except EOFError:\n",
    "            pass\n",
    "    return(output)"
   ]
  },
  {
   "cell_type": "code",
   "execution_count": 13,
   "id": "54ea84f1",
   "metadata": {},
   "outputs": [],
   "source": [
    "savedDict = onetoughjar('/Users/gracer/Library/CloudStorage/OneDrive-UniversityofWyoming/0. Lab/M2AENAD Lab - Documents/RESEARCH/ABCD/Yana_SSIB_2024/tmp/SSBABCDanalysis_11-23-2024_07-36-16')"
   ]
  },
  {
   "cell_type": "code",
   "execution_count": 14,
   "id": "586b4bf1",
   "metadata": {},
   "outputs": [
    {
     "data": {
      "text/plain": [
       "dict_keys(['df', 'X', 'y', 'X_train', 'X_test', 'y_train', 'y_test', 'best_pipeline', 'X_reg', 'X_trainReg', 'X_testReg', 'y_trainReg', 'y_testReg', 'logistic'])"
      ]
     },
     "execution_count": 14,
     "metadata": {},
     "output_type": "execute_result"
    }
   ],
   "source": [
    "savedDict.keys()"
   ]
  },
  {
   "cell_type": "code",
   "execution_count": 17,
   "id": "e533ecea",
   "metadata": {},
   "outputs": [],
   "source": [
    "df = savedDict['X_reg']"
   ]
  },
  {
   "cell_type": "code",
   "execution_count": 19,
   "id": "86df82f0",
   "metadata": {},
   "outputs": [
    {
     "data": {
      "text/plain": [
       "Index(['const', 'rsfmri_c_ngd_ad_ngd_cgc', 'rsfmri_c_ngd_ad_ngd_vs',\n",
       "       'rsfmri_c_ngd_cgc_ngd_cgc', 'rsfmri_c_ngd_smh_ngd_smm',\n",
       "       'rsfmri_c_ngd_sa_ngd_vta', 'rsfmri_cor_ngd_au_scs_aalh',\n",
       "       'rsfmri_cor_ngd_au_scs_ptrh', 'rsfmri_cor_ngd_au_scs_vtdcrh',\n",
       "       'rsfmri_cor_ngd_cerc_scs_cdelh', 'rsfmri_cor_ngd_cerc_scs_ptlh',\n",
       "       'rsfmri_cor_ngd_cerc_scs_aglh', 'rsfmri_cor_ngd_cerc_scs_vtdclh',\n",
       "       'rsfmri_cor_ngd_cerc_scs_hprh', 'rsfmri_cor_ngd_cerc_scs_agrh',\n",
       "       'rsfmri_cor_ngd_cerc_scs_vtdcrh', 'rsfmri_cor_ngd_copa_scs_thplh',\n",
       "       'rsfmri_cor_ngd_copa_scs_vtdclh', 'rsfmri_cor_ngd_copa_scs_plrh',\n",
       "       'rsfmri_cor_ngd_df_scs_ptlh', 'rsfmri_cor_ngd_df_scs_pllh',\n",
       "       'rsfmri_cor_ngd_df_scs_aalh', 'rsfmri_cor_ngd_none_scs_ptlh',\n",
       "       'rsfmri_cor_ngd_none_scs_thprh', 'rsfmri_cor_ngd_none_scs_cderh',\n",
       "       'rsfmri_cor_ngd_rst_scs_bs', 'rsfmri_cor_ngd_rst_scs_thprh',\n",
       "       'rsfmri_cor_ngd_rst_scs_hprh', 'rsfmri_cor_ngd_rst_scs_vtdcrh',\n",
       "       'rsfmri_cor_ngd_smh_scs_crcxlh', 'rsfmri_cor_ngd_smh_scs_pllh',\n",
       "       'rsfmri_cor_ngd_smh_scs_cderh', 'rsfmri_cor_ngd_smh_scs_ptrh',\n",
       "       'rsfmri_cor_ngd_smh_scs_hprh', 'rsfmri_cor_ngd_smh_scs_aarh',\n",
       "       'rsfmri_cor_ngd_smm_scs_hplh', 'rsfmri_cor_ngd_smm_scs_aglh',\n",
       "       'rsfmri_cor_ngd_smm_scs_thprh', 'rsfmri_cor_ngd_sa_scs_crcxlh',\n",
       "       'rsfmri_cor_ngd_sa_scs_thplh', 'rsfmri_cor_ngd_vta_scs_hplh',\n",
       "       'rsfmri_cor_ngd_vs_scs_hplh', 'rsfmri_cor_ngd_vs_scs_thprh',\n",
       "       'rsfmri_cor_ngd_vs_scs_plrh', 'rsfmri_cor_ngd_vs_scs_hprh',\n",
       "       'demo_comb_income_v2', 'interview_age', 'bmi_perc', 'sex_M'],\n",
       "      dtype='object')"
      ]
     },
     "execution_count": 19,
     "metadata": {},
     "output_type": "execute_result"
    }
   ],
   "source": [
    "df.columns"
   ]
  },
  {
   "cell_type": "code",
   "execution_count": 20,
   "id": "6a84756c",
   "metadata": {},
   "outputs": [],
   "source": [
    "brain = ['rsfmri_c_ngd_ad_ngd_cgc', 'rsfmri_c_ngd_ad_ngd_vs',\n",
    "       'rsfmri_c_ngd_cgc_ngd_cgc', 'rsfmri_c_ngd_smh_ngd_smm',\n",
    "       'rsfmri_c_ngd_sa_ngd_vta', 'rsfmri_cor_ngd_au_scs_aalh',\n",
    "       'rsfmri_cor_ngd_au_scs_ptrh', 'rsfmri_cor_ngd_au_scs_vtdcrh',\n",
    "       'rsfmri_cor_ngd_cerc_scs_cdelh', 'rsfmri_cor_ngd_cerc_scs_ptlh',\n",
    "       'rsfmri_cor_ngd_cerc_scs_aglh', 'rsfmri_cor_ngd_cerc_scs_vtdclh',\n",
    "       'rsfmri_cor_ngd_cerc_scs_hprh', 'rsfmri_cor_ngd_cerc_scs_agrh',\n",
    "       'rsfmri_cor_ngd_cerc_scs_vtdcrh', 'rsfmri_cor_ngd_copa_scs_thplh',\n",
    "       'rsfmri_cor_ngd_copa_scs_vtdclh', 'rsfmri_cor_ngd_copa_scs_plrh',\n",
    "       'rsfmri_cor_ngd_df_scs_ptlh', 'rsfmri_cor_ngd_df_scs_pllh',\n",
    "       'rsfmri_cor_ngd_df_scs_aalh', 'rsfmri_cor_ngd_none_scs_ptlh',\n",
    "       'rsfmri_cor_ngd_none_scs_thprh', 'rsfmri_cor_ngd_none_scs_cderh',\n",
    "       'rsfmri_cor_ngd_rst_scs_bs', 'rsfmri_cor_ngd_rst_scs_thprh',\n",
    "       'rsfmri_cor_ngd_rst_scs_hprh', 'rsfmri_cor_ngd_rst_scs_vtdcrh',\n",
    "       'rsfmri_cor_ngd_smh_scs_crcxlh', 'rsfmri_cor_ngd_smh_scs_pllh',\n",
    "       'rsfmri_cor_ngd_smh_scs_cderh', 'rsfmri_cor_ngd_smh_scs_ptrh',\n",
    "       'rsfmri_cor_ngd_smh_scs_hprh', 'rsfmri_cor_ngd_smh_scs_aarh',\n",
    "       'rsfmri_cor_ngd_smm_scs_hplh', 'rsfmri_cor_ngd_smm_scs_aglh',\n",
    "       'rsfmri_cor_ngd_smm_scs_thprh', 'rsfmri_cor_ngd_sa_scs_crcxlh',\n",
    "       'rsfmri_cor_ngd_sa_scs_thplh', 'rsfmri_cor_ngd_vta_scs_hplh',\n",
    "       'rsfmri_cor_ngd_vs_scs_hplh', 'rsfmri_cor_ngd_vs_scs_thprh',\n",
    "       'rsfmri_cor_ngd_vs_scs_plrh', 'rsfmri_cor_ngd_vs_scs_hprh']"
   ]
  },
  {
   "cell_type": "code",
   "execution_count": null,
   "id": "71392aa0",
   "metadata": {},
   "outputs": [],
   "source": [
    "for x in brain:\n",
    "    y = x.split('_')\n",
    "    ROI1 = y[3]\n",
    "    ROI2 = y[5]"
   ]
  },
  {
   "cell_type": "code",
   "execution_count": null,
   "id": "bd1827a2",
   "metadata": {},
   "outputs": [],
   "source": [
    "# Add edges (each tuple represents an edge)\n",
    "# Format: (node1, node2, attributes)\n",
    "edges = [\n",
    "    (\"A\", \"B\", {\"weight\": 0.5}),\n",
    "    (\"A\", \"C\", {\"weight\": 0.8}),\n",
    "    (\"B\", \"C\", {\"weight\": 0.3}),\n",
    "    (\"C\", \"D\", {\"weight\": 0.9}),\n",
    "]"
   ]
  },
  {
   "cell_type": "code",
   "execution_count": 18,
   "id": "77eac8b9",
   "metadata": {},
   "outputs": [
    {
     "ename": "NetworkXError",
     "evalue": "Adjacency matrix not square: nx,ny=(925, 49)",
     "output_type": "error",
     "traceback": [
      "\u001b[0;31m---------------------------------------------------------------------------\u001b[0m",
      "\u001b[0;31mNetworkXError\u001b[0m                             Traceback (most recent call last)",
      "Cell \u001b[0;32mIn [18], line 13\u001b[0m\n\u001b[1;32m     10\u001b[0m node_labels \u001b[38;5;241m=\u001b[39m df\u001b[38;5;241m.\u001b[39mcolumns\n\u001b[1;32m     12\u001b[0m \u001b[38;5;66;03m# Create a NetworkX graph from the adjacency matrix\u001b[39;00m\n\u001b[0;32m---> 13\u001b[0m G \u001b[38;5;241m=\u001b[39m nx\u001b[38;5;241m.\u001b[39mfrom_numpy_array(adjacency_matrix)\n\u001b[1;32m     15\u001b[0m \u001b[38;5;66;03m# Relabel the graph nodes with the ROI names\u001b[39;00m\n\u001b[1;32m     16\u001b[0m mapping \u001b[38;5;241m=\u001b[39m {i: label \u001b[38;5;28;01mfor\u001b[39;00m i, label \u001b[38;5;129;01min\u001b[39;00m \u001b[38;5;28menumerate\u001b[39m(node_labels)}\n",
      "File \u001b[0;32m~/opt/anaconda3/lib/python3.8/site-packages/networkx/convert_matrix.py:1360\u001b[0m, in \u001b[0;36mfrom_numpy_array\u001b[0;34m(A, parallel_edges, create_using)\u001b[0m\n\u001b[1;32m   1272\u001b[0m \u001b[38;5;28;01mdef\u001b[39;00m \u001b[38;5;21mfrom_numpy_array\u001b[39m(A, parallel_edges\u001b[38;5;241m=\u001b[39m\u001b[38;5;28;01mFalse\u001b[39;00m, create_using\u001b[38;5;241m=\u001b[39m\u001b[38;5;28;01mNone\u001b[39;00m):\n\u001b[1;32m   1273\u001b[0m     \u001b[38;5;124;03m\"\"\"Returns a graph from NumPy array.\u001b[39;00m\n\u001b[1;32m   1274\u001b[0m \n\u001b[1;32m   1275\u001b[0m \u001b[38;5;124;03m    The NumPy array is interpreted as an adjacency matrix for the graph.\u001b[39;00m\n\u001b[0;32m   (...)\u001b[0m\n\u001b[1;32m   1358\u001b[0m \n\u001b[1;32m   1359\u001b[0m \u001b[38;5;124;03m    \"\"\"\u001b[39;00m\n\u001b[0;32m-> 1360\u001b[0m     \u001b[38;5;28;01mreturn\u001b[39;00m \u001b[43mfrom_numpy_matrix\u001b[49m\u001b[43m(\u001b[49m\n\u001b[1;32m   1361\u001b[0m \u001b[43m        \u001b[49m\u001b[43mA\u001b[49m\u001b[43m,\u001b[49m\u001b[43m \u001b[49m\u001b[43mparallel_edges\u001b[49m\u001b[38;5;241;43m=\u001b[39;49m\u001b[43mparallel_edges\u001b[49m\u001b[43m,\u001b[49m\u001b[43m \u001b[49m\u001b[43mcreate_using\u001b[49m\u001b[38;5;241;43m=\u001b[39;49m\u001b[43mcreate_using\u001b[49m\n\u001b[1;32m   1362\u001b[0m \u001b[43m    \u001b[49m\u001b[43m)\u001b[49m\n",
      "File \u001b[0;32m~/opt/anaconda3/lib/python3.8/site-packages/networkx/convert_matrix.py:658\u001b[0m, in \u001b[0;36mfrom_numpy_matrix\u001b[0;34m(A, parallel_edges, create_using)\u001b[0m\n\u001b[1;32m    656\u001b[0m n, m \u001b[38;5;241m=\u001b[39m A\u001b[38;5;241m.\u001b[39mshape\n\u001b[1;32m    657\u001b[0m \u001b[38;5;28;01mif\u001b[39;00m n \u001b[38;5;241m!=\u001b[39m m:\n\u001b[0;32m--> 658\u001b[0m     \u001b[38;5;28;01mraise\u001b[39;00m nx\u001b[38;5;241m.\u001b[39mNetworkXError(\u001b[38;5;124mf\u001b[39m\u001b[38;5;124m\"\u001b[39m\u001b[38;5;124mAdjacency matrix not square: nx,ny=\u001b[39m\u001b[38;5;132;01m{\u001b[39;00mA\u001b[38;5;241m.\u001b[39mshape\u001b[38;5;132;01m}\u001b[39;00m\u001b[38;5;124m\"\u001b[39m)\n\u001b[1;32m    659\u001b[0m dt \u001b[38;5;241m=\u001b[39m A\u001b[38;5;241m.\u001b[39mdtype\n\u001b[1;32m    660\u001b[0m \u001b[38;5;28;01mtry\u001b[39;00m:\n",
      "\u001b[0;31mNetworkXError\u001b[0m: Adjacency matrix not square: nx,ny=(925, 49)"
     ]
    }
   ],
   "source": [
    "import pandas as pd\n",
    "import networkx as nx\n",
    "import numpy as np\n",
    "\n",
    "# Example: Assuming your DataFrame is named df\n",
    "# Convert the DataFrame to a NumPy array for adjacency matrix\n",
    "adjacency_matrix = df.to_numpy()\n",
    "\n",
    "# Ensure the column names are the node labels\n",
    "node_labels = df.columns\n",
    "\n",
    "# Create a NetworkX graph from the adjacency matrix\n",
    "G = nx.from_numpy_array(adjacency_matrix)\n",
    "\n",
    "# Relabel the graph nodes with the ROI names\n",
    "mapping = {i: label for i, label in enumerate(node_labels)}\n",
    "G = nx.relabel_nodes(G, mapping)\n",
    "\n",
    "# Check the graph\n",
    "print(\"Nodes:\", G.nodes())\n",
    "print(\"Edges:\", G.edges(data=True))\n",
    "\n",
    "# Save or visualize the graph\n",
    "nx.write_graphml(G, \"roi_network.graphml\")\n"
   ]
  },
  {
   "cell_type": "code",
   "execution_count": null,
   "id": "5be62bc3",
   "metadata": {},
   "outputs": [],
   "source": []
  }
 ],
 "metadata": {
  "kernelspec": {
   "display_name": "Python 3 (ipykernel)",
   "language": "python",
   "name": "python3"
  },
  "language_info": {
   "codemirror_mode": {
    "name": "ipython",
    "version": 3
   },
   "file_extension": ".py",
   "mimetype": "text/x-python",
   "name": "python",
   "nbconvert_exporter": "python",
   "pygments_lexer": "ipython3",
   "version": "3.8.8"
  }
 },
 "nbformat": 4,
 "nbformat_minor": 5
}
